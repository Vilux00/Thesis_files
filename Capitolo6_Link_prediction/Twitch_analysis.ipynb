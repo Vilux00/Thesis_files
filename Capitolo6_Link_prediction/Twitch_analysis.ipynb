{
 "cells": [
  {
   "cell_type": "code",
   "execution_count": 3,
   "id": "given-david",
   "metadata": {},
   "outputs": [],
   "source": [
    "import pandas as pd\n",
    "import matplotlib.pyplot as plt\n",
    "import numpy as np\n",
    "from sklearn.ensemble import RandomForestClassifier\n",
    "from sklearn.datasets import make_classification\n",
    "from sklearn.model_selection import train_test_split\n",
    "from sklearn import metrics\n",
    "import networkx as nx\n",
    "import time\n",
    "import random\n",
    "import csv\n",
    "%matplotlib inline"
   ]
  },
  {
   "cell_type": "code",
   "execution_count": 2,
   "id": "important-adolescent",
   "metadata": {},
   "outputs": [],
   "source": [
    "G = nx.read_edgelist(\"./large_twitch_edges.csv\", delimiter=\",\")"
   ]
  },
  {
   "cell_type": "code",
   "execution_count": 3,
   "id": "manual-vancouver",
   "metadata": {},
   "outputs": [],
   "source": [
    "from sklearn.utils.random import sample_without_replacement\n",
    "\n",
    "def sample_comb3(dims, nsamp):\n",
    "    idx = sample_without_replacement(np.prod(dims), nsamp)\n",
    "    return np.vstack(np.unravel_index(idx, dims)).T\n",
    "\n",
    "l = sample_comb3((168114, 168114), 100000)"
   ]
  },
  {
   "cell_type": "code",
   "execution_count": 4,
   "id": "official-customer",
   "metadata": {},
   "outputs": [
    {
     "name": "stdout",
     "output_type": "stream",
     "text": [
      "Processed 0 links\n",
      "Processed 10000 links\n",
      "Processed 20000 links\n",
      "Processed 30000 links\n",
      "Processed 40000 links\n",
      "Processed 50000 links\n",
      "Processed 60000 links\n",
      "Processed 70000 links\n",
      "Processed 80000 links\n",
      "Processed 90000 links\n",
      "Unique links: 99998\n"
     ]
    }
   ],
   "source": [
    "### Check how many of the edges are non unique\n",
    "links_gen = list(map(lambda x: (x[0], x[1]), l))\n",
    "\n",
    "non_unique = 0\n",
    "for i in range(len(links_gen)):\n",
    "    if (links_gen[i][1], links_gen[i][0]) in links_gen[i:]:      \n",
    "        non_unique += 1\n",
    "    if i % 10000 == 0:\n",
    "        print(f\"Processed {i} links\")\n",
    "\n",
    "print(f\"Unique links: {len(pd.Series(list(map(lambda x: (x[0], x[1]), links_gen))).unique()) - non_unique}\")"
   ]
  },
  {
   "cell_type": "code",
   "execution_count": 5,
   "id": "rising-helping",
   "metadata": {},
   "outputs": [],
   "source": [
    "### Creating final links list\n",
    "links = list(G.edges())\n",
    "random.shuffle(links)\n",
    "links = links[:200000]\n",
    "\n",
    "links += links_gen"
   ]
  },
  {
   "cell_type": "code",
   "execution_count": 7,
   "id": "appointed-brand",
   "metadata": {},
   "outputs": [
    {
     "name": "stdout",
     "output_type": "stream",
     "text": [
      "In/Not in: (200054, 99946)\n"
     ]
    }
   ],
   "source": [
    "### Check how many of the links are in the graphs and not in the graph\n",
    "t = 0\n",
    "f = 0\n",
    "for x, y in links:\n",
    "    if G.has_edge(str(x), str(y)): t += 1\n",
    "    else: f += 1\n",
    "print(f\"In/Not in: {t, f}\")"
   ]
  },
  {
   "cell_type": "code",
   "execution_count": 8,
   "id": "advance-verse",
   "metadata": {},
   "outputs": [],
   "source": [
    "### Creating labels\n",
    "y_data = []\n",
    "for x, y in links:\n",
    "    if G.has_edge(str(x), str(y)): y_data.append(1)\n",
    "    else: y_data.append(0)"
   ]
  },
  {
   "cell_type": "markdown",
   "id": "grave-transformation",
   "metadata": {},
   "source": [
    "### DW"
   ]
  },
  {
   "cell_type": "code",
   "execution_count": 9,
   "id": "following-deadline",
   "metadata": {},
   "outputs": [],
   "source": [
    "### Getting total tests number\n",
    "tests_num = 0\n",
    "exec_time = []\n",
    "walk_num = []\n",
    "walk_len = []\n",
    "with open(\"./Twitch_dw/twitch_dw_info.txt\", \"r\") as f:\n",
    "    lines = f.readlines()\n",
    "    for line in lines:\n",
    "        if \"Test\" in line:\n",
    "            tests_num += 1\n",
    "        if \"walk_length:\" in line:\n",
    "            walk_len.append(float(line[13:-1]))\n",
    "        if \"num_walk:\" in line:\n",
    "            walk_num.append(float(line[9:-1]))\n",
    "        if \"Embedding\" in line:\n",
    "            exec_time.append(float(line[31:-2]))"
   ]
  },
  {
   "cell_type": "code",
   "execution_count": 10,
   "id": "boxed-snowboard",
   "metadata": {},
   "outputs": [
    {
     "name": "stdout",
     "output_type": "stream",
     "text": [
      "Classification completed in 58.10507941246033\n",
      "Classification completed in 54.93438196182251\n",
      "Classification completed in 49.04243302345276\n",
      "Classification completed in 53.112956523895264\n",
      "Classification completed in 48.99031639099121\n",
      "Classification completed in 48.75883483886719\n"
     ]
    }
   ],
   "source": [
    "### Random forest classifier creation with 70 trees\n",
    "clf = RandomForestClassifier(n_estimators=70)\n",
    "\n",
    "f1 = []\n",
    "\n",
    "for i in range(tests_num):\n",
    "    data = pd.read_csv(\"./Twitch_dw/dw_emb_vectors\" + str(i) + \".csv\", header=None, delimiter=\";\").values.tolist()\n",
    "    start_time = time.time()\n",
    "    \n",
    "    # Input\n",
    "    X_data = []\n",
    "    for x, y in links:\n",
    "        x = data[int(x)]\n",
    "        y = data[int(y)]\n",
    "        X_data.append([np.dot(x, y)/(np.linalg.norm(x)*np.linalg.norm(y))])\n",
    "\n",
    "    # Split the data into training set and test set\n",
    "    X_train, X_test, y_train, y_test = train_test_split(X_data, y_data, test_size=0.2)\n",
    "    clf.fit(X_train, y_train)\n",
    "\n",
    "    y_pred = clf.predict(X_test)\n",
    "\n",
    "    ### Accuracy metric\n",
    "    f1.append(metrics.f1_score(y_test, y_pred, average=\"micro\"))\n",
    "    print(f\"Classification completed in {time.time() - start_time}\")"
   ]
  },
  {
   "cell_type": "code",
   "execution_count": 11,
   "id": "turkish-republican",
   "metadata": {},
   "outputs": [
    {
     "data": {
      "text/html": [
       "<div>\n",
       "<style scoped>\n",
       "    .dataframe tbody tr th:only-of-type {\n",
       "        vertical-align: middle;\n",
       "    }\n",
       "\n",
       "    .dataframe tbody tr th {\n",
       "        vertical-align: top;\n",
       "    }\n",
       "\n",
       "    .dataframe thead th {\n",
       "        text-align: right;\n",
       "    }\n",
       "</style>\n",
       "<table border=\"1\" class=\"dataframe\">\n",
       "  <thead>\n",
       "    <tr style=\"text-align: right;\">\n",
       "      <th></th>\n",
       "      <th>F1-micro</th>\n",
       "      <th>Exec time</th>\n",
       "      <th>walk_num</th>\n",
       "      <th>walk_len</th>\n",
       "    </tr>\n",
       "  </thead>\n",
       "  <tbody>\n",
       "    <tr>\n",
       "      <th>0</th>\n",
       "      <td>0.687883</td>\n",
       "      <td>430.843513</td>\n",
       "      <td>10.0</td>\n",
       "      <td>5.0</td>\n",
       "    </tr>\n",
       "    <tr>\n",
       "      <th>1</th>\n",
       "      <td>0.750383</td>\n",
       "      <td>852.987108</td>\n",
       "      <td>20.0</td>\n",
       "      <td>5.0</td>\n",
       "    </tr>\n",
       "    <tr>\n",
       "      <th>3</th>\n",
       "      <td>0.761383</td>\n",
       "      <td>1034.079826</td>\n",
       "      <td>10.0</td>\n",
       "      <td>10.0</td>\n",
       "    </tr>\n",
       "    <tr>\n",
       "      <th>2</th>\n",
       "      <td>0.793133</td>\n",
       "      <td>1684.428942</td>\n",
       "      <td>40.0</td>\n",
       "      <td>5.0</td>\n",
       "    </tr>\n",
       "    <tr>\n",
       "      <th>4</th>\n",
       "      <td>0.812317</td>\n",
       "      <td>2063.098696</td>\n",
       "      <td>20.0</td>\n",
       "      <td>10.0</td>\n",
       "    </tr>\n",
       "    <tr>\n",
       "      <th>5</th>\n",
       "      <td>0.826283</td>\n",
       "      <td>4032.707988</td>\n",
       "      <td>40.0</td>\n",
       "      <td>10.0</td>\n",
       "    </tr>\n",
       "  </tbody>\n",
       "</table>\n",
       "</div>"
      ],
      "text/plain": [
       "   F1-micro    Exec time  walk_num  walk_len\n",
       "0  0.687883   430.843513      10.0       5.0\n",
       "1  0.750383   852.987108      20.0       5.0\n",
       "3  0.761383  1034.079826      10.0      10.0\n",
       "2  0.793133  1684.428942      40.0       5.0\n",
       "4  0.812317  2063.098696      20.0      10.0\n",
       "5  0.826283  4032.707988      40.0      10.0"
      ]
     },
     "execution_count": 11,
     "metadata": {},
     "output_type": "execute_result"
    }
   ],
   "source": [
    "pd.DataFrame(list(zip(f1, exec_time, walk_num, walk_len)),\n",
    "               columns =['F1-micro', 'Exec time', 'walk_num', 'walk_len']).sort_values(by=\"F1-micro\")"
   ]
  },
  {
   "cell_type": "code",
   "execution_count": 12,
   "id": "extra-america",
   "metadata": {},
   "outputs": [
    {
     "data": {
      "text/plain": [
       "count    6.000000\n",
       "mean     0.771897\n",
       "std      0.050347\n",
       "min      0.687883\n",
       "25%      0.753133\n",
       "50%      0.777258\n",
       "75%      0.807521\n",
       "max      0.826283\n",
       "dtype: float64"
      ]
     },
     "execution_count": 12,
     "metadata": {},
     "output_type": "execute_result"
    }
   ],
   "source": [
    "pd.Series(f1).describe()"
   ]
  },
  {
   "cell_type": "markdown",
   "id": "legislative-stress",
   "metadata": {},
   "source": [
    "### AVPRA all features"
   ]
  },
  {
   "cell_type": "code",
   "execution_count": 29,
   "id": "standard-demographic",
   "metadata": {},
   "outputs": [],
   "source": [
    "obj = pd.read_pickle(\"All_feat/log_trial_0_LPStates.pickled\") + \\\n",
    "            pd.read_pickle(\"All_feat/log_trial_1_LPStates.pickled\")[1:] + \\\n",
    "                pd.read_pickle(\"All_feat/log_trial_2_LPStates.pickled\")[1:] + \\\n",
    "                    pd.read_pickle(\"All_feat/log_trial_3_LPStates.pickled\")[1:]"
   ]
  },
  {
   "cell_type": "code",
   "execution_count": 30,
   "id": "cutting-concentration",
   "metadata": {},
   "outputs": [
    {
     "name": "stdout",
     "output_type": "stream",
     "text": [
      "Classification completed in 7.6893391609191895\n",
      "Classification completed in 46.20007681846619\n",
      "Classification completed in 47.75898623466492\n",
      "Classification completed in 43.1504967212677\n",
      "Classification completed in 37.41994595527649\n",
      "Classification completed in 26.50743079185486\n",
      "Classification completed in 24.09148144721985\n",
      "Classification completed in 18.169604301452637\n",
      "Classification completed in 16.93538522720337\n",
      "Classification completed in 19.18341827392578\n",
      "Classification completed in 14.585596561431885\n",
      "Classification completed in 14.228188514709473\n",
      "Classification completed in 13.6672043800354\n",
      "Classification completed in 13.086324214935303\n",
      "Classification completed in 12.58159852027893\n",
      "Classification completed in 16.279738664627075\n",
      "Classification completed in 12.253262758255005\n",
      "Classification completed in 12.021146059036255\n",
      "Classification completed in 11.508776903152466\n",
      "Classification completed in 10.234082460403442\n",
      "Classification completed in 13.103567361831665\n",
      "Classification completed in 9.422346830368042\n",
      "Classification completed in 9.237895727157593\n",
      "Classification completed in 9.21272587776184\n",
      "Classification completed in 8.753394842147827\n",
      "Classification completed in 8.815364837646484\n",
      "Classification completed in 11.837701797485352\n",
      "Classification completed in 8.87780213356018\n",
      "Classification completed in 8.61137342453003\n",
      "Classification completed in 8.606932401657104\n",
      "Classification completed in 8.869250059127808\n",
      "Classification completed in 11.955188035964966\n",
      "Classification completed in 8.452729940414429\n"
     ]
    }
   ],
   "source": [
    "### Random forest classifier creation with 70 trees\n",
    "clf = RandomForestClassifier(n_estimators=70)\n",
    "\n",
    "f1 = []\n",
    "\n",
    "for res in obj:\n",
    "    data = res[1]\n",
    "    start_time = time.time()\n",
    "    \n",
    "    # Input\n",
    "    X_data = []\n",
    "    for x, y in links:\n",
    "        x = data[int(x)]\n",
    "        y = data[int(y)]\n",
    "        X_data.append([np.dot(x, y)/(np.linalg.norm(x)*np.linalg.norm(y))])\n",
    "\n",
    "    # Split the data into training set and test set\n",
    "    X_train, X_test, y_train, y_test = train_test_split(X_data, y_data, test_size=0.2)\n",
    "    clf.fit(X_train, y_train)\n",
    "\n",
    "    y_pred = clf.predict(X_test)\n",
    "\n",
    "    ### Accuracy metric\n",
    "    f1.append(metrics.f1_score(y_test, y_pred, average=\"micro\"))\n",
    "    print(f\"Classification completed in {time.time() - start_time}\")"
   ]
  },
  {
   "cell_type": "code",
   "execution_count": 31,
   "id": "smart-capital",
   "metadata": {},
   "outputs": [
    {
     "data": {
      "text/plain": [
       "(0.74195, 18)"
      ]
     },
     "execution_count": 31,
     "metadata": {},
     "output_type": "execute_result"
    }
   ],
   "source": [
    "max(f1), f1.index(max(f1))"
   ]
  },
  {
   "cell_type": "code",
   "execution_count": 32,
   "id": "formed-norwegian",
   "metadata": {},
   "outputs": [],
   "source": [
    "import matplotlib\n",
    "matplotlib.use(\"pgf\")\n",
    "matplotlib.rcParams.update({\n",
    "    \"pgf.texsystem\": \"pdflatex\",\n",
    "    'font.family': 'serif',\n",
    "    'text.usetex': True,\n",
    "    'pgf.rcfonts': False\n",
    "})"
   ]
  },
  {
   "cell_type": "code",
   "execution_count": 10,
   "id": "labeled-refund",
   "metadata": {},
   "outputs": [
    {
     "name": "stderr",
     "output_type": "stream",
     "text": [
      "/tmp/ipykernel_4575/2582189369.py:16: UserWarning: Matplotlib is currently using pgf, which is a non-GUI backend, so cannot show the figure.\n",
      "  plt.show()\n"
     ]
    }
   ],
   "source": [
    "# Plot accuracy graph\n",
    "plt.figure(figsize=(10, 6))\n",
    "l = list(range(0,10)) + list(range(10, 30, 2))\n",
    "plt.plot(l, [f1[i] for i in l], \"o\", label=\"AVPRA F1-score\", markersize=10)\n",
    "\n",
    "plt.axvline(x=7, label=\"Diametro\", linestyle=\"--\")\n",
    "\n",
    "plt.xlabel(\"Iterazione\", fontsize=20)\n",
    "plt.ylabel(\"F1-Score\", fontsize=20)\n",
    "plt.legend(loc=\"right\", prop={'size': 16})\n",
    "plt.xticks(fontsize=16)\n",
    "plt.yticks(fontsize=16)\n",
    "plt.ylim(0,1)\n",
    "\n",
    "plt.savefig(\"LP_allf.png\", dpi=500)\n",
    "plt.show()"
   ]
  },
  {
   "cell_type": "markdown",
   "id": "laughing-india",
   "metadata": {},
   "source": [
    "### AVPRA only lang"
   ]
  },
  {
   "cell_type": "code",
   "execution_count": 34,
   "id": "developed-ancient",
   "metadata": {},
   "outputs": [],
   "source": [
    "obj = []"
   ]
  },
  {
   "cell_type": "code",
   "execution_count": 35,
   "id": "acute-probability",
   "metadata": {},
   "outputs": [],
   "source": [
    "obj = pd.read_pickle(\"./Only_lang/log_trial_0_LPStates.pickled\") + \\\n",
    "            pd.read_pickle(\"./Only_lang/log_trial_1_LPStates.pickled\")[1:] + \\\n",
    "                pd.read_pickle(\"./Only_lang/log_trial_2_LPStates.pickled\")[1:] + \\\n",
    "                    pd.read_pickle(\"./Only_lang/log_trial_3_LPStates.pickled\")[1:]"
   ]
  },
  {
   "cell_type": "code",
   "execution_count": 36,
   "id": "pleasant-bicycle",
   "metadata": {},
   "outputs": [
    {
     "name": "stdout",
     "output_type": "stream",
     "text": [
      "Classification completed in 6.6968584060668945\n",
      "Classification completed in 24.835124731063843\n",
      "Classification completed in 20.561519384384155\n",
      "Classification completed in 19.721925020217896\n",
      "Classification completed in 20.803082704544067\n",
      "Classification completed in 19.061986923217773\n",
      "Classification completed in 17.213862419128418\n",
      "Classification completed in 17.828810214996338\n",
      "Classification completed in 16.25322461128235\n",
      "Classification completed in 19.191070795059204\n",
      "Classification completed in 15.560381412506104\n",
      "Classification completed in 15.241949558258057\n",
      "Classification completed in 14.81319260597229\n",
      "Classification completed in 13.816583395004272\n",
      "Classification completed in 16.240943431854248\n",
      "Classification completed in 13.160102605819702\n",
      "Classification completed in 12.46449589729309\n",
      "Classification completed in 12.117457628250122\n",
      "Classification completed in 14.67012333869934\n",
      "Classification completed in 11.328020572662354\n",
      "Classification completed in 10.073093891143799\n",
      "Classification completed in 9.662737607955933\n",
      "Classification completed in 9.203248500823975\n",
      "Classification completed in 11.906387329101562\n",
      "Classification completed in 9.004636764526367\n",
      "Classification completed in 9.014371871948242\n",
      "Classification completed in 8.268173694610596\n",
      "Classification completed in 8.113444566726685\n",
      "Classification completed in 11.354055404663086\n"
     ]
    }
   ],
   "source": [
    "### Random forest classifier creation with 70 trees\n",
    "clf = RandomForestClassifier(n_estimators=70)\n",
    "\n",
    "f12 = []\n",
    "\n",
    "for res in obj:\n",
    "    data = res[1]\n",
    "    start_time = time.time()\n",
    "    \n",
    "    # Input\n",
    "    X_data = []\n",
    "    for x, y in links:\n",
    "        x = data[int(x)]\n",
    "        y = data[int(y)]\n",
    "        X_data.append([np.dot(x, y)/(np.linalg.norm(x)*np.linalg.norm(y))])\n",
    "\n",
    "    # Split the data into training set and test set\n",
    "    X_train, X_test, y_train, y_test = train_test_split(X_data, y_data, test_size=0.2)\n",
    "    clf.fit(X_train, y_train)\n",
    "\n",
    "    y_pred = clf.predict(X_test)\n",
    "\n",
    "    ### Accuracy metric\n",
    "    f12.append(metrics.f1_score(y_test, y_pred, average=\"micro\"))\n",
    "    print(f\"Classification completed in {time.time() - start_time}\")"
   ]
  },
  {
   "cell_type": "code",
   "execution_count": 37,
   "id": "bearing-carter",
   "metadata": {},
   "outputs": [
    {
     "data": {
      "text/plain": [
       "(0.7952000000000001, 1)"
      ]
     },
     "execution_count": 37,
     "metadata": {},
     "output_type": "execute_result"
    }
   ],
   "source": [
    "max(f12), f12.index(max(f12))"
   ]
  },
  {
   "cell_type": "code",
   "execution_count": 4,
   "id": "sudden-monitoring",
   "metadata": {},
   "outputs": [],
   "source": [
    "import matplotlib\n",
    "matplotlib.use(\"pgf\")\n",
    "matplotlib.rcParams.update({\n",
    "    \"pgf.texsystem\": \"pdflatex\",\n",
    "    'font.family': 'serif',\n",
    "    'text.usetex': True,\n",
    "    'pgf.rcfonts': False\n",
    "})"
   ]
  },
  {
   "cell_type": "code",
   "execution_count": 12,
   "id": "thick-bangkok",
   "metadata": {},
   "outputs": [
    {
     "name": "stderr",
     "output_type": "stream",
     "text": [
      "/tmp/ipykernel_4575/282311296.py:16: UserWarning: Matplotlib is currently using pgf, which is a non-GUI backend, so cannot show the figure.\n",
      "  plt.show()\n"
     ]
    }
   ],
   "source": [
    "# Plot accuracy graph\n",
    "plt.figure(figsize=(10, 6))\n",
    "l = list(range(0,10)) + list(range(10, 30, 2))\n",
    "plt.plot(l, [f12[i] for i in l], \"o\", label=\"AVPRA F1-score\", markersize=10)\n",
    "\n",
    "plt.axvline(x=7, label=\"Diametro\", linestyle=\"--\")\n",
    "\n",
    "plt.xlabel(\"Iterazione\", fontsize=20)\n",
    "plt.ylabel(\"F1-Score\", fontsize=20)\n",
    "plt.legend(loc=\"right\", prop={'size': 16})\n",
    "plt.xticks(fontsize=16)\n",
    "plt.yticks(fontsize=16)\n",
    "plt.ylim(0,1)\n",
    "\n",
    "plt.savefig(\"LP_onlyl.png\", dpi=500)\n",
    "plt.show()"
   ]
  },
  {
   "cell_type": "code",
   "execution_count": 11,
   "id": "phantom-halifax",
   "metadata": {},
   "outputs": [
    {
     "name": "stderr",
     "output_type": "stream",
     "text": [
      "/tmp/ipykernel_4575/3913646883.py:17: UserWarning: Matplotlib is currently using pgf, which is a non-GUI backend, so cannot show the figure.\n",
      "  plt.show()\n"
     ]
    }
   ],
   "source": [
    "# Plot accuracy graph\n",
    "plt.figure(figsize=(10, 6))\n",
    "l = list(range(0,10)) + list(range(10, 30, 2))\n",
    "plt.plot(l, [f12[i] for i in l], \"o\", label=\"AVPRA F1-score\", markersize=10)\n",
    "plt.plot(l, [f1[i] for i in l], \"o\", label=\"AVPRA* F1-score\", markersize=10)\n",
    "\n",
    "plt.axvline(x=7, label=\"Diametro\", linestyle=\"--\")\n",
    "\n",
    "plt.xlabel(\"Iterazione\", fontsize=20)\n",
    "plt.ylabel(\"F1-Score\", fontsize=20)\n",
    "plt.legend(loc=\"right\", prop={'size': 16})\n",
    "plt.xticks(fontsize=16)\n",
    "plt.yticks(fontsize=16)\n",
    "plt.ylim(0,1)\n",
    "\n",
    "plt.savefig(\"LP_comparison.png\", dpi=500)\n",
    "plt.show()"
   ]
  },
  {
   "cell_type": "code",
   "execution_count": null,
   "id": "interstate-uncle",
   "metadata": {},
   "outputs": [],
   "source": []
  }
 ],
 "metadata": {
  "kernelspec": {
   "display_name": "Python 3 (ipykernel)",
   "language": "python",
   "name": "python3"
  },
  "language_info": {
   "codemirror_mode": {
    "name": "ipython",
    "version": 3
   },
   "file_extension": ".py",
   "mimetype": "text/x-python",
   "name": "python",
   "nbconvert_exporter": "python",
   "pygments_lexer": "ipython3",
   "version": "3.8.13"
  }
 },
 "nbformat": 4,
 "nbformat_minor": 5
}
