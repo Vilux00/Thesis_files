{
 "cells": [
  {
   "cell_type": "code",
   "execution_count": 1,
   "id": "genetic-communist",
   "metadata": {},
   "outputs": [],
   "source": [
    "### Import useful libraries\n",
    "import pandas as pd\n",
    "import matplotlib.pyplot as plt\n",
    "import numpy as np\n",
    "from sklearn.ensemble import RandomForestClassifier\n",
    "from sklearn.datasets import make_classification\n",
    "from sklearn.model_selection import train_test_split\n",
    "from sklearn import metrics\n",
    "import networkx as nx\n",
    "import time\n",
    "import random\n",
    "import csv\n",
    "%matplotlib inline"
   ]
  },
  {
   "cell_type": "code",
   "execution_count": 2,
   "id": "distinct-preliminary",
   "metadata": {},
   "outputs": [],
   "source": [
    "G = nx.read_edgelist(\"./HR_edges_norm.csv\")"
   ]
  },
  {
   "cell_type": "code",
   "execution_count": 3,
   "id": "charged-excitement",
   "metadata": {},
   "outputs": [
    {
     "name": "stdout",
     "output_type": "stream",
     "text": [
      "Computed degrees in: 8.177757263183594e-05\n"
     ]
    }
   ],
   "source": [
    "i_time = time.time()\n",
    "bet = nx.degree(G)\n",
    "print(f\"Computed degrees in: {time.time() - i_time}\")"
   ]
  },
  {
   "cell_type": "code",
   "execution_count": 4,
   "id": "authorized-means",
   "metadata": {},
   "outputs": [],
   "source": [
    "### Pagerank scores normalization\n",
    "bet_l = []\n",
    "max_v = max(dict(bet).values())\n",
    "min_v = min(dict(bet).values())\n",
    "for i in range(1, len(bet) + 1):\n",
    "    bet_norm = (bet[str(i)] - min_v) / (max_v - min_v) \n",
    "    bet_l.append(bet_norm)"
   ]
  },
  {
   "cell_type": "code",
   "execution_count": 5,
   "id": "prospective-economics",
   "metadata": {},
   "outputs": [],
   "source": [
    "obj = pd.read_pickle(\"./HR.pickled\")"
   ]
  },
  {
   "cell_type": "markdown",
   "id": "affiliated-pakistan",
   "metadata": {},
   "source": [
    "# Heterogeneous pt1"
   ]
  },
  {
   "cell_type": "code",
   "execution_count": 6,
   "id": "active-impact",
   "metadata": {},
   "outputs": [],
   "source": [
    "node_labels = []\n",
    "for bet_v in bet_l:\n",
    "    start_val = 0.0001\n",
    "    i = 1\n",
    "    while(True):\n",
    "        if bet_v <= start_val:\n",
    "            node_labels.append(i)\n",
    "            break\n",
    "        else:\n",
    "            i += 1\n",
    "            start_val *= 1.5"
   ]
  },
  {
   "cell_type": "code",
   "execution_count": 7,
   "id": "detailed-approval",
   "metadata": {},
   "outputs": [
    {
     "data": {
      "text/plain": [
       "17    7602\n",
       "16    7186\n",
       "18    7146\n",
       "15    6526\n",
       "14    6289\n",
       "13    4977\n",
       "19    3084\n",
       "9     2716\n",
       "11    2693\n",
       "12    2654\n",
       "1     2330\n",
       "20    1034\n",
       "21     267\n",
       "22      60\n",
       "23       6\n",
       "24       3\n",
       "dtype: int64"
      ]
     },
     "execution_count": 7,
     "metadata": {},
     "output_type": "execute_result"
    }
   ],
   "source": [
    "pd.Series(node_labels).value_counts()"
   ]
  },
  {
   "cell_type": "code",
   "execution_count": 8,
   "id": "returning-overhead",
   "metadata": {},
   "outputs": [
    {
     "name": "stdout",
     "output_type": "stream",
     "text": [
      "Iteration completed in 2.3661346435546875\n",
      "Iteration completed in 13.497879266738892\n",
      "Iteration completed in 25.271319150924683\n",
      "Iteration completed in 37.75277304649353\n",
      "Iteration completed in 42.477304220199585\n",
      "Iteration completed in 45.98876667022705\n",
      "Iteration completed in 53.26049757003784\n",
      "Iteration completed in 46.13143587112427\n",
      "Iteration completed in 45.115803956985474\n",
      "Iteration completed in 48.62360763549805\n",
      "Iteration completed in 48.00973725318909\n",
      "Iteration completed in 49.44280672073364\n",
      "Iteration completed in 46.85432720184326\n",
      "Iteration completed in 49.56969928741455\n",
      "Iteration completed in 50.198171854019165\n",
      "Iteration completed in 47.45077180862427\n",
      "Iteration completed in 46.96292543411255\n",
      "Iteration completed in 45.705955505371094\n",
      "Iteration completed in 45.34983730316162\n",
      "Iteration completed in 46.267860412597656\n",
      "Iteration completed in 41.866870641708374\n"
     ]
    }
   ],
   "source": [
    "### Random forest classifier creation with 70 trees\n",
    "clf = RandomForestClassifier(n_estimators=70)\n",
    "norm_f1_scores = []\n",
    "for res in obj:\n",
    "    start_time = time.time()\n",
    "    \n",
    "    X_data = list(map(lambda x: sorted(x, reverse=True), res[1]))\n",
    "    y_data = node_labels\n",
    "\n",
    "    # Split the data into training set and test set\n",
    "    X_train, X_test, y_train, y_test = train_test_split(X_data, y_data, test_size=0.2)\n",
    "\n",
    "    clf.fit(X_train, y_train)\n",
    "\n",
    "    y_pred = clf.predict(X_test)\n",
    "\n",
    "    ### Accuracy metric\n",
    "    norm_f1_scores.append(metrics.f1_score(y_test, y_pred, average=\"micro\"))\n",
    "    print(f\"Iteration completed in {time.time() - start_time}\")"
   ]
  },
  {
   "cell_type": "markdown",
   "id": "specific-princess",
   "metadata": {},
   "source": [
    "# Heterogeneous pt2"
   ]
  },
  {
   "cell_type": "code",
   "execution_count": 9,
   "id": "crude-norwegian",
   "metadata": {},
   "outputs": [],
   "source": [
    "node_labels = []\n",
    "for bet_v in bet_l:\n",
    "    ok = False\n",
    "    for i in range(1, 11):\n",
    "        if(bet_v <= 0.005 * i): \n",
    "            node_labels.append(i)\n",
    "            ok = True\n",
    "            break\n",
    "    if ok: continue\n",
    "    for i in range(1, 6):\n",
    "        if(bet_v <= 0.05 + 0.01 * i):\n",
    "            node_labels.append(10 + i)\n",
    "            ok = True\n",
    "            break\n",
    "    if ok: continue\n",
    "    if(bet_v <= 0.2):\n",
    "        node_labels.append(16)\n",
    "        continue\n",
    "    node_labels.append(17)"
   ]
  },
  {
   "cell_type": "code",
   "execution_count": 10,
   "id": "functioning-seventh",
   "metadata": {},
   "outputs": [
    {
     "data": {
      "text/plain": [
       "1     7739\n",
       "2     5214\n",
       "3     4663\n",
       "11    4171\n",
       "4     4043\n",
       "16    3965\n",
       "5     3526\n",
       "6     3000\n",
       "12    2916\n",
       "7     2586\n",
       "8     2448\n",
       "13    2422\n",
       "9     2152\n",
       "10    1902\n",
       "14    1859\n",
       "15    1478\n",
       "17     489\n",
       "dtype: int64"
      ]
     },
     "execution_count": 10,
     "metadata": {},
     "output_type": "execute_result"
    }
   ],
   "source": [
    "pd.Series(node_labels).value_counts()"
   ]
  },
  {
   "cell_type": "code",
   "execution_count": 11,
   "id": "polar-composer",
   "metadata": {},
   "outputs": [
    {
     "name": "stdout",
     "output_type": "stream",
     "text": [
      "Iteration completed in 2.3731257915496826\n",
      "Iteration completed in 12.735950231552124\n",
      "Iteration completed in 23.863534450531006\n",
      "Iteration completed in 35.517030239105225\n",
      "Iteration completed in 41.521759271621704\n",
      "Iteration completed in 48.32052755355835\n",
      "Iteration completed in 50.84865093231201\n",
      "Iteration completed in 51.97603368759155\n",
      "Iteration completed in 51.795809507369995\n",
      "Iteration completed in 52.98626375198364\n",
      "Iteration completed in 52.80021834373474\n",
      "Iteration completed in 51.713135719299316\n",
      "Iteration completed in 52.82065486907959\n",
      "Iteration completed in 52.838236808776855\n",
      "Iteration completed in 52.21218991279602\n",
      "Iteration completed in 51.93068075180054\n",
      "Iteration completed in 48.81129312515259\n",
      "Iteration completed in 47.34089255332947\n",
      "Iteration completed in 46.3666775226593\n",
      "Iteration completed in 46.78534507751465\n",
      "Iteration completed in 45.59001326560974\n"
     ]
    }
   ],
   "source": [
    "### Random forest classifier creation with 70 trees\n",
    "clf = RandomForestClassifier(n_estimators=70)\n",
    "norm_f1_scores2 = []\n",
    "for res in obj:\n",
    "    start_time = time.time()\n",
    "    \n",
    "    X_data = list(map(lambda x: sorted(x, reverse=True), res[1]))\n",
    "    y_data = node_labels\n",
    "\n",
    "    # Split the data into training set and test set\n",
    "    X_train, X_test, y_train, y_test = train_test_split(X_data, y_data, test_size=0.2)\n",
    "\n",
    "    clf.fit(X_train, y_train)\n",
    "\n",
    "    y_pred = clf.predict(X_test)\n",
    "\n",
    "    ### Accuracy metric\n",
    "    norm_f1_scores2.append(metrics.f1_score(y_test, y_pred, average=\"micro\"))\n",
    "    print(f\"Iteration completed in {time.time() - start_time}\")"
   ]
  },
  {
   "cell_type": "markdown",
   "id": "fatty-pantyhose",
   "metadata": {},
   "source": [
    "## Results"
   ]
  },
  {
   "cell_type": "code",
   "execution_count": 12,
   "id": "swiss-phrase",
   "metadata": {},
   "outputs": [
    {
     "data": {
      "text/plain": [
       "(0.6829134218964727, 1)"
      ]
     },
     "execution_count": 12,
     "metadata": {},
     "output_type": "execute_result"
    }
   ],
   "source": [
    "max(norm_f1_scores), (list(range(0, 10)) + list(range(10, 32, 2)))[norm_f1_scores.index(max(norm_f1_scores))]"
   ]
  },
  {
   "cell_type": "code",
   "execution_count": 13,
   "id": "laden-visit",
   "metadata": {},
   "outputs": [
    {
     "data": {
      "text/plain": [
       "(0.5521759047182776, 1)"
      ]
     },
     "execution_count": 13,
     "metadata": {},
     "output_type": "execute_result"
    }
   ],
   "source": [
    "max(norm_f1_scores2), (list(range(0, 10)) + list(range(10, 32, 2)))[norm_f1_scores2.index(max(norm_f1_scores2))]"
   ]
  },
  {
   "cell_type": "markdown",
   "id": "alive-franchise",
   "metadata": {},
   "source": [
    "### Graphs creation"
   ]
  },
  {
   "cell_type": "code",
   "execution_count": 14,
   "id": "chronic-execution",
   "metadata": {},
   "outputs": [],
   "source": [
    "import matplotlib\n",
    "matplotlib.use(\"pgf\")\n",
    "matplotlib.rcParams.update({\n",
    "    \"pgf.texsystem\": \"pdflatex\",\n",
    "    'font.family': 'serif',\n",
    "    'text.usetex': True,\n",
    "    'pgf.rcfonts': False\n",
    "})"
   ]
  },
  {
   "cell_type": "code",
   "execution_count": 15,
   "id": "altered-event",
   "metadata": {},
   "outputs": [
    {
     "name": "stderr",
     "output_type": "stream",
     "text": [
      "/tmp/ipykernel_17079/3934883982.py:17: UserWarning: Matplotlib is currently using pgf, which is a non-GUI backend, so cannot show the figure.\n",
      "  plt.show()\n"
     ]
    }
   ],
   "source": [
    "plt.figure(figsize=(10, 6))\n",
    "l = list(range(0, 10)) + list(range(10, 32, 2))\n",
    "plt.plot(l, norm_f1_scores, \"o\", label=\"F1-score intervalli [a]\", markersize=10)\n",
    "plt.plot(l, norm_f1_scores2, \"o\", label=\"F1-score intervalli [b]\", markersize=10)\n",
    "\n",
    "plt.xlabel(\"Iterazione\", fontsize=22)\n",
    "plt.ylabel(\"F1-score\", fontsize=22)\n",
    "\n",
    "plt.xticks(fontsize=16)\n",
    "plt.yticks(fontsize=16)\n",
    "\n",
    "plt.ylim(0, 1)\n",
    "\n",
    "plt.legend(loc=\"upper right\", prop={'size': 16})\n",
    "\n",
    "plt.savefig(\"Micro_comparison_norm_Degree.png\", dpi=500)\n",
    "plt.show()"
   ]
  },
  {
   "cell_type": "code",
   "execution_count": 16,
   "id": "rubber-balloon",
   "metadata": {
    "scrolled": true
   },
   "outputs": [
    {
     "name": "stderr",
     "output_type": "stream",
     "text": [
      "/tmp/ipykernel_17079/3195118710.py:14: UserWarning: Matplotlib is currently using pgf, which is a non-GUI backend, so cannot show the figure.\n",
      "  plt.show()\n"
     ]
    }
   ],
   "source": [
    "### Degree distrib function\n",
    "serie = pd.Series(bet_l)\n",
    "plt.figure(figsize=(10, 6))\n",
    "plt.hist(serie, 100)\n",
    "plt.xlabel(\"Grado\", fontsize=22)\n",
    "plt.ylabel(\"Frequenza assoluta\", fontsize=22)\n",
    "plt.xticks(fontsize=16)\n",
    "plt.yticks(fontsize=16)\n",
    "\n",
    "plt.xlim(-0.01, 1)\n",
    "\n",
    "plt.savefig(\"Distribution_distrib_Degree.png\", dpi=500)\n",
    "\n",
    "plt.show()"
   ]
  }
 ],
 "metadata": {
  "kernelspec": {
   "display_name": "Python 3 (ipykernel)",
   "language": "python",
   "name": "python3"
  },
  "language_info": {
   "codemirror_mode": {
    "name": "ipython",
    "version": 3
   },
   "file_extension": ".py",
   "mimetype": "text/x-python",
   "name": "python",
   "nbconvert_exporter": "python",
   "pygments_lexer": "ipython3",
   "version": "3.8.13"
  }
 },
 "nbformat": 4,
 "nbformat_minor": 5
}
