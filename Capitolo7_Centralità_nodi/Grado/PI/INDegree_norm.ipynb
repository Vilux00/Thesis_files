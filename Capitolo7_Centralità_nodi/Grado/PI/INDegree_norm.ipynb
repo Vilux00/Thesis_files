{
 "cells": [
  {
   "cell_type": "code",
   "execution_count": 1,
   "id": "genetic-communist",
   "metadata": {},
   "outputs": [],
   "source": [
    "### Import useful libraries\n",
    "import pandas as pd\n",
    "import matplotlib.pyplot as plt\n",
    "import numpy as np\n",
    "from sklearn.ensemble import RandomForestClassifier\n",
    "from sklearn.datasets import make_classification\n",
    "from sklearn.model_selection import train_test_split\n",
    "from sklearn import metrics\n",
    "import networkx as nx\n",
    "import time\n",
    "import random\n",
    "import csv\n",
    "%matplotlib inline"
   ]
  },
  {
   "cell_type": "code",
   "execution_count": 2,
   "id": "distinct-preliminary",
   "metadata": {},
   "outputs": [],
   "source": [
    "G = nx.read_edgelist(\"./EDGES_FILE.csv\", create_using=nx.DiGraph)\n",
    "H = nx.read_edgelist(\"./EDGES_FILE.csv\", create_using=nx.DiGraph)"
   ]
  },
  {
   "cell_type": "code",
   "execution_count": 3,
   "id": "convenient-surrey",
   "metadata": {},
   "outputs": [
    {
     "data": {
      "text/plain": [
       "956"
      ]
     },
     "execution_count": 3,
     "metadata": {},
     "output_type": "execute_result"
    }
   ],
   "source": [
    "len(list(G.nodes()))"
   ]
  },
  {
   "cell_type": "code",
   "execution_count": 4,
   "id": "destroyed-defeat",
   "metadata": {},
   "outputs": [],
   "source": [
    "nodes = []\n",
    "for (x, y) in G.edges():\n",
    "    if(x == y):\n",
    "        if(H.has_node(x)):\n",
    "            nodes.append(x)\n",
    "            H.remove_node(x)"
   ]
  },
  {
   "cell_type": "code",
   "execution_count": 5,
   "id": "million-potential",
   "metadata": {},
   "outputs": [
    {
     "data": {
      "text/plain": [
       "765"
      ]
     },
     "execution_count": 5,
     "metadata": {},
     "output_type": "execute_result"
    }
   ],
   "source": [
    "len(list(H.nodes()))"
   ]
  },
  {
   "cell_type": "code",
   "execution_count": 6,
   "id": "burning-anxiety",
   "metadata": {},
   "outputs": [
    {
     "data": {
      "text/plain": [
       "True"
      ]
     },
     "execution_count": 6,
     "metadata": {},
     "output_type": "execute_result"
    }
   ],
   "source": [
    "G = H\n",
    "nx.is_weakly_connected(G)"
   ]
  },
  {
   "cell_type": "code",
   "execution_count": 7,
   "id": "charged-excitement",
   "metadata": {},
   "outputs": [
    {
     "name": "stdout",
     "output_type": "stream",
     "text": [
      "Calculated scores in: 0.0001354217529296875\n"
     ]
    }
   ],
   "source": [
    "i_time = time.time()\n",
    "bet = G.in_degree()\n",
    "print(f\"Calculated scores in: {time.time() - i_time}\")"
   ]
  },
  {
   "cell_type": "code",
   "execution_count": 8,
   "id": "authorized-means",
   "metadata": {},
   "outputs": [],
   "source": [
    "bet_l = []\n",
    "max_v = max(dict(bet).values())\n",
    "min_v = min(dict(bet).values())\n",
    "for i in sorted(list(map(lambda x: int(x), list(G.nodes())))):\n",
    "    bet_norm = (bet[str(i)] - min_v) / (max_v - min_v) \n",
    "    bet_l.append(bet_norm)"
   ]
  },
  {
   "cell_type": "markdown",
   "id": "hybrid-california",
   "metadata": {},
   "source": [
    "# 0.05 sized intervals"
   ]
  },
  {
   "cell_type": "code",
   "execution_count": 10,
   "id": "expected-creator",
   "metadata": {},
   "outputs": [],
   "source": [
    "node_labels = []\n",
    "for bet_v in bet_l:\n",
    "    for i in range(1, 21):\n",
    "        if(bet_v <= 0.05 * i): \n",
    "            node_labels.append(i)\n",
    "            break"
   ]
  },
  {
   "cell_type": "code",
   "execution_count": 11,
   "id": "colonial-argument",
   "metadata": {},
   "outputs": [
    {
     "data": {
      "text/plain": [
       "1     165\n",
       "2     161\n",
       "3     149\n",
       "4      88\n",
       "5      43\n",
       "6      39\n",
       "7      30\n",
       "8      30\n",
       "9      14\n",
       "10     12\n",
       "11      9\n",
       "12      7\n",
       "14      6\n",
       "13      4\n",
       "15      3\n",
       "20      2\n",
       "17      1\n",
       "16      1\n",
       "19      1\n",
       "dtype: int64"
      ]
     },
     "execution_count": 11,
     "metadata": {},
     "output_type": "execute_result"
    }
   ],
   "source": [
    "pd.Series(node_labels).value_counts()"
   ]
  },
  {
   "cell_type": "markdown",
   "id": "resident-celtic",
   "metadata": {},
   "source": [
    "### DW"
   ]
  },
  {
   "cell_type": "code",
   "execution_count": 12,
   "id": "suitable-eugene",
   "metadata": {},
   "outputs": [],
   "source": [
    "tests = 0\n",
    "with open(\"./dw/dw_info.txt\", \"r\") as f:\n",
    "    lines = f.readlines()\n",
    "    for line in lines:\n",
    "        if \"Test\" in line: tests += 1 "
   ]
  },
  {
   "cell_type": "code",
   "execution_count": 13,
   "id": "cheap-cylinder",
   "metadata": {},
   "outputs": [
    {
     "name": "stdout",
     "output_type": "stream",
     "text": [
      "Iteration completed in 0.24654316902160645\n",
      "Iteration completed in 0.2576112747192383\n",
      "Iteration completed in 0.272505521774292\n",
      "Iteration completed in 0.27223753929138184\n",
      "Iteration completed in 0.2602365016937256\n",
      "Iteration completed in 0.27582216262817383\n",
      "Iteration completed in 0.29796457290649414\n",
      "Iteration completed in 0.28223657608032227\n",
      "Iteration completed in 0.2653346061706543\n",
      "Iteration completed in 0.2695770263671875\n",
      "Iteration completed in 0.2530698776245117\n",
      "Iteration completed in 0.2563817501068115\n",
      "Iteration completed in 0.2936265468597412\n",
      "Iteration completed in 0.26734161376953125\n",
      "Iteration completed in 0.24229836463928223\n"
     ]
    }
   ],
   "source": [
    "### Random forest classifier creation with 70 trees\n",
    "clf = RandomForestClassifier(n_estimators=70)\n",
    "f1_scores = []\n",
    "for i in range(tests):\n",
    "    start_time = time.time()\n",
    "    data = pd.read_csv(\"./dw/dw_emb_vectors\" + str(i) + \".csv\", header=None, sep=\";\").values.tolist()\n",
    "    # Input \n",
    "    X_data = list(map(lambda x: sorted(x, reverse=True), data))\n",
    "    X_data = [X_data[i] for i in range(len(X_data)) if str(i + 1) not in nodes]\n",
    "    \n",
    "    y_data = node_labels\n",
    "\n",
    "    # Split the data into training set and test set\n",
    "    X_train, X_test, y_train, y_test = train_test_split(X_data, y_data, test_size=0.2)\n",
    "\n",
    "    clf.fit(X_train, y_train)\n",
    "\n",
    "    y_pred = clf.predict(X_test)\n",
    "\n",
    "    ### Accuracy metric\n",
    "    f1_scores.append(metrics.f1_score(y_test, y_pred, average=\"micro\"))\n",
    "    print(f\"Iteration completed in {time.time() - start_time}\")"
   ]
  },
  {
   "cell_type": "code",
   "execution_count": 14,
   "id": "dress-central",
   "metadata": {},
   "outputs": [
    {
     "data": {
      "text/plain": [
       "count    15.000000\n",
       "mean      0.289760\n",
       "std       0.045996\n",
       "min       0.215686\n",
       "25%       0.261438\n",
       "50%       0.287582\n",
       "75%       0.307190\n",
       "max       0.379085\n",
       "dtype: float64"
      ]
     },
     "execution_count": 14,
     "metadata": {},
     "output_type": "execute_result"
    }
   ],
   "source": [
    "pd.Series(f1_scores).describe()"
   ]
  },
  {
   "cell_type": "markdown",
   "id": "cross-clone",
   "metadata": {},
   "source": [
    "### N2V"
   ]
  },
  {
   "cell_type": "code",
   "execution_count": 15,
   "id": "exact-raising",
   "metadata": {},
   "outputs": [],
   "source": [
    "tests = 0\n",
    "with open(\"./n2v/n2v_info.txt\", \"r\") as f:\n",
    "    lines = f.readlines()\n",
    "    for line in lines:\n",
    "        if \"Test\" in line: tests += 1 "
   ]
  },
  {
   "cell_type": "code",
   "execution_count": 16,
   "id": "searching-remainder",
   "metadata": {},
   "outputs": [
    {
     "name": "stdout",
     "output_type": "stream",
     "text": [
      "Iteration completed in 0.35352301597595215\n",
      "Iteration completed in 0.3415968418121338\n",
      "Iteration completed in 0.33475804328918457\n",
      "Iteration completed in 0.35523080825805664\n",
      "Iteration completed in 0.3221273422241211\n",
      "Iteration completed in 0.3366587162017822\n",
      "Iteration completed in 0.3324713706970215\n",
      "Iteration completed in 0.3344080448150635\n",
      "Iteration completed in 0.3212916851043701\n",
      "Iteration completed in 0.33933377265930176\n",
      "Iteration completed in 0.339296817779541\n",
      "Iteration completed in 0.3845827579498291\n",
      "Iteration completed in 0.3169858455657959\n",
      "Iteration completed in 0.3446824550628662\n",
      "Iteration completed in 0.3399641513824463\n",
      "Iteration completed in 0.3594377040863037\n",
      "Iteration completed in 0.3243885040283203\n",
      "Iteration completed in 0.3229367733001709\n",
      "Iteration completed in 0.3246495723724365\n",
      "Iteration completed in 0.32070112228393555\n",
      "Iteration completed in 0.3165433406829834\n",
      "Iteration completed in 0.3204953670501709\n",
      "Iteration completed in 0.34110140800476074\n",
      "Iteration completed in 0.3583693504333496\n"
     ]
    }
   ],
   "source": [
    "### Random forest classifier creation with 70 trees\n",
    "clf = RandomForestClassifier(n_estimators=70)\n",
    "f1_scores = []\n",
    "for i in range(tests):\n",
    "    start_time = time.time()\n",
    "    data = pd.read_csv(\"./n2v/n2v_emb_vectors\" + str(i) + \".csv\", header=None, sep=\";\").values.tolist()\n",
    "    # Input \n",
    "    X_data = list(map(lambda x: sorted(x, reverse=True), data))\n",
    "    X_data = [X_data[i] for i in range(len(X_data)) if str(i + 1) not in nodes]\n",
    "    \n",
    "    y_data = node_labels\n",
    "\n",
    "    # Split the data into training set and test set\n",
    "    X_train, X_test, y_train, y_test = train_test_split(X_data, y_data, test_size=0.2)\n",
    "\n",
    "    clf.fit(X_train, y_train)\n",
    "\n",
    "    y_pred = clf.predict(X_test)\n",
    "\n",
    "    ### Accuracy metric\n",
    "    f1_scores.append(metrics.f1_score(y_test, y_pred, average=\"micro\"))\n",
    "    print(f\"Iteration completed in {time.time() - start_time}\")"
   ]
  },
  {
   "cell_type": "code",
   "execution_count": 17,
   "id": "configured-joseph",
   "metadata": {},
   "outputs": [
    {
     "data": {
      "text/plain": [
       "count    24.000000\n",
       "mean      0.332789\n",
       "std       0.055490\n",
       "min       0.241830\n",
       "25%       0.285948\n",
       "50%       0.333333\n",
       "75%       0.380719\n",
       "max       0.431373\n",
       "dtype: float64"
      ]
     },
     "execution_count": 17,
     "metadata": {},
     "output_type": "execute_result"
    }
   ],
   "source": [
    "pd.Series(f1_scores).describe()"
   ]
  },
  {
   "cell_type": "markdown",
   "id": "blocked-marketing",
   "metadata": {},
   "source": [
    "### MNMF"
   ]
  },
  {
   "cell_type": "code",
   "execution_count": 18,
   "id": "exceptional-mumbai",
   "metadata": {},
   "outputs": [],
   "source": [
    "tests = 0\n",
    "with open(\"./mnmf/mnmf_info.txt\", \"r\") as f:\n",
    "    lines = f.readlines()\n",
    "    for line in lines:\n",
    "        if \"Test\" in line: tests += 1 "
   ]
  },
  {
   "cell_type": "code",
   "execution_count": 19,
   "id": "senior-success",
   "metadata": {},
   "outputs": [
    {
     "name": "stdout",
     "output_type": "stream",
     "text": [
      "Iteration completed in 0.13788318634033203\n",
      "Iteration completed in 0.11122369766235352\n",
      "Iteration completed in 0.1442875862121582\n",
      "Iteration completed in 0.12641429901123047\n",
      "Iteration completed in 0.17005062103271484\n",
      "Iteration completed in 0.1298518180847168\n",
      "Iteration completed in 0.1915268898010254\n",
      "Iteration completed in 0.1527571678161621\n",
      "Iteration completed in 0.22914433479309082\n",
      "Iteration completed in 0.19404339790344238\n"
     ]
    }
   ],
   "source": [
    "### Random forest classifier creation with 70 trees\n",
    "clf = RandomForestClassifier(n_estimators=70)\n",
    "f1_scores = []\n",
    "for i in range(tests):\n",
    "    start_time = time.time()\n",
    "    data = pd.read_csv(\"./mnmf/mnmf_emb_vectors\" + str(i) + \".csv\", header=None, sep=\";\").values.tolist()\n",
    "    # Input \n",
    "    X_data = list(map(lambda x: sorted(x, reverse=True), data))\n",
    "    X_data = [X_data[i] for i in range(len(X_data)) if str(i + 1) not in nodes]\n",
    "    \n",
    "    y_data = node_labels\n",
    "\n",
    "    # Split the data into training set and test set\n",
    "    X_train, X_test, y_train, y_test = train_test_split(X_data, y_data, test_size=0.2)\n",
    "\n",
    "    clf.fit(X_train, y_train)\n",
    "\n",
    "    y_pred = clf.predict(X_test)\n",
    "\n",
    "    ### Accuracy metric\n",
    "    f1_scores.append(metrics.f1_score(y_test, y_pred, average=\"micro\"))\n",
    "    print(f\"Iteration completed in {time.time() - start_time}\")"
   ]
  },
  {
   "cell_type": "code",
   "execution_count": 20,
   "id": "wooden-floor",
   "metadata": {},
   "outputs": [
    {
     "data": {
      "text/plain": [
       "count    10.000000\n",
       "mean      0.232026\n",
       "std       0.025078\n",
       "min       0.196078\n",
       "25%       0.217320\n",
       "50%       0.228758\n",
       "75%       0.246732\n",
       "max       0.274510\n",
       "dtype: float64"
      ]
     },
     "execution_count": 20,
     "metadata": {},
     "output_type": "execute_result"
    }
   ],
   "source": [
    "pd.Series(f1_scores).describe()"
   ]
  },
  {
   "cell_type": "markdown",
   "id": "interstate-nirvana",
   "metadata": {},
   "source": [
    "# Heterogeneous 1"
   ]
  },
  {
   "cell_type": "code",
   "execution_count": 32,
   "id": "cognitive-insert",
   "metadata": {},
   "outputs": [],
   "source": [
    "node_labels = []\n",
    "for bet_v in bet_l:\n",
    "    start_val = 0.0001\n",
    "    i = 1\n",
    "    while(True):\n",
    "        if bet_v <= start_val:\n",
    "            node_labels.append(i)\n",
    "            break\n",
    "        else:\n",
    "            i += 1\n",
    "            start_val *= 1.5"
   ]
  },
  {
   "cell_type": "code",
   "execution_count": 33,
   "id": "inside-banking",
   "metadata": {},
   "outputs": [
    {
     "data": {
      "text/plain": [
       "19    141\n",
       "20    124\n",
       "18    115\n",
       "21     80\n",
       "17     65\n",
       "22     62\n",
       "16     51\n",
       "15     31\n",
       "23     29\n",
       "13     13\n",
       "14     13\n",
       "12     12\n",
       "11     11\n",
       "1       7\n",
       "9       6\n",
       "24      5\n",
       "dtype: int64"
      ]
     },
     "execution_count": 33,
     "metadata": {},
     "output_type": "execute_result"
    }
   ],
   "source": [
    "pd.Series(node_labels).value_counts()"
   ]
  },
  {
   "cell_type": "markdown",
   "id": "respective-juvenile",
   "metadata": {},
   "source": [
    "### DW"
   ]
  },
  {
   "cell_type": "code",
   "execution_count": 34,
   "id": "professional-badge",
   "metadata": {},
   "outputs": [],
   "source": [
    "tests = 0\n",
    "with open(\"./dw/dw_info.txt\", \"r\") as f:\n",
    "    lines = f.readlines()\n",
    "    for line in lines:\n",
    "        if \"Test\" in line: tests += 1 "
   ]
  },
  {
   "cell_type": "code",
   "execution_count": 35,
   "id": "wanted-bridges",
   "metadata": {},
   "outputs": [
    {
     "name": "stdout",
     "output_type": "stream",
     "text": [
      "Iteration completed in 0.25851869583129883\n",
      "Iteration completed in 0.2527792453765869\n",
      "Iteration completed in 0.27379393577575684\n",
      "Iteration completed in 0.2560579776763916\n",
      "Iteration completed in 0.27258801460266113\n",
      "Iteration completed in 0.2567927837371826\n",
      "Iteration completed in 0.27837300300598145\n",
      "Iteration completed in 0.258469820022583\n",
      "Iteration completed in 0.25373268127441406\n",
      "Iteration completed in 0.24547505378723145\n",
      "Iteration completed in 0.2426302433013916\n",
      "Iteration completed in 0.2691490650177002\n",
      "Iteration completed in 0.278214693069458\n",
      "Iteration completed in 0.27318429946899414\n",
      "Iteration completed in 0.26003456115722656\n"
     ]
    }
   ],
   "source": [
    "### Random forest classifier creation with 70 trees\n",
    "clf = RandomForestClassifier(n_estimators=70)\n",
    "f1_scores = []\n",
    "for i in range(tests):\n",
    "    start_time = time.time()\n",
    "    data = pd.read_csv(\"./dw/dw_emb_vectors\" + str(i) + \".csv\", header=None, sep=\";\").values.tolist()\n",
    "    # Input \n",
    "    X_data = list(map(lambda x: sorted(x, reverse=True), data))\n",
    "    \n",
    "    X_data = [X_data[i] for i in range(len(X_data)) if str(i + 1) not in nodes]\n",
    "    \n",
    "    y_data = node_labels\n",
    "\n",
    "    # Split the data into training set and test set\n",
    "    X_train, X_test, y_train, y_test = train_test_split(X_data, y_data, test_size=0.2)\n",
    "\n",
    "    clf.fit(X_train, y_train)\n",
    "\n",
    "    y_pred = clf.predict(X_test)\n",
    "\n",
    "    ### Accuracy metric\n",
    "    f1_scores.append(metrics.f1_score(y_test, y_pred, average=\"micro\"))\n",
    "    print(f\"Iteration completed in {time.time() - start_time}\")"
   ]
  },
  {
   "cell_type": "code",
   "execution_count": 36,
   "id": "significant-washer",
   "metadata": {},
   "outputs": [
    {
     "data": {
      "text/plain": [
       "count    15.000000\n",
       "mean      0.237037\n",
       "std       0.057854\n",
       "min       0.150327\n",
       "25%       0.209150\n",
       "50%       0.222222\n",
       "75%       0.284314\n",
       "max       0.346405\n",
       "dtype: float64"
      ]
     },
     "execution_count": 36,
     "metadata": {},
     "output_type": "execute_result"
    }
   ],
   "source": [
    "pd.Series(f1_scores).describe()"
   ]
  },
  {
   "cell_type": "markdown",
   "id": "olive-grade",
   "metadata": {},
   "source": [
    "### n2v"
   ]
  },
  {
   "cell_type": "code",
   "execution_count": 37,
   "id": "small-drain",
   "metadata": {},
   "outputs": [],
   "source": [
    "tests = 0\n",
    "with open(\"./n2v/n2v_info.txt\", \"r\") as f:\n",
    "    lines = f.readlines()\n",
    "    for line in lines:\n",
    "        if \"Test\" in line: tests += 1 "
   ]
  },
  {
   "cell_type": "code",
   "execution_count": 38,
   "id": "local-rebecca",
   "metadata": {},
   "outputs": [
    {
     "name": "stdout",
     "output_type": "stream",
     "text": [
      "Iteration completed in 0.32639288902282715\n",
      "Iteration completed in 0.33856964111328125\n",
      "Iteration completed in 0.3426971435546875\n",
      "Iteration completed in 0.35269665718078613\n",
      "Iteration completed in 0.31516098976135254\n",
      "Iteration completed in 0.3475947380065918\n",
      "Iteration completed in 0.3294539451599121\n",
      "Iteration completed in 0.3276703357696533\n",
      "Iteration completed in 0.3211860656738281\n",
      "Iteration completed in 0.34106016159057617\n",
      "Iteration completed in 0.33518481254577637\n",
      "Iteration completed in 0.3564465045928955\n",
      "Iteration completed in 0.31786060333251953\n",
      "Iteration completed in 0.33294200897216797\n",
      "Iteration completed in 0.33422112464904785\n",
      "Iteration completed in 0.3557465076446533\n",
      "Iteration completed in 0.30820322036743164\n",
      "Iteration completed in 0.3455936908721924\n",
      "Iteration completed in 0.3370976448059082\n",
      "Iteration completed in 0.3516409397125244\n",
      "Iteration completed in 0.35005712509155273\n",
      "Iteration completed in 0.3590831756591797\n",
      "Iteration completed in 0.3685469627380371\n",
      "Iteration completed in 0.3508789539337158\n"
     ]
    }
   ],
   "source": [
    "### Random forest classifier creation with 70 trees\n",
    "clf = RandomForestClassifier(n_estimators=70)\n",
    "f1_scores = []\n",
    "for i in range(tests):\n",
    "    start_time = time.time()\n",
    "    data = pd.read_csv(\"./n2v/n2v_emb_vectors\" + str(i) + \".csv\", header=None, sep=\";\").values.tolist()\n",
    "    # Input \n",
    "    X_data = list(map(lambda x: sorted(x, reverse=True), data))\n",
    "    \n",
    "    X_data = [X_data[i] for i in range(len(X_data)) if str(i + 1) not in nodes]\n",
    "    \n",
    "    y_data = node_labels\n",
    "\n",
    "    # Split the data into training set and test set\n",
    "    X_train, X_test, y_train, y_test = train_test_split(X_data, y_data, test_size=0.2)\n",
    "\n",
    "    clf.fit(X_train, y_train)\n",
    "\n",
    "    y_pred = clf.predict(X_test)\n",
    "\n",
    "    ### Accuracy metric\n",
    "    f1_scores.append(metrics.f1_score(y_test, y_pred, average=\"micro\"))\n",
    "    print(f\"Iteration completed in {time.time() - start_time}\")"
   ]
  },
  {
   "cell_type": "code",
   "execution_count": 39,
   "id": "after-spiritual",
   "metadata": {},
   "outputs": [
    {
     "data": {
      "text/plain": [
       "count    24.000000\n",
       "mean      0.214597\n",
       "std       0.039624\n",
       "min       0.137255\n",
       "25%       0.189542\n",
       "50%       0.215686\n",
       "75%       0.248366\n",
       "max       0.287582\n",
       "dtype: float64"
      ]
     },
     "execution_count": 39,
     "metadata": {},
     "output_type": "execute_result"
    }
   ],
   "source": [
    "pd.Series(f1_scores).describe()"
   ]
  },
  {
   "cell_type": "markdown",
   "id": "otherwise-forth",
   "metadata": {},
   "source": [
    "### MNMF"
   ]
  },
  {
   "cell_type": "code",
   "execution_count": 40,
   "id": "bibliographic-company",
   "metadata": {},
   "outputs": [],
   "source": [
    "tests = 0\n",
    "with open(\"./mnmf/mnmf_info.txt\", \"r\") as f:\n",
    "    lines = f.readlines()\n",
    "    for line in lines:\n",
    "        if \"Test\" in line: tests += 1 "
   ]
  },
  {
   "cell_type": "code",
   "execution_count": 41,
   "id": "uniform-maker",
   "metadata": {},
   "outputs": [
    {
     "name": "stdout",
     "output_type": "stream",
     "text": [
      "Iteration completed in 0.15505003929138184\n",
      "Iteration completed in 0.10817122459411621\n",
      "Iteration completed in 0.13643169403076172\n",
      "Iteration completed in 0.1370072364807129\n",
      "Iteration completed in 0.16063690185546875\n",
      "Iteration completed in 0.12598323822021484\n",
      "Iteration completed in 0.17140674591064453\n",
      "Iteration completed in 0.16729497909545898\n",
      "Iteration completed in 0.2183825969696045\n",
      "Iteration completed in 0.174393892288208\n"
     ]
    }
   ],
   "source": [
    "### Random forest classifier creation with 70 trees\n",
    "clf = RandomForestClassifier(n_estimators=70)\n",
    "f1_scores = []\n",
    "for i in range(tests):\n",
    "    start_time = time.time()\n",
    "    data = pd.read_csv(\"./mnmf/mnmf_emb_vectors\" + str(i) + \".csv\", header=None, sep=\";\").values.tolist()\n",
    "    # Input \n",
    "    X_data = list(map(lambda x: sorted(x, reverse=True), data))\n",
    "    \n",
    "    X_data = [X_data[i] for i in range(len(X_data)) if str(i + 1) not in nodes]\n",
    "    \n",
    "    y_data = node_labels\n",
    "\n",
    "    # Split the data into training set and test set\n",
    "    X_train, X_test, y_train, y_test = train_test_split(X_data, y_data, test_size=0.2)\n",
    "\n",
    "    clf.fit(X_train, y_train)\n",
    "\n",
    "    y_pred = clf.predict(X_test)\n",
    "\n",
    "    ### Accuracy metric\n",
    "    f1_scores.append(metrics.f1_score(y_test, y_pred, average=\"micro\"))\n",
    "    print(f\"Iteration completed in {time.time() - start_time}\")"
   ]
  },
  {
   "cell_type": "code",
   "execution_count": 42,
   "id": "identified-skating",
   "metadata": {},
   "outputs": [
    {
     "data": {
      "text/plain": [
       "count    10.000000\n",
       "mean      0.184314\n",
       "std       0.014052\n",
       "min       0.150327\n",
       "25%       0.183007\n",
       "50%       0.186275\n",
       "75%       0.189542\n",
       "max       0.202614\n",
       "dtype: float64"
      ]
     },
     "execution_count": 42,
     "metadata": {},
     "output_type": "execute_result"
    }
   ],
   "source": [
    "pd.Series(f1_scores).describe()"
   ]
  },
  {
   "cell_type": "markdown",
   "id": "alternate-teacher",
   "metadata": {},
   "source": [
    "# Heterogeneous intervals 2"
   ]
  },
  {
   "cell_type": "code",
   "execution_count": 21,
   "id": "still-uncle",
   "metadata": {},
   "outputs": [],
   "source": [
    "node_labels = []\n",
    "for bet_v in bet_l:\n",
    "    ok = False\n",
    "    for i in range(1, 11):\n",
    "        if(bet_v <= 0.005 * i): \n",
    "            node_labels.append(i)\n",
    "            ok = True\n",
    "            break\n",
    "    if ok: continue\n",
    "    for i in range(1, 6):\n",
    "        if(bet_v <= 0.05 + 0.01 * i):\n",
    "            node_labels.append(10 + i)\n",
    "            ok = True\n",
    "            break\n",
    "    if ok: continue\n",
    "    if(bet_v <= 0.2):\n",
    "        node_labels.append(16)\n",
    "        continue\n",
    "    node_labels.append(17)"
   ]
  },
  {
   "cell_type": "code",
   "execution_count": 22,
   "id": "bibliographic-nelson",
   "metadata": {},
   "outputs": [
    {
     "data": {
      "text/plain": [
       "16    237\n",
       "17    202\n",
       "14     38\n",
       "12     35\n",
       "13     32\n",
       "11     30\n",
       "15     26\n",
       "1      24\n",
       "6      21\n",
       "5      20\n",
       "2      18\n",
       "9      17\n",
       "3      16\n",
       "10     15\n",
       "8      13\n",
       "7      13\n",
       "4       8\n",
       "dtype: int64"
      ]
     },
     "execution_count": 22,
     "metadata": {},
     "output_type": "execute_result"
    }
   ],
   "source": [
    "pd.Series(node_labels).value_counts()"
   ]
  },
  {
   "cell_type": "markdown",
   "id": "stopped-edward",
   "metadata": {},
   "source": [
    "### DW"
   ]
  },
  {
   "cell_type": "code",
   "execution_count": 23,
   "id": "rapid-abraham",
   "metadata": {},
   "outputs": [],
   "source": [
    "tests = 0\n",
    "with open(\"./dw/dw_info.txt\", \"r\") as f:\n",
    "    lines = f.readlines()\n",
    "    for line in lines:\n",
    "        if \"Test\" in line: tests += 1 "
   ]
  },
  {
   "cell_type": "code",
   "execution_count": 24,
   "id": "stainless-color",
   "metadata": {},
   "outputs": [
    {
     "name": "stdout",
     "output_type": "stream",
     "text": [
      "Iteration completed in 0.2525479793548584\n",
      "Iteration completed in 0.24192595481872559\n",
      "Iteration completed in 0.2614917755126953\n",
      "Iteration completed in 0.2535409927368164\n",
      "Iteration completed in 0.2695155143737793\n",
      "Iteration completed in 0.27206850051879883\n",
      "Iteration completed in 0.2527017593383789\n",
      "Iteration completed in 0.25714707374572754\n",
      "Iteration completed in 0.3582453727722168\n",
      "Iteration completed in 0.2435436248779297\n",
      "Iteration completed in 0.268873929977417\n",
      "Iteration completed in 0.2517094612121582\n",
      "Iteration completed in 0.27442383766174316\n",
      "Iteration completed in 0.2716035842895508\n",
      "Iteration completed in 0.2529287338256836\n"
     ]
    }
   ],
   "source": [
    "### Random forest classifier creation with 70 trees\n",
    "clf = RandomForestClassifier(n_estimators=70)\n",
    "f1_scores = []\n",
    "for i in range(tests):\n",
    "    start_time = time.time()\n",
    "    data = pd.read_csv(\"./dw/dw_emb_vectors\" + str(i) + \".csv\", header=None, sep=\";\").values.tolist()\n",
    "    # Input \n",
    "    X_data = list(map(lambda x: sorted(x, reverse=True), data))\n",
    "    \n",
    "    X_data = [X_data[i] for i in range(len(X_data)) if str(i + 1) not in nodes]\n",
    "    \n",
    "    y_data = node_labels\n",
    "\n",
    "    # Split the data into training set and test set\n",
    "    X_train, X_test, y_train, y_test = train_test_split(X_data, y_data, test_size=0.2)\n",
    "\n",
    "    clf.fit(X_train, y_train)\n",
    "\n",
    "    y_pred = clf.predict(X_test)\n",
    "\n",
    "    ### Accuracy metric\n",
    "    f1_scores.append(metrics.f1_score(y_test, y_pred, average=\"micro\"))\n",
    "    print(f\"Iteration completed in {time.time() - start_time}\")"
   ]
  },
  {
   "cell_type": "code",
   "execution_count": 25,
   "id": "formed-wheat",
   "metadata": {},
   "outputs": [
    {
     "data": {
      "text/plain": [
       "count    15.000000\n",
       "mean      0.409150\n",
       "std       0.045471\n",
       "min       0.346405\n",
       "25%       0.366013\n",
       "50%       0.405229\n",
       "75%       0.444444\n",
       "max       0.490196\n",
       "dtype: float64"
      ]
     },
     "execution_count": 25,
     "metadata": {},
     "output_type": "execute_result"
    }
   ],
   "source": [
    "pd.Series(f1_scores).describe()"
   ]
  },
  {
   "cell_type": "markdown",
   "id": "aggressive-reading",
   "metadata": {},
   "source": [
    "### n2v"
   ]
  },
  {
   "cell_type": "code",
   "execution_count": 26,
   "id": "surface-mechanism",
   "metadata": {},
   "outputs": [],
   "source": [
    "tests = 0\n",
    "with open(\"./n2v/n2v_info.txt\", \"r\") as f:\n",
    "    lines = f.readlines()\n",
    "    for line in lines:\n",
    "        if \"Test\" in line: tests += 1 "
   ]
  },
  {
   "cell_type": "code",
   "execution_count": 27,
   "id": "referenced-outline",
   "metadata": {},
   "outputs": [
    {
     "name": "stdout",
     "output_type": "stream",
     "text": [
      "Iteration completed in 0.32214832305908203\n",
      "Iteration completed in 0.3179197311401367\n",
      "Iteration completed in 0.33422303199768066\n",
      "Iteration completed in 0.3534564971923828\n",
      "Iteration completed in 0.3338582515716553\n",
      "Iteration completed in 0.38266777992248535\n",
      "Iteration completed in 0.3479161262512207\n",
      "Iteration completed in 0.3660857677459717\n",
      "Iteration completed in 0.3128979206085205\n",
      "Iteration completed in 0.3591783046722412\n",
      "Iteration completed in 0.3278532028198242\n",
      "Iteration completed in 0.3395109176635742\n",
      "Iteration completed in 0.31576085090637207\n",
      "Iteration completed in 0.3453257083892822\n",
      "Iteration completed in 0.3381476402282715\n",
      "Iteration completed in 0.35620737075805664\n",
      "Iteration completed in 0.3108043670654297\n",
      "Iteration completed in 0.3351771831512451\n",
      "Iteration completed in 0.3154411315917969\n",
      "Iteration completed in 0.3131139278411865\n",
      "Iteration completed in 0.3453695774078369\n",
      "Iteration completed in 0.34130167961120605\n",
      "Iteration completed in 0.3306305408477783\n",
      "Iteration completed in 0.36383557319641113\n"
     ]
    }
   ],
   "source": [
    "### Random forest classifier creation with 70 trees\n",
    "clf = RandomForestClassifier(n_estimators=70)\n",
    "f1_scores = []\n",
    "for i in range(tests):\n",
    "    start_time = time.time()\n",
    "    data = pd.read_csv(\"./n2v/n2v_emb_vectors\" + str(i) + \".csv\", header=None, sep=\";\").values.tolist()\n",
    "    # Input \n",
    "    X_data = list(map(lambda x: sorted(x, reverse=True), data))\n",
    "    \n",
    "    X_data = [X_data[i] for i in range(len(X_data)) if str(i + 1) not in nodes]\n",
    "    \n",
    "    y_data = node_labels\n",
    "\n",
    "    # Split the data into training set and test set\n",
    "    X_train, X_test, y_train, y_test = train_test_split(X_data, y_data, test_size=0.2)\n",
    "\n",
    "    clf.fit(X_train, y_train)\n",
    "\n",
    "    y_pred = clf.predict(X_test)\n",
    "\n",
    "    ### Accuracy metric\n",
    "    f1_scores.append(metrics.f1_score(y_test, y_pred, average=\"micro\"))\n",
    "    print(f\"Iteration completed in {time.time() - start_time}\")"
   ]
  },
  {
   "cell_type": "code",
   "execution_count": 28,
   "id": "pharmaceutical-gazette",
   "metadata": {},
   "outputs": [
    {
     "data": {
      "text/plain": [
       "count    24.000000\n",
       "mean      0.361111\n",
       "std       0.049823\n",
       "min       0.281046\n",
       "25%       0.336601\n",
       "50%       0.352941\n",
       "75%       0.393791\n",
       "max       0.450980\n",
       "dtype: float64"
      ]
     },
     "execution_count": 28,
     "metadata": {},
     "output_type": "execute_result"
    }
   ],
   "source": [
    "pd.Series(f1_scores).describe()"
   ]
  },
  {
   "cell_type": "markdown",
   "id": "known-triple",
   "metadata": {},
   "source": [
    "### MNMF"
   ]
  },
  {
   "cell_type": "code",
   "execution_count": 29,
   "id": "educational-plain",
   "metadata": {},
   "outputs": [],
   "source": [
    "tests = 0\n",
    "with open(\"./mnmf/mnmf_info.txt\", \"r\") as f:\n",
    "    lines = f.readlines()\n",
    "    for line in lines:\n",
    "        if \"Test\" in line: tests += 1 "
   ]
  },
  {
   "cell_type": "code",
   "execution_count": 30,
   "id": "chief-season",
   "metadata": {},
   "outputs": [
    {
     "name": "stdout",
     "output_type": "stream",
     "text": [
      "Iteration completed in 0.1311168670654297\n",
      "Iteration completed in 0.11013054847717285\n",
      "Iteration completed in 0.1433265209197998\n",
      "Iteration completed in 0.13079261779785156\n",
      "Iteration completed in 0.1483612060546875\n",
      "Iteration completed in 0.1319727897644043\n",
      "Iteration completed in 0.19405341148376465\n",
      "Iteration completed in 0.18991827964782715\n",
      "Iteration completed in 0.22824597358703613\n",
      "Iteration completed in 0.17713475227355957\n"
     ]
    }
   ],
   "source": [
    "### Random forest classifier creation with 70 trees\n",
    "clf = RandomForestClassifier(n_estimators=70)\n",
    "f1_scores = []\n",
    "for i in range(tests):\n",
    "    start_time = time.time()\n",
    "    data = pd.read_csv(\"./mnmf/mnmf_emb_vectors\" + str(i) + \".csv\", header=None, sep=\";\").values.tolist()\n",
    "    # Input \n",
    "    X_data = list(map(lambda x: sorted(x, reverse=True), data))\n",
    "    X_data = [X_data[i] for i in range(len(X_data)) if str(i + 1) not in nodes]\n",
    "    \n",
    "    y_data = node_labels\n",
    "\n",
    "    # Split the data into training set and test set\n",
    "    X_train, X_test, y_train, y_test = train_test_split(X_data, y_data, test_size=0.2)\n",
    "\n",
    "    clf.fit(X_train, y_train)\n",
    "\n",
    "    y_pred = clf.predict(X_test)\n",
    "\n",
    "    ### Accuracy metric\n",
    "    f1_scores.append(metrics.f1_score(y_test, y_pred, average=\"micro\"))\n",
    "    print(f\"Iteration completed in {time.time() - start_time}\")"
   ]
  },
  {
   "cell_type": "code",
   "execution_count": 31,
   "id": "elegant-ottawa",
   "metadata": {},
   "outputs": [
    {
     "data": {
      "text/plain": [
       "count    10.000000\n",
       "mean      0.333987\n",
       "std       0.032672\n",
       "min       0.287582\n",
       "25%       0.315359\n",
       "50%       0.326797\n",
       "75%       0.362745\n",
       "max       0.385621\n",
       "dtype: float64"
      ]
     },
     "execution_count": 31,
     "metadata": {},
     "output_type": "execute_result"
    }
   ],
   "source": [
    "pd.Series(f1_scores).describe()"
   ]
  }
 ],
 "metadata": {
  "kernelspec": {
   "display_name": "Python 3 (ipykernel)",
   "language": "python",
   "name": "python3"
  },
  "language_info": {
   "codemirror_mode": {
    "name": "ipython",
    "version": 3
   },
   "file_extension": ".py",
   "mimetype": "text/x-python",
   "name": "python",
   "nbconvert_exporter": "python",
   "pygments_lexer": "ipython3",
   "version": "3.8.13"
  }
 },
 "nbformat": 4,
 "nbformat_minor": 5
}
