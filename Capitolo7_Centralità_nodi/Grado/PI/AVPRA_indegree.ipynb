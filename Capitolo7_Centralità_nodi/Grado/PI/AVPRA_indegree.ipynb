{
 "cells": [
  {
   "cell_type": "code",
   "execution_count": 1,
   "id": "assured-producer",
   "metadata": {},
   "outputs": [],
   "source": [
    "### Import useful libraries\n",
    "import pandas as pd\n",
    "import matplotlib.pyplot as plt\n",
    "import numpy as np\n",
    "from sklearn.ensemble import RandomForestClassifier\n",
    "from sklearn.datasets import make_classification\n",
    "from sklearn.model_selection import train_test_split\n",
    "from sklearn import metrics\n",
    "import networkx as nx\n",
    "import time\n",
    "import random\n",
    "import csv\n",
    "%matplotlib inline"
   ]
  },
  {
   "cell_type": "code",
   "execution_count": 2,
   "id": "cheap-optics",
   "metadata": {},
   "outputs": [],
   "source": [
    "G = nx.read_edgelist(\"./EDGES_FILE.csv\", create_using=nx.DiGraph)\n",
    "H = nx.read_edgelist(\"./EDGES_FILE.csv\", create_using=nx.DiGraph)"
   ]
  },
  {
   "cell_type": "code",
   "execution_count": 3,
   "id": "handmade-times",
   "metadata": {},
   "outputs": [
    {
     "data": {
      "text/plain": [
       "956"
      ]
     },
     "execution_count": 3,
     "metadata": {},
     "output_type": "execute_result"
    }
   ],
   "source": [
    "len(list(G.nodes()))"
   ]
  },
  {
   "cell_type": "code",
   "execution_count": 4,
   "id": "printable-providence",
   "metadata": {},
   "outputs": [],
   "source": [
    "nodes = []\n",
    "l = list(nx.selfloop_edges(G))\n",
    "for x, _ in l:\n",
    "    if(G.degree(x) == 2): \n",
    "        G.remove_node(x)\n",
    "        nodes.append(x)"
   ]
  },
  {
   "cell_type": "code",
   "execution_count": 5,
   "id": "south-median",
   "metadata": {},
   "outputs": [
    {
     "data": {
      "text/plain": [
       "778"
      ]
     },
     "execution_count": 5,
     "metadata": {},
     "output_type": "execute_result"
    }
   ],
   "source": [
    "len(list(G.nodes()))"
   ]
  },
  {
   "cell_type": "code",
   "execution_count": 6,
   "id": "regular-charles",
   "metadata": {},
   "outputs": [
    {
     "name": "stdout",
     "output_type": "stream",
     "text": [
      "Calculated degrees in: 0.00013637542724609375\n"
     ]
    }
   ],
   "source": [
    "i_time = time.time()\n",
    "bet = G.in_degree()\n",
    "print(f\"Calculated degrees in: {time.time() - i_time}\")"
   ]
  },
  {
   "cell_type": "code",
   "execution_count": 7,
   "id": "fewer-spice",
   "metadata": {},
   "outputs": [],
   "source": [
    "bet_l = []\n",
    "max_v = max(dict(bet).values())\n",
    "min_v = min(dict(bet).values())\n",
    "for i in sorted(list(map(lambda x: int(x), list(G.nodes())))):\n",
    "    bet_norm = (bet[str(i)] - min_v) / (max_v - min_v) \n",
    "    bet_l.append(bet_norm)"
   ]
  },
  {
   "cell_type": "code",
   "execution_count": 8,
   "id": "improving-alexander",
   "metadata": {},
   "outputs": [],
   "source": [
    "obj = pd.read_pickle(\"./AVPRA_pred.pickled\")"
   ]
  },
  {
   "cell_type": "markdown",
   "id": "under-fellowship",
   "metadata": {},
   "source": [
    "### Heterogeneous pt2"
   ]
  },
  {
   "cell_type": "code",
   "execution_count": 9,
   "id": "vulnerable-finger",
   "metadata": {},
   "outputs": [],
   "source": [
    "node_labels = []\n",
    "for bet_v in bet_l:\n",
    "    start_val = 0.0001\n",
    "    i = 1\n",
    "    while(True):\n",
    "        if bet_v <= start_val:\n",
    "            node_labels.append(i)\n",
    "            break\n",
    "        else:\n",
    "            i += 1\n",
    "            start_val *= 1.5"
   ]
  },
  {
   "cell_type": "code",
   "execution_count": 10,
   "id": "essential-inspection",
   "metadata": {},
   "outputs": [
    {
     "data": {
      "text/plain": [
       "19    142\n",
       "20    124\n",
       "18    118\n",
       "21     80\n",
       "17     65\n",
       "22     62\n",
       "16     54\n",
       "15     32\n",
       "23     29\n",
       "13     15\n",
       "14     14\n",
       "12     13\n",
       "11     12\n",
       "1       7\n",
       "9       6\n",
       "24      5\n",
       "dtype: int64"
      ]
     },
     "execution_count": 10,
     "metadata": {},
     "output_type": "execute_result"
    }
   ],
   "source": [
    "pd.Series(node_labels).value_counts()"
   ]
  },
  {
   "cell_type": "code",
   "execution_count": 11,
   "id": "rolled-highland",
   "metadata": {},
   "outputs": [
    {
     "name": "stdout",
     "output_type": "stream",
     "text": [
      "Iteration completed in 0.10703802108764648\n",
      "Iteration completed in 0.12668442726135254\n",
      "Iteration completed in 0.1705608367919922\n",
      "Iteration completed in 0.18095874786376953\n",
      "Iteration completed in 0.17346835136413574\n",
      "Iteration completed in 0.17583703994750977\n",
      "Iteration completed in 0.18499970436096191\n",
      "Iteration completed in 0.1797342300415039\n",
      "Iteration completed in 0.17625641822814941\n",
      "Iteration completed in 0.16943836212158203\n",
      "Iteration completed in 0.18207216262817383\n",
      "Iteration completed in 0.17421269416809082\n",
      "Iteration completed in 0.17383146286010742\n",
      "Iteration completed in 0.17214012145996094\n",
      "Iteration completed in 0.17267584800720215\n",
      "Iteration completed in 0.16483330726623535\n",
      "Iteration completed in 0.18000483512878418\n",
      "Iteration completed in 0.16820549964904785\n",
      "Iteration completed in 0.17044281959533691\n",
      "Iteration completed in 0.1741657257080078\n",
      "Iteration completed in 0.17400574684143066\n"
     ]
    }
   ],
   "source": [
    "### Random forest classifier creation with 70 trees\n",
    "clf = RandomForestClassifier(n_estimators=70)\n",
    "f1_scores = []\n",
    "for res in obj:\n",
    "    start_time = time.time()\n",
    "    \n",
    "    X_data = list(map(lambda x: sorted(x, reverse=True), res[1]))\n",
    "    X_data = [X_data[i] for i in range(len(X_data)) if str(i + 1) not in nodes]\n",
    "    y_data = node_labels\n",
    "\n",
    "    # Split the data into training set and test set\n",
    "    X_train, X_test, y_train, y_test = train_test_split(X_data, y_data, test_size=0.2)\n",
    "\n",
    "    clf.fit(X_train, y_train)\n",
    "\n",
    "    y_pred = clf.predict(X_test)\n",
    "\n",
    "    ### Accuracy metric\n",
    "    f1_scores.append(metrics.f1_score(y_test, y_pred, average=\"micro\"))\n",
    "    print(f\"Iteration completed in {time.time() - start_time}\")"
   ]
  },
  {
   "cell_type": "markdown",
   "id": "encouraging-confidence",
   "metadata": {},
   "source": [
    "### Heterogeneous intervals"
   ]
  },
  {
   "cell_type": "code",
   "execution_count": 12,
   "id": "global-samba",
   "metadata": {},
   "outputs": [],
   "source": [
    "node_labels = []\n",
    "for bet_v in bet_l:\n",
    "    ok = False\n",
    "    for i in range(1, 11):\n",
    "        if(bet_v <= 0.005 * i): \n",
    "            node_labels.append(i)\n",
    "            ok = True\n",
    "            break\n",
    "    if ok: continue\n",
    "    for i in range(1, 6):\n",
    "        if(bet_v <= 0.05 + 0.01 * i):\n",
    "            node_labels.append(10 + i)\n",
    "            ok = True\n",
    "            break\n",
    "    if ok: continue\n",
    "    if(bet_v <= 0.2):\n",
    "        node_labels.append(16)\n",
    "        continue\n",
    "    node_labels.append(17)"
   ]
  },
  {
   "cell_type": "code",
   "execution_count": 13,
   "id": "fifteen-sleeping",
   "metadata": {},
   "outputs": [
    {
     "data": {
      "text/plain": [
       "16    238\n",
       "17    202\n",
       "14     38\n",
       "12     36\n",
       "13     34\n",
       "11     30\n",
       "15     26\n",
       "1      25\n",
       "6      22\n",
       "5      21\n",
       "2      20\n",
       "3      18\n",
       "9      17\n",
       "10     15\n",
       "8      14\n",
       "7      14\n",
       "4       8\n",
       "dtype: int64"
      ]
     },
     "execution_count": 13,
     "metadata": {},
     "output_type": "execute_result"
    }
   ],
   "source": [
    "pd.Series(node_labels).value_counts()"
   ]
  },
  {
   "cell_type": "code",
   "execution_count": 14,
   "id": "welcome-shape",
   "metadata": {},
   "outputs": [
    {
     "name": "stdout",
     "output_type": "stream",
     "text": [
      "Iteration completed in 0.09569883346557617\n",
      "Iteration completed in 0.12926697731018066\n",
      "Iteration completed in 0.16817855834960938\n",
      "Iteration completed in 0.17737388610839844\n",
      "Iteration completed in 0.17775177955627441\n",
      "Iteration completed in 0.170914888381958\n",
      "Iteration completed in 0.17280960083007812\n",
      "Iteration completed in 0.18328189849853516\n",
      "Iteration completed in 0.1775367259979248\n",
      "Iteration completed in 0.1839005947113037\n",
      "Iteration completed in 0.17738127708435059\n",
      "Iteration completed in 0.17629384994506836\n",
      "Iteration completed in 0.1766672134399414\n",
      "Iteration completed in 0.18181419372558594\n",
      "Iteration completed in 0.1723480224609375\n",
      "Iteration completed in 0.17024016380310059\n",
      "Iteration completed in 0.1717972755432129\n",
      "Iteration completed in 0.16981029510498047\n",
      "Iteration completed in 0.16955852508544922\n",
      "Iteration completed in 0.1720430850982666\n",
      "Iteration completed in 0.17127203941345215\n"
     ]
    }
   ],
   "source": [
    "### Random forest classifier creation with 70 trees\n",
    "clf = RandomForestClassifier(n_estimators=70)\n",
    "f1_scores2 = []\n",
    "for res in obj:\n",
    "    start_time = time.time()\n",
    "     \n",
    "    X_data = list(map(lambda x: sorted(x, reverse=True), res[1]))\n",
    "    X_data = [X_data[i] for i in range(len(X_data)) if str(i + 1) not in nodes]\n",
    "    y_data = node_labels\n",
    "\n",
    "    # Split the data into training set and test set\n",
    "    X_train, X_test, y_train, y_test = train_test_split(X_data, y_data, test_size=0.2)\n",
    "\n",
    "    clf.fit(X_train, y_train)\n",
    "\n",
    "    y_pred = clf.predict(X_test)\n",
    "\n",
    "    ### Accuracy metric\n",
    "    f1_scores2.append(metrics.f1_score(y_test, y_pred, average=\"micro\"))\n",
    "    print(f\"Iteration completed in {time.time() - start_time}\")"
   ]
  },
  {
   "cell_type": "code",
   "execution_count": 15,
   "id": "enclosed-mississippi",
   "metadata": {},
   "outputs": [
    {
     "data": {
      "text/plain": [
       "(0.6858974358974359, 1)"
      ]
     },
     "execution_count": 15,
     "metadata": {},
     "output_type": "execute_result"
    }
   ],
   "source": [
    "max(f1_scores), (list(range(0, 10)) + list(range(10, 32, 2)))[f1_scores.index(max(f1_scores))]"
   ]
  },
  {
   "cell_type": "code",
   "execution_count": 16,
   "id": "female-spending",
   "metadata": {},
   "outputs": [
    {
     "data": {
      "text/plain": [
       "(0.6730769230769231, 1)"
      ]
     },
     "execution_count": 16,
     "metadata": {},
     "output_type": "execute_result"
    }
   ],
   "source": [
    "max(f1_scores2), (list(range(0, 10)) + list(range(10, 32, 2)))[f1_scores2.index(max(f1_scores2))]"
   ]
  },
  {
   "cell_type": "markdown",
   "id": "equipped-cardiff",
   "metadata": {},
   "source": [
    "### Graphs creation"
   ]
  },
  {
   "cell_type": "code",
   "execution_count": 17,
   "id": "treated-citation",
   "metadata": {},
   "outputs": [],
   "source": [
    "import matplotlib\n",
    "matplotlib.use(\"pgf\")\n",
    "matplotlib.rcParams.update({\n",
    "    \"pgf.texsystem\": \"pdflatex\",\n",
    "    'font.family': 'serif',\n",
    "    'text.usetex': True,\n",
    "    'pgf.rcfonts': False\n",
    "})"
   ]
  },
  {
   "cell_type": "code",
   "execution_count": 18,
   "id": "earned-twelve",
   "metadata": {},
   "outputs": [
    {
     "name": "stderr",
     "output_type": "stream",
     "text": [
      "/tmp/ipykernel_26842/743260567.py:17: UserWarning: Matplotlib is currently using pgf, which is a non-GUI backend, so cannot show the figure.\n",
      "  plt.show()\n"
     ]
    }
   ],
   "source": [
    "plt.figure(figsize=(10, 6))\n",
    "l = list(range(0, 10)) + list(range(10, 32, 2))\n",
    "plt.plot(l, f1_scores, \"o\", label=\"F1-score intervalli [a]\", markersize=10)\n",
    "plt.plot(l, f1_scores2, \"o\", label=\"F1-score intervalli [b]\", markersize=10)\n",
    "\n",
    "plt.xlabel(\"Iterazione\", fontsize=22)\n",
    "plt.ylabel(\"F1-score\", fontsize=22)\n",
    "\n",
    "plt.xticks(fontsize=16)\n",
    "plt.yticks(fontsize=16)\n",
    "\n",
    "plt.ylim(0, 1)\n",
    "\n",
    "plt.legend(loc=\"upper right\", prop={'size': 16})\n",
    "\n",
    "plt.savefig(\"Micro_comparison_INDegree.png\", dpi=500)\n",
    "plt.show()"
   ]
  },
  {
   "cell_type": "code",
   "execution_count": 19,
   "id": "coordinated-outdoors",
   "metadata": {
    "scrolled": true
   },
   "outputs": [
    {
     "name": "stderr",
     "output_type": "stream",
     "text": [
      "/tmp/ipykernel_26842/2274445111.py:14: UserWarning: Matplotlib is currently using pgf, which is a non-GUI backend, so cannot show the figure.\n",
      "  plt.show()\n"
     ]
    }
   ],
   "source": [
    "### Degree distrib function\n",
    "serie = pd.Series(bet_l)\n",
    "plt.figure(figsize=(10, 6))\n",
    "plt.hist(serie, 100)\n",
    "plt.xlabel(\"Grado\", fontsize=22)\n",
    "plt.ylabel(\"Frequenza assoluta\", fontsize=22)\n",
    "plt.xticks(fontsize=16)\n",
    "plt.yticks(fontsize=16)\n",
    "\n",
    "plt.xlim(-0.01, 1)\n",
    "\n",
    "plt.savefig(\"Distribution_distrib_INDegree.png\", dpi=500)\n",
    "\n",
    "plt.show()"
   ]
  },
  {
   "cell_type": "code",
   "execution_count": null,
   "id": "guilty-solomon",
   "metadata": {},
   "outputs": [],
   "source": []
  }
 ],
 "metadata": {
  "kernelspec": {
   "display_name": "Python 3 (ipykernel)",
   "language": "python",
   "name": "python3"
  },
  "language_info": {
   "codemirror_mode": {
    "name": "ipython",
    "version": 3
   },
   "file_extension": ".py",
   "mimetype": "text/x-python",
   "name": "python",
   "nbconvert_exporter": "python",
   "pygments_lexer": "ipython3",
   "version": "3.8.13"
  }
 },
 "nbformat": 4,
 "nbformat_minor": 5
}
