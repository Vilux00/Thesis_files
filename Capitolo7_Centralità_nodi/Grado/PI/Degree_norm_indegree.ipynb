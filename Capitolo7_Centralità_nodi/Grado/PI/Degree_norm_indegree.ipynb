{
 "cells": [
  {
   "cell_type": "code",
   "execution_count": 1,
   "id": "genetic-communist",
   "metadata": {},
   "outputs": [],
   "source": [
    "### Import useful libraries\n",
    "import pandas as pd\n",
    "import matplotlib.pyplot as plt\n",
    "import numpy as np\n",
    "from sklearn.ensemble import RandomForestClassifier\n",
    "from sklearn.datasets import make_classification\n",
    "from sklearn.model_selection import train_test_split\n",
    "from sklearn import metrics\n",
    "import networkx as nx\n",
    "import time\n",
    "import random\n",
    "import csv\n",
    "%matplotlib inline"
   ]
  },
  {
   "cell_type": "code",
   "execution_count": 2,
   "id": "distinct-preliminary",
   "metadata": {},
   "outputs": [],
   "source": [
    "G = nx.read_edgelist(\"./EDGES_FILE.csv\", create_using=nx.DiGraph)"
   ]
  },
  {
   "cell_type": "code",
   "execution_count": 3,
   "id": "convenient-surrey",
   "metadata": {},
   "outputs": [
    {
     "data": {
      "text/plain": [
       "956"
      ]
     },
     "execution_count": 3,
     "metadata": {},
     "output_type": "execute_result"
    }
   ],
   "source": [
    "len(list(G.nodes()))"
   ]
  },
  {
   "cell_type": "code",
   "execution_count": 4,
   "id": "destroyed-defeat",
   "metadata": {},
   "outputs": [],
   "source": [
    "nodes = []\n",
    "l = list(nx.selfloop_edges(G))\n",
    "for x, _ in l:\n",
    "    if(G.degree(x) == 2): \n",
    "        G.remove_node(x)\n",
    "        nodes.append(x)"
   ]
  },
  {
   "cell_type": "code",
   "execution_count": 5,
   "id": "distinguished-result",
   "metadata": {},
   "outputs": [
    {
     "data": {
      "text/plain": [
       "778"
      ]
     },
     "execution_count": 5,
     "metadata": {},
     "output_type": "execute_result"
    }
   ],
   "source": [
    "len(G.nodes())"
   ]
  },
  {
   "cell_type": "code",
   "execution_count": 6,
   "id": "charged-excitement",
   "metadata": {},
   "outputs": [
    {
     "name": "stdout",
     "output_type": "stream",
     "text": [
      "Calculated degrees in: 7.677078247070312e-05\n"
     ]
    }
   ],
   "source": [
    "i_time = time.time()\n",
    "bet = G.in_degree()\n",
    "print(f\"Calculated degrees in: {time.time() - i_time}\")"
   ]
  },
  {
   "cell_type": "code",
   "execution_count": 7,
   "id": "authorized-means",
   "metadata": {},
   "outputs": [],
   "source": [
    "bet_l = []\n",
    "max_v = max(dict(bet).values())\n",
    "min_v = min(dict(bet).values())\n",
    "for i in sorted(list(map(lambda x: int(x), list(G.nodes())))):\n",
    "    bet_norm = (bet[str(i)] - min_v) / (max_v - min_v) \n",
    "    bet_l.append(bet_norm)"
   ]
  },
  {
   "cell_type": "markdown",
   "id": "hybrid-california",
   "metadata": {},
   "source": [
    "# 0.05 sized intervals"
   ]
  },
  {
   "cell_type": "code",
   "execution_count": 8,
   "id": "expected-creator",
   "metadata": {},
   "outputs": [],
   "source": [
    "node_labels = []\n",
    "for bet_v in bet_l:\n",
    "    for i in range(1, 21):\n",
    "        if(bet_v <= 0.05 * i): \n",
    "            node_labels.append(i)\n",
    "            break"
   ]
  },
  {
   "cell_type": "code",
   "execution_count": 9,
   "id": "colonial-argument",
   "metadata": {},
   "outputs": [
    {
     "data": {
      "text/plain": [
       "1     174\n",
       "2     164\n",
       "3     150\n",
       "4      88\n",
       "5      43\n",
       "6      39\n",
       "7      30\n",
       "8      30\n",
       "9      14\n",
       "10     12\n",
       "11      9\n",
       "12      7\n",
       "14      6\n",
       "13      4\n",
       "15      3\n",
       "20      2\n",
       "17      1\n",
       "16      1\n",
       "19      1\n",
       "dtype: int64"
      ]
     },
     "execution_count": 9,
     "metadata": {},
     "output_type": "execute_result"
    }
   ],
   "source": [
    "pd.Series(node_labels).value_counts()"
   ]
  },
  {
   "cell_type": "markdown",
   "id": "resident-celtic",
   "metadata": {},
   "source": [
    "### DW"
   ]
  },
  {
   "cell_type": "code",
   "execution_count": 10,
   "id": "suitable-eugene",
   "metadata": {},
   "outputs": [],
   "source": [
    "tests = 0\n",
    "with open(\"./dw/dw_info.txt\", \"r\") as f:\n",
    "    lines = f.readlines()\n",
    "    for line in lines:\n",
    "        if \"Test\" in line: tests += 1 "
   ]
  },
  {
   "cell_type": "code",
   "execution_count": 11,
   "id": "cheap-cylinder",
   "metadata": {},
   "outputs": [
    {
     "name": "stdout",
     "output_type": "stream",
     "text": [
      "Iteration completed in 0.299271821975708\n",
      "Iteration completed in 0.3081319332122803\n",
      "Iteration completed in 0.335813045501709\n",
      "Iteration completed in 0.3376047611236572\n",
      "Iteration completed in 0.3282322883605957\n",
      "Iteration completed in 0.3439958095550537\n",
      "Iteration completed in 0.328216552734375\n",
      "Iteration completed in 0.30904364585876465\n",
      "Iteration completed in 0.3335874080657959\n",
      "Iteration completed in 0.327103853225708\n",
      "Iteration completed in 0.3083534240722656\n",
      "Iteration completed in 0.30677270889282227\n",
      "Iteration completed in 0.3290553092956543\n",
      "Iteration completed in 0.31028223037719727\n",
      "Iteration completed in 0.3104691505432129\n"
     ]
    }
   ],
   "source": [
    "### Random forest classifier creation with 70 trees\n",
    "clf = RandomForestClassifier(n_estimators=70)\n",
    "f1_scores = []\n",
    "for i in range(tests):\n",
    "    start_time = time.time()\n",
    "    data = pd.read_csv(\"./dw/dw_emb_vectors\" + str(i) + \".csv\", header=None, sep=\";\").values.tolist()\n",
    "    # Input \n",
    "    X_data = list(map(lambda x: sorted(x, reverse=True), data))\n",
    "    X_data = [X_data[i] for i in range(len(X_data)) if str(i + 1) not in nodes]\n",
    "    \n",
    "    y_data = node_labels\n",
    "\n",
    "    # Split the data into training set and test set\n",
    "    X_train, X_test, y_train, y_test = train_test_split(X_data, y_data, test_size=0.2)\n",
    "\n",
    "    clf.fit(X_train, y_train)\n",
    "\n",
    "    y_pred = clf.predict(X_test)\n",
    "\n",
    "    ### Accuracy metric\n",
    "    f1_scores.append(metrics.f1_score(y_test, y_pred, average=\"micro\"))\n",
    "    print(f\"Iteration completed in {time.time() - start_time}\")"
   ]
  },
  {
   "cell_type": "code",
   "execution_count": 12,
   "id": "dress-central",
   "metadata": {},
   "outputs": [
    {
     "data": {
      "text/plain": [
       "count    15.000000\n",
       "mean      0.296154\n",
       "std       0.066758\n",
       "min       0.185897\n",
       "25%       0.272436\n",
       "50%       0.288462\n",
       "75%       0.317308\n",
       "max       0.455128\n",
       "dtype: float64"
      ]
     },
     "execution_count": 12,
     "metadata": {},
     "output_type": "execute_result"
    }
   ],
   "source": [
    "pd.Series(f1_scores).describe()"
   ]
  },
  {
   "cell_type": "markdown",
   "id": "cross-clone",
   "metadata": {},
   "source": [
    "### N2V"
   ]
  },
  {
   "cell_type": "code",
   "execution_count": 13,
   "id": "exact-raising",
   "metadata": {},
   "outputs": [],
   "source": [
    "tests = 0\n",
    "with open(\"./n2v/n2v_info.txt\", \"r\") as f:\n",
    "    lines = f.readlines()\n",
    "    for line in lines:\n",
    "        if \"Test\" in line: tests += 1 "
   ]
  },
  {
   "cell_type": "code",
   "execution_count": 14,
   "id": "searching-remainder",
   "metadata": {},
   "outputs": [
    {
     "name": "stdout",
     "output_type": "stream",
     "text": [
      "Iteration completed in 0.4137876033782959\n",
      "Iteration completed in 0.4276108741760254\n",
      "Iteration completed in 0.4390530586242676\n",
      "Iteration completed in 0.4363119602203369\n",
      "Iteration completed in 0.4129981994628906\n",
      "Iteration completed in 0.4849510192871094\n",
      "Iteration completed in 0.48203587532043457\n",
      "Iteration completed in 0.47290873527526855\n",
      "Iteration completed in 0.4900834560394287\n",
      "Iteration completed in 0.45853209495544434\n",
      "Iteration completed in 0.4732859134674072\n",
      "Iteration completed in 0.5066800117492676\n",
      "Iteration completed in 0.449962854385376\n",
      "Iteration completed in 0.4869508743286133\n",
      "Iteration completed in 0.45745062828063965\n",
      "Iteration completed in 0.4613313674926758\n",
      "Iteration completed in 0.4376678466796875\n",
      "Iteration completed in 0.447357177734375\n",
      "Iteration completed in 0.4313783645629883\n",
      "Iteration completed in 0.4469592571258545\n",
      "Iteration completed in 0.4098834991455078\n",
      "Iteration completed in 0.4679415225982666\n",
      "Iteration completed in 0.5456297397613525\n",
      "Iteration completed in 0.4538569450378418\n"
     ]
    }
   ],
   "source": [
    "### Random forest classifier creation with 70 trees\n",
    "clf = RandomForestClassifier(n_estimators=70)\n",
    "f1_scores = []\n",
    "for i in range(tests):\n",
    "    start_time = time.time()\n",
    "    data = pd.read_csv(\"./n2v/n2v_emb_vectors\" + str(i) + \".csv\", header=None, sep=\";\").values.tolist()\n",
    "    # Input \n",
    "    X_data = list(map(lambda x: sorted(x, reverse=True), data))\n",
    "    X_data = [X_data[i] for i in range(len(X_data)) if str(i + 1) not in nodes]\n",
    "    \n",
    "    y_data = node_labels\n",
    "\n",
    "    # Split the data into training set and test set\n",
    "    X_train, X_test, y_train, y_test = train_test_split(X_data, y_data, test_size=0.2)\n",
    "\n",
    "    clf.fit(X_train, y_train)\n",
    "\n",
    "    y_pred = clf.predict(X_test)\n",
    "\n",
    "    ### Accuracy metric\n",
    "    f1_scores.append(metrics.f1_score(y_test, y_pred, average=\"micro\"))\n",
    "    print(f\"Iteration completed in {time.time() - start_time}\")"
   ]
  },
  {
   "cell_type": "code",
   "execution_count": 15,
   "id": "configured-joseph",
   "metadata": {},
   "outputs": [
    {
     "data": {
      "text/plain": [
       "count    24.000000\n",
       "mean      0.311699\n",
       "std       0.044283\n",
       "min       0.243590\n",
       "25%       0.286859\n",
       "50%       0.301282\n",
       "75%       0.330128\n",
       "max       0.403846\n",
       "dtype: float64"
      ]
     },
     "execution_count": 15,
     "metadata": {},
     "output_type": "execute_result"
    }
   ],
   "source": [
    "pd.Series(f1_scores).describe()"
   ]
  },
  {
   "cell_type": "markdown",
   "id": "blocked-marketing",
   "metadata": {},
   "source": [
    "### MNMF"
   ]
  },
  {
   "cell_type": "code",
   "execution_count": 16,
   "id": "exceptional-mumbai",
   "metadata": {},
   "outputs": [],
   "source": [
    "tests = 0\n",
    "with open(\"./mnmf/mnmf_info.txt\", \"r\") as f:\n",
    "    lines = f.readlines()\n",
    "    for line in lines:\n",
    "        if \"Test\" in line: tests += 1 "
   ]
  },
  {
   "cell_type": "code",
   "execution_count": 17,
   "id": "senior-success",
   "metadata": {},
   "outputs": [
    {
     "name": "stdout",
     "output_type": "stream",
     "text": [
      "Iteration completed in 0.16550374031066895\n",
      "Iteration completed in 0.15032577514648438\n",
      "Iteration completed in 0.274747371673584\n",
      "Iteration completed in 0.17885255813598633\n",
      "Iteration completed in 0.19415283203125\n",
      "Iteration completed in 0.2506673336029053\n",
      "Iteration completed in 0.25342535972595215\n",
      "Iteration completed in 0.1932356357574463\n",
      "Iteration completed in 0.30477023124694824\n",
      "Iteration completed in 0.2672114372253418\n"
     ]
    }
   ],
   "source": [
    "### Random forest classifier creation with 70 trees\n",
    "clf = RandomForestClassifier(n_estimators=70)\n",
    "f1_scores = []\n",
    "for i in range(tests):\n",
    "    start_time = time.time()\n",
    "    data = pd.read_csv(\"./mnmf/mnmf_emb_vectors\" + str(i) + \".csv\", header=None, sep=\";\").values.tolist()\n",
    "    # Input \n",
    "    X_data = list(map(lambda x: sorted(x, reverse=True), data))\n",
    "    X_data = [X_data[i] for i in range(len(X_data)) if str(i + 1) not in nodes]\n",
    "    \n",
    "    y_data = node_labels\n",
    "\n",
    "    # Split the data into training set and test set\n",
    "    X_train, X_test, y_train, y_test = train_test_split(X_data, y_data, test_size=0.2)\n",
    "\n",
    "    clf.fit(X_train, y_train)\n",
    "\n",
    "    y_pred = clf.predict(X_test)\n",
    "\n",
    "    ### Accuracy metric\n",
    "    f1_scores.append(metrics.f1_score(y_test, y_pred, average=\"micro\"))\n",
    "    print(f\"Iteration completed in {time.time() - start_time}\")"
   ]
  },
  {
   "cell_type": "code",
   "execution_count": 18,
   "id": "wooden-floor",
   "metadata": {},
   "outputs": [
    {
     "data": {
      "text/plain": [
       "count    10.000000\n",
       "mean      0.256410\n",
       "std       0.037133\n",
       "min       0.211538\n",
       "25%       0.224359\n",
       "50%       0.253205\n",
       "75%       0.286859\n",
       "max       0.320513\n",
       "dtype: float64"
      ]
     },
     "execution_count": 18,
     "metadata": {},
     "output_type": "execute_result"
    }
   ],
   "source": [
    "pd.Series(f1_scores).describe()"
   ]
  },
  {
   "cell_type": "markdown",
   "id": "proof-genome",
   "metadata": {},
   "source": [
    "# Heterogeneous intervals"
   ]
  },
  {
   "cell_type": "code",
   "execution_count": 19,
   "id": "threatened-islam",
   "metadata": {},
   "outputs": [],
   "source": [
    "node_labels = []\n",
    "for bet_v in bet_l:\n",
    "    ok = False\n",
    "    for i in range(1, 11):\n",
    "        if(bet_v <= 0.005 * i): \n",
    "            node_labels.append(i)\n",
    "            ok = True\n",
    "            break\n",
    "    if ok: continue\n",
    "    for i in range(1, 6):\n",
    "        if(bet_v <= 0.05 + 0.01 * i):\n",
    "            node_labels.append(10 + i)\n",
    "            ok = True\n",
    "            break\n",
    "    if ok: continue\n",
    "    if(bet_v <= 0.2):\n",
    "        node_labels.append(16)\n",
    "        continue\n",
    "    node_labels.append(17)"
   ]
  },
  {
   "cell_type": "code",
   "execution_count": 20,
   "id": "relative-saint",
   "metadata": {},
   "outputs": [
    {
     "data": {
      "text/plain": [
       "16    238\n",
       "17    202\n",
       "14     38\n",
       "12     36\n",
       "13     34\n",
       "11     30\n",
       "15     26\n",
       "1      25\n",
       "6      22\n",
       "5      21\n",
       "2      20\n",
       "3      18\n",
       "9      17\n",
       "10     15\n",
       "8      14\n",
       "7      14\n",
       "4       8\n",
       "dtype: int64"
      ]
     },
     "execution_count": 20,
     "metadata": {},
     "output_type": "execute_result"
    }
   ],
   "source": [
    "pd.Series(node_labels).value_counts()"
   ]
  },
  {
   "cell_type": "markdown",
   "id": "perceived-encoding",
   "metadata": {},
   "source": [
    "### DW"
   ]
  },
  {
   "cell_type": "code",
   "execution_count": 21,
   "id": "clean-biography",
   "metadata": {},
   "outputs": [],
   "source": [
    "tests = 0\n",
    "with open(\"./dw/dw_info.txt\", \"r\") as f:\n",
    "    lines = f.readlines()\n",
    "    for line in lines:\n",
    "        if \"Test\" in line: tests += 1 "
   ]
  },
  {
   "cell_type": "code",
   "execution_count": 22,
   "id": "impressive-mortality",
   "metadata": {},
   "outputs": [
    {
     "name": "stdout",
     "output_type": "stream",
     "text": [
      "Iteration completed in 0.31252360343933105\n",
      "Iteration completed in 0.32099127769470215\n",
      "Iteration completed in 0.3240213394165039\n",
      "Iteration completed in 0.36571502685546875\n",
      "Iteration completed in 0.3666250705718994\n",
      "Iteration completed in 0.36431121826171875\n",
      "Iteration completed in 0.34111881256103516\n",
      "Iteration completed in 0.3543996810913086\n",
      "Iteration completed in 0.33230113983154297\n",
      "Iteration completed in 0.3613293170928955\n",
      "Iteration completed in 0.39374470710754395\n",
      "Iteration completed in 0.3287787437438965\n",
      "Iteration completed in 0.3610525131225586\n",
      "Iteration completed in 0.35608553886413574\n",
      "Iteration completed in 0.3490777015686035\n"
     ]
    }
   ],
   "source": [
    "### Random forest classifier creation with 70 trees\n",
    "clf = RandomForestClassifier(n_estimators=70)\n",
    "f1_scores = []\n",
    "for i in range(tests):\n",
    "    start_time = time.time()\n",
    "    data = pd.read_csv(\"./dw/dw_emb_vectors\" + str(i) + \".csv\", header=None, sep=\";\").values.tolist()\n",
    "    # Input \n",
    "    X_data = list(map(lambda x: sorted(x, reverse=True), data))\n",
    "    \n",
    "    X_data = [X_data[i] for i in range(len(X_data)) if str(i + 1) not in nodes]\n",
    "    \n",
    "    y_data = node_labels\n",
    "\n",
    "    # Split the data into training set and test set\n",
    "    X_train, X_test, y_train, y_test = train_test_split(X_data, y_data, test_size=0.2)\n",
    "\n",
    "    clf.fit(X_train, y_train)\n",
    "\n",
    "    y_pred = clf.predict(X_test)\n",
    "\n",
    "    ### Accuracy metric\n",
    "    f1_scores.append(metrics.f1_score(y_test, y_pred, average=\"micro\"))\n",
    "    print(f\"Iteration completed in {time.time() - start_time}\")"
   ]
  },
  {
   "cell_type": "code",
   "execution_count": 23,
   "id": "latter-transsexual",
   "metadata": {},
   "outputs": [
    {
     "data": {
      "text/plain": [
       "count    15.000000\n",
       "mean      0.407265\n",
       "std       0.045448\n",
       "min       0.346154\n",
       "25%       0.381410\n",
       "50%       0.397436\n",
       "75%       0.442308\n",
       "max       0.506410\n",
       "dtype: float64"
      ]
     },
     "execution_count": 23,
     "metadata": {},
     "output_type": "execute_result"
    }
   ],
   "source": [
    "pd.Series(f1_scores).describe()"
   ]
  },
  {
   "cell_type": "markdown",
   "id": "informed-holocaust",
   "metadata": {},
   "source": [
    "### n2v"
   ]
  },
  {
   "cell_type": "code",
   "execution_count": 24,
   "id": "invisible-proposal",
   "metadata": {},
   "outputs": [],
   "source": [
    "tests = 0\n",
    "with open(\"./n2v/n2v_info.txt\", \"r\") as f:\n",
    "    lines = f.readlines()\n",
    "    for line in lines:\n",
    "        if \"Test\" in line: tests += 1 "
   ]
  },
  {
   "cell_type": "code",
   "execution_count": 25,
   "id": "irish-heating",
   "metadata": {},
   "outputs": [
    {
     "name": "stdout",
     "output_type": "stream",
     "text": [
      "Iteration completed in 0.4228665828704834\n",
      "Iteration completed in 0.42139267921447754\n",
      "Iteration completed in 0.45281553268432617\n",
      "Iteration completed in 0.4978973865509033\n",
      "Iteration completed in 0.4205920696258545\n",
      "Iteration completed in 0.4498732089996338\n",
      "Iteration completed in 0.42426466941833496\n",
      "Iteration completed in 0.4533689022064209\n",
      "Iteration completed in 0.39727282524108887\n",
      "Iteration completed in 0.4074556827545166\n",
      "Iteration completed in 0.45449113845825195\n",
      "Iteration completed in 0.45210766792297363\n",
      "Iteration completed in 0.43412351608276367\n",
      "Iteration completed in 0.5476129055023193\n",
      "Iteration completed in 0.4880185127258301\n",
      "Iteration completed in 0.4558396339416504\n",
      "Iteration completed in 0.40175414085388184\n",
      "Iteration completed in 0.4328458309173584\n",
      "Iteration completed in 0.4191281795501709\n",
      "Iteration completed in 0.4338982105255127\n",
      "Iteration completed in 0.3952598571777344\n",
      "Iteration completed in 0.44637203216552734\n",
      "Iteration completed in 0.40953683853149414\n",
      "Iteration completed in 0.43152546882629395\n"
     ]
    }
   ],
   "source": [
    "### Random forest classifier creation with 70 trees\n",
    "clf = RandomForestClassifier(n_estimators=70)\n",
    "f1_scores = []\n",
    "for i in range(tests):\n",
    "    start_time = time.time()\n",
    "    data = pd.read_csv(\"./n2v/n2v_emb_vectors\" + str(i) + \".csv\", header=None, sep=\";\").values.tolist()\n",
    "    # Input \n",
    "    X_data = list(map(lambda x: sorted(x, reverse=True), data))\n",
    "    \n",
    "    X_data = [X_data[i] for i in range(len(X_data)) if str(i + 1) not in nodes]\n",
    "    \n",
    "    y_data = node_labels\n",
    "\n",
    "    # Split the data into training set and test set\n",
    "    X_train, X_test, y_train, y_test = train_test_split(X_data, y_data, test_size=0.2)\n",
    "\n",
    "    clf.fit(X_train, y_train)\n",
    "\n",
    "    y_pred = clf.predict(X_test)\n",
    "\n",
    "    ### Accuracy metric\n",
    "    f1_scores.append(metrics.f1_score(y_test, y_pred, average=\"micro\"))\n",
    "    print(f\"Iteration completed in {time.time() - start_time}\")"
   ]
  },
  {
   "cell_type": "code",
   "execution_count": 26,
   "id": "hollywood-solid",
   "metadata": {},
   "outputs": [
    {
     "data": {
      "text/plain": [
       "count    24.000000\n",
       "mean      0.351763\n",
       "std       0.038290\n",
       "min       0.301282\n",
       "25%       0.323718\n",
       "50%       0.346154\n",
       "75%       0.373397\n",
       "max       0.423077\n",
       "dtype: float64"
      ]
     },
     "execution_count": 26,
     "metadata": {},
     "output_type": "execute_result"
    }
   ],
   "source": [
    "pd.Series(f1_scores).describe()"
   ]
  },
  {
   "cell_type": "markdown",
   "id": "suitable-antibody",
   "metadata": {},
   "source": [
    "### MNMF"
   ]
  },
  {
   "cell_type": "code",
   "execution_count": 27,
   "id": "cardiovascular-linux",
   "metadata": {},
   "outputs": [],
   "source": [
    "tests = 0\n",
    "with open(\"./mnmf/mnmf_info.txt\", \"r\") as f:\n",
    "    lines = f.readlines()\n",
    "    for line in lines:\n",
    "        if \"Test\" in line: tests += 1 "
   ]
  },
  {
   "cell_type": "code",
   "execution_count": 28,
   "id": "square-error",
   "metadata": {},
   "outputs": [
    {
     "name": "stdout",
     "output_type": "stream",
     "text": [
      "Iteration completed in 0.14519023895263672\n",
      "Iteration completed in 0.12642455101013184\n",
      "Iteration completed in 0.17573833465576172\n",
      "Iteration completed in 0.15310192108154297\n",
      "Iteration completed in 0.17406058311462402\n",
      "Iteration completed in 0.15443634986877441\n",
      "Iteration completed in 0.20692801475524902\n",
      "Iteration completed in 0.16611409187316895\n",
      "Iteration completed in 0.2604343891143799\n",
      "Iteration completed in 0.20990395545959473\n"
     ]
    }
   ],
   "source": [
    "### Random forest classifier creation with 70 trees\n",
    "clf = RandomForestClassifier(n_estimators=70)\n",
    "f1_scores = []\n",
    "for i in range(tests):\n",
    "    start_time = time.time()\n",
    "    data = pd.read_csv(\"./mnmf/mnmf_emb_vectors\" + str(i) + \".csv\", header=None, sep=\";\").values.tolist()\n",
    "    # Input \n",
    "    X_data = list(map(lambda x: sorted(x, reverse=True), data))\n",
    "    X_data = [X_data[i] for i in range(len(X_data)) if str(i + 1) not in nodes]\n",
    "    \n",
    "    y_data = node_labels\n",
    "\n",
    "    # Split the data into training set and test set\n",
    "    X_train, X_test, y_train, y_test = train_test_split(X_data, y_data, test_size=0.2)\n",
    "\n",
    "    clf.fit(X_train, y_train)\n",
    "\n",
    "    y_pred = clf.predict(X_test)\n",
    "\n",
    "    ### Accuracy metric\n",
    "    f1_scores.append(metrics.f1_score(y_test, y_pred, average=\"micro\"))\n",
    "    print(f\"Iteration completed in {time.time() - start_time}\")"
   ]
  },
  {
   "cell_type": "code",
   "execution_count": 29,
   "id": "specialized-cuisine",
   "metadata": {},
   "outputs": [
    {
     "data": {
      "text/plain": [
       "count    10.000000\n",
       "mean      0.333974\n",
       "std       0.033026\n",
       "min       0.282051\n",
       "25%       0.307692\n",
       "50%       0.339744\n",
       "75%       0.355769\n",
       "max       0.384615\n",
       "dtype: float64"
      ]
     },
     "execution_count": 29,
     "metadata": {},
     "output_type": "execute_result"
    }
   ],
   "source": [
    "pd.Series(f1_scores).describe()"
   ]
  },
  {
   "cell_type": "markdown",
   "id": "interstate-nirvana",
   "metadata": {},
   "source": [
    "# Heterogeneous pt2"
   ]
  },
  {
   "cell_type": "code",
   "execution_count": 30,
   "id": "cognitive-insert",
   "metadata": {},
   "outputs": [],
   "source": [
    "node_labels = []\n",
    "for bet_v in bet_l:\n",
    "    start_val = 0.0001\n",
    "    i = 1\n",
    "    while(True):\n",
    "        if bet_v <= start_val:\n",
    "            node_labels.append(i)\n",
    "            break\n",
    "        else:\n",
    "            i += 1\n",
    "            start_val *= 1.5"
   ]
  },
  {
   "cell_type": "code",
   "execution_count": 31,
   "id": "inside-banking",
   "metadata": {},
   "outputs": [
    {
     "data": {
      "text/plain": [
       "19    142\n",
       "20    124\n",
       "18    118\n",
       "21     80\n",
       "17     65\n",
       "22     62\n",
       "16     54\n",
       "15     32\n",
       "23     29\n",
       "13     15\n",
       "14     14\n",
       "12     13\n",
       "11     12\n",
       "1       7\n",
       "9       6\n",
       "24      5\n",
       "dtype: int64"
      ]
     },
     "execution_count": 31,
     "metadata": {},
     "output_type": "execute_result"
    }
   ],
   "source": [
    "pd.Series(node_labels).value_counts()"
   ]
  },
  {
   "cell_type": "markdown",
   "id": "respective-juvenile",
   "metadata": {},
   "source": [
    "### DW"
   ]
  },
  {
   "cell_type": "code",
   "execution_count": 32,
   "id": "professional-badge",
   "metadata": {},
   "outputs": [],
   "source": [
    "tests = 0\n",
    "with open(\"./dw/dw_info.txt\", \"r\") as f:\n",
    "    lines = f.readlines()\n",
    "    for line in lines:\n",
    "        if \"Test\" in line: tests += 1 "
   ]
  },
  {
   "cell_type": "code",
   "execution_count": 33,
   "id": "wanted-bridges",
   "metadata": {},
   "outputs": [
    {
     "name": "stdout",
     "output_type": "stream",
     "text": [
      "Iteration completed in 0.2849886417388916\n",
      "Iteration completed in 0.2868366241455078\n",
      "Iteration completed in 0.30054140090942383\n",
      "Iteration completed in 0.2961709499359131\n",
      "Iteration completed in 0.2938823699951172\n",
      "Iteration completed in 0.2963268756866455\n",
      "Iteration completed in 0.29787278175354004\n",
      "Iteration completed in 0.2833685874938965\n",
      "Iteration completed in 0.29441356658935547\n",
      "Iteration completed in 0.29135990142822266\n",
      "Iteration completed in 0.28586864471435547\n",
      "Iteration completed in 0.27988147735595703\n",
      "Iteration completed in 0.29894351959228516\n",
      "Iteration completed in 0.2904801368713379\n",
      "Iteration completed in 0.2849128246307373\n"
     ]
    }
   ],
   "source": [
    "### Random forest classifier creation with 70 trees\n",
    "clf = RandomForestClassifier(n_estimators=70)\n",
    "f1_scores = []\n",
    "for i in range(tests):\n",
    "    start_time = time.time()\n",
    "    data = pd.read_csv(\"./dw/dw_emb_vectors\" + str(i) + \".csv\", header=None, sep=\";\").values.tolist()\n",
    "    # Input \n",
    "    X_data = list(map(lambda x: sorted(x, reverse=True), data))\n",
    "    \n",
    "    X_data = [X_data[i] for i in range(len(X_data)) if str(i + 1) not in nodes]\n",
    "    \n",
    "    y_data = node_labels\n",
    "\n",
    "    # Split the data into training set and test set\n",
    "    X_train, X_test, y_train, y_test = train_test_split(X_data, y_data, test_size=0.2)\n",
    "\n",
    "    clf.fit(X_train, y_train)\n",
    "\n",
    "    y_pred = clf.predict(X_test)\n",
    "\n",
    "    ### Accuracy metric\n",
    "    f1_scores.append(metrics.f1_score(y_test, y_pred, average=\"micro\"))\n",
    "    print(f\"Iteration completed in {time.time() - start_time}\")"
   ]
  },
  {
   "cell_type": "code",
   "execution_count": 34,
   "id": "significant-washer",
   "metadata": {},
   "outputs": [
    {
     "data": {
      "text/plain": [
       "count    15.000000\n",
       "mean      0.229915\n",
       "std       0.048023\n",
       "min       0.160256\n",
       "25%       0.198718\n",
       "50%       0.217949\n",
       "75%       0.246795\n",
       "max       0.326923\n",
       "dtype: float64"
      ]
     },
     "execution_count": 34,
     "metadata": {},
     "output_type": "execute_result"
    }
   ],
   "source": [
    "pd.Series(f1_scores).describe()"
   ]
  },
  {
   "cell_type": "markdown",
   "id": "olive-grade",
   "metadata": {},
   "source": [
    "### n2v"
   ]
  },
  {
   "cell_type": "code",
   "execution_count": 35,
   "id": "small-drain",
   "metadata": {},
   "outputs": [],
   "source": [
    "tests = 0\n",
    "with open(\"./n2v/n2v_info.txt\", \"r\") as f:\n",
    "    lines = f.readlines()\n",
    "    for line in lines:\n",
    "        if \"Test\" in line: tests += 1 "
   ]
  },
  {
   "cell_type": "code",
   "execution_count": 36,
   "id": "local-rebecca",
   "metadata": {},
   "outputs": [
    {
     "name": "stdout",
     "output_type": "stream",
     "text": [
      "Iteration completed in 0.3736896514892578\n",
      "Iteration completed in 0.3753538131713867\n",
      "Iteration completed in 0.39009952545166016\n",
      "Iteration completed in 0.40202879905700684\n",
      "Iteration completed in 0.35700535774230957\n",
      "Iteration completed in 0.3771805763244629\n",
      "Iteration completed in 0.3899869918823242\n",
      "Iteration completed in 0.3930702209472656\n",
      "Iteration completed in 0.36548900604248047\n",
      "Iteration completed in 0.3800697326660156\n",
      "Iteration completed in 0.3815004825592041\n",
      "Iteration completed in 0.42017459869384766\n",
      "Iteration completed in 0.3629329204559326\n",
      "Iteration completed in 0.4016141891479492\n",
      "Iteration completed in 0.3994274139404297\n",
      "Iteration completed in 0.40811848640441895\n",
      "Iteration completed in 0.3684062957763672\n",
      "Iteration completed in 0.3872945308685303\n",
      "Iteration completed in 0.3701956272125244\n",
      "Iteration completed in 0.3710932731628418\n",
      "Iteration completed in 0.3557734489440918\n",
      "Iteration completed in 0.3712937831878662\n",
      "Iteration completed in 0.38619542121887207\n",
      "Iteration completed in 0.3912818431854248\n"
     ]
    }
   ],
   "source": [
    "### Random forest classifier creation with 70 trees\n",
    "clf = RandomForestClassifier(n_estimators=70)\n",
    "f1_scores = []\n",
    "for i in range(tests):\n",
    "    start_time = time.time()\n",
    "    data = pd.read_csv(\"./n2v/n2v_emb_vectors\" + str(i) + \".csv\", header=None, sep=\";\").values.tolist()\n",
    "    # Input \n",
    "    X_data = list(map(lambda x: sorted(x, reverse=True), data))\n",
    "    \n",
    "    X_data = [X_data[i] for i in range(len(X_data)) if str(i + 1) not in nodes]\n",
    "    \n",
    "    y_data = node_labels\n",
    "\n",
    "    # Split the data into training set and test set\n",
    "    X_train, X_test, y_train, y_test = train_test_split(X_data, y_data, test_size=0.2)\n",
    "\n",
    "    clf.fit(X_train, y_train)\n",
    "\n",
    "    y_pred = clf.predict(X_test)\n",
    "\n",
    "    ### Accuracy metric\n",
    "    f1_scores.append(metrics.f1_score(y_test, y_pred, average=\"micro\"))\n",
    "    print(f\"Iteration completed in {time.time() - start_time}\")"
   ]
  },
  {
   "cell_type": "code",
   "execution_count": 37,
   "id": "after-spiritual",
   "metadata": {},
   "outputs": [
    {
     "data": {
      "text/plain": [
       "count    24.000000\n",
       "mean      0.202457\n",
       "std       0.033170\n",
       "min       0.141026\n",
       "25%       0.173077\n",
       "50%       0.208333\n",
       "75%       0.225962\n",
       "max       0.256410\n",
       "dtype: float64"
      ]
     },
     "execution_count": 37,
     "metadata": {},
     "output_type": "execute_result"
    }
   ],
   "source": [
    "pd.Series(f1_scores).describe()"
   ]
  },
  {
   "cell_type": "markdown",
   "id": "otherwise-forth",
   "metadata": {},
   "source": [
    "### MNMF"
   ]
  },
  {
   "cell_type": "code",
   "execution_count": 38,
   "id": "bibliographic-company",
   "metadata": {},
   "outputs": [],
   "source": [
    "tests = 0\n",
    "with open(\"./mnmf/mnmf_info.txt\", \"r\") as f:\n",
    "    lines = f.readlines()\n",
    "    for line in lines:\n",
    "        if \"Test\" in line: tests += 1 "
   ]
  },
  {
   "cell_type": "code",
   "execution_count": 39,
   "id": "uniform-maker",
   "metadata": {},
   "outputs": [
    {
     "name": "stdout",
     "output_type": "stream",
     "text": [
      "Iteration completed in 0.14148449897766113\n",
      "Iteration completed in 0.12594985961914062\n",
      "Iteration completed in 0.16599416732788086\n",
      "Iteration completed in 0.16077661514282227\n",
      "Iteration completed in 0.17867159843444824\n",
      "Iteration completed in 0.1594088077545166\n",
      "Iteration completed in 0.20627856254577637\n",
      "Iteration completed in 0.16901683807373047\n",
      "Iteration completed in 0.26548266410827637\n",
      "Iteration completed in 0.2748727798461914\n"
     ]
    }
   ],
   "source": [
    "### Random forest classifier creation with 70 trees\n",
    "clf = RandomForestClassifier(n_estimators=70)\n",
    "f1_scores = []\n",
    "for i in range(tests):\n",
    "    start_time = time.time()\n",
    "    data = pd.read_csv(\"./mnmf/mnmf_emb_vectors\" + str(i) + \".csv\", header=None, sep=\";\").values.tolist()\n",
    "    # Input \n",
    "    X_data = list(map(lambda x: sorted(x, reverse=True), data))\n",
    "    \n",
    "    X_data = [X_data[i] for i in range(len(X_data)) if str(i + 1) not in nodes]\n",
    "    \n",
    "    y_data = node_labels\n",
    "\n",
    "    # Split the data into training set and test set\n",
    "    X_train, X_test, y_train, y_test = train_test_split(X_data, y_data, test_size=0.2)\n",
    "\n",
    "    clf.fit(X_train, y_train)\n",
    "\n",
    "    y_pred = clf.predict(X_test)\n",
    "\n",
    "    ### Accuracy metric\n",
    "    f1_scores.append(metrics.f1_score(y_test, y_pred, average=\"micro\"))\n",
    "    print(f\"Iteration completed in {time.time() - start_time}\")"
   ]
  },
  {
   "cell_type": "code",
   "execution_count": 40,
   "id": "identified-skating",
   "metadata": {},
   "outputs": [
    {
     "data": {
      "text/plain": [
       "count    10.000000\n",
       "mean      0.178205\n",
       "std       0.036237\n",
       "min       0.115385\n",
       "25%       0.157051\n",
       "50%       0.176282\n",
       "75%       0.200321\n",
       "max       0.243590\n",
       "dtype: float64"
      ]
     },
     "execution_count": 40,
     "metadata": {},
     "output_type": "execute_result"
    }
   ],
   "source": [
    "pd.Series(f1_scores).describe()"
   ]
  },
  {
   "cell_type": "code",
   "execution_count": null,
   "id": "gorgeous-shark",
   "metadata": {},
   "outputs": [],
   "source": []
  }
 ],
 "metadata": {
  "kernelspec": {
   "display_name": "Python 3 (ipykernel)",
   "language": "python",
   "name": "python3"
  },
  "language_info": {
   "codemirror_mode": {
    "name": "ipython",
    "version": 3
   },
   "file_extension": ".py",
   "mimetype": "text/x-python",
   "name": "python",
   "nbconvert_exporter": "python",
   "pygments_lexer": "ipython3",
   "version": "3.8.13"
  }
 },
 "nbformat": 4,
 "nbformat_minor": 5
}
