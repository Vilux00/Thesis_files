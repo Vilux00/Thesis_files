{
 "cells": [
  {
   "cell_type": "code",
   "execution_count": 1,
   "id": "genetic-communist",
   "metadata": {},
   "outputs": [],
   "source": [
    "### Import useful libraries\n",
    "import pandas as pd\n",
    "import matplotlib.pyplot as plt\n",
    "import numpy as np\n",
    "from sklearn.ensemble import RandomForestClassifier\n",
    "from sklearn.datasets import make_classification\n",
    "from sklearn.model_selection import train_test_split\n",
    "from sklearn import metrics\n",
    "import networkx as nx\n",
    "import time\n",
    "import random\n",
    "import csv\n",
    "%matplotlib inline"
   ]
  },
  {
   "cell_type": "code",
   "execution_count": 2,
   "id": "distinct-preliminary",
   "metadata": {},
   "outputs": [],
   "source": [
    "G = nx.read_edgelist(\"./EDGES_FILE.csv\", create_using=nx.DiGraph)\n",
    "H = nx.read_edgelist(\"./EDGES_FILE.csv\", create_using=nx.DiGraph)"
   ]
  },
  {
   "cell_type": "code",
   "execution_count": 3,
   "id": "convenient-surrey",
   "metadata": {},
   "outputs": [
    {
     "data": {
      "text/plain": [
       "956"
      ]
     },
     "execution_count": 3,
     "metadata": {},
     "output_type": "execute_result"
    }
   ],
   "source": [
    "len(list(G.nodes()))"
   ]
  },
  {
   "cell_type": "code",
   "execution_count": 4,
   "id": "destroyed-defeat",
   "metadata": {},
   "outputs": [],
   "source": [
    "nodes = []\n",
    "for (x, y) in G.edges():\n",
    "    if(x == y):\n",
    "        if(H.has_node(x)):\n",
    "            nodes.append(x)\n",
    "            H.remove_node(x)"
   ]
  },
  {
   "cell_type": "code",
   "execution_count": 5,
   "id": "million-potential",
   "metadata": {},
   "outputs": [
    {
     "data": {
      "text/plain": [
       "765"
      ]
     },
     "execution_count": 5,
     "metadata": {},
     "output_type": "execute_result"
    }
   ],
   "source": [
    "len(list(H.nodes()))"
   ]
  },
  {
   "cell_type": "code",
   "execution_count": 6,
   "id": "burning-anxiety",
   "metadata": {},
   "outputs": [
    {
     "data": {
      "text/plain": [
       "True"
      ]
     },
     "execution_count": 6,
     "metadata": {},
     "output_type": "execute_result"
    }
   ],
   "source": [
    "G = H\n",
    "nx.is_weakly_connected(G)"
   ]
  },
  {
   "cell_type": "code",
   "execution_count": 7,
   "id": "charged-excitement",
   "metadata": {},
   "outputs": [
    {
     "name": "stdout",
     "output_type": "stream",
     "text": [
      "Calculated scores in: 0.0003108978271484375\n"
     ]
    }
   ],
   "source": [
    "i_time = time.time()\n",
    "bet = nx.degree(G)\n",
    "print(f\"Calculated scores in: {time.time() - i_time}\")"
   ]
  },
  {
   "cell_type": "code",
   "execution_count": 8,
   "id": "authorized-means",
   "metadata": {},
   "outputs": [],
   "source": [
    "bet_l = []\n",
    "max_v = max(dict(bet).values())\n",
    "min_v = min(dict(bet).values())\n",
    "for i in sorted(list(map(lambda x: int(x), list(G.nodes())))):\n",
    "    bet_norm = (bet[str(i)] - min_v) / (max_v - min_v) \n",
    "    bet_l.append(bet_norm)"
   ]
  },
  {
   "cell_type": "markdown",
   "id": "hybrid-california",
   "metadata": {},
   "source": [
    "# 0.05 sized intervals"
   ]
  },
  {
   "cell_type": "code",
   "execution_count": 9,
   "id": "expected-creator",
   "metadata": {},
   "outputs": [],
   "source": [
    "node_labels = []\n",
    "for bet_v in bet_l:\n",
    "    for i in range(1, 21):\n",
    "        if(bet_v <= 0.05 * i): \n",
    "            node_labels.append(i)\n",
    "            break"
   ]
  },
  {
   "cell_type": "code",
   "execution_count": 10,
   "id": "colonial-argument",
   "metadata": {},
   "outputs": [
    {
     "data": {
      "text/plain": [
       "3     97\n",
       "2     90\n",
       "1     88\n",
       "4     81\n",
       "6     68\n",
       "5     65\n",
       "7     56\n",
       "8     49\n",
       "9     46\n",
       "11    28\n",
       "10    26\n",
       "13    19\n",
       "12    19\n",
       "14    10\n",
       "17     7\n",
       "16     6\n",
       "15     4\n",
       "20     3\n",
       "18     2\n",
       "19     1\n",
       "dtype: int64"
      ]
     },
     "execution_count": 10,
     "metadata": {},
     "output_type": "execute_result"
    }
   ],
   "source": [
    "pd.Series(node_labels).value_counts()"
   ]
  },
  {
   "cell_type": "markdown",
   "id": "resident-celtic",
   "metadata": {},
   "source": [
    "### DW"
   ]
  },
  {
   "cell_type": "code",
   "execution_count": 11,
   "id": "suitable-eugene",
   "metadata": {},
   "outputs": [],
   "source": [
    "tests = 0\n",
    "with open(\"./dw/dw_info.txt\", \"r\") as f:\n",
    "    lines = f.readlines()\n",
    "    for line in lines:\n",
    "        if \"Test\" in line: tests += 1 "
   ]
  },
  {
   "cell_type": "code",
   "execution_count": 12,
   "id": "cheap-cylinder",
   "metadata": {},
   "outputs": [
    {
     "name": "stdout",
     "output_type": "stream",
     "text": [
      "Iteration completed in 0.27218103408813477\n",
      "Iteration completed in 0.28243541717529297\n",
      "Iteration completed in 0.29552316665649414\n",
      "Iteration completed in 0.2915635108947754\n",
      "Iteration completed in 0.28584885597229004\n",
      "Iteration completed in 0.28977131843566895\n",
      "Iteration completed in 0.28878188133239746\n",
      "Iteration completed in 0.26953911781311035\n",
      "Iteration completed in 0.299330472946167\n",
      "Iteration completed in 0.2744557857513428\n",
      "Iteration completed in 0.2697122097015381\n",
      "Iteration completed in 0.2557241916656494\n",
      "Iteration completed in 0.29045844078063965\n",
      "Iteration completed in 0.27034568786621094\n",
      "Iteration completed in 0.2603938579559326\n"
     ]
    }
   ],
   "source": [
    "### Random forest classifier creation with 70 trees\n",
    "clf = RandomForestClassifier(n_estimators=70)\n",
    "f1_scores = []\n",
    "for i in range(tests):\n",
    "    start_time = time.time()\n",
    "    data = pd.read_csv(\"./dw/dw_emb_vectors\" + str(i) + \".csv\", header=None, sep=\";\").values.tolist()\n",
    "    # Input \n",
    "    X_data = list(map(lambda x: sorted(x, reverse=True), data))\n",
    "    X_data = [X_data[i] for i in range(len(X_data)) if str(i + 1) not in nodes]\n",
    "    \n",
    "    y_data = node_labels\n",
    "\n",
    "    # Split the data into training set and test set\n",
    "    X_train, X_test, y_train, y_test = train_test_split(X_data, y_data, test_size=0.2)\n",
    "\n",
    "    clf.fit(X_train, y_train)\n",
    "\n",
    "    y_pred = clf.predict(X_test)\n",
    "\n",
    "    ### Accuracy metric\n",
    "    f1_scores.append(metrics.f1_score(y_test, y_pred, average=\"micro\"))\n",
    "    print(f\"Iteration completed in {time.time() - start_time}\")"
   ]
  },
  {
   "cell_type": "code",
   "execution_count": 13,
   "id": "dress-central",
   "metadata": {},
   "outputs": [
    {
     "data": {
      "text/plain": [
       "count    15.000000\n",
       "mean      0.168192\n",
       "std       0.033552\n",
       "min       0.098039\n",
       "25%       0.156863\n",
       "50%       0.163399\n",
       "75%       0.179739\n",
       "max       0.235294\n",
       "dtype: float64"
      ]
     },
     "execution_count": 13,
     "metadata": {},
     "output_type": "execute_result"
    }
   ],
   "source": [
    "pd.Series(f1_scores).describe()"
   ]
  },
  {
   "cell_type": "markdown",
   "id": "cross-clone",
   "metadata": {},
   "source": [
    "### N2V"
   ]
  },
  {
   "cell_type": "code",
   "execution_count": 14,
   "id": "exact-raising",
   "metadata": {},
   "outputs": [],
   "source": [
    "tests = 0\n",
    "with open(\"./n2v/n2v_info.txt\", \"r\") as f:\n",
    "    lines = f.readlines()\n",
    "    for line in lines:\n",
    "        if \"Test\" in line: tests += 1 "
   ]
  },
  {
   "cell_type": "code",
   "execution_count": 15,
   "id": "searching-remainder",
   "metadata": {},
   "outputs": [
    {
     "name": "stdout",
     "output_type": "stream",
     "text": [
      "Iteration completed in 0.3638577461242676\n",
      "Iteration completed in 0.3693981170654297\n",
      "Iteration completed in 0.3589906692504883\n",
      "Iteration completed in 0.3762199878692627\n",
      "Iteration completed in 0.332674503326416\n",
      "Iteration completed in 0.3658132553100586\n",
      "Iteration completed in 0.4037601947784424\n",
      "Iteration completed in 0.42047572135925293\n",
      "Iteration completed in 0.3996269702911377\n",
      "Iteration completed in 0.39478135108947754\n",
      "Iteration completed in 0.404498815536499\n",
      "Iteration completed in 0.4113287925720215\n",
      "Iteration completed in 0.3621945381164551\n",
      "Iteration completed in 0.3419218063354492\n",
      "Iteration completed in 0.4101681709289551\n",
      "Iteration completed in 0.3806033134460449\n",
      "Iteration completed in 0.3316948413848877\n",
      "Iteration completed in 0.3601093292236328\n",
      "Iteration completed in 0.38886380195617676\n",
      "Iteration completed in 0.41223692893981934\n",
      "Iteration completed in 0.3679540157318115\n",
      "Iteration completed in 0.46564292907714844\n",
      "Iteration completed in 0.38555288314819336\n",
      "Iteration completed in 0.4193301200866699\n"
     ]
    }
   ],
   "source": [
    "### Random forest classifier creation with 70 trees\n",
    "clf = RandomForestClassifier(n_estimators=70)\n",
    "f1_scores = []\n",
    "for i in range(tests):\n",
    "    start_time = time.time()\n",
    "    data = pd.read_csv(\"./n2v/n2v_emb_vectors\" + str(i) + \".csv\", header=None, sep=\";\").values.tolist()\n",
    "    # Input \n",
    "    X_data = list(map(lambda x: sorted(x, reverse=True), data))\n",
    "    X_data = [X_data[i] for i in range(len(X_data)) if str(i + 1) not in nodes]\n",
    "    \n",
    "    y_data = node_labels\n",
    "\n",
    "    # Split the data into training set and test set\n",
    "    X_train, X_test, y_train, y_test = train_test_split(X_data, y_data, test_size=0.2)\n",
    "\n",
    "    clf.fit(X_train, y_train)\n",
    "\n",
    "    y_pred = clf.predict(X_test)\n",
    "\n",
    "    ### Accuracy metric\n",
    "    f1_scores.append(metrics.f1_score(y_test, y_pred, average=\"micro\"))\n",
    "    print(f\"Iteration completed in {time.time() - start_time}\")"
   ]
  },
  {
   "cell_type": "code",
   "execution_count": 16,
   "id": "configured-joseph",
   "metadata": {},
   "outputs": [
    {
     "data": {
      "text/plain": [
       "count    24.000000\n",
       "mean      0.152778\n",
       "std       0.031717\n",
       "min       0.084967\n",
       "25%       0.137255\n",
       "50%       0.150327\n",
       "75%       0.169935\n",
       "max       0.228758\n",
       "dtype: float64"
      ]
     },
     "execution_count": 16,
     "metadata": {},
     "output_type": "execute_result"
    }
   ],
   "source": [
    "pd.Series(f1_scores).describe()"
   ]
  },
  {
   "cell_type": "markdown",
   "id": "blocked-marketing",
   "metadata": {},
   "source": [
    "### MNMF"
   ]
  },
  {
   "cell_type": "code",
   "execution_count": 17,
   "id": "exceptional-mumbai",
   "metadata": {},
   "outputs": [],
   "source": [
    "tests = 0\n",
    "with open(\"./mnmf/mnmf_info.txt\", \"r\") as f:\n",
    "    lines = f.readlines()\n",
    "    for line in lines:\n",
    "        if \"Test\" in line: tests += 1 "
   ]
  },
  {
   "cell_type": "code",
   "execution_count": 18,
   "id": "senior-success",
   "metadata": {},
   "outputs": [
    {
     "name": "stdout",
     "output_type": "stream",
     "text": [
      "Iteration completed in 0.1424551010131836\n",
      "Iteration completed in 0.13967466354370117\n",
      "Iteration completed in 0.15543103218078613\n",
      "Iteration completed in 0.15624213218688965\n",
      "Iteration completed in 0.16641521453857422\n",
      "Iteration completed in 0.14275074005126953\n",
      "Iteration completed in 0.20796847343444824\n",
      "Iteration completed in 0.15464544296264648\n",
      "Iteration completed in 0.26006555557250977\n",
      "Iteration completed in 0.18701720237731934\n"
     ]
    }
   ],
   "source": [
    "### Random forest classifier creation with 70 trees\n",
    "clf = RandomForestClassifier(n_estimators=70)\n",
    "f1_scores = []\n",
    "for i in range(tests):\n",
    "    start_time = time.time()\n",
    "    data = pd.read_csv(\"./mnmf/mnmf_emb_vectors\" + str(i) + \".csv\", header=None, sep=\";\").values.tolist()\n",
    "    # Input \n",
    "    X_data = list(map(lambda x: sorted(x, reverse=True), data))\n",
    "    X_data = [X_data[i] for i in range(len(X_data)) if str(i + 1) not in nodes]\n",
    "    \n",
    "    y_data = node_labels\n",
    "\n",
    "    # Split the data into training set and test set\n",
    "    X_train, X_test, y_train, y_test = train_test_split(X_data, y_data, test_size=0.2)\n",
    "\n",
    "    clf.fit(X_train, y_train)\n",
    "\n",
    "    y_pred = clf.predict(X_test)\n",
    "\n",
    "    ### Accuracy metric\n",
    "    f1_scores.append(metrics.f1_score(y_test, y_pred, average=\"micro\"))\n",
    "    print(f\"Iteration completed in {time.time() - start_time}\")"
   ]
  },
  {
   "cell_type": "code",
   "execution_count": 19,
   "id": "wooden-floor",
   "metadata": {},
   "outputs": [
    {
     "data": {
      "text/plain": [
       "count    10.000000\n",
       "mean      0.149020\n",
       "std       0.033441\n",
       "min       0.098039\n",
       "25%       0.119281\n",
       "50%       0.153595\n",
       "75%       0.178105\n",
       "max       0.189542\n",
       "dtype: float64"
      ]
     },
     "execution_count": 19,
     "metadata": {},
     "output_type": "execute_result"
    }
   ],
   "source": [
    "pd.Series(f1_scores).describe()"
   ]
  },
  {
   "cell_type": "markdown",
   "id": "interstate-nirvana",
   "metadata": {},
   "source": [
    "# Heterogeneous pt1"
   ]
  },
  {
   "cell_type": "code",
   "execution_count": 31,
   "id": "cognitive-insert",
   "metadata": {},
   "outputs": [],
   "source": [
    "node_labels = []\n",
    "for bet_v in bet_l:\n",
    "    start_val = 0.0001\n",
    "    i = 1\n",
    "    while(True):\n",
    "        if bet_v <= start_val:\n",
    "            node_labels.append(i)\n",
    "            break\n",
    "        else:\n",
    "            i += 1\n",
    "            start_val *= 1.5"
   ]
  },
  {
   "cell_type": "code",
   "execution_count": 32,
   "id": "inside-banking",
   "metadata": {},
   "outputs": [
    {
     "data": {
      "text/plain": [
       "22    140\n",
       "21    140\n",
       "20    111\n",
       "19    102\n",
       "23     80\n",
       "18     59\n",
       "17     33\n",
       "16     29\n",
       "15     24\n",
       "24     19\n",
       "13      9\n",
       "14      8\n",
       "12      3\n",
       "11      3\n",
       "9       3\n",
       "1       2\n",
       "dtype: int64"
      ]
     },
     "execution_count": 32,
     "metadata": {},
     "output_type": "execute_result"
    }
   ],
   "source": [
    "pd.Series(node_labels).value_counts()"
   ]
  },
  {
   "cell_type": "markdown",
   "id": "respective-juvenile",
   "metadata": {},
   "source": [
    "### DW"
   ]
  },
  {
   "cell_type": "code",
   "execution_count": 33,
   "id": "professional-badge",
   "metadata": {},
   "outputs": [],
   "source": [
    "tests = 0\n",
    "with open(\"./dw/dw_info.txt\", \"r\") as f:\n",
    "    lines = f.readlines()\n",
    "    for line in lines:\n",
    "        if \"Test\" in line: tests += 1 "
   ]
  },
  {
   "cell_type": "code",
   "execution_count": 34,
   "id": "wanted-bridges",
   "metadata": {},
   "outputs": [
    {
     "name": "stdout",
     "output_type": "stream",
     "text": [
      "Iteration completed in 0.2759988307952881\n",
      "Iteration completed in 0.2521388530731201\n",
      "Iteration completed in 0.2518603801727295\n",
      "Iteration completed in 0.2647671699523926\n",
      "Iteration completed in 0.27860212326049805\n",
      "Iteration completed in 0.26677775382995605\n",
      "Iteration completed in 0.263974666595459\n",
      "Iteration completed in 0.233231782913208\n",
      "Iteration completed in 0.24206900596618652\n",
      "Iteration completed in 0.24114704132080078\n",
      "Iteration completed in 0.23820829391479492\n",
      "Iteration completed in 0.24171853065490723\n",
      "Iteration completed in 0.27498316764831543\n",
      "Iteration completed in 0.26043200492858887\n",
      "Iteration completed in 0.24531173706054688\n"
     ]
    }
   ],
   "source": [
    "### Random forest classifier creation with 70 trees\n",
    "clf = RandomForestClassifier(n_estimators=70)\n",
    "f1_scores = []\n",
    "for i in range(tests):\n",
    "    start_time = time.time()\n",
    "    data = pd.read_csv(\"./dw/dw_emb_vectors\" + str(i) + \".csv\", header=None, sep=\";\").values.tolist()\n",
    "    # Input \n",
    "    X_data = list(map(lambda x: sorted(x, reverse=True), data))\n",
    "    \n",
    "    X_data = [X_data[i] for i in range(len(X_data)) if str(i + 1) not in nodes]\n",
    "    \n",
    "    y_data = node_labels\n",
    "\n",
    "    # Split the data into training set and test set\n",
    "    X_train, X_test, y_train, y_test = train_test_split(X_data, y_data, test_size=0.2)\n",
    "\n",
    "    clf.fit(X_train, y_train)\n",
    "\n",
    "    y_pred = clf.predict(X_test)\n",
    "\n",
    "    ### Accuracy metric\n",
    "    f1_scores.append(metrics.f1_score(y_test, y_pred, average=\"micro\"))\n",
    "    print(f\"Iteration completed in {time.time() - start_time}\")"
   ]
  },
  {
   "cell_type": "code",
   "execution_count": 35,
   "id": "significant-washer",
   "metadata": {},
   "outputs": [
    {
     "data": {
      "text/plain": [
       "count    15.000000\n",
       "mean      0.274946\n",
       "std       0.061336\n",
       "min       0.169935\n",
       "25%       0.248366\n",
       "50%       0.261438\n",
       "75%       0.310458\n",
       "max       0.398693\n",
       "dtype: float64"
      ]
     },
     "execution_count": 35,
     "metadata": {},
     "output_type": "execute_result"
    }
   ],
   "source": [
    "pd.Series(f1_scores).describe()"
   ]
  },
  {
   "cell_type": "markdown",
   "id": "olive-grade",
   "metadata": {},
   "source": [
    "### n2v"
   ]
  },
  {
   "cell_type": "code",
   "execution_count": 36,
   "id": "small-drain",
   "metadata": {},
   "outputs": [],
   "source": [
    "tests = 0\n",
    "with open(\"./n2v/n2v_info.txt\", \"r\") as f:\n",
    "    lines = f.readlines()\n",
    "    for line in lines:\n",
    "        if \"Test\" in line: tests += 1 "
   ]
  },
  {
   "cell_type": "code",
   "execution_count": 37,
   "id": "local-rebecca",
   "metadata": {},
   "outputs": [
    {
     "name": "stdout",
     "output_type": "stream",
     "text": [
      "Iteration completed in 0.3606724739074707\n",
      "Iteration completed in 0.34815502166748047\n",
      "Iteration completed in 0.35843920707702637\n",
      "Iteration completed in 0.3523406982421875\n",
      "Iteration completed in 0.335463285446167\n",
      "Iteration completed in 0.38082265853881836\n",
      "Iteration completed in 0.33692002296447754\n",
      "Iteration completed in 0.38318347930908203\n",
      "Iteration completed in 0.3617289066314697\n",
      "Iteration completed in 0.34182143211364746\n",
      "Iteration completed in 0.39231371879577637\n",
      "Iteration completed in 0.3581521511077881\n",
      "Iteration completed in 0.37534523010253906\n",
      "Iteration completed in 0.3332240581512451\n",
      "Iteration completed in 0.38286805152893066\n",
      "Iteration completed in 0.37351393699645996\n",
      "Iteration completed in 0.3610837459564209\n",
      "Iteration completed in 0.3357861042022705\n",
      "Iteration completed in 0.34099388122558594\n",
      "Iteration completed in 0.3998734951019287\n",
      "Iteration completed in 0.3372349739074707\n",
      "Iteration completed in 0.3649473190307617\n",
      "Iteration completed in 0.3724966049194336\n",
      "Iteration completed in 0.4005470275878906\n"
     ]
    }
   ],
   "source": [
    "### Random forest classifier creation with 70 trees\n",
    "clf = RandomForestClassifier(n_estimators=70)\n",
    "f1_scores = []\n",
    "for i in range(tests):\n",
    "    start_time = time.time()\n",
    "    data = pd.read_csv(\"./n2v/n2v_emb_vectors\" + str(i) + \".csv\", header=None, sep=\";\").values.tolist()\n",
    "    # Input \n",
    "    X_data = list(map(lambda x: sorted(x, reverse=True), data))\n",
    "    \n",
    "    X_data = [X_data[i] for i in range(len(X_data)) if str(i + 1) not in nodes]\n",
    "    \n",
    "    y_data = node_labels\n",
    "\n",
    "    # Split the data into training set and test set\n",
    "    X_train, X_test, y_train, y_test = train_test_split(X_data, y_data, test_size=0.2)\n",
    "\n",
    "    clf.fit(X_train, y_train)\n",
    "\n",
    "    y_pred = clf.predict(X_test)\n",
    "\n",
    "    ### Accuracy metric\n",
    "    f1_scores.append(metrics.f1_score(y_test, y_pred, average=\"micro\"))\n",
    "    print(f\"Iteration completed in {time.time() - start_time}\")"
   ]
  },
  {
   "cell_type": "code",
   "execution_count": 38,
   "id": "after-spiritual",
   "metadata": {},
   "outputs": [
    {
     "data": {
      "text/plain": [
       "count    24.000000\n",
       "mean      0.197168\n",
       "std       0.031473\n",
       "min       0.137255\n",
       "25%       0.176471\n",
       "50%       0.189542\n",
       "75%       0.215686\n",
       "max       0.261438\n",
       "dtype: float64"
      ]
     },
     "execution_count": 38,
     "metadata": {},
     "output_type": "execute_result"
    }
   ],
   "source": [
    "pd.Series(f1_scores).describe()"
   ]
  },
  {
   "cell_type": "markdown",
   "id": "otherwise-forth",
   "metadata": {},
   "source": [
    "### MNMF"
   ]
  },
  {
   "cell_type": "code",
   "execution_count": 39,
   "id": "bibliographic-company",
   "metadata": {},
   "outputs": [],
   "source": [
    "tests = 0\n",
    "with open(\"./mnmf/mnmf_info.txt\", \"r\") as f:\n",
    "    lines = f.readlines()\n",
    "    for line in lines:\n",
    "        if \"Test\" in line: tests += 1 "
   ]
  },
  {
   "cell_type": "code",
   "execution_count": 40,
   "id": "uniform-maker",
   "metadata": {},
   "outputs": [
    {
     "name": "stdout",
     "output_type": "stream",
     "text": [
      "Iteration completed in 0.12952136993408203\n",
      "Iteration completed in 0.18976616859436035\n",
      "Iteration completed in 0.175001859664917\n",
      "Iteration completed in 0.13951611518859863\n",
      "Iteration completed in 0.15056800842285156\n",
      "Iteration completed in 0.1333000659942627\n",
      "Iteration completed in 0.17756962776184082\n",
      "Iteration completed in 0.16294336318969727\n",
      "Iteration completed in 0.24888944625854492\n",
      "Iteration completed in 0.20513200759887695\n"
     ]
    }
   ],
   "source": [
    "### Random forest classifier creation with 70 trees\n",
    "clf = RandomForestClassifier(n_estimators=70)\n",
    "f1_scores = []\n",
    "for i in range(tests):\n",
    "    start_time = time.time()\n",
    "    data = pd.read_csv(\"./mnmf/mnmf_emb_vectors\" + str(i) + \".csv\", header=None, sep=\";\").values.tolist()\n",
    "    # Input \n",
    "    X_data = list(map(lambda x: sorted(x, reverse=True), data))\n",
    "    \n",
    "    X_data = [X_data[i] for i in range(len(X_data)) if str(i + 1) not in nodes]\n",
    "    \n",
    "    y_data = node_labels\n",
    "\n",
    "    # Split the data into training set and test set\n",
    "    X_train, X_test, y_train, y_test = train_test_split(X_data, y_data, test_size=0.2)\n",
    "\n",
    "    clf.fit(X_train, y_train)\n",
    "\n",
    "    y_pred = clf.predict(X_test)\n",
    "\n",
    "    ### Accuracy metric\n",
    "    f1_scores.append(metrics.f1_score(y_test, y_pred, average=\"micro\"))\n",
    "    print(f\"Iteration completed in {time.time() - start_time}\")"
   ]
  },
  {
   "cell_type": "code",
   "execution_count": 41,
   "id": "identified-skating",
   "metadata": {},
   "outputs": [
    {
     "data": {
      "text/plain": [
       "count    10.000000\n",
       "mean      0.198039\n",
       "std       0.030818\n",
       "min       0.143791\n",
       "25%       0.178105\n",
       "50%       0.196078\n",
       "75%       0.225490\n",
       "max       0.235294\n",
       "dtype: float64"
      ]
     },
     "execution_count": 41,
     "metadata": {},
     "output_type": "execute_result"
    }
   ],
   "source": [
    "pd.Series(f1_scores).describe()"
   ]
  },
  {
   "cell_type": "code",
   "execution_count": null,
   "id": "tired-dynamics",
   "metadata": {},
   "outputs": [],
   "source": []
  },
  {
   "cell_type": "markdown",
   "id": "asian-ethernet",
   "metadata": {},
   "source": [
    "# Heterogeneous pt2"
   ]
  },
  {
   "cell_type": "code",
   "execution_count": 20,
   "id": "dependent-botswana",
   "metadata": {},
   "outputs": [],
   "source": [
    "node_labels = []\n",
    "for bet_v in bet_l:\n",
    "    ok = False\n",
    "    for i in range(1, 11):\n",
    "        if(bet_v <= 0.005 * i): \n",
    "            node_labels.append(i)\n",
    "            ok = True\n",
    "            break\n",
    "    if ok: continue\n",
    "    for i in range(1, 6):\n",
    "        if(bet_v <= 0.05 + 0.01 * i):\n",
    "            node_labels.append(10 + i)\n",
    "            ok = True\n",
    "            break\n",
    "    if ok: continue\n",
    "    if(bet_v <= 0.2):\n",
    "        node_labels.append(16)\n",
    "        continue\n",
    "    node_labels.append(17)"
   ]
  },
  {
   "cell_type": "code",
   "execution_count": 21,
   "id": "dedicated-connecticut",
   "metadata": {},
   "outputs": [
    {
     "data": {
      "text/plain": [
       "17    409\n",
       "16    178\n",
       "14     27\n",
       "13     20\n",
       "11     17\n",
       "5      17\n",
       "12     13\n",
       "15     13\n",
       "3      12\n",
       "8      12\n",
       "7      11\n",
       "9       8\n",
       "1       8\n",
       "6       7\n",
       "10      5\n",
       "4       5\n",
       "2       3\n",
       "dtype: int64"
      ]
     },
     "execution_count": 21,
     "metadata": {},
     "output_type": "execute_result"
    }
   ],
   "source": [
    "pd.Series(node_labels).value_counts()"
   ]
  },
  {
   "cell_type": "markdown",
   "id": "ongoing-intermediate",
   "metadata": {},
   "source": [
    "### DW"
   ]
  },
  {
   "cell_type": "code",
   "execution_count": 22,
   "id": "social-tract",
   "metadata": {},
   "outputs": [],
   "source": [
    "tests = 0\n",
    "with open(\"./dw/dw_info.txt\", \"r\") as f:\n",
    "    lines = f.readlines()\n",
    "    for line in lines:\n",
    "        if \"Test\" in line: tests += 1 "
   ]
  },
  {
   "cell_type": "code",
   "execution_count": 23,
   "id": "educated-supervisor",
   "metadata": {},
   "outputs": [
    {
     "name": "stdout",
     "output_type": "stream",
     "text": [
      "Iteration completed in 0.22881293296813965\n",
      "Iteration completed in 0.25525665283203125\n",
      "Iteration completed in 0.27629613876342773\n",
      "Iteration completed in 0.2995433807373047\n",
      "Iteration completed in 0.3013458251953125\n",
      "Iteration completed in 0.2835540771484375\n",
      "Iteration completed in 0.31252002716064453\n",
      "Iteration completed in 0.26709508895874023\n",
      "Iteration completed in 0.2981255054473877\n",
      "Iteration completed in 0.3019700050354004\n",
      "Iteration completed in 0.27458763122558594\n",
      "Iteration completed in 0.27342820167541504\n",
      "Iteration completed in 0.2912571430206299\n",
      "Iteration completed in 0.2631535530090332\n",
      "Iteration completed in 0.2405860424041748\n"
     ]
    }
   ],
   "source": [
    "### Random forest classifier creation with 70 trees\n",
    "clf = RandomForestClassifier(n_estimators=70)\n",
    "f1_scores = []\n",
    "for i in range(tests):\n",
    "    start_time = time.time()\n",
    "    data = pd.read_csv(\"./dw/dw_emb_vectors\" + str(i) + \".csv\", header=None, sep=\";\").values.tolist()\n",
    "    # Input \n",
    "    X_data = list(map(lambda x: sorted(x, reverse=True), data))\n",
    "    \n",
    "    X_data = [X_data[i] for i in range(len(X_data)) if str(i + 1) not in nodes]\n",
    "    \n",
    "    y_data = node_labels\n",
    "\n",
    "    # Split the data into training set and test set\n",
    "    X_train, X_test, y_train, y_test = train_test_split(X_data, y_data, test_size=0.2)\n",
    "\n",
    "    clf.fit(X_train, y_train)\n",
    "\n",
    "    y_pred = clf.predict(X_test)\n",
    "\n",
    "    ### Accuracy metric\n",
    "    f1_scores.append(metrics.f1_score(y_test, y_pred, average=\"micro\"))\n",
    "    print(f\"Iteration completed in {time.time() - start_time}\")"
   ]
  },
  {
   "cell_type": "code",
   "execution_count": 24,
   "id": "historic-president",
   "metadata": {},
   "outputs": [
    {
     "data": {
      "text/plain": [
       "count    15.000000\n",
       "mean      0.578214\n",
       "std       0.040507\n",
       "min       0.503268\n",
       "25%       0.555556\n",
       "50%       0.568627\n",
       "75%       0.601307\n",
       "max       0.647059\n",
       "dtype: float64"
      ]
     },
     "execution_count": 24,
     "metadata": {},
     "output_type": "execute_result"
    }
   ],
   "source": [
    "pd.Series(f1_scores).describe()"
   ]
  },
  {
   "cell_type": "markdown",
   "id": "baking-filename",
   "metadata": {},
   "source": [
    "### n2v"
   ]
  },
  {
   "cell_type": "code",
   "execution_count": 25,
   "id": "written-runner",
   "metadata": {},
   "outputs": [],
   "source": [
    "tests = 0\n",
    "with open(\"./n2v/n2v_info.txt\", \"r\") as f:\n",
    "    lines = f.readlines()\n",
    "    for line in lines:\n",
    "        if \"Test\" in line: tests += 1 "
   ]
  },
  {
   "cell_type": "code",
   "execution_count": 26,
   "id": "explicit-check",
   "metadata": {},
   "outputs": [
    {
     "name": "stdout",
     "output_type": "stream",
     "text": [
      "Iteration completed in 0.3538782596588135\n",
      "Iteration completed in 0.39590930938720703\n",
      "Iteration completed in 0.36240482330322266\n",
      "Iteration completed in 0.3922398090362549\n",
      "Iteration completed in 0.3437991142272949\n",
      "Iteration completed in 0.3753204345703125\n",
      "Iteration completed in 0.3381223678588867\n",
      "Iteration completed in 0.3569834232330322\n",
      "Iteration completed in 0.3650987148284912\n",
      "Iteration completed in 0.3537936210632324\n",
      "Iteration completed in 0.3769829273223877\n",
      "Iteration completed in 0.38631772994995117\n",
      "Iteration completed in 0.33023762702941895\n",
      "Iteration completed in 0.3548152446746826\n",
      "Iteration completed in 0.382030725479126\n",
      "Iteration completed in 0.453432559967041\n",
      "Iteration completed in 0.3271634578704834\n",
      "Iteration completed in 0.3429272174835205\n",
      "Iteration completed in 0.3784000873565674\n",
      "Iteration completed in 0.3712177276611328\n",
      "Iteration completed in 0.3274836540222168\n",
      "Iteration completed in 0.3866567611694336\n",
      "Iteration completed in 0.357851505279541\n",
      "Iteration completed in 0.4070417881011963\n"
     ]
    }
   ],
   "source": [
    "### Random forest classifier creation with 70 trees\n",
    "clf = RandomForestClassifier(n_estimators=70)\n",
    "f1_scores = []\n",
    "for i in range(tests):\n",
    "    start_time = time.time()\n",
    "    data = pd.read_csv(\"./n2v/n2v_emb_vectors\" + str(i) + \".csv\", header=None, sep=\";\").values.tolist()\n",
    "    # Input \n",
    "    X_data = list(map(lambda x: sorted(x, reverse=True), data))\n",
    "    \n",
    "    X_data = [X_data[i] for i in range(len(X_data)) if str(i + 1) not in nodes]\n",
    "    \n",
    "    y_data = node_labels\n",
    "\n",
    "    # Split the data into training set and test set\n",
    "    X_train, X_test, y_train, y_test = train_test_split(X_data, y_data, test_size=0.2)\n",
    "\n",
    "    clf.fit(X_train, y_train)\n",
    "\n",
    "    y_pred = clf.predict(X_test)\n",
    "\n",
    "    ### Accuracy metric\n",
    "    f1_scores.append(metrics.f1_score(y_test, y_pred, average=\"micro\"))\n",
    "    print(f\"Iteration completed in {time.time() - start_time}\")"
   ]
  },
  {
   "cell_type": "code",
   "execution_count": 27,
   "id": "racial-monitor",
   "metadata": {},
   "outputs": [
    {
     "data": {
      "text/plain": [
       "count    24.000000\n",
       "mean      0.531318\n",
       "std       0.030197\n",
       "min       0.477124\n",
       "25%       0.508170\n",
       "50%       0.535948\n",
       "75%       0.555556\n",
       "max       0.581699\n",
       "dtype: float64"
      ]
     },
     "execution_count": 27,
     "metadata": {},
     "output_type": "execute_result"
    }
   ],
   "source": [
    "pd.Series(f1_scores).describe()"
   ]
  },
  {
   "cell_type": "markdown",
   "id": "arbitrary-slide",
   "metadata": {},
   "source": [
    "### MNMF"
   ]
  },
  {
   "cell_type": "code",
   "execution_count": 28,
   "id": "chronic-productivity",
   "metadata": {},
   "outputs": [],
   "source": [
    "tests = 0\n",
    "with open(\"./mnmf/mnmf_info.txt\", \"r\") as f:\n",
    "    lines = f.readlines()\n",
    "    for line in lines:\n",
    "        if \"Test\" in line: tests += 1 "
   ]
  },
  {
   "cell_type": "code",
   "execution_count": 29,
   "id": "talented-yugoslavia",
   "metadata": {},
   "outputs": [
    {
     "name": "stdout",
     "output_type": "stream",
     "text": [
      "Iteration completed in 0.12461280822753906\n",
      "Iteration completed in 0.11029720306396484\n",
      "Iteration completed in 0.14496374130249023\n",
      "Iteration completed in 0.13577771186828613\n",
      "Iteration completed in 0.16650390625\n",
      "Iteration completed in 0.13886308670043945\n",
      "Iteration completed in 0.17147469520568848\n",
      "Iteration completed in 0.15219974517822266\n",
      "Iteration completed in 0.23258614540100098\n",
      "Iteration completed in 0.17820501327514648\n"
     ]
    }
   ],
   "source": [
    "### Random forest classifier creation with 70 trees\n",
    "clf = RandomForestClassifier(n_estimators=70)\n",
    "f1_scores = []\n",
    "for i in range(tests):\n",
    "    start_time = time.time()\n",
    "    data = pd.read_csv(\"./mnmf/mnmf_emb_vectors\" + str(i) + \".csv\", header=None, sep=\";\").values.tolist()\n",
    "    # Input \n",
    "    X_data = list(map(lambda x: sorted(x, reverse=True), data))\n",
    "    X_data = [X_data[i] for i in range(len(X_data)) if str(i + 1) not in nodes]\n",
    "    \n",
    "    y_data = node_labels\n",
    "\n",
    "    # Split the data into training set and test set\n",
    "    X_train, X_test, y_train, y_test = train_test_split(X_data, y_data, test_size=0.2)\n",
    "\n",
    "    clf.fit(X_train, y_train)\n",
    "\n",
    "    y_pred = clf.predict(X_test)\n",
    "\n",
    "    ### Accuracy metric\n",
    "    f1_scores.append(metrics.f1_score(y_test, y_pred, average=\"micro\"))\n",
    "    print(f\"Iteration completed in {time.time() - start_time}\")"
   ]
  },
  {
   "cell_type": "code",
   "execution_count": 30,
   "id": "favorite-welcome",
   "metadata": {},
   "outputs": [
    {
     "data": {
      "text/plain": [
       "count    10.000000\n",
       "mean      0.547712\n",
       "std       0.047312\n",
       "min       0.483660\n",
       "25%       0.517974\n",
       "50%       0.542484\n",
       "75%       0.566993\n",
       "max       0.633987\n",
       "dtype: float64"
      ]
     },
     "execution_count": 30,
     "metadata": {},
     "output_type": "execute_result"
    }
   ],
   "source": [
    "pd.Series(f1_scores).describe()"
   ]
  }
 ],
 "metadata": {
  "kernelspec": {
   "display_name": "Python 3 (ipykernel)",
   "language": "python",
   "name": "python3"
  },
  "language_info": {
   "codemirror_mode": {
    "name": "ipython",
    "version": 3
   },
   "file_extension": ".py",
   "mimetype": "text/x-python",
   "name": "python",
   "nbconvert_exporter": "python",
   "pygments_lexer": "ipython3",
   "version": "3.8.13"
  }
 },
 "nbformat": 4,
 "nbformat_minor": 5
}
