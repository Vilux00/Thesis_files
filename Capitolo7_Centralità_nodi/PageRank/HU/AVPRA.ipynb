{
 "cells": [
  {
   "cell_type": "code",
   "execution_count": 1,
   "id": "genetic-communist",
   "metadata": {},
   "outputs": [],
   "source": [
    "### Import useful libraries\n",
    "import pandas as pd\n",
    "import matplotlib.pyplot as plt\n",
    "import numpy as np\n",
    "from sklearn.ensemble import RandomForestClassifier\n",
    "from sklearn.datasets import make_classification\n",
    "from sklearn.model_selection import train_test_split\n",
    "from sklearn import metrics\n",
    "import networkx as nx\n",
    "import time\n",
    "import random\n",
    "import csv\n",
    "%matplotlib inline"
   ]
  },
  {
   "cell_type": "code",
   "execution_count": 2,
   "id": "distinct-preliminary",
   "metadata": {},
   "outputs": [],
   "source": [
    "G = nx.read_edgelist(\"./HU_edges_norm.csv\")"
   ]
  },
  {
   "cell_type": "code",
   "execution_count": 3,
   "id": "charged-excitement",
   "metadata": {},
   "outputs": [
    {
     "name": "stdout",
     "output_type": "stream",
     "text": [
      "Computed pagerank in: 0.8145973682403564\n"
     ]
    }
   ],
   "source": [
    "i_time = time.time()\n",
    "bet = nx.pagerank(G)\n",
    "print(f\"Computed pagerank in: {time.time() - i_time}\")"
   ]
  },
  {
   "cell_type": "code",
   "execution_count": 4,
   "id": "authorized-means",
   "metadata": {},
   "outputs": [],
   "source": [
    "# Pagerank scores list and normalized scores list creation\n",
    "bet_n = []\n",
    "max_v = max(bet.values())\n",
    "min_v = min(bet.values())\n",
    "for i in range(1, len(bet) + 1):\n",
    "    bet_n.append((bet[str(i)] - min_v) / (max_v - min_v))"
   ]
  },
  {
   "cell_type": "code",
   "execution_count": 5,
   "id": "prospective-economics",
   "metadata": {},
   "outputs": [],
   "source": [
    "obj = pd.read_pickle(\"./HU.pickled\")"
   ]
  },
  {
   "cell_type": "markdown",
   "id": "micro-hammer",
   "metadata": {},
   "source": [
    "# Pagerank scores classification"
   ]
  },
  {
   "cell_type": "markdown",
   "id": "respective-captain",
   "metadata": {},
   "source": [
    "## Interval size 0.05"
   ]
  },
  {
   "cell_type": "code",
   "execution_count": 15,
   "id": "undefined-anchor",
   "metadata": {},
   "outputs": [],
   "source": [
    "node_labels = []\n",
    "for bet_v in bet_n:\n",
    "    for i in range(1, 21):\n",
    "        if(bet_v <= 0.05 * i): \n",
    "            node_labels.append(i)\n",
    "            break"
   ]
  },
  {
   "cell_type": "code",
   "execution_count": 16,
   "id": "municipal-peripheral",
   "metadata": {},
   "outputs": [
    {
     "data": {
      "text/plain": [
       "2     15024\n",
       "1     11661\n",
       "3     10785\n",
       "4      5871\n",
       "5      2354\n",
       "6       942\n",
       "7       434\n",
       "8       223\n",
       "9       114\n",
       "10       49\n",
       "11       27\n",
       "12       22\n",
       "13       13\n",
       "14        6\n",
       "16        5\n",
       "17        4\n",
       "15        2\n",
       "20        1\n",
       "18        1\n",
       "dtype: int64"
      ]
     },
     "execution_count": 16,
     "metadata": {},
     "output_type": "execute_result"
    }
   ],
   "source": [
    "pd.Series(node_labels).value_counts()"
   ]
  },
  {
   "cell_type": "code",
   "execution_count": 17,
   "id": "political-mandate",
   "metadata": {},
   "outputs": [
    {
     "name": "stdout",
     "output_type": "stream",
     "text": [
      "Completed iteration in 1.7748687267303467\n",
      "Completed iteration in 9.1596200466156\n",
      "Completed iteration in 20.185736894607544\n",
      "Completed iteration in 28.030609846115112\n",
      "Completed iteration in 33.580870389938354\n",
      "Completed iteration in 36.02917981147766\n",
      "Completed iteration in 37.82589101791382\n",
      "Completed iteration in 37.22967219352722\n",
      "Completed iteration in 35.683276414871216\n",
      "Completed iteration in 38.26102089881897\n",
      "Completed iteration in 42.33114528656006\n",
      "Completed iteration in 39.41176223754883\n",
      "Completed iteration in 38.67051911354065\n",
      "Completed iteration in 38.61998152732849\n",
      "Completed iteration in 37.82751822471619\n",
      "Completed iteration in 40.290876626968384\n",
      "Completed iteration in 44.553669929504395\n",
      "Completed iteration in 40.329017877578735\n",
      "Completed iteration in 40.49765372276306\n",
      "Completed iteration in 40.54937672615051\n",
      "Completed iteration in 45.29426860809326\n"
     ]
    }
   ],
   "source": [
    "### Random forest classifier creation with 70 trees\n",
    "clf = RandomForestClassifier(n_estimators=70)\n",
    "start_time = time.time()\n",
    "norm_f1_scores = []\n",
    "for res in obj:\n",
    "    start_time = time.time()\n",
    "     \n",
    "    X_data = list(map(lambda x: sorted(x, reverse=True), res[1]))\n",
    "    y_data = node_labels\n",
    "\n",
    "    # Split the data into training set and test set\n",
    "    X_train, X_test, y_train, y_test = train_test_split(X_data, y_data, test_size=0.2)\n",
    "\n",
    "    clf.fit(X_train, y_train)\n",
    "\n",
    "    y_pred = clf.predict(X_test)\n",
    "\n",
    "    ### Accuracy metric\n",
    "    norm_f1_scores.append(metrics.f1_score(y_test, y_pred, average=\"micro\"))\n",
    "\n",
    "    print(f\"Completed iteration in {time.time() - start_time}\")"
   ]
  },
  {
   "cell_type": "markdown",
   "id": "specific-princess",
   "metadata": {},
   "source": [
    "### Heterogeneous pt1"
   ]
  },
  {
   "cell_type": "code",
   "execution_count": 23,
   "id": "crude-norwegian",
   "metadata": {},
   "outputs": [],
   "source": [
    "node_labels = []\n",
    "for bet_v in bet_n:\n",
    "    ok = False\n",
    "    for i in range(1, 11):\n",
    "        if(bet_v <= 0.005 * i): \n",
    "            node_labels.append(i)\n",
    "            ok = True\n",
    "            break\n",
    "    if ok: continue\n",
    "    for i in range(1, 6):\n",
    "        if(bet_v <= 0.05 + 0.01 * i):\n",
    "            node_labels.append(10 + i)\n",
    "            ok = True\n",
    "            break\n",
    "    if ok: continue\n",
    "    if(bet_v <= 0.2):\n",
    "        node_labels.append(16)\n",
    "        continue\n",
    "    node_labels.append(17)"
   ]
  },
  {
   "cell_type": "code",
   "execution_count": 24,
   "id": "functioning-seventh",
   "metadata": {},
   "outputs": [
    {
     "data": {
      "text/plain": [
       "16    16656\n",
       "17     4197\n",
       "11     3126\n",
       "13     3078\n",
       "12     3068\n",
       "14     2932\n",
       "15     2820\n",
       "10     1532\n",
       "9      1504\n",
       "8      1459\n",
       "7      1389\n",
       "6      1294\n",
       "5      1189\n",
       "4      1009\n",
       "3       956\n",
       "2       811\n",
       "1       518\n",
       "dtype: int64"
      ]
     },
     "execution_count": 24,
     "metadata": {},
     "output_type": "execute_result"
    }
   ],
   "source": [
    "pd.Series(node_labels).value_counts()"
   ]
  },
  {
   "cell_type": "code",
   "execution_count": 25,
   "id": "educated-director",
   "metadata": {},
   "outputs": [
    {
     "name": "stdout",
     "output_type": "stream",
     "text": [
      "Iteration completed in 1.9600882530212402\n",
      "Iteration completed in 10.136090517044067\n",
      "Iteration completed in 21.275561332702637\n",
      "Iteration completed in 27.37365961074829\n",
      "Iteration completed in 33.61381387710571\n",
      "Iteration completed in 39.58879542350769\n",
      "Iteration completed in 40.209710121154785\n",
      "Iteration completed in 41.11030721664429\n",
      "Iteration completed in 40.86767220497131\n",
      "Iteration completed in 39.59511375427246\n",
      "Iteration completed in 40.40566897392273\n",
      "Iteration completed in 39.29148864746094\n",
      "Iteration completed in 39.591275215148926\n",
      "Iteration completed in 38.879714012145996\n",
      "Iteration completed in 39.227482318878174\n",
      "Iteration completed in 39.178181886672974\n",
      "Iteration completed in 40.65025234222412\n",
      "Iteration completed in 40.97738075256348\n",
      "Iteration completed in 40.59031558036804\n",
      "Iteration completed in 35.34926247596741\n",
      "Iteration completed in 37.66551756858826\n"
     ]
    }
   ],
   "source": [
    "### Random forest classifier creation with 70 trees\n",
    "clf = RandomForestClassifier(n_estimators=70)\n",
    "norm_f1_scores2 = []\n",
    "for res in obj:\n",
    "    start_time = time.time()\n",
    "    \n",
    "    X_data = list(map(lambda x: sorted(x, reverse=True), res[1]))\n",
    "    y_data = node_labels\n",
    "\n",
    "    # Split the data into training set and test set\n",
    "    X_train, X_test, y_train, y_test = train_test_split(X_data, y_data, test_size=0.2)\n",
    "\n",
    "    clf.fit(X_train, y_train)\n",
    "\n",
    "    y_pred = clf.predict(X_test)\n",
    "\n",
    "    ### Accuracy metric\n",
    "    norm_f1_scores2.append(metrics.f1_score(y_test, y_pred, average=\"micro\"))\n",
    "    print(f\"Iteration completed in {time.time() - start_time}\")"
   ]
  },
  {
   "cell_type": "markdown",
   "id": "municipal-gossip",
   "metadata": {},
   "source": [
    "### Heterogeneous pt2"
   ]
  },
  {
   "cell_type": "code",
   "execution_count": 26,
   "id": "streaming-recipe",
   "metadata": {},
   "outputs": [],
   "source": [
    "node_labels = []\n",
    "for bet_v in bet_n:\n",
    "    start_val = 0.0001\n",
    "    i = 1\n",
    "    while(True):\n",
    "        if bet_v <= start_val:\n",
    "            node_labels.append(i)\n",
    "            break\n",
    "        else:\n",
    "            i += 1\n",
    "            start_val *= 1.5"
   ]
  },
  {
   "cell_type": "code",
   "execution_count": 27,
   "id": "human-calibration",
   "metadata": {},
   "outputs": [
    {
     "data": {
      "text/plain": [
       "19    10817\n",
       "18     9691\n",
       "20     7536\n",
       "17     6811\n",
       "16     4195\n",
       "15     2391\n",
       "21     2341\n",
       "14     1298\n",
       "13      771\n",
       "22      503\n",
       "12      464\n",
       "11      289\n",
       "10      213\n",
       "9        89\n",
       "23       70\n",
       "8        29\n",
       "24       11\n",
       "7        10\n",
       "6         4\n",
       "5         2\n",
       "1         1\n",
       "2         1\n",
       "4         1\n",
       "dtype: int64"
      ]
     },
     "execution_count": 27,
     "metadata": {},
     "output_type": "execute_result"
    }
   ],
   "source": [
    "pd.Series(node_labels).value_counts()"
   ]
  },
  {
   "cell_type": "code",
   "execution_count": 28,
   "id": "committed-timeline",
   "metadata": {},
   "outputs": [
    {
     "name": "stdout",
     "output_type": "stream",
     "text": [
      "Iteration completed in 2.326378583908081\n",
      "Iteration completed in 9.791656970977783\n",
      "Iteration completed in 19.065901517868042\n",
      "Iteration completed in 22.826948642730713\n",
      "Iteration completed in 31.638131141662598\n",
      "Iteration completed in 34.222681760787964\n",
      "Iteration completed in 36.211503982543945\n",
      "Iteration completed in 33.04715704917908\n",
      "Iteration completed in 30.694661617279053\n",
      "Iteration completed in 32.75796127319336\n",
      "Iteration completed in 37.432308197021484\n",
      "Iteration completed in 30.04254961013794\n",
      "Iteration completed in 30.124574422836304\n",
      "Iteration completed in 36.018792390823364\n",
      "Iteration completed in 34.3275945186615\n",
      "Iteration completed in 38.22939109802246\n",
      "Iteration completed in 38.42059803009033\n",
      "Iteration completed in 38.035507917404175\n",
      "Iteration completed in 35.89392614364624\n",
      "Iteration completed in 32.172141313552856\n",
      "Iteration completed in 33.731141567230225\n"
     ]
    }
   ],
   "source": [
    "### Random forest classifier creation with 70 trees\n",
    "clf = RandomForestClassifier(n_estimators=70)\n",
    "norm_f1_scores3 = []\n",
    "for res in obj:\n",
    "    start_time = time.time()\n",
    "    \n",
    "    X_data = list(map(lambda x: sorted(x, reverse=True), res[1]))\n",
    "    y_data = node_labels\n",
    "\n",
    "    # Split the data into training set and test set\n",
    "    X_train, X_test, y_train, y_test = train_test_split(X_data, y_data, test_size=0.2)\n",
    "\n",
    "    clf.fit(X_train, y_train)\n",
    "\n",
    "    y_pred = clf.predict(X_test)\n",
    "\n",
    "    ### Accuracy metric\n",
    "    norm_f1_scores3.append(metrics.f1_score(y_test, y_pred, average=\"micro\"))\n",
    "    print(f\"Iteration completed in {time.time() - start_time}\")"
   ]
  },
  {
   "cell_type": "markdown",
   "id": "supposed-satisfaction",
   "metadata": {},
   "source": [
    "## Results"
   ]
  },
  {
   "cell_type": "markdown",
   "id": "productive-essence",
   "metadata": {},
   "source": [
    "### Normalized PageRank"
   ]
  },
  {
   "cell_type": "code",
   "execution_count": 32,
   "id": "southwest-london",
   "metadata": {},
   "outputs": [
    {
     "data": {
      "text/plain": [
       "(0.6182162389566681, 1)"
      ]
     },
     "execution_count": 32,
     "metadata": {},
     "output_type": "execute_result"
    }
   ],
   "source": [
    "max(norm_f1_scores), (list(range(0, 10)) + list(range(10, 32, 2)))[norm_f1_scores.index(max(norm_f1_scores))]"
   ]
  },
  {
   "cell_type": "code",
   "execution_count": 33,
   "id": "understanding-defeat",
   "metadata": {},
   "outputs": [
    {
     "data": {
      "text/plain": [
       "(0.43605384938998737, 1)"
      ]
     },
     "execution_count": 33,
     "metadata": {},
     "output_type": "execute_result"
    }
   ],
   "source": [
    "max(norm_f1_scores2), (list(range(0, 10)) + list(range(10, 32, 2)))[norm_f1_scores2.index(max(norm_f1_scores2))]"
   ]
  },
  {
   "cell_type": "code",
   "execution_count": 34,
   "id": "engaging-accounting",
   "metadata": {},
   "outputs": [
    {
     "data": {
      "text/plain": [
       "(0.4587715607909129, 1)"
      ]
     },
     "execution_count": 34,
     "metadata": {},
     "output_type": "execute_result"
    }
   ],
   "source": [
    "max(norm_f1_scores3), (list(range(0, 10)) + list(range(10, 32, 2)))[norm_f1_scores3.index(max(norm_f1_scores3))]"
   ]
  },
  {
   "cell_type": "markdown",
   "id": "alive-franchise",
   "metadata": {},
   "source": [
    "### Graphs creation"
   ]
  },
  {
   "cell_type": "code",
   "execution_count": 35,
   "id": "chronic-execution",
   "metadata": {},
   "outputs": [],
   "source": [
    "import matplotlib\n",
    "matplotlib.use(\"pgf\")\n",
    "matplotlib.rcParams.update({\n",
    "    \"pgf.texsystem\": \"pdflatex\",\n",
    "    'font.family': 'serif',\n",
    "    'text.usetex': True,\n",
    "    'pgf.rcfonts': False\n",
    "})"
   ]
  },
  {
   "cell_type": "code",
   "execution_count": 37,
   "id": "broke-niger",
   "metadata": {},
   "outputs": [
    {
     "name": "stderr",
     "output_type": "stream",
     "text": [
      "/tmp/ipykernel_9407/135637930.py:18: UserWarning: Matplotlib is currently using pgf, which is a non-GUI backend, so cannot show the figure.\n",
      "  plt.show()\n"
     ]
    }
   ],
   "source": [
    "plt.figure(figsize=(10, 6))\n",
    "l = list(range(0, 10)) + list(range(10, 32, 2))\n",
    "plt.plot(l, norm_f1_scores, \"o\", label=\"F1-score intervalli [a]\", markersize=10)\n",
    "plt.plot(l, norm_f1_scores2, \"o\", label=\"F1-score intervalli [b]\", markersize=10)\n",
    "plt.plot(l, norm_f1_scores3, \"o\", label=\"F1-score intervalli [c]\", markersize=10)\n",
    "\n",
    "plt.xlabel(\"Iterazione\", fontsize=22)\n",
    "plt.ylabel(\"F1-score\", fontsize=22)\n",
    "\n",
    "plt.xticks(fontsize=16)\n",
    "plt.yticks(fontsize=16)\n",
    "\n",
    "plt.ylim(0, 1)\n",
    "\n",
    "plt.legend(loc=\"upper right\", prop={'size': 16})\n",
    "\n",
    "plt.savefig(\"Micro_comparison_norm_PageRank.png\", dpi=500)\n",
    "plt.show()"
   ]
  },
  {
   "cell_type": "code",
   "execution_count": 50,
   "id": "given-carroll",
   "metadata": {},
   "outputs": [
    {
     "name": "stderr",
     "output_type": "stream",
     "text": [
      "/tmp/ipykernel_9407/4222298655.py:14: UserWarning: Matplotlib is currently using pgf, which is a non-GUI backend, so cannot show the figure.\n",
      "  plt.show()\n"
     ]
    }
   ],
   "source": [
    "### PageRank distrib function\n",
    "serie = pd.Series(bet_n)\n",
    "plt.figure(figsize=(10, 6))\n",
    "plt.hist(serie, 200)\n",
    "plt.xlabel(\"Pagerank\", fontsize=22)\n",
    "plt.ylabel(\"Frequenza assoluta\", fontsize=22)\n",
    "plt.xticks(fontsize=16)\n",
    "plt.yticks(fontsize=16)\n",
    "\n",
    "plt.xlim(-0.01, 1)\n",
    "\n",
    "plt.savefig(\"Distribution_norm_PageRank.png\", dpi=500)\n",
    "\n",
    "plt.show()"
   ]
  },
  {
   "cell_type": "code",
   "execution_count": null,
   "id": "institutional-roberts",
   "metadata": {},
   "outputs": [],
   "source": []
  }
 ],
 "metadata": {
  "kernelspec": {
   "display_name": "Python 3 (ipykernel)",
   "language": "python",
   "name": "python3"
  },
  "language_info": {
   "codemirror_mode": {
    "name": "ipython",
    "version": 3
   },
   "file_extension": ".py",
   "mimetype": "text/x-python",
   "name": "python",
   "nbconvert_exporter": "python",
   "pygments_lexer": "ipython3",
   "version": "3.8.13"
  }
 },
 "nbformat": 4,
 "nbformat_minor": 5
}
