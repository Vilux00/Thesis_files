{
 "cells": [
  {
   "cell_type": "code",
   "execution_count": 1,
   "id": "genetic-communist",
   "metadata": {},
   "outputs": [],
   "source": [
    "### Import useful libraries\n",
    "import pandas as pd\n",
    "import matplotlib.pyplot as plt\n",
    "import numpy as np\n",
    "from sklearn.ensemble import RandomForestClassifier\n",
    "from sklearn.datasets import make_classification\n",
    "from sklearn.model_selection import train_test_split\n",
    "from sklearn import metrics\n",
    "import networkx as nx\n",
    "import time\n",
    "import random\n",
    "import csv\n",
    "%matplotlib inline"
   ]
  },
  {
   "cell_type": "code",
   "execution_count": 2,
   "id": "distinct-preliminary",
   "metadata": {},
   "outputs": [],
   "source": [
    "G = nx.read_edgelist(\"./RO_edges_norm.csv\")"
   ]
  },
  {
   "cell_type": "code",
   "execution_count": 3,
   "id": "charged-excitement",
   "metadata": {},
   "outputs": [
    {
     "name": "stdout",
     "output_type": "stream",
     "text": [
      "Computed pagerank in: 0.612062931060791\n"
     ]
    }
   ],
   "source": [
    "i_time = time.time()\n",
    "bet = nx.pagerank(G)\n",
    "print(f\"Computed pagerank in: {time.time() - i_time}\")"
   ]
  },
  {
   "cell_type": "code",
   "execution_count": 4,
   "id": "authorized-means",
   "metadata": {},
   "outputs": [],
   "source": [
    "# Pagerank scores list and normalized scores list creation\n",
    "bet_n = []\n",
    "max_v = max(bet.values())\n",
    "min_v = min(bet.values())\n",
    "for i in range(1, len(bet) + 1):\n",
    "    bet_n.append((bet[str(i)] - min_v) / (max_v - min_v))"
   ]
  },
  {
   "cell_type": "code",
   "execution_count": 5,
   "id": "prospective-economics",
   "metadata": {},
   "outputs": [],
   "source": [
    "obj = pd.read_pickle(\"./RO.pickled\")"
   ]
  },
  {
   "cell_type": "markdown",
   "id": "micro-hammer",
   "metadata": {},
   "source": [
    "# Pagerank scores classification"
   ]
  },
  {
   "cell_type": "markdown",
   "id": "respective-captain",
   "metadata": {},
   "source": [
    "## Interval size 0.05"
   ]
  },
  {
   "cell_type": "code",
   "execution_count": 15,
   "id": "undefined-anchor",
   "metadata": {},
   "outputs": [],
   "source": [
    "node_labels = []\n",
    "for bet_v in bet_n:\n",
    "    for i in range(1, 21):\n",
    "        if(bet_v <= 0.05 * i): \n",
    "            node_labels.append(i)\n",
    "            break"
   ]
  },
  {
   "cell_type": "code",
   "execution_count": 16,
   "id": "municipal-peripheral",
   "metadata": {},
   "outputs": [
    {
     "data": {
      "text/plain": [
       "1     18472\n",
       "2     14612\n",
       "3      5594\n",
       "4      1696\n",
       "5       704\n",
       "6       341\n",
       "7       145\n",
       "8        73\n",
       "9        48\n",
       "10       32\n",
       "11       14\n",
       "12       13\n",
       "13       10\n",
       "14        5\n",
       "15        4\n",
       "20        3\n",
       "16        3\n",
       "17        2\n",
       "19        1\n",
       "18        1\n",
       "dtype: int64"
      ]
     },
     "execution_count": 16,
     "metadata": {},
     "output_type": "execute_result"
    }
   ],
   "source": [
    "pd.Series(node_labels).value_counts()"
   ]
  },
  {
   "cell_type": "code",
   "execution_count": 17,
   "id": "political-mandate",
   "metadata": {},
   "outputs": [
    {
     "name": "stdout",
     "output_type": "stream",
     "text": [
      "Completed iteration in 1.6845498085021973\n",
      "Completed iteration in 6.405450105667114\n",
      "Completed iteration in 14.026698112487793\n",
      "Completed iteration in 19.941468000411987\n",
      "Completed iteration in 25.082165479660034\n",
      "Completed iteration in 28.70567774772644\n",
      "Completed iteration in 30.221662521362305\n",
      "Completed iteration in 31.023065090179443\n",
      "Completed iteration in 30.357406616210938\n",
      "Completed iteration in 31.18939232826233\n",
      "Completed iteration in 32.140002727508545\n",
      "Completed iteration in 32.65641474723816\n",
      "Completed iteration in 30.76059079170227\n",
      "Completed iteration in 30.867648363113403\n",
      "Completed iteration in 32.4676456451416\n",
      "Completed iteration in 33.55215930938721\n",
      "Completed iteration in 32.675471782684326\n",
      "Completed iteration in 35.75158476829529\n",
      "Completed iteration in 33.62837219238281\n",
      "Completed iteration in 34.549468994140625\n",
      "Completed iteration in 33.90553379058838\n"
     ]
    }
   ],
   "source": [
    "### Random forest classifier creation with 70 trees\n",
    "clf = RandomForestClassifier(n_estimators=70)\n",
    "start_time = time.time()\n",
    "norm_f1_scores = []\n",
    "for res in obj:\n",
    "    start_time = time.time()\n",
    "     \n",
    "    X_data = list(map(lambda x: sorted(x, reverse=True), res[1]))\n",
    "    y_data = node_labels\n",
    "\n",
    "    # Split the data into training set and test set\n",
    "    X_train, X_test, y_train, y_test = train_test_split(X_data, y_data, test_size=0.2)\n",
    "\n",
    "    clf.fit(X_train, y_train)\n",
    "\n",
    "    y_pred = clf.predict(X_test)\n",
    "\n",
    "    ### Accuracy metric\n",
    "    norm_f1_scores.append(metrics.f1_score(y_test, y_pred, average=\"micro\"))\n",
    "\n",
    "    print(f\"Completed iteration in {time.time() - start_time}\")"
   ]
  },
  {
   "cell_type": "markdown",
   "id": "specific-princess",
   "metadata": {},
   "source": [
    "### Heterogeneous pt1"
   ]
  },
  {
   "cell_type": "code",
   "execution_count": 23,
   "id": "crude-norwegian",
   "metadata": {},
   "outputs": [],
   "source": [
    "node_labels = []\n",
    "for bet_v in bet_n:\n",
    "    ok = False\n",
    "    for i in range(1, 11):\n",
    "        if(bet_v <= 0.005 * i): \n",
    "            node_labels.append(i)\n",
    "            ok = True\n",
    "            break\n",
    "    if ok: continue\n",
    "    for i in range(1, 6):\n",
    "        if(bet_v <= 0.05 + 0.01 * i):\n",
    "            node_labels.append(10 + i)\n",
    "            ok = True\n",
    "            break\n",
    "    if ok: continue\n",
    "    if(bet_v <= 0.2):\n",
    "        node_labels.append(16)\n",
    "        continue\n",
    "    node_labels.append(17)"
   ]
  },
  {
   "cell_type": "code",
   "execution_count": 24,
   "id": "functioning-seventh",
   "metadata": {},
   "outputs": [
    {
     "data": {
      "text/plain": [
       "16    7290\n",
       "11    3756\n",
       "12    3328\n",
       "13    3035\n",
       "14    2429\n",
       "15    2064\n",
       "4     2016\n",
       "6     1992\n",
       "10    1980\n",
       "9     1969\n",
       "5     1941\n",
       "8     1858\n",
       "7     1853\n",
       "2     1819\n",
       "3     1740\n",
       "17    1399\n",
       "1     1304\n",
       "dtype: int64"
      ]
     },
     "execution_count": 24,
     "metadata": {},
     "output_type": "execute_result"
    }
   ],
   "source": [
    "pd.Series(node_labels).value_counts()"
   ]
  },
  {
   "cell_type": "code",
   "execution_count": 25,
   "id": "polar-composer",
   "metadata": {},
   "outputs": [
    {
     "name": "stdout",
     "output_type": "stream",
     "text": [
      "Iteration completed in 1.7782933712005615\n",
      "Iteration completed in 7.044949531555176\n",
      "Iteration completed in 16.580552339553833\n",
      "Iteration completed in 20.913383722305298\n",
      "Iteration completed in 25.97273898124695\n",
      "Iteration completed in 30.266244649887085\n",
      "Iteration completed in 33.568459272384644\n",
      "Iteration completed in 34.36983561515808\n",
      "Iteration completed in 34.535499811172485\n",
      "Iteration completed in 34.872642278671265\n",
      "Iteration completed in 33.99198365211487\n",
      "Iteration completed in 35.45360708236694\n",
      "Iteration completed in 36.010438442230225\n",
      "Iteration completed in 34.506654500961304\n",
      "Iteration completed in 35.47956395149231\n",
      "Iteration completed in 35.802680253982544\n",
      "Iteration completed in 35.63083004951477\n",
      "Iteration completed in 35.38776612281799\n",
      "Iteration completed in 36.49047327041626\n",
      "Iteration completed in 37.310572385787964\n",
      "Iteration completed in 37.46139311790466\n"
     ]
    }
   ],
   "source": [
    "### Random forest classifier creation with 70 trees\n",
    "clf = RandomForestClassifier(n_estimators=70)\n",
    "norm_f1_scores2 = []\n",
    "for res in obj:\n",
    "    start_time = time.time()\n",
    "    \n",
    "    X_data = list(map(lambda x: sorted(x, reverse=True), res[1]))\n",
    "    y_data = node_labels\n",
    "\n",
    "    # Split the data into training set and test set\n",
    "    X_train, X_test, y_train, y_test = train_test_split(X_data, y_data, test_size=0.2)\n",
    "\n",
    "    clf.fit(X_train, y_train)\n",
    "\n",
    "    y_pred = clf.predict(X_test)\n",
    "\n",
    "    ### Accuracy metric\n",
    "    norm_f1_scores2.append(metrics.f1_score(y_test, y_pred, average=\"micro\"))\n",
    "    print(f\"Iteration completed in {time.time() - start_time}\")"
   ]
  },
  {
   "cell_type": "markdown",
   "id": "municipal-gossip",
   "metadata": {},
   "source": [
    "### Heterogeneous pt2"
   ]
  },
  {
   "cell_type": "code",
   "execution_count": 20,
   "id": "streaming-recipe",
   "metadata": {},
   "outputs": [],
   "source": [
    "node_labels = []\n",
    "for bet_v in bet_n:\n",
    "    start_val = 0.0001\n",
    "    i = 1\n",
    "    while(True):\n",
    "        if bet_v <= start_val:\n",
    "            node_labels.append(i)\n",
    "            break\n",
    "        else:\n",
    "            i += 1\n",
    "            start_val *= 1.5"
   ]
  },
  {
   "cell_type": "code",
   "execution_count": 21,
   "id": "specialized-science",
   "metadata": {},
   "outputs": [
    {
     "data": {
      "text/plain": [
       "18    8601\n",
       "17    8135\n",
       "19    5757\n",
       "16    5562\n",
       "15    3844\n",
       "14    2579\n",
       "20    2221\n",
       "13    1314\n",
       "12    1109\n",
       "11     874\n",
       "21     766\n",
       "10     475\n",
       "22     197\n",
       "9      173\n",
       "8       75\n",
       "23      46\n",
       "7       18\n",
       "24      10\n",
       "6        7\n",
       "4        4\n",
       "5        3\n",
       "1        2\n",
       "3        1\n",
       "dtype: int64"
      ]
     },
     "execution_count": 21,
     "metadata": {},
     "output_type": "execute_result"
    }
   ],
   "source": [
    "pd.Series(node_labels).value_counts()"
   ]
  },
  {
   "cell_type": "code",
   "execution_count": 22,
   "id": "unlikely-riding",
   "metadata": {},
   "outputs": [
    {
     "name": "stdout",
     "output_type": "stream",
     "text": [
      "Iteration completed in 1.6730988025665283\n",
      "Iteration completed in 6.778089761734009\n",
      "Iteration completed in 15.121624946594238\n",
      "Iteration completed in 20.475942373275757\n",
      "Iteration completed in 27.3701913356781\n",
      "Iteration completed in 28.647382736206055\n",
      "Iteration completed in 34.40398359298706\n",
      "Iteration completed in 35.45874381065369\n",
      "Iteration completed in 32.5433623790741\n",
      "Iteration completed in 33.40751361846924\n",
      "Iteration completed in 33.90727996826172\n",
      "Iteration completed in 34.198978424072266\n",
      "Iteration completed in 37.26548767089844\n",
      "Iteration completed in 40.50982332229614\n",
      "Iteration completed in 37.189000606536865\n",
      "Iteration completed in 36.91785550117493\n",
      "Iteration completed in 37.281524896621704\n",
      "Iteration completed in 38.44658827781677\n",
      "Iteration completed in 38.72681713104248\n",
      "Iteration completed in 34.723713397979736\n",
      "Iteration completed in 36.6832435131073\n"
     ]
    }
   ],
   "source": [
    "### Random forest classifier creation with 70 trees\n",
    "clf = RandomForestClassifier(n_estimators=70)\n",
    "norm_f1_scores3 = []\n",
    "for res in obj:\n",
    "    start_time = time.time()\n",
    "    \n",
    "    X_data = list(map(lambda x: sorted(x, reverse=True), res[1]))\n",
    "    y_data = node_labels\n",
    "\n",
    "    # Split the data into training set and test set\n",
    "    X_train, X_test, y_train, y_test = train_test_split(X_data, y_data, test_size=0.2)\n",
    "\n",
    "    clf.fit(X_train, y_train)\n",
    "\n",
    "    y_pred = clf.predict(X_test)\n",
    "\n",
    "    ### Accuracy metric\n",
    "    norm_f1_scores3.append(metrics.f1_score(y_test, y_pred, average=\"micro\"))\n",
    "    print(f\"Iteration completed in {time.time() - start_time}\")"
   ]
  },
  {
   "cell_type": "markdown",
   "id": "fatty-pantyhose",
   "metadata": {},
   "source": [
    "## Results"
   ]
  },
  {
   "cell_type": "markdown",
   "id": "decimal-management",
   "metadata": {},
   "source": [
    "### Normalized PageRank"
   ]
  },
  {
   "cell_type": "code",
   "execution_count": 29,
   "id": "laden-visit",
   "metadata": {},
   "outputs": [
    {
     "data": {
      "text/plain": [
       "(0.7119090365050867, 1)"
      ]
     },
     "execution_count": 29,
     "metadata": {},
     "output_type": "execute_result"
    }
   ],
   "source": [
    "max(norm_f1_scores), (list(range(0, 10)) + list(range(10, 32, 2)))[norm_f1_scores.index(max(norm_f1_scores))]"
   ]
  },
  {
   "cell_type": "code",
   "execution_count": 30,
   "id": "searching-analysis",
   "metadata": {},
   "outputs": [
    {
     "data": {
      "text/plain": [
       "(0.3090365050867744, 1)"
      ]
     },
     "execution_count": 30,
     "metadata": {},
     "output_type": "execute_result"
    }
   ],
   "source": [
    "max(norm_f1_scores2), (list(range(0, 10)) + list(range(10, 32, 2)))[norm_f1_scores2.index(max(norm_f1_scores2))]"
   ]
  },
  {
   "cell_type": "code",
   "execution_count": 31,
   "id": "russian-poster",
   "metadata": {},
   "outputs": [
    {
     "data": {
      "text/plain": [
       "(0.3862357869539198, 1)"
      ]
     },
     "execution_count": 31,
     "metadata": {},
     "output_type": "execute_result"
    }
   ],
   "source": [
    "max(norm_f1_scores3), (list(range(0, 10)) + list(range(10, 32, 2)))[norm_f1_scores3.index(max(norm_f1_scores3))]"
   ]
  },
  {
   "cell_type": "markdown",
   "id": "alive-franchise",
   "metadata": {},
   "source": [
    "### Graphs creation"
   ]
  },
  {
   "cell_type": "code",
   "execution_count": 56,
   "id": "chronic-execution",
   "metadata": {},
   "outputs": [],
   "source": [
    "import matplotlib\n",
    "matplotlib.use(\"pgf\")\n",
    "matplotlib.rcParams.update({\n",
    "    \"pgf.texsystem\": \"pdflatex\",\n",
    "    'font.family': 'serif',\n",
    "    'text.usetex': True,\n",
    "    'pgf.rcfonts': False\n",
    "})"
   ]
  },
  {
   "cell_type": "code",
   "execution_count": 58,
   "id": "altered-event",
   "metadata": {},
   "outputs": [
    {
     "name": "stderr",
     "output_type": "stream",
     "text": [
      "/tmp/ipykernel_9271/135637930.py:18: UserWarning: Matplotlib is currently using pgf, which is a non-GUI backend, so cannot show the figure.\n",
      "  plt.show()\n"
     ]
    }
   ],
   "source": [
    "plt.figure(figsize=(10, 6))\n",
    "l = list(range(0, 10)) + list(range(10, 32, 2))\n",
    "plt.plot(l, norm_f1_scores, \"o\", label=\"F1-score intervalli [a]\", markersize=10)\n",
    "plt.plot(l, norm_f1_scores2, \"o\", label=\"F1-score intervalli [b]\", markersize=10)\n",
    "plt.plot(l, norm_f1_scores3, \"o\", label=\"F1-score intervalli [c]\", markersize=10)\n",
    "\n",
    "plt.xlabel(\"Iterazione\", fontsize=22)\n",
    "plt.ylabel(\"F1-score\", fontsize=22)\n",
    "\n",
    "plt.xticks(fontsize=16)\n",
    "plt.yticks(fontsize=16)\n",
    "\n",
    "plt.ylim(0, 1)\n",
    "\n",
    "plt.legend(loc=\"upper right\", prop={'size': 16})\n",
    "\n",
    "plt.savefig(\"Micro_comparison_norm_PageRank.png\", dpi=500)\n",
    "plt.show()"
   ]
  },
  {
   "cell_type": "code",
   "execution_count": 60,
   "id": "continuing-wrong",
   "metadata": {},
   "outputs": [
    {
     "name": "stderr",
     "output_type": "stream",
     "text": [
      "/tmp/ipykernel_9271/4222298655.py:14: UserWarning: Matplotlib is currently using pgf, which is a non-GUI backend, so cannot show the figure.\n",
      "  plt.show()\n"
     ]
    }
   ],
   "source": [
    "### PageRank distrib function\n",
    "serie = pd.Series(bet_n)\n",
    "plt.figure(figsize=(10, 6))\n",
    "plt.hist(serie, 200)\n",
    "plt.xlabel(\"Pagerank\", fontsize=22)\n",
    "plt.ylabel(\"Frequenza assoluta\", fontsize=22)\n",
    "plt.xticks(fontsize=16)\n",
    "plt.yticks(fontsize=16)\n",
    "\n",
    "plt.xlim(-0.01, 1)\n",
    "\n",
    "plt.savefig(\"Distribution_norm_PageRank.png\", dpi=500)\n",
    "\n",
    "plt.show()"
   ]
  }
 ],
 "metadata": {
  "kernelspec": {
   "display_name": "Python 3 (ipykernel)",
   "language": "python",
   "name": "python3"
  },
  "language_info": {
   "codemirror_mode": {
    "name": "ipython",
    "version": 3
   },
   "file_extension": ".py",
   "mimetype": "text/x-python",
   "name": "python",
   "nbconvert_exporter": "python",
   "pygments_lexer": "ipython3",
   "version": "3.8.13"
  }
 },
 "nbformat": 4,
 "nbformat_minor": 5
}
