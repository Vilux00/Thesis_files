{
 "cells": [
  {
   "cell_type": "code",
   "execution_count": 18,
   "id": "genetic-communist",
   "metadata": {},
   "outputs": [],
   "source": [
    "### Import useful libraries\n",
    "import pandas as pd\n",
    "import matplotlib.pyplot as plt\n",
    "import numpy as np\n",
    "from sklearn.ensemble import RandomForestClassifier\n",
    "from sklearn.datasets import make_classification\n",
    "from sklearn.model_selection import train_test_split\n",
    "from sklearn import metrics\n",
    "import networkx as nx\n",
    "import time\n",
    "import random\n",
    "import csv\n",
    "%matplotlib inline"
   ]
  },
  {
   "cell_type": "code",
   "execution_count": 19,
   "id": "distinct-preliminary",
   "metadata": {},
   "outputs": [],
   "source": [
    "G = nx.read_edgelist(\"./EDGES_FILE.csv\", create_using=nx.DiGraph)"
   ]
  },
  {
   "cell_type": "code",
   "execution_count": 20,
   "id": "convenient-surrey",
   "metadata": {},
   "outputs": [
    {
     "data": {
      "text/plain": [
       "956"
      ]
     },
     "execution_count": 20,
     "metadata": {},
     "output_type": "execute_result"
    }
   ],
   "source": [
    "len(list(G.nodes()))"
   ]
  },
  {
   "cell_type": "code",
   "execution_count": 21,
   "id": "destroyed-defeat",
   "metadata": {},
   "outputs": [],
   "source": [
    "nodes = []\n",
    "l = list(nx.selfloop_edges(G))\n",
    "for x, _ in l:\n",
    "    if(G.degree(x) == 2): \n",
    "        G.remove_node(x)\n",
    "        nodes.append(x)"
   ]
  },
  {
   "cell_type": "code",
   "execution_count": 22,
   "id": "million-potential",
   "metadata": {},
   "outputs": [
    {
     "data": {
      "text/plain": [
       "778"
      ]
     },
     "execution_count": 22,
     "metadata": {},
     "output_type": "execute_result"
    }
   ],
   "source": [
    "len(list(G.nodes()))"
   ]
  },
  {
   "cell_type": "code",
   "execution_count": 23,
   "id": "charged-excitement",
   "metadata": {},
   "outputs": [
    {
     "name": "stdout",
     "output_type": "stream",
     "text": [
      "Calculated scores in: 0.6924364566802979\n"
     ]
    }
   ],
   "source": [
    "i_time = time.time()\n",
    "bet = nx.pagerank(G)\n",
    "print(f\"Calculated scores in: {time.time() - i_time}\")"
   ]
  },
  {
   "cell_type": "code",
   "execution_count": 24,
   "id": "authorized-means",
   "metadata": {},
   "outputs": [],
   "source": [
    "bet_n = []\n",
    "for i in sorted(list(map(lambda x: int(x), bet.keys()))):\n",
    "    bet_n.append((bet[str(i)] - min(bet.values())) / (max(bet.values()) - min(bet.values())))"
   ]
  },
  {
   "cell_type": "code",
   "execution_count": 25,
   "id": "confused-folks",
   "metadata": {},
   "outputs": [],
   "source": [
    "obj = pd.read_pickle(\"./AVPRA_pred.pickled\")"
   ]
  },
  {
   "cell_type": "markdown",
   "id": "respective-captain",
   "metadata": {},
   "source": [
    "## Interval size 0.05"
   ]
  },
  {
   "cell_type": "code",
   "execution_count": 26,
   "id": "undefined-anchor",
   "metadata": {},
   "outputs": [],
   "source": [
    "node_labels = []\n",
    "for bet_v in bet_n:\n",
    "    for i in range(1, 21):\n",
    "        if(bet_v <= 0.05 * i): \n",
    "            node_labels.append(i)\n",
    "            break"
   ]
  },
  {
   "cell_type": "code",
   "execution_count": 27,
   "id": "municipal-peripheral",
   "metadata": {},
   "outputs": [
    {
     "data": {
      "text/plain": [
       "1     311\n",
       "2     179\n",
       "3      82\n",
       "4      57\n",
       "5      46\n",
       "6      27\n",
       "7      20\n",
       "8      16\n",
       "9      10\n",
       "10      8\n",
       "12      5\n",
       "11      5\n",
       "14      4\n",
       "13      4\n",
       "19      2\n",
       "15      1\n",
       "20      1\n",
       "dtype: int64"
      ]
     },
     "execution_count": 27,
     "metadata": {},
     "output_type": "execute_result"
    }
   ],
   "source": [
    "pd.Series(node_labels).value_counts()"
   ]
  },
  {
   "cell_type": "code",
   "execution_count": 28,
   "id": "political-mandate",
   "metadata": {},
   "outputs": [
    {
     "name": "stdout",
     "output_type": "stream",
     "text": [
      "Completed iteration in 0.08991384506225586\n",
      "Completed iteration in 0.10728001594543457\n",
      "Completed iteration in 0.16416287422180176\n",
      "Completed iteration in 0.20415496826171875\n",
      "Completed iteration in 0.19837617874145508\n",
      "Completed iteration in 0.1885378360748291\n",
      "Completed iteration in 0.19629597663879395\n",
      "Completed iteration in 0.16199588775634766\n",
      "Completed iteration in 0.18377304077148438\n",
      "Completed iteration in 0.17728853225708008\n",
      "Completed iteration in 0.15277528762817383\n",
      "Completed iteration in 0.14177513122558594\n",
      "Completed iteration in 0.19394803047180176\n",
      "Completed iteration in 0.20504188537597656\n",
      "Completed iteration in 0.1781296730041504\n",
      "Completed iteration in 0.14585256576538086\n",
      "Completed iteration in 0.15897417068481445\n",
      "Completed iteration in 0.1841742992401123\n",
      "Completed iteration in 0.20047426223754883\n",
      "Completed iteration in 0.18021035194396973\n",
      "Completed iteration in 0.19020676612854004\n"
     ]
    }
   ],
   "source": [
    "### Random forest classifier creation with 70 trees\n",
    "clf = RandomForestClassifier(n_estimators=70)\n",
    "start_time = time.time()\n",
    "norm_f1_scores = []\n",
    "for res in obj:\n",
    "    start_time = time.time()\n",
    "     \n",
    "    X_data = list(map(lambda x: sorted(x, reverse=True), res[1]))\n",
    "    X_data = [X_data[i] for i in range(len(X_data)) if str(i + 1) not in nodes]\n",
    "    y_data = node_labels\n",
    "\n",
    "    # Split the data into training set and test set\n",
    "    X_train, X_test, y_train, y_test = train_test_split(X_data, y_data, test_size=0.2)\n",
    "\n",
    "    clf.fit(X_train, y_train)\n",
    "\n",
    "    y_pred = clf.predict(X_test)\n",
    "\n",
    "    ### Accuracy metric\n",
    "    norm_f1_scores.append(metrics.f1_score(y_test, y_pred, average=\"micro\"))\n",
    "\n",
    "    print(f\"Completed iteration in {time.time() - start_time}\")"
   ]
  },
  {
   "cell_type": "markdown",
   "id": "specific-princess",
   "metadata": {},
   "source": [
    "### Heterogeneous pt1"
   ]
  },
  {
   "cell_type": "code",
   "execution_count": 29,
   "id": "crude-norwegian",
   "metadata": {},
   "outputs": [],
   "source": [
    "node_labels = []\n",
    "for bet_v in bet_n:\n",
    "    ok = False\n",
    "    for i in range(1, 11):\n",
    "        if(bet_v <= 0.005 * i): \n",
    "            node_labels.append(i)\n",
    "            ok = True\n",
    "            break\n",
    "    if ok: continue\n",
    "    for i in range(1, 6):\n",
    "        if(bet_v <= 0.05 + 0.01 * i):\n",
    "            node_labels.append(10 + i)\n",
    "            ok = True\n",
    "            break\n",
    "    if ok: continue\n",
    "    if(bet_v <= 0.2):\n",
    "        node_labels.append(16)\n",
    "        continue\n",
    "    node_labels.append(17)"
   ]
  },
  {
   "cell_type": "code",
   "execution_count": 30,
   "id": "functioning-seventh",
   "metadata": {},
   "outputs": [
    {
     "data": {
      "text/plain": [
       "17    149\n",
       "16    139\n",
       "11     58\n",
       "2      42\n",
       "1      42\n",
       "12     36\n",
       "9      35\n",
       "5      35\n",
       "7      34\n",
       "13     32\n",
       "3      30\n",
       "15     30\n",
       "6      26\n",
       "8      26\n",
       "14     23\n",
       "10     22\n",
       "4      19\n",
       "dtype: int64"
      ]
     },
     "execution_count": 30,
     "metadata": {},
     "output_type": "execute_result"
    }
   ],
   "source": [
    "pd.Series(node_labels).value_counts()"
   ]
  },
  {
   "cell_type": "code",
   "execution_count": 31,
   "id": "educated-director",
   "metadata": {},
   "outputs": [
    {
     "name": "stdout",
     "output_type": "stream",
     "text": [
      "Iteration completed in 0.10025525093078613\n",
      "Iteration completed in 0.12464237213134766\n",
      "Iteration completed in 0.15751147270202637\n",
      "Iteration completed in 0.17337536811828613\n",
      "Iteration completed in 0.21785473823547363\n",
      "Iteration completed in 0.20355486869812012\n",
      "Iteration completed in 0.1801435947418213\n",
      "Iteration completed in 0.15379595756530762\n",
      "Iteration completed in 0.16820454597473145\n",
      "Iteration completed in 0.15874242782592773\n",
      "Iteration completed in 0.1629347801208496\n",
      "Iteration completed in 0.17173504829406738\n",
      "Iteration completed in 0.20322108268737793\n",
      "Iteration completed in 0.21280503273010254\n",
      "Iteration completed in 0.17417287826538086\n",
      "Iteration completed in 0.16783857345581055\n",
      "Iteration completed in 0.15378904342651367\n",
      "Iteration completed in 0.1814873218536377\n",
      "Iteration completed in 0.20117402076721191\n",
      "Iteration completed in 0.20382046699523926\n",
      "Iteration completed in 0.20479631423950195\n"
     ]
    }
   ],
   "source": [
    "### Random forest classifier creation with 70 trees\n",
    "clf = RandomForestClassifier(n_estimators=70)\n",
    "norm_f1_scores2 = []\n",
    "for res in obj:\n",
    "    start_time = time.time()\n",
    "    \n",
    "    X_data = list(map(lambda x: sorted(x, reverse=True), res[1]))\n",
    "    X_data = [X_data[i] for i in range(len(X_data)) if str(i + 1) not in nodes]\n",
    "    y_data = node_labels\n",
    "\n",
    "    # Split the data into training set and test set\n",
    "    X_train, X_test, y_train, y_test = train_test_split(X_data, y_data, test_size=0.2)\n",
    "\n",
    "    clf.fit(X_train, y_train)\n",
    "\n",
    "    y_pred = clf.predict(X_test)\n",
    "\n",
    "    ### Accuracy metric\n",
    "    norm_f1_scores2.append(metrics.f1_score(y_test, y_pred, average=\"micro\"))\n",
    "    print(f\"Iteration completed in {time.time() - start_time}\")"
   ]
  },
  {
   "cell_type": "markdown",
   "id": "municipal-gossip",
   "metadata": {},
   "source": [
    "### Heterogeneous pt2"
   ]
  },
  {
   "cell_type": "code",
   "execution_count": 32,
   "id": "streaming-recipe",
   "metadata": {},
   "outputs": [],
   "source": [
    "node_labels = []\n",
    "for bet_v in bet_n:\n",
    "    start_val = 0.0001\n",
    "    i = 1\n",
    "    while(True):\n",
    "        if bet_v <= start_val:\n",
    "            node_labels.append(i)\n",
    "            break\n",
    "        else:\n",
    "            i += 1\n",
    "            start_val *= 1.5"
   ]
  },
  {
   "cell_type": "code",
   "execution_count": 33,
   "id": "human-calibration",
   "metadata": {},
   "outputs": [
    {
     "data": {
      "text/plain": [
       "17    107\n",
       "18    100\n",
       "16     90\n",
       "20     84\n",
       "19     79\n",
       "21     64\n",
       "15     59\n",
       "22     41\n",
       "13     31\n",
       "14     28\n",
       "12     24\n",
       "23     19\n",
       "11     14\n",
       "9       9\n",
       "10      8\n",
       "1       7\n",
       "8       4\n",
       "24      3\n",
       "7       3\n",
       "6       2\n",
       "5       1\n",
       "4       1\n",
       "dtype: int64"
      ]
     },
     "execution_count": 33,
     "metadata": {},
     "output_type": "execute_result"
    }
   ],
   "source": [
    "pd.Series(node_labels).value_counts()"
   ]
  },
  {
   "cell_type": "code",
   "execution_count": 34,
   "id": "committed-timeline",
   "metadata": {},
   "outputs": [
    {
     "name": "stdout",
     "output_type": "stream",
     "text": [
      "Iteration completed in 0.09142708778381348\n",
      "Iteration completed in 0.11371183395385742\n",
      "Iteration completed in 0.1513843536376953\n",
      "Iteration completed in 0.16904163360595703\n",
      "Iteration completed in 0.18618059158325195\n",
      "Iteration completed in 0.2247021198272705\n",
      "Iteration completed in 0.22622370719909668\n",
      "Iteration completed in 0.17183327674865723\n",
      "Iteration completed in 0.17145204544067383\n",
      "Iteration completed in 0.16556358337402344\n",
      "Iteration completed in 0.18062615394592285\n",
      "Iteration completed in 0.15452170372009277\n",
      "Iteration completed in 0.20538330078125\n",
      "Iteration completed in 0.21867012977600098\n",
      "Iteration completed in 0.18267560005187988\n",
      "Iteration completed in 0.17493152618408203\n",
      "Iteration completed in 0.15075325965881348\n",
      "Iteration completed in 0.1664445400238037\n",
      "Iteration completed in 0.15489792823791504\n",
      "Iteration completed in 0.16481471061706543\n",
      "Iteration completed in 0.155320405960083\n"
     ]
    }
   ],
   "source": [
    "### Random forest classifier creation with 70 trees\n",
    "clf = RandomForestClassifier(n_estimators=70)\n",
    "norm_f1_scores3 = []\n",
    "for res in obj:\n",
    "    start_time = time.time()\n",
    "    \n",
    "    X_data = list(map(lambda x: sorted(x, reverse=True), res[1]))\n",
    "    X_data = [X_data[i] for i in range(len(X_data)) if str(i + 1) not in nodes]\n",
    "    y_data = node_labels\n",
    "\n",
    "    # Split the data into training set and test set\n",
    "    X_train, X_test, y_train, y_test = train_test_split(X_data, y_data, test_size=0.2)\n",
    "\n",
    "    clf.fit(X_train, y_train)\n",
    "\n",
    "    y_pred = clf.predict(X_test)\n",
    "\n",
    "    ### Accuracy metric\n",
    "    norm_f1_scores3.append(metrics.f1_score(y_test, y_pred, average=\"micro\"))\n",
    "    print(f\"Iteration completed in {time.time() - start_time}\")"
   ]
  },
  {
   "cell_type": "markdown",
   "id": "supposed-satisfaction",
   "metadata": {},
   "source": [
    "## Results"
   ]
  },
  {
   "cell_type": "markdown",
   "id": "productive-essence",
   "metadata": {},
   "source": [
    "### Normalized PageRank"
   ]
  },
  {
   "cell_type": "code",
   "execution_count": 38,
   "id": "southwest-london",
   "metadata": {},
   "outputs": [
    {
     "data": {
      "text/plain": [
       "(0.6089743589743589, 1)"
      ]
     },
     "execution_count": 38,
     "metadata": {},
     "output_type": "execute_result"
    }
   ],
   "source": [
    "max(norm_f1_scores), (list(range(0, 10)) + list(range(10, 32, 2)))[norm_f1_scores.index(max(norm_f1_scores))]"
   ]
  },
  {
   "cell_type": "code",
   "execution_count": 39,
   "id": "understanding-defeat",
   "metadata": {},
   "outputs": [
    {
     "data": {
      "text/plain": [
       "(0.38461538461538464, 1)"
      ]
     },
     "execution_count": 39,
     "metadata": {},
     "output_type": "execute_result"
    }
   ],
   "source": [
    "max(norm_f1_scores2), (list(range(0, 10)) + list(range(10, 32, 2)))[norm_f1_scores2.index(max(norm_f1_scores2))]"
   ]
  },
  {
   "cell_type": "code",
   "execution_count": 40,
   "id": "engaging-accounting",
   "metadata": {},
   "outputs": [
    {
     "data": {
      "text/plain": [
       "(0.358974358974359, 1)"
      ]
     },
     "execution_count": 40,
     "metadata": {},
     "output_type": "execute_result"
    }
   ],
   "source": [
    "max(norm_f1_scores3), (list(range(0, 10)) + list(range(10, 32, 2)))[norm_f1_scores3.index(max(norm_f1_scores3))]"
   ]
  },
  {
   "cell_type": "markdown",
   "id": "alive-franchise",
   "metadata": {},
   "source": [
    "### Graphs creation"
   ]
  },
  {
   "cell_type": "code",
   "execution_count": 41,
   "id": "chronic-execution",
   "metadata": {},
   "outputs": [],
   "source": [
    "import matplotlib\n",
    "matplotlib.use(\"pgf\")\n",
    "matplotlib.rcParams.update({\n",
    "    \"pgf.texsystem\": \"pdflatex\",\n",
    "    'font.family': 'serif',\n",
    "    'text.usetex': True,\n",
    "    'pgf.rcfonts': False\n",
    "})"
   ]
  },
  {
   "cell_type": "code",
   "execution_count": 42,
   "id": "broke-niger",
   "metadata": {},
   "outputs": [
    {
     "name": "stderr",
     "output_type": "stream",
     "text": [
      "/tmp/ipykernel_13150/135637930.py:18: UserWarning: Matplotlib is currently using pgf, which is a non-GUI backend, so cannot show the figure.\n",
      "  plt.show()\n"
     ]
    }
   ],
   "source": [
    "plt.figure(figsize=(10, 6))\n",
    "l = list(range(0, 10)) + list(range(10, 32, 2))\n",
    "plt.plot(l, norm_f1_scores, \"o\", label=\"F1-score intervalli [a]\", markersize=10)\n",
    "plt.plot(l, norm_f1_scores2, \"o\", label=\"F1-score intervalli [b]\", markersize=10)\n",
    "plt.plot(l, norm_f1_scores3, \"o\", label=\"F1-score intervalli [c]\", markersize=10)\n",
    "\n",
    "plt.xlabel(\"Iterazione\", fontsize=22)\n",
    "plt.ylabel(\"F1-score\", fontsize=22)\n",
    "\n",
    "plt.xticks(fontsize=16)\n",
    "plt.yticks(fontsize=16)\n",
    "\n",
    "plt.ylim(0, 1)\n",
    "\n",
    "plt.legend(loc=\"upper right\", prop={'size': 16})\n",
    "\n",
    "plt.savefig(\"Micro_comparison_norm_PageRank.png\", dpi=500)\n",
    "plt.show()"
   ]
  },
  {
   "cell_type": "code",
   "execution_count": 43,
   "id": "given-carroll",
   "metadata": {},
   "outputs": [
    {
     "name": "stderr",
     "output_type": "stream",
     "text": [
      "/tmp/ipykernel_13150/4222298655.py:14: UserWarning: Matplotlib is currently using pgf, which is a non-GUI backend, so cannot show the figure.\n",
      "  plt.show()\n"
     ]
    }
   ],
   "source": [
    "### PageRank distrib function\n",
    "serie = pd.Series(bet_n)\n",
    "plt.figure(figsize=(10, 6))\n",
    "plt.hist(serie, 200)\n",
    "plt.xlabel(\"Pagerank\", fontsize=22)\n",
    "plt.ylabel(\"Frequenza assoluta\", fontsize=22)\n",
    "plt.xticks(fontsize=16)\n",
    "plt.yticks(fontsize=16)\n",
    "\n",
    "plt.xlim(-0.01, 1)\n",
    "\n",
    "plt.savefig(\"Distribution_norm_PageRank.png\", dpi=500)\n",
    "\n",
    "plt.show()"
   ]
  },
  {
   "cell_type": "code",
   "execution_count": null,
   "id": "institutional-roberts",
   "metadata": {},
   "outputs": [],
   "source": []
  }
 ],
 "metadata": {
  "kernelspec": {
   "display_name": "Python 3 (ipykernel)",
   "language": "python",
   "name": "python3"
  },
  "language_info": {
   "codemirror_mode": {
    "name": "ipython",
    "version": 3
   },
   "file_extension": ".py",
   "mimetype": "text/x-python",
   "name": "python",
   "nbconvert_exporter": "python",
   "pygments_lexer": "ipython3",
   "version": "3.8.13"
  }
 },
 "nbformat": 4,
 "nbformat_minor": 5
}
