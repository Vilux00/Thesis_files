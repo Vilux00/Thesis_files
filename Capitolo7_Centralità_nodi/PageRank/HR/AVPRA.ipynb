{
 "cells": [
  {
   "cell_type": "code",
   "execution_count": 1,
   "id": "genetic-communist",
   "metadata": {},
   "outputs": [],
   "source": [
    "### Import useful libraries\n",
    "import pandas as pd\n",
    "import matplotlib.pyplot as plt\n",
    "import numpy as np\n",
    "from sklearn.ensemble import RandomForestClassifier\n",
    "from sklearn.datasets import make_classification\n",
    "from sklearn.model_selection import train_test_split\n",
    "from sklearn import metrics\n",
    "import networkx as nx\n",
    "import time\n",
    "import random\n",
    "import csv\n",
    "%matplotlib inline"
   ]
  },
  {
   "cell_type": "code",
   "execution_count": 2,
   "id": "distinct-preliminary",
   "metadata": {},
   "outputs": [],
   "source": [
    "G = nx.read_edgelist(\"./HR_edges_norm.csv\")"
   ]
  },
  {
   "cell_type": "code",
   "execution_count": 3,
   "id": "charged-excitement",
   "metadata": {},
   "outputs": [
    {
     "name": "stdout",
     "output_type": "stream",
     "text": [
      "Computed pagerank in: 1.9416282176971436\n"
     ]
    }
   ],
   "source": [
    "i_time = time.time()\n",
    "bet = nx.pagerank(G)\n",
    "print(f\"Computed pagerank in: {time.time() - i_time}\")"
   ]
  },
  {
   "cell_type": "code",
   "execution_count": 4,
   "id": "authorized-means",
   "metadata": {},
   "outputs": [],
   "source": [
    "# Pagerank scores list and normalized scores list creation\n",
    "bet_n = []\n",
    "max_v = max(bet.values())\n",
    "min_v = min(bet.values())\n",
    "for i in range(1, len(bet) + 1):\n",
    "    bet_n.append((bet[str(i)] - min_v) / (max_v - min_v))"
   ]
  },
  {
   "cell_type": "code",
   "execution_count": 5,
   "id": "prospective-economics",
   "metadata": {},
   "outputs": [],
   "source": [
    "obj = pd.read_pickle(\"./HR.pickled\")"
   ]
  },
  {
   "cell_type": "markdown",
   "id": "micro-hammer",
   "metadata": {},
   "source": [
    "# Pagerank scores classification"
   ]
  },
  {
   "cell_type": "markdown",
   "id": "respective-captain",
   "metadata": {},
   "source": [
    "## Interval size 0.05"
   ]
  },
  {
   "cell_type": "code",
   "execution_count": 16,
   "id": "undefined-anchor",
   "metadata": {},
   "outputs": [],
   "source": [
    "node_labels = []\n",
    "for bet_v in bet_n:\n",
    "    for i in range(1, 21):\n",
    "        if(bet_v <= 0.05 * i): \n",
    "            node_labels.append(i)\n",
    "            break"
   ]
  },
  {
   "cell_type": "code",
   "execution_count": 17,
   "id": "municipal-peripheral",
   "metadata": {},
   "outputs": [
    {
     "data": {
      "text/plain": [
       "1     33183\n",
       "2     16824\n",
       "3      3428\n",
       "4       739\n",
       "5       216\n",
       "6        93\n",
       "7        41\n",
       "8        23\n",
       "9        10\n",
       "10        7\n",
       "11        3\n",
       "12        2\n",
       "20        2\n",
       "13        1\n",
       "15        1\n",
       "dtype: int64"
      ]
     },
     "execution_count": 17,
     "metadata": {},
     "output_type": "execute_result"
    }
   ],
   "source": [
    "pd.Series(node_labels).value_counts()"
   ]
  },
  {
   "cell_type": "code",
   "execution_count": 18,
   "id": "political-mandate",
   "metadata": {},
   "outputs": [
    {
     "name": "stdout",
     "output_type": "stream",
     "text": [
      "Completed iteration in 1.8630142211914062\n",
      "Completed iteration in 10.07777714729309\n",
      "Completed iteration in 20.439276218414307\n",
      "Completed iteration in 30.209795236587524\n",
      "Completed iteration in 32.71586871147156\n",
      "Completed iteration in 34.38589692115784\n",
      "Completed iteration in 32.41056799888611\n",
      "Completed iteration in 33.71754240989685\n",
      "Completed iteration in 35.42132115364075\n",
      "Completed iteration in 32.788265228271484\n",
      "Completed iteration in 32.64391899108887\n",
      "Completed iteration in 32.24184799194336\n",
      "Completed iteration in 34.07928657531738\n",
      "Completed iteration in 33.41324710845947\n",
      "Completed iteration in 34.79125952720642\n",
      "Completed iteration in 32.29947519302368\n",
      "Completed iteration in 32.53772807121277\n",
      "Completed iteration in 31.96491289138794\n",
      "Completed iteration in 31.979134798049927\n",
      "Completed iteration in 32.86782884597778\n",
      "Completed iteration in 30.906912088394165\n"
     ]
    }
   ],
   "source": [
    "### Random forest classifier creation with 70 trees\n",
    "clf = RandomForestClassifier(n_estimators=70)\n",
    "start_time = time.time()\n",
    "norm_f1_scores = []\n",
    "for res in obj:\n",
    "    start_time = time.time()\n",
    "     \n",
    "    X_data = list(map(lambda x: sorted(x, reverse=True), res[1]))\n",
    "    y_data = node_labels\n",
    "\n",
    "    # Split the data into training set and test set\n",
    "    X_train, X_test, y_train, y_test = train_test_split(X_data, y_data, test_size=0.2)\n",
    "\n",
    "    clf.fit(X_train, y_train)\n",
    "\n",
    "    y_pred = clf.predict(X_test)\n",
    "\n",
    "    ### Accuracy metric\n",
    "    norm_f1_scores.append(metrics.f1_score(y_test, y_pred, average=\"micro\"))\n",
    "\n",
    "    print(f\"Completed iteration in {time.time() - start_time}\")"
   ]
  },
  {
   "cell_type": "markdown",
   "id": "specific-princess",
   "metadata": {},
   "source": [
    "### Heterogeneous pt1"
   ]
  },
  {
   "cell_type": "code",
   "execution_count": 19,
   "id": "crude-norwegian",
   "metadata": {},
   "outputs": [],
   "source": [
    "node_labels = []\n",
    "for bet_v in bet_n:\n",
    "    ok = False\n",
    "    for i in range(1, 11):\n",
    "        if(bet_v <= 0.005 * i): \n",
    "            node_labels.append(i)\n",
    "            ok = True\n",
    "            break\n",
    "    if ok: continue\n",
    "    for i in range(1, 6):\n",
    "        if(bet_v <= 0.05 + 0.01 * i):\n",
    "            node_labels.append(10 + i)\n",
    "            ok = True\n",
    "            break\n",
    "    if ok: continue\n",
    "    if(bet_v <= 0.2):\n",
    "        node_labels.append(16)\n",
    "        continue\n",
    "    node_labels.append(17)"
   ]
  },
  {
   "cell_type": "code",
   "execution_count": 20,
   "id": "functioning-seventh",
   "metadata": {},
   "outputs": [
    {
     "data": {
      "text/plain": [
       "11    4941\n",
       "12    4221\n",
       "16    4167\n",
       "4     3936\n",
       "5     3841\n",
       "3     3718\n",
       "6     3702\n",
       "7     3592\n",
       "13    3379\n",
       "2     3265\n",
       "8     3182\n",
       "9     2905\n",
       "10    2717\n",
       "14    2513\n",
       "1     2325\n",
       "15    1770\n",
       "17     399\n",
       "dtype: int64"
      ]
     },
     "execution_count": 20,
     "metadata": {},
     "output_type": "execute_result"
    }
   ],
   "source": [
    "pd.Series(node_labels).value_counts()"
   ]
  },
  {
   "cell_type": "code",
   "execution_count": 21,
   "id": "educated-director",
   "metadata": {},
   "outputs": [
    {
     "name": "stdout",
     "output_type": "stream",
     "text": [
      "Iteration completed in 1.8900508880615234\n",
      "Iteration completed in 11.135456085205078\n",
      "Iteration completed in 21.731714487075806\n",
      "Iteration completed in 35.84219694137573\n",
      "Iteration completed in 40.106719732284546\n",
      "Iteration completed in 43.95417380332947\n",
      "Iteration completed in 42.817848682403564\n",
      "Iteration completed in 41.02334189414978\n",
      "Iteration completed in 39.19133496284485\n",
      "Iteration completed in 41.52335739135742\n",
      "Iteration completed in 40.12421703338623\n",
      "Iteration completed in 40.92211675643921\n",
      "Iteration completed in 38.6001718044281\n",
      "Iteration completed in 37.67082619667053\n",
      "Iteration completed in 35.78271269798279\n",
      "Iteration completed in 36.111549377441406\n",
      "Iteration completed in 39.48486542701721\n",
      "Iteration completed in 40.33783578872681\n",
      "Iteration completed in 40.44921278953552\n",
      "Iteration completed in 42.15825176239014\n",
      "Iteration completed in 42.246198654174805\n"
     ]
    }
   ],
   "source": [
    "### Random forest classifier creation with 70 trees\n",
    "clf = RandomForestClassifier(n_estimators=70)\n",
    "norm_f1_scores2 = []\n",
    "for res in obj:\n",
    "    start_time = time.time()\n",
    "    \n",
    "    X_data = list(map(lambda x: sorted(x, reverse=True), res[1]))\n",
    "    y_data = node_labels\n",
    "\n",
    "    # Split the data into training set and test set\n",
    "    X_train, X_test, y_train, y_test = train_test_split(X_data, y_data, test_size=0.2)\n",
    "\n",
    "    clf.fit(X_train, y_train)\n",
    "\n",
    "    y_pred = clf.predict(X_test)\n",
    "\n",
    "    ### Accuracy metric\n",
    "    norm_f1_scores2.append(metrics.f1_score(y_test, y_pred, average=\"micro\"))\n",
    "    print(f\"Iteration completed in {time.time() - start_time}\")"
   ]
  },
  {
   "cell_type": "markdown",
   "id": "municipal-gossip",
   "metadata": {},
   "source": [
    "### Heterogeneous pt2"
   ]
  },
  {
   "cell_type": "code",
   "execution_count": 22,
   "id": "streaming-recipe",
   "metadata": {},
   "outputs": [],
   "source": [
    "node_labels = []\n",
    "for bet_v in bet_n:\n",
    "    start_val = 0.0001\n",
    "    i = 1\n",
    "    while(True):\n",
    "        if bet_v <= start_val:\n",
    "            node_labels.append(i)\n",
    "            break\n",
    "        else:\n",
    "            i += 1\n",
    "            start_val *= 1.5"
   ]
  },
  {
   "cell_type": "code",
   "execution_count": 23,
   "id": "human-calibration",
   "metadata": {},
   "outputs": [
    {
     "data": {
      "text/plain": [
       "17    10852\n",
       "16     9571\n",
       "18     9154\n",
       "15     7382\n",
       "14     5082\n",
       "19     3578\n",
       "13     3124\n",
       "12     1853\n",
       "11     1103\n",
       "20      935\n",
       "10      712\n",
       "9       416\n",
       "8       248\n",
       "21      207\n",
       "7       147\n",
       "6        84\n",
       "22       50\n",
       "5        38\n",
       "4        17\n",
       "23        7\n",
       "1         5\n",
       "3         4\n",
       "2         2\n",
       "24        2\n",
       "dtype: int64"
      ]
     },
     "execution_count": 23,
     "metadata": {},
     "output_type": "execute_result"
    }
   ],
   "source": [
    "pd.Series(node_labels).value_counts()"
   ]
  },
  {
   "cell_type": "code",
   "execution_count": 24,
   "id": "committed-timeline",
   "metadata": {},
   "outputs": [
    {
     "name": "stdout",
     "output_type": "stream",
     "text": [
      "Iteration completed in 2.0193185806274414\n",
      "Iteration completed in 12.308707475662231\n",
      "Iteration completed in 24.042680978775024\n",
      "Iteration completed in 35.77869987487793\n",
      "Iteration completed in 39.712952613830566\n",
      "Iteration completed in 41.069998025894165\n",
      "Iteration completed in 43.74008750915527\n",
      "Iteration completed in 42.0943546295166\n",
      "Iteration completed in 42.35682010650635\n",
      "Iteration completed in 42.444491386413574\n",
      "Iteration completed in 42.5054931640625\n",
      "Iteration completed in 44.201284646987915\n",
      "Iteration completed in 44.90153455734253\n",
      "Iteration completed in 49.603527784347534\n",
      "Iteration completed in 46.77486729621887\n",
      "Iteration completed in 45.499577045440674\n",
      "Iteration completed in 44.63865852355957\n",
      "Iteration completed in 44.6585636138916\n",
      "Iteration completed in 45.07160806655884\n",
      "Iteration completed in 45.91462516784668\n",
      "Iteration completed in 46.38460564613342\n"
     ]
    }
   ],
   "source": [
    "### Random forest classifier creation with 70 trees\n",
    "clf = RandomForestClassifier(n_estimators=70)\n",
    "norm_f1_scores3 = []\n",
    "for res in obj:\n",
    "    start_time = time.time()\n",
    "    \n",
    "    X_data = list(map(lambda x: sorted(x, reverse=True), res[1]))\n",
    "    y_data = node_labels\n",
    "\n",
    "    # Split the data into training set and test set\n",
    "    X_train, X_test, y_train, y_test = train_test_split(X_data, y_data, test_size=0.2)\n",
    "\n",
    "    clf.fit(X_train, y_train)\n",
    "\n",
    "    y_pred = clf.predict(X_test)\n",
    "\n",
    "    ### Accuracy metric\n",
    "    norm_f1_scores3.append(metrics.f1_score(y_test, y_pred, average=\"micro\"))\n",
    "    print(f\"Iteration completed in {time.time() - start_time}\")"
   ]
  },
  {
   "cell_type": "markdown",
   "id": "boolean-retrieval",
   "metadata": {},
   "source": [
    "## Results"
   ]
  },
  {
   "cell_type": "markdown",
   "id": "honey-admission",
   "metadata": {},
   "source": [
    "### Normalized PageRank"
   ]
  },
  {
   "cell_type": "code",
   "execution_count": 28,
   "id": "stable-concert",
   "metadata": {},
   "outputs": [
    {
     "data": {
      "text/plain": [
       "(0.8200641319285386, 1)"
      ]
     },
     "execution_count": 28,
     "metadata": {},
     "output_type": "execute_result"
    }
   ],
   "source": [
    "max(norm_f1_scores), (list(range(0, 10)) + list(range(10, 32, 2)))[norm_f1_scores.index(max(norm_f1_scores))]"
   ]
  },
  {
   "cell_type": "code",
   "execution_count": 29,
   "id": "about-identifier",
   "metadata": {},
   "outputs": [
    {
     "data": {
      "text/plain": [
       "(0.273843334860284, 1)"
      ]
     },
     "execution_count": 29,
     "metadata": {},
     "output_type": "execute_result"
    }
   ],
   "source": [
    "max(norm_f1_scores2), (list(range(0, 10)) + list(range(10, 32, 2)))[norm_f1_scores2.index(max(norm_f1_scores2))]"
   ]
  },
  {
   "cell_type": "code",
   "execution_count": 30,
   "id": "focused-thunder",
   "metadata": {},
   "outputs": [
    {
     "data": {
      "text/plain": [
       "(0.4238204306000916, 1)"
      ]
     },
     "execution_count": 30,
     "metadata": {},
     "output_type": "execute_result"
    }
   ],
   "source": [
    "max(norm_f1_scores3), (list(range(0, 10)) + list(range(10, 32, 2)))[norm_f1_scores3.index(max(norm_f1_scores3))]"
   ]
  },
  {
   "cell_type": "markdown",
   "id": "alive-franchise",
   "metadata": {},
   "source": [
    "### Graphs creation"
   ]
  },
  {
   "cell_type": "code",
   "execution_count": 31,
   "id": "chronic-execution",
   "metadata": {},
   "outputs": [],
   "source": [
    "import matplotlib\n",
    "matplotlib.use(\"pgf\")\n",
    "matplotlib.rcParams.update({\n",
    "    \"pgf.texsystem\": \"pdflatex\",\n",
    "    'font.family': 'serif',\n",
    "    'text.usetex': True,\n",
    "    'pgf.rcfonts': False\n",
    "})"
   ]
  },
  {
   "cell_type": "code",
   "execution_count": 33,
   "id": "conditional-carroll",
   "metadata": {},
   "outputs": [
    {
     "name": "stderr",
     "output_type": "stream",
     "text": [
      "/tmp/ipykernel_9502/135637930.py:18: UserWarning: Matplotlib is currently using pgf, which is a non-GUI backend, so cannot show the figure.\n",
      "  plt.show()\n"
     ]
    }
   ],
   "source": [
    "plt.figure(figsize=(10, 6))\n",
    "l = list(range(0, 10)) + list(range(10, 32, 2))\n",
    "plt.plot(l, norm_f1_scores, \"o\", label=\"F1-score intervalli [a]\", markersize=10)\n",
    "plt.plot(l, norm_f1_scores2, \"o\", label=\"F1-score intervalli [b]\", markersize=10)\n",
    "plt.plot(l, norm_f1_scores3, \"o\", label=\"F1-score intervalli [c]\", markersize=10)\n",
    "\n",
    "plt.xlabel(\"Iterazione\", fontsize=22)\n",
    "plt.ylabel(\"F1-score\", fontsize=22)\n",
    "\n",
    "plt.xticks(fontsize=16)\n",
    "plt.yticks(fontsize=16)\n",
    "\n",
    "plt.ylim(0, 1)\n",
    "\n",
    "plt.legend(loc=\"upper right\", prop={'size': 16})\n",
    "\n",
    "plt.savefig(\"Micro_comparison_norm_PageRank.png\", dpi=500)\n",
    "plt.show()"
   ]
  },
  {
   "cell_type": "code",
   "execution_count": 35,
   "id": "suburban-liechtenstein",
   "metadata": {},
   "outputs": [
    {
     "name": "stderr",
     "output_type": "stream",
     "text": [
      "/tmp/ipykernel_9502/4222298655.py:14: UserWarning: Matplotlib is currently using pgf, which is a non-GUI backend, so cannot show the figure.\n",
      "  plt.show()\n"
     ]
    }
   ],
   "source": [
    "### PageRank distrib function\n",
    "serie = pd.Series(bet_n)\n",
    "plt.figure(figsize=(10, 6))\n",
    "plt.hist(serie, 200)\n",
    "plt.xlabel(\"Pagerank\", fontsize=22)\n",
    "plt.ylabel(\"Frequenza assoluta\", fontsize=22)\n",
    "plt.xticks(fontsize=16)\n",
    "plt.yticks(fontsize=16)\n",
    "\n",
    "plt.xlim(-0.01, 1)\n",
    "\n",
    "plt.savefig(\"Distribution_norm_PageRank.png\", dpi=500)\n",
    "\n",
    "plt.show()"
   ]
  },
  {
   "cell_type": "code",
   "execution_count": null,
   "id": "institutional-roberts",
   "metadata": {},
   "outputs": [],
   "source": []
  },
  {
   "cell_type": "code",
   "execution_count": null,
   "id": "unauthorized-norman",
   "metadata": {},
   "outputs": [],
   "source": []
  }
 ],
 "metadata": {
  "kernelspec": {
   "display_name": "Python 3 (ipykernel)",
   "language": "python",
   "name": "python3"
  },
  "language_info": {
   "codemirror_mode": {
    "name": "ipython",
    "version": 3
   },
   "file_extension": ".py",
   "mimetype": "text/x-python",
   "name": "python",
   "nbconvert_exporter": "python",
   "pygments_lexer": "ipython3",
   "version": "3.8.13"
  }
 },
 "nbformat": 4,
 "nbformat_minor": 5
}
