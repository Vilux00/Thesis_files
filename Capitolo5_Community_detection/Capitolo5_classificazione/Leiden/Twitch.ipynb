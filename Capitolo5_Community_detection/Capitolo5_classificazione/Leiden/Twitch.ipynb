{
 "cells": [
  {
   "cell_type": "code",
   "execution_count": 1,
   "id": "aggressive-premiere",
   "metadata": {},
   "outputs": [
    {
     "name": "stdout",
     "output_type": "stream",
     "text": [
      "Note: to be able to use all crisp methods, you need to install some additional packages:  {'wurlitzer', 'graph_tool'}\n",
      "Note: to be able to use all overlapping methods, you need to install some additional packages:  {'ASLPAw'}\n",
      "Note: to be able to use all bipartite methods, you need to install some additional packages:  {'wurlitzer'}\n"
     ]
    }
   ],
   "source": [
    "### Import useful libraries\n",
    "import pandas as pd\n",
    "import matplotlib.pyplot as plt\n",
    "import numpy as np\n",
    "from sklearn.ensemble import RandomForestClassifier\n",
    "from sklearn.datasets import make_classification\n",
    "from sklearn.model_selection import train_test_split\n",
    "from sklearn import metrics\n",
    "import networkx as nx\n",
    "import time\n",
    "from cdlib import algorithms\n",
    "import random\n",
    "import csv\n",
    "%matplotlib inline"
   ]
  },
  {
   "cell_type": "code",
   "execution_count": 2,
   "id": "illegal-vinyl",
   "metadata": {},
   "outputs": [],
   "source": [
    "### Identifying Leiden communities\n",
    "network = nx.read_edgelist(\"./edges_norm.csv\")\n",
    "nodes = network.nodes()\n",
    "comms = algorithms.leiden(network)"
   ]
  },
  {
   "cell_type": "code",
   "execution_count": 3,
   "id": "owned-return",
   "metadata": {},
   "outputs": [],
   "source": [
    "comms_dict = comms.to_node_community_map()"
   ]
  },
  {
   "cell_type": "code",
   "execution_count": 4,
   "id": "demonstrated-region",
   "metadata": {},
   "outputs": [],
   "source": [
    "comms_list = [comms_dict.get(str(i))[0] for i in range(1, len(comms_dict) + 1)]\n",
    "with open(\"twitch_leid_comms.csv\", \"w\") as f:\n",
    "    writer = csv.writer(f, delimiter=\";\")\n",
    "    writer.writerow(comms_list)"
   ]
  },
  {
   "cell_type": "markdown",
   "id": "eligible-texas",
   "metadata": {},
   "source": [
    "### DW"
   ]
  },
  {
   "cell_type": "code",
   "execution_count": 5,
   "id": "architectural-teacher",
   "metadata": {},
   "outputs": [],
   "source": [
    "### Getting total tests number\n",
    "tests_num = 0\n",
    "exec_time = []\n",
    "walk_num = []\n",
    "walk_len = []\n",
    "with open(\"./Twitch_dw/twitch_dw_info.txt\", \"r\") as f:\n",
    "    lines = f.readlines()\n",
    "    for line in lines:\n",
    "        if \"Test\" in line:\n",
    "            tests_num += 1\n",
    "        if \"walk_length:\" in line:\n",
    "            walk_len.append(float(line[13:-1]))\n",
    "        if \"num_walk:\" in line:\n",
    "            walk_num.append(float(line[9:-1]))\n",
    "        if \"Embedding\" in line:\n",
    "            exec_time.append(float(line[31:-2]))"
   ]
  },
  {
   "cell_type": "code",
   "execution_count": 6,
   "id": "jewish-mathematics",
   "metadata": {},
   "outputs": [
    {
     "name": "stdout",
     "output_type": "stream",
     "text": [
      "Completed iteration in: 103.45653533935547\n",
      "Completed iteration in: 98.68963623046875\n",
      "Completed iteration in: 105.90389013290405\n",
      "Completed iteration in: 97.12405157089233\n",
      "Completed iteration in: 98.16132926940918\n",
      "Completed iteration in: 99.29832911491394\n"
     ]
    }
   ],
   "source": [
    "f1_scores = []\n",
    "f1_scores_macro = []\n",
    "f1_scores_weigh = []\n",
    "for i in range(tests_num):\n",
    "    ### Random forest classifier creation with 70 trees\n",
    "    clf = RandomForestClassifier(n_estimators=70)\n",
    "    start_time = time.time()\n",
    "    s_t = time.time()\n",
    "    # Input \n",
    "    X_data = pd.read_csv(\"./Twitch_dw/dw_emb_vectors\" + str(i) + \".csv\", header=None, sep=\";\").values.tolist()\n",
    "\n",
    "    \n",
    "    y_data = [comms_dict.get(str(i))[0] for i in range(1, len(comms_dict) + 1)]\n",
    "\n",
    "    # Split the data into training set and test set\n",
    "    X_train, X_test, y_train, y_test = train_test_split(X_data, y_data, test_size=0.2)\n",
    "\n",
    "    clf.fit(X_train, y_train)\n",
    "\n",
    "    y_pred = clf.predict(X_test)\n",
    "\n",
    "    ### Accuracy metric\n",
    "    f1_scores.append(metrics.f1_score(y_test, y_pred, average=\"micro\"))\n",
    "    f1_scores_macro.append(metrics.f1_score(y_test, y_pred, average=\"macro\"))\n",
    "    f1_scores_weigh.append(metrics.f1_score(y_test, y_pred, average=\"weighted\"))\n",
    "    print(\"Completed iteration in:\", time.time() - s_t)\n",
    "\n",
    "    end_time = time.time()"
   ]
  },
  {
   "cell_type": "code",
   "execution_count": 7,
   "id": "technical-engine",
   "metadata": {},
   "outputs": [
    {
     "data": {
      "text/html": [
       "<div>\n",
       "<style scoped>\n",
       "    .dataframe tbody tr th:only-of-type {\n",
       "        vertical-align: middle;\n",
       "    }\n",
       "\n",
       "    .dataframe tbody tr th {\n",
       "        vertical-align: top;\n",
       "    }\n",
       "\n",
       "    .dataframe thead th {\n",
       "        text-align: right;\n",
       "    }\n",
       "</style>\n",
       "<table border=\"1\" class=\"dataframe\">\n",
       "  <thead>\n",
       "    <tr style=\"text-align: right;\">\n",
       "      <th></th>\n",
       "      <th>Micro</th>\n",
       "      <th>Macro</th>\n",
       "      <th>Weigh</th>\n",
       "    </tr>\n",
       "  </thead>\n",
       "  <tbody>\n",
       "    <tr>\n",
       "      <th>count</th>\n",
       "      <td>6.000000</td>\n",
       "      <td>6.000000</td>\n",
       "      <td>6.000000</td>\n",
       "    </tr>\n",
       "    <tr>\n",
       "      <th>mean</th>\n",
       "      <td>0.843743</td>\n",
       "      <td>0.907477</td>\n",
       "      <td>0.843416</td>\n",
       "    </tr>\n",
       "    <tr>\n",
       "      <th>std</th>\n",
       "      <td>0.010358</td>\n",
       "      <td>0.010005</td>\n",
       "      <td>0.010491</td>\n",
       "    </tr>\n",
       "    <tr>\n",
       "      <th>min</th>\n",
       "      <td>0.823454</td>\n",
       "      <td>0.888398</td>\n",
       "      <td>0.822756</td>\n",
       "    </tr>\n",
       "    <tr>\n",
       "      <th>25%</th>\n",
       "      <td>0.845047</td>\n",
       "      <td>0.907594</td>\n",
       "      <td>0.845070</td>\n",
       "    </tr>\n",
       "    <tr>\n",
       "      <th>50%</th>\n",
       "      <td>0.846073</td>\n",
       "      <td>0.909769</td>\n",
       "      <td>0.845772</td>\n",
       "    </tr>\n",
       "    <tr>\n",
       "      <th>75%</th>\n",
       "      <td>0.848482</td>\n",
       "      <td>0.911812</td>\n",
       "      <td>0.848200</td>\n",
       "    </tr>\n",
       "    <tr>\n",
       "      <th>max</th>\n",
       "      <td>0.852869</td>\n",
       "      <td>0.917565</td>\n",
       "      <td>0.852353</td>\n",
       "    </tr>\n",
       "  </tbody>\n",
       "</table>\n",
       "</div>"
      ],
      "text/plain": [
       "          Micro     Macro     Weigh\n",
       "count  6.000000  6.000000  6.000000\n",
       "mean   0.843743  0.907477  0.843416\n",
       "std    0.010358  0.010005  0.010491\n",
       "min    0.823454  0.888398  0.822756\n",
       "25%    0.845047  0.907594  0.845070\n",
       "50%    0.846073  0.909769  0.845772\n",
       "75%    0.848482  0.911812  0.848200\n",
       "max    0.852869  0.917565  0.852353"
      ]
     },
     "execution_count": 7,
     "metadata": {},
     "output_type": "execute_result"
    }
   ],
   "source": [
    "df = pd.DataFrame(columns = [\"Micro\", 'Macro', 'Weigh'])\n",
    "df[\"Micro\"] = pd.Series(f1_scores).describe()\n",
    "df[\"Weigh\"] = pd.Series(f1_scores_weigh).describe()\n",
    "df[\"Macro\"] = pd.Series(f1_scores_macro).describe()\n",
    "df"
   ]
  },
  {
   "cell_type": "code",
   "execution_count": 8,
   "id": "promotional-disney",
   "metadata": {},
   "outputs": [
    {
     "data": {
      "text/html": [
       "<div>\n",
       "<style scoped>\n",
       "    .dataframe tbody tr th:only-of-type {\n",
       "        vertical-align: middle;\n",
       "    }\n",
       "\n",
       "    .dataframe tbody tr th {\n",
       "        vertical-align: top;\n",
       "    }\n",
       "\n",
       "    .dataframe thead th {\n",
       "        text-align: right;\n",
       "    }\n",
       "</style>\n",
       "<table border=\"1\" class=\"dataframe\">\n",
       "  <thead>\n",
       "    <tr style=\"text-align: right;\">\n",
       "      <th></th>\n",
       "      <th>F1-micro</th>\n",
       "      <th>Exec time</th>\n",
       "      <th>walk_num</th>\n",
       "      <th>walk_len</th>\n",
       "    </tr>\n",
       "  </thead>\n",
       "  <tbody>\n",
       "    <tr>\n",
       "      <th>0</th>\n",
       "      <td>0.823454</td>\n",
       "      <td>430.843513</td>\n",
       "      <td>10.0</td>\n",
       "      <td>5.0</td>\n",
       "    </tr>\n",
       "    <tr>\n",
       "      <th>2</th>\n",
       "      <td>0.844868</td>\n",
       "      <td>1684.428942</td>\n",
       "      <td>40.0</td>\n",
       "      <td>5.0</td>\n",
       "    </tr>\n",
       "    <tr>\n",
       "      <th>1</th>\n",
       "      <td>0.845582</td>\n",
       "      <td>852.987108</td>\n",
       "      <td>20.0</td>\n",
       "      <td>5.0</td>\n",
       "    </tr>\n",
       "    <tr>\n",
       "      <th>5</th>\n",
       "      <td>0.846563</td>\n",
       "      <td>4032.707988</td>\n",
       "      <td>40.0</td>\n",
       "      <td>10.0</td>\n",
       "    </tr>\n",
       "    <tr>\n",
       "      <th>3</th>\n",
       "      <td>0.849121</td>\n",
       "      <td>1034.079826</td>\n",
       "      <td>10.0</td>\n",
       "      <td>10.0</td>\n",
       "    </tr>\n",
       "    <tr>\n",
       "      <th>4</th>\n",
       "      <td>0.852869</td>\n",
       "      <td>2063.098696</td>\n",
       "      <td>20.0</td>\n",
       "      <td>10.0</td>\n",
       "    </tr>\n",
       "  </tbody>\n",
       "</table>\n",
       "</div>"
      ],
      "text/plain": [
       "   F1-micro    Exec time  walk_num  walk_len\n",
       "0  0.823454   430.843513      10.0       5.0\n",
       "2  0.844868  1684.428942      40.0       5.0\n",
       "1  0.845582   852.987108      20.0       5.0\n",
       "5  0.846563  4032.707988      40.0      10.0\n",
       "3  0.849121  1034.079826      10.0      10.0\n",
       "4  0.852869  2063.098696      20.0      10.0"
      ]
     },
     "execution_count": 8,
     "metadata": {},
     "output_type": "execute_result"
    }
   ],
   "source": [
    "pd.DataFrame(list(zip(f1_scores, exec_time, walk_num, walk_len)),\n",
    "               columns =['F1-micro', 'Exec time', 'walk_num', 'walk_len']).sort_values(by=\"F1-micro\")"
   ]
  },
  {
   "cell_type": "code",
   "execution_count": 9,
   "id": "cross-nurse",
   "metadata": {},
   "outputs": [
    {
     "data": {
      "text/html": [
       "<div>\n",
       "<style scoped>\n",
       "    .dataframe tbody tr th:only-of-type {\n",
       "        vertical-align: middle;\n",
       "    }\n",
       "\n",
       "    .dataframe tbody tr th {\n",
       "        vertical-align: top;\n",
       "    }\n",
       "\n",
       "    .dataframe thead th {\n",
       "        text-align: right;\n",
       "    }\n",
       "</style>\n",
       "<table border=\"1\" class=\"dataframe\">\n",
       "  <thead>\n",
       "    <tr style=\"text-align: right;\">\n",
       "      <th></th>\n",
       "      <th>F1-macro</th>\n",
       "      <th>Exec time</th>\n",
       "      <th>walk_num</th>\n",
       "      <th>walk_len</th>\n",
       "    </tr>\n",
       "  </thead>\n",
       "  <tbody>\n",
       "    <tr>\n",
       "      <th>0</th>\n",
       "      <td>0.888398</td>\n",
       "      <td>430.843513</td>\n",
       "      <td>10.0</td>\n",
       "      <td>5.0</td>\n",
       "    </tr>\n",
       "    <tr>\n",
       "      <th>2</th>\n",
       "      <td>0.907267</td>\n",
       "      <td>1684.428942</td>\n",
       "      <td>40.0</td>\n",
       "      <td>5.0</td>\n",
       "    </tr>\n",
       "    <tr>\n",
       "      <th>3</th>\n",
       "      <td>0.908576</td>\n",
       "      <td>1034.079826</td>\n",
       "      <td>10.0</td>\n",
       "      <td>10.0</td>\n",
       "    </tr>\n",
       "    <tr>\n",
       "      <th>5</th>\n",
       "      <td>0.910962</td>\n",
       "      <td>4032.707988</td>\n",
       "      <td>40.0</td>\n",
       "      <td>10.0</td>\n",
       "    </tr>\n",
       "    <tr>\n",
       "      <th>1</th>\n",
       "      <td>0.912095</td>\n",
       "      <td>852.987108</td>\n",
       "      <td>20.0</td>\n",
       "      <td>5.0</td>\n",
       "    </tr>\n",
       "    <tr>\n",
       "      <th>4</th>\n",
       "      <td>0.917565</td>\n",
       "      <td>2063.098696</td>\n",
       "      <td>20.0</td>\n",
       "      <td>10.0</td>\n",
       "    </tr>\n",
       "  </tbody>\n",
       "</table>\n",
       "</div>"
      ],
      "text/plain": [
       "   F1-macro    Exec time  walk_num  walk_len\n",
       "0  0.888398   430.843513      10.0       5.0\n",
       "2  0.907267  1684.428942      40.0       5.0\n",
       "3  0.908576  1034.079826      10.0      10.0\n",
       "5  0.910962  4032.707988      40.0      10.0\n",
       "1  0.912095   852.987108      20.0       5.0\n",
       "4  0.917565  2063.098696      20.0      10.0"
      ]
     },
     "execution_count": 9,
     "metadata": {},
     "output_type": "execute_result"
    }
   ],
   "source": [
    "pd.DataFrame(list(zip(f1_scores_macro, exec_time, walk_num, walk_len)),\n",
    "               columns =['F1-macro', 'Exec time', 'walk_num', 'walk_len']).sort_values(by=\"F1-macro\")"
   ]
  },
  {
   "cell_type": "code",
   "execution_count": 10,
   "id": "pleased-juice",
   "metadata": {},
   "outputs": [
    {
     "data": {
      "text/html": [
       "<div>\n",
       "<style scoped>\n",
       "    .dataframe tbody tr th:only-of-type {\n",
       "        vertical-align: middle;\n",
       "    }\n",
       "\n",
       "    .dataframe tbody tr th {\n",
       "        vertical-align: top;\n",
       "    }\n",
       "\n",
       "    .dataframe thead th {\n",
       "        text-align: right;\n",
       "    }\n",
       "</style>\n",
       "<table border=\"1\" class=\"dataframe\">\n",
       "  <thead>\n",
       "    <tr style=\"text-align: right;\">\n",
       "      <th></th>\n",
       "      <th>F1-weigh</th>\n",
       "      <th>Exec time</th>\n",
       "      <th>walk_num</th>\n",
       "      <th>walk_len</th>\n",
       "    </tr>\n",
       "  </thead>\n",
       "  <tbody>\n",
       "    <tr>\n",
       "      <th>0</th>\n",
       "      <td>0.822756</td>\n",
       "      <td>430.843513</td>\n",
       "      <td>10.0</td>\n",
       "      <td>5.0</td>\n",
       "    </tr>\n",
       "    <tr>\n",
       "      <th>2</th>\n",
       "      <td>0.845003</td>\n",
       "      <td>1684.428942</td>\n",
       "      <td>40.0</td>\n",
       "      <td>5.0</td>\n",
       "    </tr>\n",
       "    <tr>\n",
       "      <th>1</th>\n",
       "      <td>0.845270</td>\n",
       "      <td>852.987108</td>\n",
       "      <td>20.0</td>\n",
       "      <td>5.0</td>\n",
       "    </tr>\n",
       "    <tr>\n",
       "      <th>5</th>\n",
       "      <td>0.846273</td>\n",
       "      <td>4032.707988</td>\n",
       "      <td>40.0</td>\n",
       "      <td>10.0</td>\n",
       "    </tr>\n",
       "    <tr>\n",
       "      <th>3</th>\n",
       "      <td>0.848843</td>\n",
       "      <td>1034.079826</td>\n",
       "      <td>10.0</td>\n",
       "      <td>10.0</td>\n",
       "    </tr>\n",
       "    <tr>\n",
       "      <th>4</th>\n",
       "      <td>0.852353</td>\n",
       "      <td>2063.098696</td>\n",
       "      <td>20.0</td>\n",
       "      <td>10.0</td>\n",
       "    </tr>\n",
       "  </tbody>\n",
       "</table>\n",
       "</div>"
      ],
      "text/plain": [
       "   F1-weigh    Exec time  walk_num  walk_len\n",
       "0  0.822756   430.843513      10.0       5.0\n",
       "2  0.845003  1684.428942      40.0       5.0\n",
       "1  0.845270   852.987108      20.0       5.0\n",
       "5  0.846273  4032.707988      40.0      10.0\n",
       "3  0.848843  1034.079826      10.0      10.0\n",
       "4  0.852353  2063.098696      20.0      10.0"
      ]
     },
     "execution_count": 10,
     "metadata": {},
     "output_type": "execute_result"
    }
   ],
   "source": [
    "pd.DataFrame(list(zip(f1_scores_weigh, exec_time, walk_num, walk_len)),\n",
    "               columns =['F1-weigh', 'Exec time', 'walk_num', 'walk_len']).sort_values(by=\"F1-weigh\")"
   ]
  },
  {
   "cell_type": "code",
   "execution_count": 11,
   "id": "adopted-charter",
   "metadata": {},
   "outputs": [],
   "source": [
    "import matplotlib\n",
    "matplotlib.use(\"pgf\")\n",
    "matplotlib.rcParams.update({\n",
    "    \"pgf.texsystem\": \"pdflatex\",\n",
    "    'font.family': 'serif',\n",
    "    'text.usetex': True,\n",
    "    'pgf.rcfonts': False\n",
    "})"
   ]
  },
  {
   "cell_type": "markdown",
   "id": "standard-apache",
   "metadata": {},
   "source": [
    "### AVPRA only lang"
   ]
  },
  {
   "cell_type": "code",
   "execution_count": 16,
   "id": "wooden-drove",
   "metadata": {},
   "outputs": [],
   "source": [
    "l = list(range(0, 10)) + list(range(10, 30, 2))"
   ]
  },
  {
   "cell_type": "code",
   "execution_count": 13,
   "id": "insured-catalyst",
   "metadata": {},
   "outputs": [],
   "source": [
    "### Reading VLs from file\n",
    "obj = pd.read_pickle(\"./Only_lang/log_trial_0_LPStates.pickled\") \\\n",
    "    + pd.read_pickle(\"./Only_lang/log_trial_1_LPStates.pickled\")[1:] \\\n",
    "    + pd.read_pickle(\"./Only_lang/log_trial_2_LPStates.pickled\")[1:] \\\n",
    "    + pd.read_pickle(\"./Only_lang/log_trial_3_LPStates.pickled\")[1:]"
   ]
  },
  {
   "cell_type": "code",
   "execution_count": 17,
   "id": "upset-bunny",
   "metadata": {},
   "outputs": [
    {
     "name": "stdout",
     "output_type": "stream",
     "text": [
      "Completed iteration in: 4.329277753829956\n",
      "Completed iteration in: 12.010716915130615\n",
      "Completed iteration in: 42.89314007759094\n",
      "Completed iteration in: 44.32717514038086\n",
      "Completed iteration in: 43.00024127960205\n",
      "Completed iteration in: 43.27811074256897\n",
      "Completed iteration in: 41.33672046661377\n",
      "Completed iteration in: 42.15221381187439\n",
      "Completed iteration in: 40.751484870910645\n",
      "Completed iteration in: 41.18913125991821\n",
      "Completed iteration in: 39.27448868751526\n",
      "Completed iteration in: 42.54739332199097\n",
      "Completed iteration in: 42.346495389938354\n",
      "Completed iteration in: 42.13615560531616\n",
      "Completed iteration in: 42.61327886581421\n",
      "Completed iteration in: 42.486907958984375\n",
      "Completed iteration in: 43.279874086380005\n",
      "Completed iteration in: 44.548882484436035\n",
      "Completed iteration in: 45.312294006347656\n",
      "Completed iteration in: 48.706483364105225\n"
     ]
    }
   ],
   "source": [
    "### Random forest classifier creation with 70 trees\n",
    "clf = RandomForestClassifier(n_estimators=70)\n",
    "start_time = time.time()\n",
    "accuracies = []\n",
    "f1_scores = []\n",
    "f1_scores_macro = []\n",
    "f1_scores_weigh = []\n",
    "for res in [obj[i] for i in l]:\n",
    "    s_t = time.time()\n",
    "    # Input \n",
    "    X_data = res[1]\n",
    "    \n",
    "    y_data = [comms_dict.get(str(i))[0] for i in range(1, len(comms_dict) + 1)]\n",
    "\n",
    "    # Split the data into training set and test set\n",
    "    X_train, X_test, y_train, y_test = train_test_split(X_data, y_data, test_size=0.2)\n",
    "\n",
    "    clf.fit(X_train, y_train)\n",
    "\n",
    "    y_pred = clf.predict(X_test)\n",
    "\n",
    "    ### Accuracy metric\n",
    "    accuracies.append(metrics.accuracy_score(y_test, y_pred))\n",
    "    f1_scores.append(metrics.f1_score(y_test, y_pred, average=\"micro\"))\n",
    "    f1_scores_macro.append(metrics.f1_score(y_test, y_pred, average=\"macro\"))\n",
    "    f1_scores_weigh.append(metrics.f1_score(y_test, y_pred, average=\"weighted\"))\n",
    "    print(\"Completed iteration in:\", time.time() - s_t)\n",
    "    \n",
    "end_time = time.time()"
   ]
  },
  {
   "cell_type": "code",
   "execution_count": 18,
   "id": "willing-marketplace",
   "metadata": {},
   "outputs": [],
   "source": [
    "### Function that returns the 10 / 1 index of the maximum values of a list\n",
    "def get10maxidx(l):\n",
    "    return list(map(lambda x: x[1], sorted(zip(l, range(0, len(l))), reverse=True)[:10]))\n",
    "def getmaxidx(l):\n",
    "    return l.index(max(l))"
   ]
  },
  {
   "cell_type": "code",
   "execution_count": 22,
   "id": "western-literacy",
   "metadata": {},
   "outputs": [],
   "source": [
    "### 10MWL classification\n",
    "clf = RandomForestClassifier(n_estimators=70)\n",
    "start_time2 = time.time()\n",
    "accuracies2 = []\n",
    "f1_scores2_macro = []\n",
    "f1_scores2_weigh = []\n",
    "for res in [obj[i] for i in l]:\n",
    "    # Input \n",
    "    X_data = list(map(lambda x: get10maxidx(x), res[1]))\n",
    "\n",
    "    \n",
    "    y_data = [comms_dict.get(str(i)) for i in range(1, len(comms_dict) + 1)]\n",
    "\n",
    "    # Split the data into training set and test set\n",
    "    X_train, X_test, y_train, y_test = train_test_split(X_data, y_data, test_size=0.2)\n",
    "\n",
    "    clf.fit(X_train, y_train)\n",
    "\n",
    "    y_pred = clf.predict(X_test)\n",
    "\n",
    "    ### Accuracy metric\n",
    "    accuracies2.append(metrics.accuracy_score(y_test, y_pred))\n",
    "    f1_scores2_macro.append(metrics.f1_score(y_test, y_pred, average=\"macro\"))\n",
    "    f1_scores2_weigh.append(metrics.f1_score(y_test, y_pred, average=\"weighted\"))\n",
    "    \n",
    "end_time2 = time.time()"
   ]
  },
  {
   "cell_type": "code",
   "execution_count": 23,
   "id": "saving-italian",
   "metadata": {},
   "outputs": [],
   "source": [
    "### MWL classification\n",
    "clf = RandomForestClassifier(n_estimators=70)\n",
    "start_time3 = time.time()\n",
    "accuracies3 = []\n",
    "f1_scores3_macro = []\n",
    "f1_scores3_weigh = []\n",
    "for res in [obj[i] for i in l]:\n",
    "    # Input \n",
    "    X_data = list(map(lambda x: [getmaxidx(x)], res[1]))\n",
    "\n",
    "    \n",
    "    y_data = [comms_dict.get(str(i)) for i in range(1, len(comms_dict) + 1)]\n",
    "\n",
    "    # Split the data into training set and test set\n",
    "    X_train, X_test, y_train, y_test = train_test_split(X_data, y_data, test_size=0.2)\n",
    "\n",
    "    clf.fit(X_train, y_train)\n",
    "\n",
    "    y_pred = clf.predict(X_test)\n",
    "\n",
    "    ### Accuracy metric\n",
    "    accuracies3.append(metrics.accuracy_score(y_test, y_pred))\n",
    "    f1_scores3_macro.append(metrics.f1_score(y_test, y_pred, average=\"macro\"))\n",
    "    f1_scores3_weigh.append(metrics.f1_score(y_test, y_pred, average=\"weighted\"))\n",
    "    \n",
    "end_time3 = time.time()"
   ]
  },
  {
   "cell_type": "markdown",
   "id": "advised-producer",
   "metadata": {},
   "source": [
    "### Comparison macro"
   ]
  },
  {
   "cell_type": "code",
   "execution_count": 24,
   "id": "electrical-helicopter",
   "metadata": {
    "scrolled": false
   },
   "outputs": [],
   "source": [
    "# Plot F1-macro comparison\n",
    "plt.figure(figsize=(10, 6))\n",
    "l = list(range(0,10)) + list(range(10, 30, 2))\n",
    "plt.plot(l, f1_scores_macro, \"o\", label=\"AVPRA F1-score-macro\", markersize=10)\n",
    "plt.plot(l, f1_scores2_macro, \"o\", label=\"AVPRA 10MWL F1-score-macro\", markersize=10)\n",
    "plt.plot(l, f1_scores3_macro, \"o\", label=\"AVPRA MWL F1-score-macro\", markersize=10)\n",
    "\n",
    "plt.axvline(x=7, label=\"Diametro\", linestyle=\"--\")\n",
    "\n",
    "plt.xlabel(\"Iterazione\", fontsize=20)\n",
    "plt.ylabel(\"F1-score\", fontsize=20)\n",
    "plt.legend(loc=\"right\", prop={'size': 16})\n",
    "plt.xticks(fontsize=16)\n",
    "plt.yticks(fontsize=16)\n",
    "plt.ylim(0,1)\n",
    "\n",
    "plt.savefig(\"F1_twitch_onlyL_AVPRA_all_macro.png\", dpi=500)\n",
    "plt.show()"
   ]
  },
  {
   "cell_type": "code",
   "execution_count": 25,
   "id": "cubic-albert",
   "metadata": {},
   "outputs": [
    {
     "data": {
      "text/plain": [
       "(0.9007562593481003, 7)"
      ]
     },
     "execution_count": 25,
     "metadata": {},
     "output_type": "execute_result"
    }
   ],
   "source": [
    "max(f1_scores_macro), (list(range(0,10)) + list(range(10, 30, 2)))[f1_scores_macro.index(max(f1_scores_macro))]"
   ]
  },
  {
   "cell_type": "code",
   "execution_count": 26,
   "id": "standing-source",
   "metadata": {},
   "outputs": [
    {
     "data": {
      "text/plain": [
       "(0.7765723030823866, 9)"
      ]
     },
     "execution_count": 26,
     "metadata": {},
     "output_type": "execute_result"
    }
   ],
   "source": [
    "max(f1_scores2_macro), (list(range(0,10)) + list(range(10, 30, 2)))[f1_scores2_macro.index(max(f1_scores2_macro))]"
   ]
  },
  {
   "cell_type": "code",
   "execution_count": 27,
   "id": "copyrighted-bride",
   "metadata": {},
   "outputs": [
    {
     "data": {
      "text/plain": [
       "(0.6469858474934775, 0)"
      ]
     },
     "execution_count": 27,
     "metadata": {},
     "output_type": "execute_result"
    }
   ],
   "source": [
    "max(f1_scores3_macro), (list(range(0,10)) + list(range(10, 30, 2)))[f1_scores3_macro.index(max(f1_scores3_macro))]"
   ]
  },
  {
   "cell_type": "markdown",
   "id": "forbidden-orientation",
   "metadata": {},
   "source": [
    "### Comparison weighted"
   ]
  },
  {
   "cell_type": "code",
   "execution_count": 28,
   "id": "canadian-twins",
   "metadata": {},
   "outputs": [],
   "source": [
    "# Plot F1-macro comparison\n",
    "plt.figure(figsize=(10, 6))\n",
    "l = list(range(0,10)) + list(range(10, 30, 2))\n",
    "plt.plot(l, f1_scores_weigh, \"o\", label=\"AVPRA F1-score-weighted\", markersize=10)\n",
    "plt.plot(l, f1_scores2_weigh, \"o\", label=\"AVPRA 10MWL F1-score-weighted\", markersize=10)\n",
    "plt.plot(l, f1_scores3_weigh, \"o\", label=\"AVPRA MWL F1-score-weighted\", markersize=10)\n",
    "\n",
    "plt.axvline(x=7, label=\"Diametro\", linestyle=\"--\")\n",
    "\n",
    "plt.xlabel(\"Iterazione\", fontsize=20)\n",
    "plt.ylabel(\"F1-score\", fontsize=20)\n",
    "plt.legend(loc=\"right\", prop={'size': 16})\n",
    "plt.xticks(fontsize=16)\n",
    "plt.yticks(fontsize=16)\n",
    "plt.ylim(0,1)\n",
    "\n",
    "plt.savefig(\"F1_twitch_onlyL_AVPRA_all_weighted.png\", dpi=500)\n",
    "plt.show()"
   ]
  },
  {
   "cell_type": "code",
   "execution_count": 29,
   "id": "labeled-semiconductor",
   "metadata": {},
   "outputs": [
    {
     "data": {
      "text/plain": [
       "(0.8248043798037514, 9)"
      ]
     },
     "execution_count": 29,
     "metadata": {},
     "output_type": "execute_result"
    }
   ],
   "source": [
    "max(f1_scores_weigh), (list(range(0,10)) + list(range(10, 30, 2)))[f1_scores_weigh.index(max(f1_scores_weigh))]"
   ]
  },
  {
   "cell_type": "code",
   "execution_count": 30,
   "id": "civilian-replication",
   "metadata": {},
   "outputs": [
    {
     "data": {
      "text/plain": [
       "(0.5877879135674272, 8)"
      ]
     },
     "execution_count": 30,
     "metadata": {},
     "output_type": "execute_result"
    }
   ],
   "source": [
    "max(f1_scores2_weigh), (list(range(0,10)) + list(range(10, 30, 2)))[f1_scores2_weigh.index(max(f1_scores2_weigh))]"
   ]
  },
  {
   "cell_type": "code",
   "execution_count": 31,
   "id": "convinced-people",
   "metadata": {},
   "outputs": [
    {
     "data": {
      "text/plain": [
       "(0.3085989340111455, 1)"
      ]
     },
     "execution_count": 31,
     "metadata": {},
     "output_type": "execute_result"
    }
   ],
   "source": [
    "max(f1_scores3_weigh), (list(range(0,10)) + list(range(10, 30, 2)))[f1_scores3_weigh.index(max(f1_scores3_weigh))]"
   ]
  },
  {
   "cell_type": "code",
   "execution_count": 32,
   "id": "weekly-quarterly",
   "metadata": {},
   "outputs": [],
   "source": [
    "# Plot accuracy graph\n",
    "plt.figure(figsize=(10, 6))\n",
    "l = list(range(0,10)) + list(range(10, 30, 2))\n",
    "plt.plot(l, accuracies, \"o\", label=\"AVPRA Accuratezza\", markersize=10)\n",
    "plt.plot(l, f1_scores_macro, \"x\", label=\"AVPRA F1-score-macro\", color=\"blue\", markersize=12)\n",
    "\n",
    "plt.axvline(x=7, label=\"Diametro\", linestyle=\"--\")\n",
    "\n",
    "plt.xlabel(\"Iterazione\", fontsize=20)\n",
    "plt.ylabel(\"Accuratezza/F1-Score\", fontsize=20)\n",
    "plt.legend(loc=\"right\", prop={'size': 16})\n",
    "plt.xticks(fontsize=16)\n",
    "plt.yticks(fontsize=16)\n",
    "plt.ylim(0,1)\n",
    "\n",
    "plt.savefig(\"F1_twitch_onlyL_AVPRA_macro.png\", dpi=500)\n",
    "plt.show()"
   ]
  },
  {
   "cell_type": "code",
   "execution_count": 33,
   "id": "informational-vegetarian",
   "metadata": {},
   "outputs": [],
   "source": [
    "# Plot accuracy graph\n",
    "plt.figure(figsize=(10, 6))\n",
    "l = list(range(0,10)) + list(range(10, 30, 2))\n",
    "plt.plot(l, accuracies, \"o\", label=\"AVPRA Accuratezza\", markersize=10)\n",
    "plt.plot(l, f1_scores_weigh, \"x\", label=\"AVPRA F1-score-weighted\", color=\"blue\", markersize=12)\n",
    "\n",
    "plt.axvline(x=7, label=\"Diametro\", linestyle=\"--\")\n",
    "\n",
    "plt.xlabel(\"Iterazione\", fontsize=20)\n",
    "plt.ylabel(\"Accuratezza/F1-Score\", fontsize=20)\n",
    "plt.legend(loc=\"right\", prop={'size': 16})\n",
    "plt.xticks(fontsize=16)\n",
    "plt.yticks(fontsize=16)\n",
    "plt.ylim(0,1)\n",
    "\n",
    "plt.savefig(\"F1_twitch_onlyL_AVPRA_weighted.png\", dpi=500)\n",
    "plt.show()"
   ]
  },
  {
   "cell_type": "code",
   "execution_count": 34,
   "id": "czech-equity",
   "metadata": {},
   "outputs": [
    {
     "data": {
      "text/plain": [
       "(0.8261904053772715, 9)"
      ]
     },
     "execution_count": 34,
     "metadata": {},
     "output_type": "execute_result"
    }
   ],
   "source": [
    "max(accuracies), l[accuracies.index(max(accuracies))]"
   ]
  },
  {
   "cell_type": "code",
   "execution_count": 35,
   "id": "willing-superintendent",
   "metadata": {},
   "outputs": [
    {
     "data": {
      "text/plain": [
       "(0.620527615025429, 8)"
      ]
     },
     "execution_count": 35,
     "metadata": {},
     "output_type": "execute_result"
    }
   ],
   "source": [
    "max(accuracies2), l[accuracies2.index(max(accuracies2))]"
   ]
  },
  {
   "cell_type": "code",
   "execution_count": 36,
   "id": "supreme-museum",
   "metadata": {},
   "outputs": [
    {
     "data": {
      "text/plain": [
       "(0.42494720875591113, 0)"
      ]
     },
     "execution_count": 36,
     "metadata": {},
     "output_type": "execute_result"
    }
   ],
   "source": [
    "max(accuracies3), l[accuracies3.index(max(accuracies3))]"
   ]
  },
  {
   "cell_type": "code",
   "execution_count": 37,
   "id": "decreased-person",
   "metadata": {},
   "outputs": [],
   "source": [
    "# Plot accuracy graph\n",
    "plt.figure(figsize=(10, 6))\n",
    "l = list(range(0,10)) + list(range(10, 30, 2))\n",
    "plt.plot(l, accuracies, \"o\", label=\"AVPRA Accuratezza\", markersize=10)\n",
    "plt.plot(l, accuracies2, \"o\", label=\"AVPRA 10MWL Accuratezza\", markersize=10)\n",
    "plt.plot(l, accuracies3, \"o\", label=\"AVPRA MWL Accuratezza\", markersize=10)\n",
    "\n",
    "plt.axvline(x=7, label=\"Diametro\", linestyle=\"--\")\n",
    "\n",
    "plt.xlabel(\"Iterazione\", fontsize=20)\n",
    "plt.ylabel(\"Accuratezza\", fontsize=20)\n",
    "plt.legend(loc=\"right\", prop={'size': 16})\n",
    "plt.xticks(fontsize=16)\n",
    "plt.yticks(fontsize=16)\n",
    "plt.ylim(0,1)\n",
    "\n",
    "plt.savefig(\"F1_twitch_onlyL_AVPRA_all_micro.png\", dpi=500)\n",
    "plt.show()"
   ]
  },
  {
   "cell_type": "markdown",
   "id": "disturbed-neighbor",
   "metadata": {},
   "source": [
    "### Only F1 micro"
   ]
  },
  {
   "cell_type": "code",
   "execution_count": 38,
   "id": "hired-ballot",
   "metadata": {},
   "outputs": [],
   "source": [
    "# Plot accuracy graph\n",
    "plt.figure(figsize=(10, 6))\n",
    "l = list(range(0,10)) + list(range(10, 30, 2))\n",
    "plt.plot(l, accuracies, \"o\", label=\"AVPRA Accuratezza\", markersize=10)\n",
    "\n",
    "plt.axvline(x=7, label=\"Diametro\", linestyle=\"--\")\n",
    "\n",
    "plt.xlabel(\"Iterazione\", fontsize=20)\n",
    "plt.ylabel(\"Accuratezza\", fontsize=20)\n",
    "plt.legend(loc=\"right\", prop={'size': 16})\n",
    "plt.xticks(fontsize=16)\n",
    "plt.yticks(fontsize=16)\n",
    "plt.ylim(0,1)\n",
    "\n",
    "plt.savefig(\"F1_twitch_onlyL_AVPRA_micro.png\", dpi=500)\n",
    "plt.show()"
   ]
  },
  {
   "cell_type": "markdown",
   "id": "analyzed-april",
   "metadata": {},
   "source": [
    "### AVPRA all feat"
   ]
  },
  {
   "cell_type": "code",
   "execution_count": 39,
   "id": "raised-forth",
   "metadata": {},
   "outputs": [],
   "source": [
    "obj = []"
   ]
  },
  {
   "cell_type": "code",
   "execution_count": 40,
   "id": "finite-photographer",
   "metadata": {},
   "outputs": [],
   "source": [
    "### Reading VLs from file\n",
    "obj = pd.read_pickle(\"./All_feat/log_trial_0_LPStates.pickled\") \\\n",
    "    + pd.read_pickle(\"./All_feat/log_trial_1_LPStates.pickled\") \\\n",
    "    + pd.read_pickle(\"./All_feat/log_trial_2_LPStates.pickled\") \\\n",
    "    + pd.read_pickle(\"./All_feat/log_trial_3_LPStates.pickled\")"
   ]
  },
  {
   "cell_type": "code",
   "execution_count": 41,
   "id": "quantitative-edinburgh",
   "metadata": {},
   "outputs": [
    {
     "name": "stdout",
     "output_type": "stream",
     "text": [
      "Completed iteration in: 6.1553966999053955\n",
      "Completed iteration in: 22.845343589782715\n",
      "Completed iteration in: 60.08186197280884\n",
      "Completed iteration in: 58.33820295333862\n",
      "Completed iteration in: 56.503132820129395\n",
      "Completed iteration in: 55.852912187576294\n",
      "Completed iteration in: 54.675307750701904\n",
      "Completed iteration in: 55.014700174331665\n",
      "Completed iteration in: 54.4135422706604\n",
      "Completed iteration in: 53.29962348937988\n",
      "Completed iteration in: 54.103456258773804\n",
      "Completed iteration in: 50.8409206867218\n",
      "Completed iteration in: 50.59055542945862\n",
      "Completed iteration in: 48.99703502655029\n",
      "Completed iteration in: 48.65815806388855\n",
      "Completed iteration in: 49.86013913154602\n",
      "Completed iteration in: 50.00357437133789\n",
      "Completed iteration in: 52.967915296554565\n",
      "Completed iteration in: 63.142024993896484\n",
      "Completed iteration in: 79.33202886581421\n"
     ]
    }
   ],
   "source": [
    "### Random forest classifier creation with 70 trees\n",
    "clf = RandomForestClassifier(n_estimators=70)\n",
    "start_time = time.time()\n",
    "accuracies = []\n",
    "f1_scores = []\n",
    "f1_scores_macro = []\n",
    "f1_scores_weigh = []\n",
    "for res in [obj[i] for i in l]:\n",
    "    s_t = time.time()\n",
    "    # Input \n",
    "    X_data = res[1]\n",
    "    \n",
    "    y_data = [comms_dict.get(str(i))[0] for i in range(1, len(comms_dict) + 1)]\n",
    "\n",
    "    # Split the data into training set and test set\n",
    "    X_train, X_test, y_train, y_test = train_test_split(X_data, y_data, test_size=0.2)\n",
    "\n",
    "    clf.fit(X_train, y_train)\n",
    "\n",
    "    y_pred = clf.predict(X_test)\n",
    "\n",
    "    ### Accuracy metric\n",
    "    accuracies.append(metrics.accuracy_score(y_test, y_pred))\n",
    "    f1_scores.append(metrics.f1_score(y_test, y_pred, average=\"micro\"))\n",
    "    f1_scores_macro.append(metrics.f1_score(y_test, y_pred, average=\"macro\"))\n",
    "    f1_scores_weigh.append(metrics.f1_score(y_test, y_pred, average=\"weighted\"))\n",
    "    print(\"Completed iteration in:\", time.time() - s_t)\n",
    "    \n",
    "end_time = time.time()"
   ]
  },
  {
   "cell_type": "code",
   "execution_count": 42,
   "id": "sexual-vaccine",
   "metadata": {},
   "outputs": [],
   "source": [
    "### Function that returns the 10 / 1 index of the maximum values of a list\n",
    "def get10maxidx(l):\n",
    "    return list(map(lambda x: x[1], sorted(zip(l, range(0, len(l))), reverse=True)[:10]))\n",
    "def getmaxidx(l):\n",
    "    return l.index(max(l))"
   ]
  },
  {
   "cell_type": "code",
   "execution_count": 43,
   "id": "adolescent-attendance",
   "metadata": {},
   "outputs": [],
   "source": [
    "### 10MWL classification\n",
    "clf = RandomForestClassifier(n_estimators=70)\n",
    "start_time2 = time.time()\n",
    "accuracies2 = []\n",
    "f1_scores2_macro = []\n",
    "f1_scores2_weigh = []\n",
    "for res in [obj[i] for i in l]:\n",
    "    # Input \n",
    "    X_data = list(map(lambda x: get10maxidx(x), res[1]))\n",
    "\n",
    "    \n",
    "    y_data = [comms_dict.get(str(i)) for i in range(1, len(comms_dict) + 1)]\n",
    "\n",
    "    # Split the data into training set and test set\n",
    "    X_train, X_test, y_train, y_test = train_test_split(X_data, y_data, test_size=0.2)\n",
    "\n",
    "    clf.fit(X_train, y_train)\n",
    "\n",
    "    y_pred = clf.predict(X_test)\n",
    "\n",
    "    ### Accuracy metric\n",
    "    accuracies2.append(metrics.accuracy_score(y_test, y_pred))\n",
    "    f1_scores2_macro.append(metrics.f1_score(y_test, y_pred, average=\"macro\"))\n",
    "    f1_scores2_weigh.append(metrics.f1_score(y_test, y_pred, average=\"weighted\"))\n",
    "    \n",
    "end_time2 = time.time()"
   ]
  },
  {
   "cell_type": "code",
   "execution_count": 44,
   "id": "organizational-aside",
   "metadata": {},
   "outputs": [],
   "source": [
    "### MWL classification\n",
    "clf = RandomForestClassifier(n_estimators=70)\n",
    "start_time3 = time.time()\n",
    "accuracies3 = []\n",
    "f1_scores3_macro = []\n",
    "f1_scores3_weigh = []\n",
    "for res in [obj[i] for i in l]:\n",
    "    # Input \n",
    "    X_data = list(map(lambda x: [getmaxidx(x)], res[1]))\n",
    "\n",
    "    \n",
    "    y_data = [comms_dict.get(str(i)) for i in range(1, len(comms_dict) + 1)]\n",
    "\n",
    "    # Split the data into training set and test set\n",
    "    X_train, X_test, y_train, y_test = train_test_split(X_data, y_data, test_size=0.2)\n",
    "\n",
    "    clf.fit(X_train, y_train)\n",
    "\n",
    "    y_pred = clf.predict(X_test)\n",
    "\n",
    "    ### Accuracy metric\n",
    "    accuracies3.append(metrics.accuracy_score(y_test, y_pred))\n",
    "    f1_scores3_macro.append(metrics.f1_score(y_test, y_pred, average=\"macro\"))\n",
    "    f1_scores3_weigh.append(metrics.f1_score(y_test, y_pred, average=\"weighted\"))\n",
    "    \n",
    "end_time3 = time.time()"
   ]
  },
  {
   "cell_type": "markdown",
   "id": "expensive-joint",
   "metadata": {},
   "source": [
    "### Comparison macro"
   ]
  },
  {
   "cell_type": "code",
   "execution_count": 45,
   "id": "allied-dollar",
   "metadata": {
    "scrolled": false
   },
   "outputs": [],
   "source": [
    "# Plot F1-macro comparison\n",
    "plt.figure(figsize=(10, 6))\n",
    "l = list(range(0,10)) + list(range(10, 30, 2))\n",
    "plt.plot(l, f1_scores_macro, \"o\", label=\"AVPRA F1-score-macro\", markersize=10)\n",
    "plt.plot(l, f1_scores2_macro, \"o\", label=\"AVPRA 10MWL F1-score-macro\", markersize=10)\n",
    "plt.plot(l, f1_scores3_macro, \"o\", label=\"AVPRA MWL F1-score-macro\", markersize=10)\n",
    "\n",
    "plt.axvline(x=7, label=\"Diametro\", linestyle=\"--\")\n",
    "\n",
    "plt.xlabel(\"Iterazione\", fontsize=20)\n",
    "plt.ylabel(\"F1-score\", fontsize=20)\n",
    "plt.legend(loc=\"right\", prop={'size': 16})\n",
    "plt.xticks(fontsize=16)\n",
    "plt.yticks(fontsize=16)\n",
    "plt.ylim(0,1)\n",
    "\n",
    "plt.savefig(\"F1_twitch_allF_AVPRA_all_macro.png\", dpi=500)\n",
    "plt.show()"
   ]
  },
  {
   "cell_type": "code",
   "execution_count": 46,
   "id": "hawaiian-beach",
   "metadata": {},
   "outputs": [
    {
     "data": {
      "text/plain": [
       "(0.910530412856996, 5)"
      ]
     },
     "execution_count": 46,
     "metadata": {},
     "output_type": "execute_result"
    }
   ],
   "source": [
    "max(f1_scores_macro), (list(range(0,10)) + list(range(10, 30, 2)))[f1_scores_macro.index(max(f1_scores_macro))]"
   ]
  },
  {
   "cell_type": "code",
   "execution_count": 47,
   "id": "outstanding-newark",
   "metadata": {},
   "outputs": [
    {
     "data": {
      "text/plain": [
       "(0.7604525287525417, 4)"
      ]
     },
     "execution_count": 47,
     "metadata": {},
     "output_type": "execute_result"
    }
   ],
   "source": [
    "max(f1_scores2_macro), (list(range(0,10)) + list(range(10, 30, 2)))[f1_scores2_macro.index(max(f1_scores2_macro))]"
   ]
  },
  {
   "cell_type": "code",
   "execution_count": 48,
   "id": "northern-shade",
   "metadata": {},
   "outputs": [
    {
     "data": {
      "text/plain": [
       "(0.6130360480995082, 0)"
      ]
     },
     "execution_count": 48,
     "metadata": {},
     "output_type": "execute_result"
    }
   ],
   "source": [
    "max(f1_scores3_macro), (list(range(0,10)) + list(range(10, 30, 2)))[f1_scores3_macro.index(max(f1_scores3_macro))]"
   ]
  },
  {
   "cell_type": "markdown",
   "id": "incomplete-subscriber",
   "metadata": {},
   "source": [
    "### Comparison weighted"
   ]
  },
  {
   "cell_type": "code",
   "execution_count": 49,
   "id": "moved-thickness",
   "metadata": {},
   "outputs": [],
   "source": [
    "# Plot F1-macro comparison\n",
    "plt.figure(figsize=(10, 6))\n",
    "l = list(range(0,10)) + list(range(10, 30, 2))\n",
    "plt.plot(l, f1_scores_weigh, \"o\", label=\"AVPRA F1-score-weighted\", markersize=10)\n",
    "plt.plot(l, f1_scores2_weigh, \"o\", label=\"AVPRA 10MWL F1-score-weighted\", markersize=10)\n",
    "plt.plot(l, f1_scores3_weigh, \"o\", label=\"AVPRA MWL F1-score-weighted\", markersize=10)\n",
    "\n",
    "plt.axvline(x=7, label=\"Diametro\", linestyle=\"--\")\n",
    "\n",
    "plt.xlabel(\"Iterazione\", fontsize=20)\n",
    "plt.ylabel(\"F1-score\", fontsize=20)\n",
    "plt.legend(loc=\"right\", prop={'size': 16})\n",
    "plt.xticks(fontsize=16)\n",
    "plt.yticks(fontsize=16)\n",
    "plt.ylim(0,1)\n",
    "\n",
    "plt.savefig(\"F1_twitch_allF_AVPRA_all_weighted.png\", dpi=500)\n",
    "plt.show()"
   ]
  },
  {
   "cell_type": "code",
   "execution_count": 50,
   "id": "blond-windsor",
   "metadata": {},
   "outputs": [
    {
     "data": {
      "text/plain": [
       "(0.8414919037029881, 7)"
      ]
     },
     "execution_count": 50,
     "metadata": {},
     "output_type": "execute_result"
    }
   ],
   "source": [
    "max(f1_scores_weigh), (list(range(0,10)) + list(range(10, 30, 2)))[f1_scores_weigh.index(max(f1_scores_weigh))]"
   ]
  },
  {
   "cell_type": "code",
   "execution_count": 51,
   "id": "proper-union",
   "metadata": {},
   "outputs": [
    {
     "data": {
      "text/plain": [
       "(0.6152342968416407, 3)"
      ]
     },
     "execution_count": 51,
     "metadata": {},
     "output_type": "execute_result"
    }
   ],
   "source": [
    "max(f1_scores2_weigh), (list(range(0,10)) + list(range(10, 30, 2)))[f1_scores2_weigh.index(max(f1_scores2_weigh))]"
   ]
  },
  {
   "cell_type": "code",
   "execution_count": 52,
   "id": "integrated-estate",
   "metadata": {},
   "outputs": [
    {
     "data": {
      "text/plain": [
       "(0.30751664716173754, 0)"
      ]
     },
     "execution_count": 52,
     "metadata": {},
     "output_type": "execute_result"
    }
   ],
   "source": [
    "max(f1_scores3_weigh), (list(range(0,10)) + list(range(10, 30, 2)))[f1_scores3_weigh.index(max(f1_scores3_weigh))]"
   ]
  },
  {
   "cell_type": "code",
   "execution_count": 53,
   "id": "disciplinary-secondary",
   "metadata": {},
   "outputs": [],
   "source": [
    "# Plot accuracy graph\n",
    "plt.figure(figsize=(10, 6))\n",
    "l = list(range(0,10)) + list(range(10, 30, 2))\n",
    "plt.plot(l, accuracies, \"o\", label=\"AVPRA Accuratezza\", markersize=10)\n",
    "plt.plot(l, f1_scores_macro, \"x\", label=\"AVPRA F1-score-macro\", color=\"blue\", markersize=12)\n",
    "\n",
    "plt.axvline(x=7, label=\"Diametro\", linestyle=\"--\")\n",
    "\n",
    "plt.xlabel(\"Iterazione\", fontsize=20)\n",
    "plt.ylabel(\"Accuratezza/F1-Score\", fontsize=20)\n",
    "plt.legend(loc=\"right\", prop={'size': 16})\n",
    "plt.xticks(fontsize=16)\n",
    "plt.yticks(fontsize=16)\n",
    "plt.ylim(0,1)\n",
    "\n",
    "plt.savefig(\"F1_twitch_allF_AVPRA_macro.png\", dpi=500)\n",
    "plt.show()"
   ]
  },
  {
   "cell_type": "code",
   "execution_count": 54,
   "id": "negative-success",
   "metadata": {},
   "outputs": [],
   "source": [
    "# Plot accuracy graph\n",
    "plt.figure(figsize=(10, 6))\n",
    "l = list(range(0,10)) + list(range(10, 30, 2))\n",
    "plt.plot(l, accuracies, \"o\", label=\"AVPRA Accuratezza\", markersize=10)\n",
    "plt.plot(l, f1_scores_weigh, \"x\", label=\"AVPRA F1-score-weighted\", color=\"blue\", markersize=12)\n",
    "\n",
    "plt.axvline(x=7, label=\"Diametro\", linestyle=\"--\")\n",
    "\n",
    "plt.xlabel(\"Iterazione\", fontsize=20)\n",
    "plt.ylabel(\"Accuratezza/F1-Score\", fontsize=20)\n",
    "plt.legend(loc=\"right\", prop={'size': 16})\n",
    "plt.xticks(fontsize=16)\n",
    "plt.yticks(fontsize=16)\n",
    "plt.ylim(0,1)\n",
    "\n",
    "plt.savefig(\"F1_twitch_allF_AVPRA_weighted.png\", dpi=500)\n",
    "plt.show()"
   ]
  },
  {
   "cell_type": "code",
   "execution_count": 55,
   "id": "bright-necessity",
   "metadata": {},
   "outputs": [
    {
     "data": {
      "text/plain": [
       "(0.8429348957558814, 7)"
      ]
     },
     "execution_count": 55,
     "metadata": {},
     "output_type": "execute_result"
    }
   ],
   "source": [
    "max(accuracies), l[accuracies.index(max(accuracies))]"
   ]
  },
  {
   "cell_type": "code",
   "execution_count": 56,
   "id": "front-operations",
   "metadata": {},
   "outputs": [
    {
     "data": {
      "text/plain": [
       "(0.6241858251791929, 3)"
      ]
     },
     "execution_count": 56,
     "metadata": {},
     "output_type": "execute_result"
    }
   ],
   "source": [
    "max(accuracies2), l[accuracies2.index(max(accuracies2))]"
   ]
  },
  {
   "cell_type": "code",
   "execution_count": 57,
   "id": "stupid-monster",
   "metadata": {},
   "outputs": [
    {
     "data": {
      "text/plain": [
       "(0.4268506676977069, 0)"
      ]
     },
     "execution_count": 57,
     "metadata": {},
     "output_type": "execute_result"
    }
   ],
   "source": [
    "max(accuracies3), l[accuracies3.index(max(accuracies3))]"
   ]
  },
  {
   "cell_type": "code",
   "execution_count": 58,
   "id": "toxic-leone",
   "metadata": {},
   "outputs": [],
   "source": [
    "# Plot accuracy graph\n",
    "plt.figure(figsize=(10, 6))\n",
    "l = list(range(0,10)) + list(range(10, 30, 2))\n",
    "plt.plot(l, accuracies, \"o\", label=\"AVPRA Accuratezza\", markersize=10)\n",
    "plt.plot(l, accuracies2, \"o\", label=\"AVPRA 10MWL Accuratezza\", markersize=10)\n",
    "plt.plot(l, accuracies3, \"o\", label=\"AVPRA MWL Accuratezza\", markersize=10)\n",
    "\n",
    "plt.axvline(x=7, label=\"Diametro\", linestyle=\"--\")\n",
    "\n",
    "plt.xlabel(\"Iterazione\", fontsize=20)\n",
    "plt.ylabel(\"Accuratezza\", fontsize=20)\n",
    "plt.legend(loc=\"right\", prop={'size': 16})\n",
    "plt.xticks(fontsize=16)\n",
    "plt.yticks(fontsize=16)\n",
    "plt.ylim(0,1)\n",
    "\n",
    "plt.savefig(\"F1_twitch_allF_AVPRA_all_micro.png\", dpi=500)\n",
    "plt.show()"
   ]
  },
  {
   "cell_type": "markdown",
   "id": "found-explorer",
   "metadata": {},
   "source": [
    "### Only F1 micro"
   ]
  },
  {
   "cell_type": "code",
   "execution_count": 59,
   "id": "desirable-corps",
   "metadata": {},
   "outputs": [],
   "source": [
    "# Plot accuracy graph\n",
    "plt.figure(figsize=(10, 6))\n",
    "l = list(range(0,10)) + list(range(10, 30, 2))\n",
    "plt.plot(l, accuracies, \"o\", label=\"AVPRA Accuratezza\", markersize=10)\n",
    "\n",
    "plt.axvline(x=7, label=\"Diametro\", linestyle=\"--\")\n",
    "\n",
    "plt.xlabel(\"Iterazione\", fontsize=20)\n",
    "plt.ylabel(\"Accuratezza\", fontsize=20)\n",
    "plt.legend(loc=\"right\", prop={'size': 16})\n",
    "plt.xticks(fontsize=16)\n",
    "plt.yticks(fontsize=16)\n",
    "plt.ylim(0,1)\n",
    "\n",
    "plt.savefig(\"F1_twitch_allF_AVPRA_micro.png\", dpi=500)\n",
    "plt.show()"
   ]
  }
 ],
 "metadata": {
  "kernelspec": {
   "display_name": "Python 3 (ipykernel)",
   "language": "python",
   "name": "python3"
  },
  "language_info": {
   "codemirror_mode": {
    "name": "ipython",
    "version": 3
   },
   "file_extension": ".py",
   "mimetype": "text/x-python",
   "name": "python",
   "nbconvert_exporter": "python",
   "pygments_lexer": "ipython3",
   "version": "3.8.13"
  }
 },
 "nbformat": 4,
 "nbformat_minor": 5
}
