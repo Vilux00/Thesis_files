{
 "cells": [
  {
   "cell_type": "code",
   "execution_count": 1,
   "id": "copyrighted-raleigh",
   "metadata": {},
   "outputs": [],
   "source": [
    "### Import useful libraries\n",
    "import pandas as pd\n",
    "import matplotlib.pyplot as plt\n",
    "import numpy as np\n",
    "from sklearn.ensemble import RandomForestClassifier\n",
    "from sklearn.datasets import make_classification\n",
    "from sklearn.model_selection import train_test_split\n",
    "from sklearn import metrics\n",
    "import networkx as nx\n",
    "import time\n",
    "import random\n",
    "import csv\n",
    "%matplotlib inline"
   ]
  },
  {
   "cell_type": "markdown",
   "id": "first-membership",
   "metadata": {},
   "source": [
    "### RO"
   ]
  },
  {
   "cell_type": "code",
   "execution_count": 2,
   "id": "printable-westminster",
   "metadata": {},
   "outputs": [],
   "source": [
    "### Reading VLs from file\n",
    "obj = pd.read_pickle(\"./RO.pickled\") "
   ]
  },
  {
   "cell_type": "code",
   "execution_count": 3,
   "id": "acting-joseph",
   "metadata": {},
   "outputs": [],
   "source": [
    "data = pd.read_csv(\"./RO_comms.txt\", sep=\" \", header=None)\n",
    "comms_dict = {}\n",
    "for row in data.iterrows():\n",
    "    comms_dict[str(row[1][0])] = row[1][1]"
   ]
  },
  {
   "cell_type": "code",
   "execution_count": 4,
   "id": "democratic-island",
   "metadata": {
    "scrolled": true
   },
   "outputs": [
    {
     "name": "stdout",
     "output_type": "stream",
     "text": [
      "Iteration completed in 3.4242539405822754\n",
      "Iteration completed in 9.97922134399414\n",
      "Iteration completed in 16.99355411529541\n",
      "Iteration completed in 23.182713747024536\n",
      "Iteration completed in 26.326271533966064\n",
      "Iteration completed in 28.972599744796753\n",
      "Iteration completed in 30.23962950706482\n",
      "Iteration completed in 30.84235143661499\n",
      "Iteration completed in 30.8188214302063\n",
      "Iteration completed in 29.330846309661865\n",
      "Iteration completed in 28.013261318206787\n",
      "Iteration completed in 28.308216094970703\n",
      "Iteration completed in 28.05772352218628\n",
      "Iteration completed in 27.773600816726685\n",
      "Iteration completed in 27.033681869506836\n",
      "Iteration completed in 26.77505660057068\n",
      "Iteration completed in 26.487269639968872\n",
      "Iteration completed in 26.47434139251709\n",
      "Iteration completed in 25.90286159515381\n",
      "Iteration completed in 25.90501642227173\n",
      "Iteration completed in 25.33451247215271\n"
     ]
    }
   ],
   "source": [
    "### Random forest classifier creation with 70 trees\n",
    "clf = RandomForestClassifier(n_estimators=70)\n",
    "start_time = time.time()\n",
    "accuracies = []\n",
    "f1_scores_macro = []\n",
    "f1_scores_weigh = []\n",
    "for res in obj:\n",
    "    s_time = time.time()\n",
    "    # Input \n",
    "    X_data = res[1]\n",
    "    # Output communities defined by Louvain algorithm\n",
    "    y_data = [comms_dict.get(str(i)) for i in range(1, len(comms_dict) + 1)]\n",
    "\n",
    "    # Split the data into training set and test set\n",
    "    X_train, X_test, y_train, y_test = train_test_split(X_data, y_data, test_size=0.2)\n",
    "\n",
    "    clf.fit(X_train, y_train)\n",
    "\n",
    "    y_pred = clf.predict(X_test)\n",
    "\n",
    "    ### Accuracy metric\n",
    "    accuracies.append(metrics.accuracy_score(y_test, y_pred))\n",
    "    f1_scores_macro.append(metrics.f1_score(y_test, y_pred, average=\"macro\"))\n",
    "    f1_scores_weigh.append(metrics.f1_score(y_test, y_pred, average=\"weighted\"))\n",
    "\n",
    "    print(f\"Iteration completed in {time.time() - s_time}\")\n",
    "end_time = time.time()"
   ]
  },
  {
   "cell_type": "code",
   "execution_count": 5,
   "id": "noticed-wagner",
   "metadata": {},
   "outputs": [],
   "source": [
    "### Function that returns the 10 / 1 index of the maximum values of a list\n",
    "def get10maxidx(l):\n",
    "    return list(map(lambda x: x[1], sorted(zip(l, range(0, len(l))), reverse=True)[:10]))\n",
    "def getmaxidx(l):\n",
    "    return l.index(max(l))"
   ]
  },
  {
   "cell_type": "code",
   "execution_count": 6,
   "id": "specialized-latter",
   "metadata": {},
   "outputs": [],
   "source": [
    "### 10MWL classification\n",
    "clf = RandomForestClassifier(n_estimators=70)\n",
    "start_time2 = time.time()\n",
    "accuracies2 = []\n",
    "f1_scores2_macro = []\n",
    "f1_scores2_weigh = []\n",
    "for res in obj:\n",
    "    # Input \n",
    "    X_data = list(map(lambda x: get10maxidx(x), res[1]))\n",
    "\n",
    "    # Output communities defined by Louvain algorithm\n",
    "    y_data = [comms_dict.get(str(i)) for i in range(1, len(comms_dict) + 1)]\n",
    "\n",
    "    # Split the data into training set and test set\n",
    "    X_train, X_test, y_train, y_test = train_test_split(X_data, y_data, test_size=0.2)\n",
    "\n",
    "    clf.fit(X_train, y_train)\n",
    "\n",
    "    y_pred = clf.predict(X_test)\n",
    "\n",
    "    ### Accuracy metric\n",
    "    accuracies2.append(metrics.accuracy_score(y_test, y_pred))\n",
    "    f1_scores2_macro.append(metrics.f1_score(y_test, y_pred, average=\"macro\"))\n",
    "    f1_scores2_weigh.append(metrics.f1_score(y_test, y_pred, average=\"weighted\"))\n",
    "    \n",
    "end_time2 = time.time()"
   ]
  },
  {
   "cell_type": "code",
   "execution_count": 7,
   "id": "empirical-background",
   "metadata": {},
   "outputs": [],
   "source": [
    "### MWL classification\n",
    "clf = RandomForestClassifier(n_estimators=70)\n",
    "start_time3 = time.time()\n",
    "accuracies3 = []\n",
    "f1_scores3_macro = []\n",
    "f1_scores3_weigh = []\n",
    "for res in obj:\n",
    "    # Input \n",
    "    X_data = list(map(lambda x: [getmaxidx(x)], res[1]))\n",
    "\n",
    "    # Output communities defined by Louvain algorithm\n",
    "    y_data = [comms_dict.get(str(i)) for i in range(1, len(comms_dict) + 1)]\n",
    "\n",
    "    # Split the data into training set and test set\n",
    "    X_train, X_test, y_train, y_test = train_test_split(X_data, y_data, test_size=0.2)\n",
    "\n",
    "    clf.fit(X_train, y_train)\n",
    "\n",
    "    y_pred = clf.predict(X_test)\n",
    "\n",
    "    ### Accuracy metric\n",
    "    accuracies3.append(metrics.accuracy_score(y_test, y_pred))\n",
    "    f1_scores3_macro.append(metrics.f1_score(y_test, y_pred, average=\"macro\"))\n",
    "    f1_scores3_weigh.append(metrics.f1_score(y_test, y_pred, average=\"weighted\"))\n",
    "    \n",
    "end_time3 = time.time()"
   ]
  },
  {
   "cell_type": "code",
   "execution_count": 9,
   "id": "welsh-growth",
   "metadata": {},
   "outputs": [],
   "source": [
    "import matplotlib\n",
    "matplotlib.use(\"pgf\")\n",
    "matplotlib.rcParams.update({\n",
    "    \"pgf.texsystem\": \"pdflatex\",\n",
    "    'font.family': 'serif',\n",
    "    'text.usetex': True,\n",
    "    'pgf.rcfonts': False\n",
    "})"
   ]
  },
  {
   "cell_type": "markdown",
   "id": "wrapped-omaha",
   "metadata": {},
   "source": [
    "### Comparison macro"
   ]
  },
  {
   "cell_type": "code",
   "execution_count": 25,
   "id": "functional-latin",
   "metadata": {
    "scrolled": false
   },
   "outputs": [
    {
     "name": "stderr",
     "output_type": "stream",
     "text": [
      "/tmp/ipykernel_14516/3233903649.py:18: UserWarning: Matplotlib is currently using pgf, which is a non-GUI backend, so cannot show the figure.\n",
      "  plt.show()\n"
     ]
    }
   ],
   "source": [
    "# Plot F1-macro comparison\n",
    "plt.figure(figsize=(10, 6))\n",
    "l = list(range(0,10)) + list(range(10, 32, 2))\n",
    "plt.plot(l, f1_scores_macro, \"o\", label=\"AVPRA F1-score-macro\", markersize=10)\n",
    "plt.plot(l, f1_scores2_macro, \"o\", label=\"AVPRA 10MWL F1-score-macro\", markersize=10)\n",
    "plt.plot(l, f1_scores3_macro, \"o\", label=\"AVPRA MWL F1-score-macro\", markersize=10)\n",
    "\n",
    "plt.axvline(x=18, label=\"Diametro\", linestyle=\"--\")\n",
    "\n",
    "plt.xlabel(\"Iterazione\", fontsize=20)\n",
    "plt.ylabel(\"F1-score\", fontsize=20)\n",
    "plt.legend(loc=\"right\", prop={'size': 16})\n",
    "plt.xticks(fontsize=16)\n",
    "plt.yticks(fontsize=16)\n",
    "plt.ylim(0,1)\n",
    "\n",
    "plt.savefig(\"F1_RO_AVPRA_all_macro.png\", dpi=500)\n",
    "plt.show()"
   ]
  },
  {
   "cell_type": "code",
   "execution_count": 11,
   "id": "distinct-memorial",
   "metadata": {},
   "outputs": [
    {
     "data": {
      "text/plain": [
       "(0.9114381527473415, 22)"
      ]
     },
     "execution_count": 11,
     "metadata": {},
     "output_type": "execute_result"
    }
   ],
   "source": [
    "max(f1_scores_macro), (list(range(0,10)) + list(range(10, 32, 2)))[f1_scores_macro.index(max(f1_scores_macro))]"
   ]
  },
  {
   "cell_type": "code",
   "execution_count": 12,
   "id": "auburn-agreement",
   "metadata": {},
   "outputs": [
    {
     "data": {
      "text/plain": [
       "(0.3220555907586357, 10)"
      ]
     },
     "execution_count": 12,
     "metadata": {},
     "output_type": "execute_result"
    }
   ],
   "source": [
    "max(f1_scores2_macro), (list(range(0,10)) + list(range(10, 32, 2)))[f1_scores2_macro.index(max(f1_scores2_macro))]"
   ]
  },
  {
   "cell_type": "code",
   "execution_count": 13,
   "id": "urban-belle",
   "metadata": {},
   "outputs": [
    {
     "data": {
      "text/plain": [
       "(0.018504769902618633, 14)"
      ]
     },
     "execution_count": 13,
     "metadata": {},
     "output_type": "execute_result"
    }
   ],
   "source": [
    "max(f1_scores3_macro), (list(range(0,10)) + list(range(10, 32, 2)))[f1_scores3_macro.index(max(f1_scores3_macro))]"
   ]
  },
  {
   "cell_type": "markdown",
   "id": "requested-color",
   "metadata": {},
   "source": [
    "### Comparison weighted"
   ]
  },
  {
   "cell_type": "code",
   "execution_count": 26,
   "id": "legal-encounter",
   "metadata": {},
   "outputs": [
    {
     "name": "stderr",
     "output_type": "stream",
     "text": [
      "/tmp/ipykernel_14516/390968260.py:18: UserWarning: Matplotlib is currently using pgf, which is a non-GUI backend, so cannot show the figure.\n",
      "  plt.show()\n"
     ]
    }
   ],
   "source": [
    "# Plot F1-macro comparison\n",
    "plt.figure(figsize=(10, 6))\n",
    "l = list(range(0,10)) + list(range(10, 32, 2))\n",
    "plt.plot(l, f1_scores_weigh, \"o\", label=\"AVPRA F1-score-weighted\", markersize=10)\n",
    "plt.plot(l, f1_scores2_weigh, \"o\", label=\"AVPRA 10MWL F1-score-weighted\", markersize=10)\n",
    "plt.plot(l, f1_scores3_weigh, \"o\", label=\"AVPRA MWL F1-score-weighted\", markersize=10)\n",
    "\n",
    "plt.axvline(x=18, label=\"Diametro\", linestyle=\"--\")\n",
    "\n",
    "plt.xlabel(\"Iterazione\", fontsize=20)\n",
    "plt.ylabel(\"F1-score\", fontsize=20)\n",
    "plt.legend(loc=\"right\", prop={'size': 16})\n",
    "plt.xticks(fontsize=16)\n",
    "plt.yticks(fontsize=16)\n",
    "plt.ylim(0,1)\n",
    "\n",
    "plt.savefig(\"F1_RO_AVPRA_all_weighted.png\", dpi=500)\n",
    "plt.show()"
   ]
  },
  {
   "cell_type": "code",
   "execution_count": 15,
   "id": "limited-video",
   "metadata": {},
   "outputs": [
    {
     "data": {
      "text/plain": [
       "(0.894413683724523, 20)"
      ]
     },
     "execution_count": 15,
     "metadata": {},
     "output_type": "execute_result"
    }
   ],
   "source": [
    "max(f1_scores_weigh), (list(range(0,10)) + list(range(10, 32, 2)))[f1_scores_weigh.index(max(f1_scores_weigh))]"
   ]
  },
  {
   "cell_type": "code",
   "execution_count": 16,
   "id": "tired-arbitration",
   "metadata": {},
   "outputs": [
    {
     "data": {
      "text/plain": [
       "(0.289953132211796, 9)"
      ]
     },
     "execution_count": 16,
     "metadata": {},
     "output_type": "execute_result"
    }
   ],
   "source": [
    "max(f1_scores2_weigh), (list(range(0,10)) + list(range(10, 32, 2)))[f1_scores2_weigh.index(max(f1_scores2_weigh))]"
   ]
  },
  {
   "cell_type": "code",
   "execution_count": 17,
   "id": "biological-stopping",
   "metadata": {},
   "outputs": [
    {
     "data": {
      "text/plain": [
       "(0.04547210266953643, 1)"
      ]
     },
     "execution_count": 17,
     "metadata": {},
     "output_type": "execute_result"
    }
   ],
   "source": [
    "max(f1_scores3_weigh), (list(range(0,10)) + list(range(10, 32, 2)))[f1_scores3_weigh.index(max(f1_scores3_weigh))]"
   ]
  },
  {
   "cell_type": "code",
   "execution_count": 18,
   "id": "under-vintage",
   "metadata": {},
   "outputs": [
    {
     "name": "stderr",
     "output_type": "stream",
     "text": [
      "/tmp/ipykernel_14516/2499337326.py:17: UserWarning: Matplotlib is currently using pgf, which is a non-GUI backend, so cannot show the figure.\n",
      "  plt.show()\n"
     ]
    }
   ],
   "source": [
    "# Plot accuracy graph\n",
    "plt.figure(figsize=(10, 6))\n",
    "l = list(range(0,10)) + list(range(10, 32, 2))\n",
    "plt.plot(l, accuracies, \"o\", label=\"AVPRA Accuratezza\", markersize=10)\n",
    "plt.plot(l, f1_scores_macro, \"x\", label=\"AVPRA F1-score-macro\", color=\"blue\", markersize=12)\n",
    "\n",
    "plt.axvline(x=18, label=\"Diametro\", linestyle=\"--\")\n",
    "\n",
    "plt.xlabel(\"Iterazione\", fontsize=20)\n",
    "plt.ylabel(\"Accuratezza/F1-Score\", fontsize=20)\n",
    "plt.legend(loc=\"right\", prop={'size': 16})\n",
    "plt.xticks(fontsize=16)\n",
    "plt.yticks(fontsize=16)\n",
    "plt.ylim(0,1)\n",
    "\n",
    "plt.savefig(\"F1_RO_AVPRA_macro.png\", dpi=500)\n",
    "plt.show()"
   ]
  },
  {
   "cell_type": "code",
   "execution_count": 19,
   "id": "express-consensus",
   "metadata": {},
   "outputs": [
    {
     "name": "stderr",
     "output_type": "stream",
     "text": [
      "/tmp/ipykernel_14516/179586555.py:17: UserWarning: Matplotlib is currently using pgf, which is a non-GUI backend, so cannot show the figure.\n",
      "  plt.show()\n"
     ]
    }
   ],
   "source": [
    "# Plot accuracy graph\n",
    "plt.figure(figsize=(10, 6))\n",
    "l = list(range(0,10)) + list(range(10, 32, 2))\n",
    "plt.plot(l, accuracies, \"o\", label=\"AVPRA Accuratezza\", markersize=10)\n",
    "plt.plot(l, f1_scores_weigh, \"x\", label=\"AVPRA F1-score-weighted\", color=\"blue\", markersize=12)\n",
    "\n",
    "plt.axvline(x=18, label=\"Diametro\", linestyle=\"--\")\n",
    "\n",
    "plt.xlabel(\"Iterazione\", fontsize=20)\n",
    "plt.ylabel(\"Accuratezza/F1-Score\", fontsize=20)\n",
    "plt.legend(loc=\"right\", prop={'size': 16})\n",
    "plt.xticks(fontsize=16)\n",
    "plt.yticks(fontsize=16)\n",
    "plt.ylim(0,1)\n",
    "\n",
    "plt.savefig(\"F1_RO_AVPRA_weighted.png\", dpi=500)\n",
    "plt.show()"
   ]
  },
  {
   "cell_type": "code",
   "execution_count": 20,
   "id": "current-accent",
   "metadata": {},
   "outputs": [
    {
     "data": {
      "text/plain": [
       "(0.893836026331538, 20)"
      ]
     },
     "execution_count": 20,
     "metadata": {},
     "output_type": "execute_result"
    }
   ],
   "source": [
    "max(accuracies), l[accuracies.index(max(accuracies))]"
   ]
  },
  {
   "cell_type": "code",
   "execution_count": 21,
   "id": "beginning-combination",
   "metadata": {},
   "outputs": [
    {
     "data": {
      "text/plain": [
       "(0.3338120885697187, 14)"
      ]
     },
     "execution_count": 21,
     "metadata": {},
     "output_type": "execute_result"
    }
   ],
   "source": [
    "max(accuracies2), l[accuracies2.index(max(accuracies2))]"
   ]
  },
  {
   "cell_type": "code",
   "execution_count": 22,
   "id": "insured-truth",
   "metadata": {},
   "outputs": [
    {
     "data": {
      "text/plain": [
       "(0.16122082585278277, 1)"
      ]
     },
     "execution_count": 22,
     "metadata": {},
     "output_type": "execute_result"
    }
   ],
   "source": [
    "max(accuracies3), l[accuracies3.index(max(accuracies3))]"
   ]
  },
  {
   "cell_type": "code",
   "execution_count": 27,
   "id": "statutory-integration",
   "metadata": {},
   "outputs": [
    {
     "name": "stderr",
     "output_type": "stream",
     "text": [
      "/tmp/ipykernel_14516/3827758895.py:18: UserWarning: Matplotlib is currently using pgf, which is a non-GUI backend, so cannot show the figure.\n",
      "  plt.show()\n"
     ]
    }
   ],
   "source": [
    "# Plot accuracy graph\n",
    "plt.figure(figsize=(10, 6))\n",
    "l = list(range(0,10)) + list(range(10, 32, 2))\n",
    "plt.plot(l, accuracies, \"o\", label=\"AVPRA Accuratezza\", markersize=10)\n",
    "plt.plot(l, accuracies2, \"o\", label=\"AVPRA 10MWL Accuratezza\", markersize=10)\n",
    "plt.plot(l, accuracies3, \"o\", label=\"AVPRA MWL Accuratezza\", markersize=10)\n",
    "\n",
    "plt.axvline(x=18, label=\"Diametro\", linestyle=\"--\")\n",
    "\n",
    "plt.xlabel(\"Iterazione\", fontsize=20)\n",
    "plt.ylabel(\"Accuratezza\", fontsize=20)\n",
    "plt.legend(loc=\"right\", prop={'size': 16})\n",
    "plt.xticks(fontsize=16)\n",
    "plt.yticks(fontsize=16)\n",
    "plt.ylim(0,1)\n",
    "\n",
    "plt.savefig(\"F1_RO_AVPRA_all_micro.png\", dpi=500)\n",
    "plt.show()"
   ]
  },
  {
   "cell_type": "markdown",
   "id": "breathing-adams",
   "metadata": {},
   "source": [
    "### Only F1 micro"
   ]
  },
  {
   "cell_type": "code",
   "execution_count": 24,
   "id": "sufficient-train",
   "metadata": {},
   "outputs": [
    {
     "name": "stderr",
     "output_type": "stream",
     "text": [
      "/tmp/ipykernel_14516/1087648659.py:16: UserWarning: Matplotlib is currently using pgf, which is a non-GUI backend, so cannot show the figure.\n",
      "  plt.show()\n"
     ]
    }
   ],
   "source": [
    "# Plot accuracy graph\n",
    "plt.figure(figsize=(10, 6))\n",
    "l = list(range(0,10)) + list(range(10, 32, 2))\n",
    "plt.plot(l, accuracies, \"o\", label=\"AVPRA Accuratezza\", markersize=10)\n",
    "\n",
    "plt.axvline(x=18, label=\"Diametro\", linestyle=\"--\")\n",
    "\n",
    "plt.xlabel(\"Iterazione\", fontsize=20)\n",
    "plt.ylabel(\"Accuratezza\", fontsize=20)\n",
    "plt.legend(loc=\"right\", prop={'size': 16})\n",
    "plt.xticks(fontsize=16)\n",
    "plt.yticks(fontsize=16)\n",
    "plt.ylim(0,1)\n",
    "\n",
    "plt.savefig(\"F1_RO_AVPRA_micro.png\", dpi=500)\n",
    "plt.show()"
   ]
  },
  {
   "cell_type": "code",
   "execution_count": null,
   "id": "relevant-calvin",
   "metadata": {},
   "outputs": [],
   "source": []
  }
 ],
 "metadata": {
  "kernelspec": {
   "display_name": "Python 3 (ipykernel)",
   "language": "python",
   "name": "python3"
  },
  "language_info": {
   "codemirror_mode": {
    "name": "ipython",
    "version": 3
   },
   "file_extension": ".py",
   "mimetype": "text/x-python",
   "name": "python",
   "nbconvert_exporter": "python",
   "pygments_lexer": "ipython3",
   "version": "3.8.13"
  }
 },
 "nbformat": 4,
 "nbformat_minor": 5
}
