{
 "cells": [
  {
   "cell_type": "code",
   "execution_count": 1,
   "metadata": {},
   "outputs": [],
   "source": [
    "import networkx as nx\n",
    "import pandas as pd\n",
    "from sklearn.ensemble import RandomForestClassifier\n",
    "from sklearn.model_selection import train_test_split\n",
    "from sklearn.metrics.cluster import normalized_mutual_info_score\n",
    "from sklearn.cluster import SpectralClustering, AgglomerativeClustering, KMeans\n",
    "from sklearn.model_selection import train_test_split\n",
    "from sklearn import metrics\n",
    "import matplotlib.pyplot as plt"
   ]
  },
  {
   "cell_type": "code",
   "execution_count": 2,
   "metadata": {},
   "outputs": [],
   "source": [
    "G = nx.read_edgelist(\"./EDGES_FILE.csv\", create_using=nx.DiGraph, nodetype=int)\n",
    "H = nx.read_edgelist(\"./EDGES_FILE.csv\", create_using=nx.DiGraph, nodetype=int)"
   ]
  },
  {
   "cell_type": "code",
   "execution_count": 3,
   "metadata": {},
   "outputs": [],
   "source": [
    "for (x, y) in G.edges():\n",
    "    if x == y:\n",
    "        if H.has_node(x):\n",
    "            H.remove_node(x)\n",
    "G = H"
   ]
  },
  {
   "cell_type": "code",
   "execution_count": 4,
   "metadata": {},
   "outputs": [
    {
     "data": {
      "text/plain": [
       "765"
      ]
     },
     "execution_count": 4,
     "metadata": {},
     "output_type": "execute_result"
    }
   ],
   "source": [
    "len(G.nodes())"
   ]
  },
  {
   "cell_type": "code",
   "execution_count": 5,
   "metadata": {},
   "outputs": [
    {
     "data": {
      "text/plain": [
       "50294"
      ]
     },
     "execution_count": 5,
     "metadata": {},
     "output_type": "execute_result"
    }
   ],
   "source": [
    "len(G.edges())"
   ]
  },
  {
   "cell_type": "code",
   "execution_count": 6,
   "metadata": {},
   "outputs": [],
   "source": [
    "### Reading communities\n",
    "data = pd.read_csv(\"./PI_comms.csv\", header=None, sep=\";\").sort_values(by=0)[1].values"
   ]
  },
  {
   "cell_type": "markdown",
   "metadata": {},
   "source": [
    "---\n",
    "# Spectral clustering"
   ]
  },
  {
   "cell_type": "markdown",
   "metadata": {},
   "source": [
    "## AVPRA pred"
   ]
  },
  {
   "cell_type": "code",
   "execution_count": 8,
   "metadata": {},
   "outputs": [],
   "source": [
    "obj = pd.read_pickle(\"../AVPRA_pred.pickled\")"
   ]
  },
  {
   "cell_type": "code",
   "execution_count": 9,
   "metadata": {},
   "outputs": [],
   "source": [
    "clf = RandomForestClassifier(n_estimators=70)\n",
    "scores = []\n",
    "for res in obj:\n",
    "    X_data = res[1]\n",
    "    X_data = [X_data[i] for i in range(len(X_data)) if (i + 1) in list(G.nodes())]\n",
    "    \n",
    "    y_data = SpectralClustering(n_clusters=len(pd.Series(data).unique()), assign_labels='discretize', random_state=0).fit(X_data).labels_\n",
    "    \n",
    "    scores.append(normalized_mutual_info_score(data, y_data))"
   ]
  },
  {
   "cell_type": "code",
   "execution_count": 11,
   "metadata": {},
   "outputs": [
    {
     "data": {
      "text/plain": [
       "count    21.000000\n",
       "mean      0.737572\n",
       "std       0.207223\n",
       "min       0.011947\n",
       "25%       0.593828\n",
       "50%       0.791030\n",
       "75%       0.888262\n",
       "max       0.892796\n",
       "dtype: float64"
      ]
     },
     "execution_count": 11,
     "metadata": {},
     "output_type": "execute_result"
    }
   ],
   "source": [
    "pd.Series(scores).describe()"
   ]
  },
  {
   "cell_type": "markdown",
   "metadata": {},
   "source": [
    "## Node2Vec"
   ]
  },
  {
   "cell_type": "code",
   "execution_count": 18,
   "metadata": {},
   "outputs": [],
   "source": [
    "tests = 0\n",
    "with open(\"../n2v/n2v_info.txt\", \"r\") as f:\n",
    "    lines = f.readlines()\n",
    "    for line in lines:\n",
    "        if \"Test\" in line: tests += 1"
   ]
  },
  {
   "cell_type": "code",
   "execution_count": 17,
   "metadata": {},
   "outputs": [],
   "source": [
    "clf = RandomForestClassifier(n_estimators=70)\n",
    "scores = []\n",
    "for i in range(tests):\n",
    "    X_data = pd.read_csv(\"./n2v/n2v_emb_vectors\" + str(i) + \".csv\", header=None, sep=\";\").values.tolist()\n",
    "    X_data = [X_data[i] for i in range(len(X_data)) if (i + 1) in list(G.nodes())]\n",
    "    \n",
    "    y_data = SpectralClustering(n_clusters=len(pd.Series(data).unique()),\n",
    "                  assign_labels='discretize', random_state=0).fit(X_data).labels_\n",
    "    \n",
    "    scores.append(normalized_mutual_info_score(data, y_data))"
   ]
  },
  {
   "cell_type": "code",
   "execution_count": 16,
   "metadata": {},
   "outputs": [
    {
     "data": {
      "text/plain": [
       "count    24.000000\n",
       "mean      0.926852\n",
       "std       0.009191\n",
       "min       0.909761\n",
       "25%       0.919890\n",
       "50%       0.926979\n",
       "75%       0.931694\n",
       "max       0.946199\n",
       "dtype: float64"
      ]
     },
     "execution_count": 16,
     "metadata": {},
     "output_type": "execute_result"
    }
   ],
   "source": [
    "pd.Series(scores).describe()"
   ]
  },
  {
   "cell_type": "markdown",
   "metadata": {},
   "source": [
    "## DW"
   ]
  },
  {
   "cell_type": "code",
   "execution_count": 17,
   "metadata": {},
   "outputs": [],
   "source": [
    "tests = 0\n",
    "with open(\"./dw/dw_info.txt\", \"r\") as f:\n",
    "    lines = f.readlines()\n",
    "    for line in lines:\n",
    "        if \"Test\" in line: tests += 1"
   ]
  },
  {
   "cell_type": "code",
   "execution_count": 18,
   "metadata": {},
   "outputs": [],
   "source": [
    "clf = RandomForestClassifier(n_estimators=70)\n",
    "scores = []\n",
    "for i in range(tests):\n",
    "    X_data = pd.read_csv(\"./dw/dw_emb_vectors\" + str(i) + \".csv\", header=None, sep=\";\").values.tolist()\n",
    "    X_data = [X_data[i] for i in range(len(X_data)) if (i + 1) in list(G.nodes())]\n",
    "    \n",
    "    y_data = SpectralClustering(n_clusters=len(pd.Series(data).unique()),\n",
    "                  assign_labels='discretize', random_state=0).fit(X_data).labels_\n",
    "    \n",
    "    scores.append(normalized_mutual_info_score(data, y_data))"
   ]
  },
  {
   "cell_type": "code",
   "execution_count": 19,
   "metadata": {},
   "outputs": [
    {
     "data": {
      "text/plain": [
       "count    15.000000\n",
       "mean      0.903192\n",
       "std       0.043959\n",
       "min       0.782500\n",
       "25%       0.905339\n",
       "50%       0.921003\n",
       "75%       0.927275\n",
       "max       0.932670\n",
       "dtype: float64"
      ]
     },
     "execution_count": 19,
     "metadata": {},
     "output_type": "execute_result"
    }
   ],
   "source": [
    "pd.Series(scores).describe()"
   ]
  },
  {
   "cell_type": "markdown",
   "metadata": {},
   "source": [
    "## MNMF"
   ]
  },
  {
   "cell_type": "code",
   "execution_count": 20,
   "metadata": {},
   "outputs": [],
   "source": [
    "tests = 0\n",
    "with open(\"./mnmf/mnmf_info.txt\", \"r\") as f:\n",
    "    lines = f.readlines()\n",
    "    for line in lines:\n",
    "        if \"Test\" in line: tests += 1"
   ]
  },
  {
   "cell_type": "code",
   "execution_count": 21,
   "metadata": {},
   "outputs": [],
   "source": [
    "clf = RandomForestClassifier(n_estimators=70)\n",
    "scores = []\n",
    "for i in range(tests):\n",
    "    X_data = pd.read_csv(\"./mnmf/mnmf_emb_vectors\" + str(i) + \".csv\", header=None, sep=\";\").values.tolist()\n",
    "    X_data = [X_data[i] for i in range(len(X_data)) if (i + 1) in list(G.nodes())]\n",
    "    \n",
    "    y_data = SpectralClustering(n_clusters=len(pd.Series(data).unique()),\n",
    "                  assign_labels='discretize', random_state=0).fit(X_data).labels_\n",
    "    \n",
    "    scores.append(normalized_mutual_info_score(data, y_data))"
   ]
  },
  {
   "cell_type": "code",
   "execution_count": 22,
   "metadata": {},
   "outputs": [
    {
     "data": {
      "text/plain": [
       "count    10.000000\n",
       "mean      0.864333\n",
       "std       0.055778\n",
       "min       0.714297\n",
       "25%       0.863564\n",
       "50%       0.874481\n",
       "75%       0.889222\n",
       "max       0.909307\n",
       "dtype: float64"
      ]
     },
     "execution_count": 22,
     "metadata": {},
     "output_type": "execute_result"
    }
   ],
   "source": [
    "pd.Series(scores).describe()"
   ]
  },
  {
   "cell_type": "markdown",
   "metadata": {},
   "source": [
    "---\n",
    "# KMeans"
   ]
  },
  {
   "cell_type": "markdown",
   "metadata": {},
   "source": [
    "## AVPRA pred"
   ]
  },
  {
   "cell_type": "code",
   "execution_count": 19,
   "metadata": {},
   "outputs": [],
   "source": [
    "obj = pd.read_pickle(\"../AVPRA_pred.pickled\")"
   ]
  },
  {
   "cell_type": "code",
   "execution_count": 20,
   "metadata": {},
   "outputs": [],
   "source": [
    "clf = RandomForestClassifier(n_estimators=70)\n",
    "scores = []\n",
    "for res in obj:\n",
    "    X_data = res[1]\n",
    "    X_data = [X_data[i] for i in range(len(X_data)) if (i + 1) in list(G.nodes())]\n",
    "    \n",
    "    y_data = KMeans(n_clusters=len(pd.Series(data).unique())).fit(X_data).labels_\n",
    "    \n",
    "    scores.append(normalized_mutual_info_score(data, y_data))"
   ]
  },
  {
   "cell_type": "code",
   "execution_count": 22,
   "metadata": {},
   "outputs": [
    {
     "data": {
      "text/plain": [
       "count    21.000000\n",
       "mean      0.650411\n",
       "std       0.296213\n",
       "min       0.011957\n",
       "25%       0.576826\n",
       "50%       0.776372\n",
       "75%       0.866030\n",
       "max       0.883197\n",
       "dtype: float64"
      ]
     },
     "execution_count": 22,
     "metadata": {},
     "output_type": "execute_result"
    }
   ],
   "source": [
    "pd.Series(scores).describe()"
   ]
  },
  {
   "cell_type": "markdown",
   "metadata": {},
   "source": [
    "## Node2Vec"
   ]
  },
  {
   "cell_type": "code",
   "execution_count": 31,
   "metadata": {},
   "outputs": [],
   "source": [
    "tests = 0\n",
    "with open(\"./n2v/n2v_info.txt\", \"r\") as f:\n",
    "    lines = f.readlines()\n",
    "    for line in lines:\n",
    "        if \"Test\" in line: tests += 1"
   ]
  },
  {
   "cell_type": "code",
   "execution_count": 32,
   "metadata": {},
   "outputs": [],
   "source": [
    "clf = RandomForestClassifier(n_estimators=70)\n",
    "scores = []\n",
    "for i in range(tests):\n",
    "    X_data = pd.read_csv(\"./n2v/n2v_emb_vectors\" + str(i) + \".csv\", header=None, sep=\";\").values.tolist()\n",
    "    X_data = [X_data[i] for i in range(len(X_data)) if (i + 1) in list(G.nodes())]\n",
    "    \n",
    "    y_data = KMeans(n_clusters=len(pd.Series(data).unique())).fit(X_data).labels_\n",
    "    \n",
    "    scores.append(normalized_mutual_info_score(data, y_data))"
   ]
  },
  {
   "cell_type": "code",
   "execution_count": 33,
   "metadata": {},
   "outputs": [
    {
     "data": {
      "text/plain": [
       "count    24.000000\n",
       "mean      0.932014\n",
       "std       0.011377\n",
       "min       0.910573\n",
       "25%       0.923063\n",
       "50%       0.933629\n",
       "75%       0.940319\n",
       "max       0.949023\n",
       "dtype: float64"
      ]
     },
     "execution_count": 33,
     "metadata": {},
     "output_type": "execute_result"
    }
   ],
   "source": [
    "pd.Series(scores).describe()"
   ]
  },
  {
   "cell_type": "markdown",
   "metadata": {},
   "source": [
    "## DW"
   ]
  },
  {
   "cell_type": "code",
   "execution_count": 34,
   "metadata": {},
   "outputs": [],
   "source": [
    "tests = 0\n",
    "with open(\"./dw/dw_info.txt\", \"r\") as f:\n",
    "    lines = f.readlines()\n",
    "    for line in lines:\n",
    "        if \"Test\" in line: tests += 1"
   ]
  },
  {
   "cell_type": "code",
   "execution_count": 35,
   "metadata": {},
   "outputs": [],
   "source": [
    "clf = RandomForestClassifier(n_estimators=70)\n",
    "scores = []\n",
    "for i in range(tests):\n",
    "    X_data = pd.read_csv(\"./dw/dw_emb_vectors\" + str(i) + \".csv\", header=None, sep=\";\").values.tolist()\n",
    "    X_data = [X_data[i] for i in range(len(X_data)) if (i + 1) in list(G.nodes())]\n",
    "    \n",
    "    y_data = KMeans(n_clusters=len(pd.Series(data).unique())).fit(X_data).labels_\n",
    "    \n",
    "    scores.append(normalized_mutual_info_score(data, y_data))"
   ]
  },
  {
   "cell_type": "code",
   "execution_count": 36,
   "metadata": {},
   "outputs": [
    {
     "data": {
      "text/plain": [
       "count    15.000000\n",
       "mean      0.926282\n",
       "std       0.033712\n",
       "min       0.818668\n",
       "25%       0.918562\n",
       "50%       0.934121\n",
       "75%       0.939680\n",
       "max       0.966026\n",
       "dtype: float64"
      ]
     },
     "execution_count": 36,
     "metadata": {},
     "output_type": "execute_result"
    }
   ],
   "source": [
    "pd.Series(scores).describe()"
   ]
  },
  {
   "cell_type": "markdown",
   "metadata": {},
   "source": [
    "## MNMF"
   ]
  },
  {
   "cell_type": "code",
   "execution_count": 37,
   "metadata": {},
   "outputs": [],
   "source": [
    "tests = 0\n",
    "with open(\"./mnmf/mnmf_info.txt\", \"r\") as f:\n",
    "    lines = f.readlines()\n",
    "    for line in lines:\n",
    "        if \"Test\" in line: tests += 1"
   ]
  },
  {
   "cell_type": "code",
   "execution_count": 38,
   "metadata": {},
   "outputs": [],
   "source": [
    "clf = RandomForestClassifier(n_estimators=70)\n",
    "scores = []\n",
    "for i in range(tests):\n",
    "    X_data = pd.read_csv(\"./mnmf/mnmf_emb_vectors\" + str(i) + \".csv\", header=None, sep=\";\").values.tolist()\n",
    "    X_data = [X_data[i] for i in range(len(X_data)) if (i + 1) in list(G.nodes())]\n",
    "    \n",
    "    y_data = KMeans(n_clusters=len(pd.Series(data).unique())).fit(X_data).labels_\n",
    "    \n",
    "    scores.append(normalized_mutual_info_score(data, y_data))"
   ]
  },
  {
   "cell_type": "code",
   "execution_count": 39,
   "metadata": {},
   "outputs": [
    {
     "data": {
      "text/plain": [
       "count    10.000000\n",
       "mean      0.867234\n",
       "std       0.048764\n",
       "min       0.738645\n",
       "25%       0.861293\n",
       "50%       0.878172\n",
       "75%       0.889627\n",
       "max       0.918142\n",
       "dtype: float64"
      ]
     },
     "execution_count": 39,
     "metadata": {},
     "output_type": "execute_result"
    }
   ],
   "source": [
    "pd.Series(scores).describe()"
   ]
  },
  {
   "cell_type": "markdown",
   "metadata": {},
   "source": [
    "---\n",
    "# Agglomerative clustering"
   ]
  },
  {
   "cell_type": "markdown",
   "metadata": {},
   "source": [
    "## AVPRA pred"
   ]
  },
  {
   "cell_type": "code",
   "execution_count": 27,
   "metadata": {},
   "outputs": [],
   "source": [
    "obj = pd.read_pickle(\"../AVPRA_pred.pickled\")"
   ]
  },
  {
   "cell_type": "code",
   "execution_count": 28,
   "metadata": {},
   "outputs": [],
   "source": [
    "clf = RandomForestClassifier(n_estimators=70)\n",
    "scores = []\n",
    "for res in obj:\n",
    "    X_data = res[1]\n",
    "    X_data = [X_data[i] for i in range(len(X_data)) if (i + 1) in list(G.nodes())]\n",
    "    \n",
    "    y_data = AgglomerativeClustering(n_clusters=len(pd.Series(data).unique())).fit(X_data).labels_\n",
    "    \n",
    "    scores.append(normalized_mutual_info_score(data, y_data))"
   ]
  },
  {
   "cell_type": "code",
   "execution_count": 30,
   "metadata": {},
   "outputs": [
    {
     "data": {
      "text/plain": [
       "count    21.000000\n",
       "mean      0.624302\n",
       "std       0.327552\n",
       "min       0.011957\n",
       "25%       0.576826\n",
       "50%       0.777980\n",
       "75%       0.874037\n",
       "max       0.882575\n",
       "dtype: float64"
      ]
     },
     "execution_count": 30,
     "metadata": {},
     "output_type": "execute_result"
    }
   ],
   "source": [
    "pd.Series(scores).describe()"
   ]
  },
  {
   "cell_type": "markdown",
   "metadata": {},
   "source": [
    "## Node2Vec"
   ]
  },
  {
   "cell_type": "code",
   "execution_count": 48,
   "metadata": {},
   "outputs": [],
   "source": [
    "tests = 0\n",
    "with open(\"./n2v/n2v_info.txt\", \"r\") as f:\n",
    "    lines = f.readlines()\n",
    "    for line in lines:\n",
    "        if \"Test\" in line: tests += 1"
   ]
  },
  {
   "cell_type": "code",
   "execution_count": 49,
   "metadata": {},
   "outputs": [],
   "source": [
    "clf = RandomForestClassifier(n_estimators=70)\n",
    "scores = []\n",
    "for i in range(tests):\n",
    "    X_data = pd.read_csv(\"./n2v/n2v_emb_vectors\" + str(i) + \".csv\", header=None, sep=\";\").values.tolist()\n",
    "    X_data = [X_data[i] for i in range(len(X_data)) if (i + 1) in list(G.nodes())]\n",
    "    \n",
    "    y_data = AgglomerativeClustering(n_clusters=len(pd.Series(data).unique())).fit(X_data).labels_\n",
    "    \n",
    "    scores.append(normalized_mutual_info_score(data, y_data))"
   ]
  },
  {
   "cell_type": "code",
   "execution_count": 50,
   "metadata": {},
   "outputs": [
    {
     "data": {
      "text/plain": [
       "count    24.000000\n",
       "mean      0.872850\n",
       "std       0.012678\n",
       "min       0.837588\n",
       "25%       0.866319\n",
       "50%       0.871789\n",
       "75%       0.882491\n",
       "max       0.894487\n",
       "dtype: float64"
      ]
     },
     "execution_count": 50,
     "metadata": {},
     "output_type": "execute_result"
    }
   ],
   "source": [
    "pd.Series(scores).describe()"
   ]
  },
  {
   "cell_type": "markdown",
   "metadata": {},
   "source": [
    "## DW"
   ]
  },
  {
   "cell_type": "code",
   "execution_count": 51,
   "metadata": {},
   "outputs": [],
   "source": [
    "tests = 0\n",
    "with open(\"./dw/dw_info.txt\", \"r\") as f:\n",
    "    lines = f.readlines()\n",
    "    for line in lines:\n",
    "        if \"Test\" in line: tests += 1"
   ]
  },
  {
   "cell_type": "code",
   "execution_count": 52,
   "metadata": {},
   "outputs": [],
   "source": [
    "clf = RandomForestClassifier(n_estimators=70)\n",
    "scores = []\n",
    "for i in range(tests):\n",
    "    X_data = pd.read_csv(\"./dw/dw_emb_vectors\" + str(i) + \".csv\", header=None, sep=\";\").values.tolist()\n",
    "    X_data = [X_data[i] for i in range(len(X_data)) if (i + 1) in list(G.nodes())]\n",
    "    \n",
    "    y_data = AgglomerativeClustering(n_clusters=len(pd.Series(data).unique())).fit(X_data).labels_\n",
    "    \n",
    "    scores.append(normalized_mutual_info_score(data, y_data))"
   ]
  },
  {
   "cell_type": "code",
   "execution_count": 53,
   "metadata": {},
   "outputs": [
    {
     "data": {
      "text/plain": [
       "count    15.000000\n",
       "mean      0.867466\n",
       "std       0.028090\n",
       "min       0.796700\n",
       "25%       0.855911\n",
       "50%       0.871539\n",
       "75%       0.882024\n",
       "max       0.907870\n",
       "dtype: float64"
      ]
     },
     "execution_count": 53,
     "metadata": {},
     "output_type": "execute_result"
    }
   ],
   "source": [
    "pd.Series(scores).describe()"
   ]
  },
  {
   "cell_type": "markdown",
   "metadata": {},
   "source": [
    "## MNMF"
   ]
  },
  {
   "cell_type": "code",
   "execution_count": 54,
   "metadata": {},
   "outputs": [],
   "source": [
    "tests = 0\n",
    "with open(\"./mnmf/mnmf_info.txt\", \"r\") as f:\n",
    "    lines = f.readlines()\n",
    "    for line in lines:\n",
    "        if \"Test\" in line: tests += 1"
   ]
  },
  {
   "cell_type": "code",
   "execution_count": 55,
   "metadata": {},
   "outputs": [],
   "source": [
    "clf = RandomForestClassifier(n_estimators=70)\n",
    "scores = []\n",
    "for i in range(tests):\n",
    "    X_data = pd.read_csv(\"./mnmf/mnmf_emb_vectors\" + str(i) + \".csv\", header=None, sep=\";\").values.tolist()\n",
    "    X_data = [X_data[i] for i in range(len(X_data)) if (i + 1) in list(G.nodes())]\n",
    "    \n",
    "    y_data = AgglomerativeClustering(n_clusters=len(pd.Series(data).unique())).fit(X_data).labels_\n",
    "    \n",
    "    scores.append(normalized_mutual_info_score(data, y_data))"
   ]
  },
  {
   "cell_type": "code",
   "execution_count": 56,
   "metadata": {},
   "outputs": [
    {
     "data": {
      "text/plain": [
       "count    10.000000\n",
       "mean      0.845866\n",
       "std       0.044883\n",
       "min       0.729674\n",
       "25%       0.845983\n",
       "50%       0.864453\n",
       "75%       0.869252\n",
       "max       0.878041\n",
       "dtype: float64"
      ]
     },
     "execution_count": 56,
     "metadata": {},
     "output_type": "execute_result"
    }
   ],
   "source": [
    "pd.Series(scores).describe()"
   ]
  },
  {
   "cell_type": "code",
   "execution_count": null,
   "metadata": {},
   "outputs": [],
   "source": []
  }
 ],
 "metadata": {
  "kernelspec": {
   "display_name": "Python 3 (ipykernel)",
   "language": "python",
   "name": "python3"
  },
  "language_info": {
   "codemirror_mode": {
    "name": "ipython",
    "version": 3
   },
   "file_extension": ".py",
   "mimetype": "text/x-python",
   "name": "python",
   "nbconvert_exporter": "python",
   "pygments_lexer": "ipython3",
   "version": "3.8.13"
  }
 },
 "nbformat": 4,
 "nbformat_minor": 4
}
