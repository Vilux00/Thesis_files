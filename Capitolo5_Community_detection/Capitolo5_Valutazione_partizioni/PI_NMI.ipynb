{
 "cells": [
  {
   "cell_type": "code",
   "execution_count": 28,
   "metadata": {},
   "outputs": [
    {
     "name": "stdout",
     "output_type": "stream",
     "text": [
      "Note: to be able to use all crisp methods, you need to install some additional packages:  {'wurlitzer', 'graph_tool'}\n",
      "Note: to be able to use all overlapping methods, you need to install some additional packages:  {'ASLPAw'}\n",
      "Note: to be able to use all bipartite methods, you need to install some additional packages:  {'wurlitzer'}\n"
     ]
    }
   ],
   "source": [
    "import networkx as nx\n",
    "import pandas as pd\n",
    "from sklearn.ensemble import RandomForestClassifier\n",
    "from sklearn.model_selection import train_test_split\n",
    "from sklearn.metrics.cluster import normalized_mutual_info_score\n",
    "from sklearn.cluster import SpectralClustering, AgglomerativeClustering, KMeans\n",
    "from sklearn.model_selection import train_test_split\n",
    "from sklearn import metrics\n",
    "from cdlib import algorithms\n",
    "import matplotlib.pyplot as plt"
   ]
  },
  {
   "cell_type": "code",
   "execution_count": 21,
   "metadata": {},
   "outputs": [],
   "source": [
    "G = nx.read_edgelist(\"./EDGES_FILE.csv\", create_using=nx.DiGraph, nodetype=int)"
   ]
  },
  {
   "cell_type": "code",
   "execution_count": 22,
   "metadata": {},
   "outputs": [],
   "source": [
    "nodes = []\n",
    "l = list(nx.selfloop_edges(G))\n",
    "for x, _ in l:\n",
    "    if(G.degree(x) == 2): \n",
    "        G.remove_node(x)\n",
    "        nodes.append(x)"
   ]
  },
  {
   "cell_type": "code",
   "execution_count": 23,
   "metadata": {},
   "outputs": [
    {
     "data": {
      "text/plain": [
       "778"
      ]
     },
     "execution_count": 23,
     "metadata": {},
     "output_type": "execute_result"
    }
   ],
   "source": [
    "len(G.nodes())"
   ]
  },
  {
   "cell_type": "code",
   "execution_count": 24,
   "metadata": {},
   "outputs": [
    {
     "data": {
      "text/plain": [
       "50492"
      ]
     },
     "execution_count": 24,
     "metadata": {},
     "output_type": "execute_result"
    }
   ],
   "source": [
    "len(G.edges())"
   ]
  },
  {
   "cell_type": "code",
   "execution_count": 34,
   "metadata": {},
   "outputs": [],
   "source": [
    "nodes = sorted(G.nodes())\n",
    "comms = algorithms.leiden(G)\n",
    "comms_dict = comms.to_node_community_map()"
   ]
  },
  {
   "cell_type": "code",
   "execution_count": 42,
   "metadata": {},
   "outputs": [],
   "source": [
    "### Reading communities\n",
    "data = []\n",
    "for node in sorted(G.nodes()):\n",
    "    data.append(comms_dict[node][0])"
   ]
  },
  {
   "cell_type": "markdown",
   "metadata": {},
   "source": [
    "---\n",
    "# Spectral clustering"
   ]
  },
  {
   "cell_type": "markdown",
   "metadata": {},
   "source": [
    "## AVPRA pred"
   ]
  },
  {
   "cell_type": "code",
   "execution_count": 44,
   "metadata": {},
   "outputs": [],
   "source": [
    "obj = pd.read_pickle(\"./AVPRA_pred.pickled\")"
   ]
  },
  {
   "cell_type": "code",
   "execution_count": 45,
   "metadata": {},
   "outputs": [],
   "source": [
    "clf = RandomForestClassifier(n_estimators=70)\n",
    "scores = []\n",
    "for res in obj:\n",
    "    X_data = res[1]\n",
    "    X_data = [X_data[i] for i in range(len(X_data)) if (i + 1) in list(G.nodes())]\n",
    "    \n",
    "    y_data = SpectralClustering(n_clusters=len(pd.Series(data).unique()), assign_labels='discretize', random_state=0).fit(X_data).labels_\n",
    "    \n",
    "    scores.append(normalized_mutual_info_score(data, y_data))"
   ]
  },
  {
   "cell_type": "code",
   "execution_count": 46,
   "metadata": {},
   "outputs": [
    {
     "data": {
      "text/plain": [
       "count    21.000000\n",
       "mean      0.673303\n",
       "std       0.299259\n",
       "min       0.011711\n",
       "25%       0.582413\n",
       "50%       0.792400\n",
       "75%       0.881873\n",
       "max       0.885927\n",
       "dtype: float64"
      ]
     },
     "execution_count": 46,
     "metadata": {},
     "output_type": "execute_result"
    }
   ],
   "source": [
    "pd.Series(scores).describe()"
   ]
  },
  {
   "cell_type": "markdown",
   "metadata": {},
   "source": [
    "## Node2Vec"
   ]
  },
  {
   "cell_type": "code",
   "execution_count": 51,
   "metadata": {},
   "outputs": [],
   "source": [
    "tests = 0\n",
    "with open(\"./n2v/n2v_info.txt\", \"r\") as f:\n",
    "    lines = f.readlines()\n",
    "    for line in lines:\n",
    "        if \"Test\" in line: tests += 1"
   ]
  },
  {
   "cell_type": "code",
   "execution_count": 52,
   "metadata": {},
   "outputs": [],
   "source": [
    "clf = RandomForestClassifier(n_estimators=70)\n",
    "scores = []\n",
    "for i in range(tests):\n",
    "    X_data = pd.read_csv(\"./n2v/n2v_emb_vectors\" + str(i) + \".csv\", header=None, sep=\";\").values.tolist()\n",
    "    X_data = [X_data[i] for i in range(len(X_data)) if (i + 1) in list(G.nodes())]\n",
    "    \n",
    "    y_data = SpectralClustering(n_clusters=len(pd.Series(data).unique()),\n",
    "                  assign_labels='discretize', random_state=0).fit(X_data).labels_\n",
    "    \n",
    "    scores.append(normalized_mutual_info_score(data, y_data))"
   ]
  },
  {
   "cell_type": "code",
   "execution_count": 53,
   "metadata": {},
   "outputs": [
    {
     "data": {
      "text/plain": [
       "count    24.000000\n",
       "mean      0.923093\n",
       "std       0.011652\n",
       "min       0.905277\n",
       "25%       0.915186\n",
       "50%       0.923428\n",
       "75%       0.929155\n",
       "max       0.947721\n",
       "dtype: float64"
      ]
     },
     "execution_count": 53,
     "metadata": {},
     "output_type": "execute_result"
    }
   ],
   "source": [
    "pd.Series(scores).describe()"
   ]
  },
  {
   "cell_type": "markdown",
   "metadata": {},
   "source": [
    "## DW"
   ]
  },
  {
   "cell_type": "code",
   "execution_count": 54,
   "metadata": {},
   "outputs": [],
   "source": [
    "tests = 0\n",
    "with open(\"./dw/dw_info.txt\", \"r\") as f:\n",
    "    lines = f.readlines()\n",
    "    for line in lines:\n",
    "        if \"Test\" in line: tests += 1"
   ]
  },
  {
   "cell_type": "code",
   "execution_count": 55,
   "metadata": {},
   "outputs": [],
   "source": [
    "clf = RandomForestClassifier(n_estimators=70)\n",
    "scores = []\n",
    "for i in range(tests):\n",
    "    X_data = pd.read_csv(\"./dw/dw_emb_vectors\" + str(i) + \".csv\", header=None, sep=\";\").values.tolist()\n",
    "    X_data = [X_data[i] for i in range(len(X_data)) if (i + 1) in list(G.nodes())]\n",
    "    \n",
    "    y_data = SpectralClustering(n_clusters=len(pd.Series(data).unique()),\n",
    "                  assign_labels='discretize', random_state=0).fit(X_data).labels_\n",
    "    \n",
    "    scores.append(normalized_mutual_info_score(data, y_data))"
   ]
  },
  {
   "cell_type": "code",
   "execution_count": 56,
   "metadata": {},
   "outputs": [
    {
     "data": {
      "text/plain": [
       "count    15.000000\n",
       "mean      0.560066\n",
       "std       0.245529\n",
       "min       0.010802\n",
       "25%       0.552977\n",
       "50%       0.577412\n",
       "75%       0.743288\n",
       "max       0.778407\n",
       "dtype: float64"
      ]
     },
     "execution_count": 56,
     "metadata": {},
     "output_type": "execute_result"
    }
   ],
   "source": [
    "pd.Series(scores).describe()"
   ]
  },
  {
   "cell_type": "markdown",
   "metadata": {},
   "source": [
    "## MNMF"
   ]
  },
  {
   "cell_type": "code",
   "execution_count": 57,
   "metadata": {},
   "outputs": [],
   "source": [
    "tests = 0\n",
    "with open(\"./mnmf/mnmf_info.txt\", \"r\") as f:\n",
    "    lines = f.readlines()\n",
    "    for line in lines:\n",
    "        if \"Test\" in line: tests += 1"
   ]
  },
  {
   "cell_type": "code",
   "execution_count": 58,
   "metadata": {},
   "outputs": [],
   "source": [
    "clf = RandomForestClassifier(n_estimators=70)\n",
    "scores = []\n",
    "for i in range(tests):\n",
    "    X_data = pd.read_csv(\"./mnmf/mnmf_emb_vectors\" + str(i) + \".csv\", header=None, sep=\";\").values.tolist()\n",
    "    X_data = [X_data[i] for i in range(len(X_data)) if (i + 1) in list(G.nodes())]\n",
    "    \n",
    "    y_data = SpectralClustering(n_clusters=len(pd.Series(data).unique()),\n",
    "                  assign_labels='discretize', random_state=0).fit(X_data).labels_\n",
    "    \n",
    "    scores.append(normalized_mutual_info_score(data, y_data))"
   ]
  },
  {
   "cell_type": "code",
   "execution_count": 59,
   "metadata": {},
   "outputs": [
    {
     "data": {
      "text/plain": [
       "count    10.000000\n",
       "mean      0.837727\n",
       "std       0.051359\n",
       "min       0.704776\n",
       "25%       0.828794\n",
       "50%       0.848170\n",
       "75%       0.864736\n",
       "max       0.885120\n",
       "dtype: float64"
      ]
     },
     "execution_count": 59,
     "metadata": {},
     "output_type": "execute_result"
    }
   ],
   "source": [
    "pd.Series(scores).describe()"
   ]
  },
  {
   "cell_type": "markdown",
   "metadata": {},
   "source": [
    "---\n",
    "# KMeans"
   ]
  },
  {
   "cell_type": "markdown",
   "metadata": {},
   "source": [
    "## AVPRA pred"
   ]
  },
  {
   "cell_type": "code",
   "execution_count": 60,
   "metadata": {},
   "outputs": [],
   "source": [
    "obj = pd.read_pickle(\"./AVPRA_pred.pickled\")"
   ]
  },
  {
   "cell_type": "code",
   "execution_count": 61,
   "metadata": {},
   "outputs": [],
   "source": [
    "clf = RandomForestClassifier(n_estimators=70)\n",
    "scores = []\n",
    "for res in obj:\n",
    "    X_data = res[1]\n",
    "    X_data = [X_data[i] for i in range(len(X_data)) if (i + 1) in list(G.nodes())]\n",
    "    \n",
    "    y_data = KMeans(n_clusters=len(pd.Series(data).unique())).fit(X_data).labels_\n",
    "    \n",
    "    scores.append(normalized_mutual_info_score(data, y_data))"
   ]
  },
  {
   "cell_type": "code",
   "execution_count": 62,
   "metadata": {},
   "outputs": [
    {
     "data": {
      "text/plain": [
       "count    21.000000\n",
       "mean      0.648563\n",
       "std       0.294960\n",
       "min       0.011692\n",
       "25%       0.576427\n",
       "50%       0.779850\n",
       "75%       0.862650\n",
       "max       0.878494\n",
       "dtype: float64"
      ]
     },
     "execution_count": 62,
     "metadata": {},
     "output_type": "execute_result"
    }
   ],
   "source": [
    "pd.Series(scores).describe()"
   ]
  },
  {
   "cell_type": "markdown",
   "metadata": {},
   "source": [
    "## Node2Vec"
   ]
  },
  {
   "cell_type": "code",
   "execution_count": 63,
   "metadata": {},
   "outputs": [],
   "source": [
    "tests = 0\n",
    "with open(\"./n2v/n2v_info.txt\", \"r\") as f:\n",
    "    lines = f.readlines()\n",
    "    for line in lines:\n",
    "        if \"Test\" in line: tests += 1"
   ]
  },
  {
   "cell_type": "code",
   "execution_count": 64,
   "metadata": {},
   "outputs": [],
   "source": [
    "clf = RandomForestClassifier(n_estimators=70)\n",
    "scores = []\n",
    "for i in range(tests):\n",
    "    X_data = pd.read_csv(\"./n2v/n2v_emb_vectors\" + str(i) + \".csv\", header=None, sep=\";\").values.tolist()\n",
    "    X_data = [X_data[i] for i in range(len(X_data)) if (i + 1) in list(G.nodes())]\n",
    "    \n",
    "    y_data = KMeans(n_clusters=len(pd.Series(data).unique())).fit(X_data).labels_\n",
    "    \n",
    "    scores.append(normalized_mutual_info_score(data, y_data))"
   ]
  },
  {
   "cell_type": "code",
   "execution_count": 65,
   "metadata": {},
   "outputs": [
    {
     "data": {
      "text/plain": [
       "count    24.000000\n",
       "mean      0.922875\n",
       "std       0.012164\n",
       "min       0.900015\n",
       "25%       0.912948\n",
       "50%       0.924181\n",
       "75%       0.933499\n",
       "max       0.942530\n",
       "dtype: float64"
      ]
     },
     "execution_count": 65,
     "metadata": {},
     "output_type": "execute_result"
    }
   ],
   "source": [
    "pd.Series(scores).describe()"
   ]
  },
  {
   "cell_type": "markdown",
   "metadata": {},
   "source": [
    "## DW"
   ]
  },
  {
   "cell_type": "code",
   "execution_count": 66,
   "metadata": {},
   "outputs": [],
   "source": [
    "tests = 0\n",
    "with open(\"./dw/dw_info.txt\", \"r\") as f:\n",
    "    lines = f.readlines()\n",
    "    for line in lines:\n",
    "        if \"Test\" in line: tests += 1"
   ]
  },
  {
   "cell_type": "code",
   "execution_count": 67,
   "metadata": {},
   "outputs": [],
   "source": [
    "clf = RandomForestClassifier(n_estimators=70)\n",
    "scores = []\n",
    "for i in range(tests):\n",
    "    X_data = pd.read_csv(\"./dw/dw_emb_vectors\" + str(i) + \".csv\", header=None, sep=\";\").values.tolist()\n",
    "    X_data = [X_data[i] for i in range(len(X_data)) if (i + 1) in list(G.nodes())]\n",
    "    \n",
    "    y_data = KMeans(n_clusters=len(pd.Series(data).unique())).fit(X_data).labels_\n",
    "    \n",
    "    scores.append(normalized_mutual_info_score(data, y_data))"
   ]
  },
  {
   "cell_type": "code",
   "execution_count": 68,
   "metadata": {},
   "outputs": [
    {
     "data": {
      "text/plain": [
       "count    15.000000\n",
       "mean      0.857627\n",
       "std       0.096292\n",
       "min       0.578449\n",
       "25%       0.798926\n",
       "50%       0.895320\n",
       "75%       0.923232\n",
       "max       0.931262\n",
       "dtype: float64"
      ]
     },
     "execution_count": 68,
     "metadata": {},
     "output_type": "execute_result"
    }
   ],
   "source": [
    "pd.Series(scores).describe()"
   ]
  },
  {
   "cell_type": "markdown",
   "metadata": {},
   "source": [
    "## MNMF"
   ]
  },
  {
   "cell_type": "code",
   "execution_count": 69,
   "metadata": {},
   "outputs": [],
   "source": [
    "tests = 0\n",
    "with open(\"./mnmf/mnmf_info.txt\", \"r\") as f:\n",
    "    lines = f.readlines()\n",
    "    for line in lines:\n",
    "        if \"Test\" in line: tests += 1"
   ]
  },
  {
   "cell_type": "code",
   "execution_count": 70,
   "metadata": {},
   "outputs": [],
   "source": [
    "clf = RandomForestClassifier(n_estimators=70)\n",
    "scores = []\n",
    "for i in range(tests):\n",
    "    X_data = pd.read_csv(\"./mnmf/mnmf_emb_vectors\" + str(i) + \".csv\", header=None, sep=\";\").values.tolist()\n",
    "    X_data = [X_data[i] for i in range(len(X_data)) if (i + 1) in list(G.nodes())]\n",
    "    \n",
    "    y_data = KMeans(n_clusters=len(pd.Series(data).unique())).fit(X_data).labels_\n",
    "    \n",
    "    scores.append(normalized_mutual_info_score(data, y_data))"
   ]
  },
  {
   "cell_type": "code",
   "execution_count": 71,
   "metadata": {},
   "outputs": [
    {
     "data": {
      "text/plain": [
       "count    10.000000\n",
       "mean      0.836896\n",
       "std       0.045449\n",
       "min       0.725168\n",
       "25%       0.823842\n",
       "50%       0.847486\n",
       "75%       0.856651\n",
       "max       0.891506\n",
       "dtype: float64"
      ]
     },
     "execution_count": 71,
     "metadata": {},
     "output_type": "execute_result"
    }
   ],
   "source": [
    "pd.Series(scores).describe()"
   ]
  },
  {
   "cell_type": "markdown",
   "metadata": {},
   "source": [
    "---\n",
    "# Agglomerative clustering"
   ]
  },
  {
   "cell_type": "markdown",
   "metadata": {},
   "source": [
    "## AVPRA pred"
   ]
  },
  {
   "cell_type": "code",
   "execution_count": 73,
   "metadata": {},
   "outputs": [],
   "source": [
    "obj = pd.read_pickle(\"./AVPRA_pred.pickled\")"
   ]
  },
  {
   "cell_type": "code",
   "execution_count": 74,
   "metadata": {},
   "outputs": [],
   "source": [
    "clf = RandomForestClassifier(n_estimators=70)\n",
    "scores = []\n",
    "for res in obj:\n",
    "    X_data = res[1]\n",
    "    X_data = [X_data[i] for i in range(len(X_data)) if (i + 1) in list(G.nodes())]\n",
    "    \n",
    "    y_data = AgglomerativeClustering(n_clusters=len(pd.Series(data).unique())).fit(X_data).labels_\n",
    "    \n",
    "    scores.append(normalized_mutual_info_score(data, y_data))"
   ]
  },
  {
   "cell_type": "code",
   "execution_count": 75,
   "metadata": {},
   "outputs": [
    {
     "data": {
      "text/plain": [
       "count    21.000000\n",
       "mean      0.620134\n",
       "std       0.326224\n",
       "min       0.011692\n",
       "25%       0.563714\n",
       "50%       0.777862\n",
       "75%       0.865559\n",
       "max       0.876934\n",
       "dtype: float64"
      ]
     },
     "execution_count": 75,
     "metadata": {},
     "output_type": "execute_result"
    }
   ],
   "source": [
    "pd.Series(scores).describe()"
   ]
  },
  {
   "cell_type": "markdown",
   "metadata": {},
   "source": [
    "## Node2Vec"
   ]
  },
  {
   "cell_type": "code",
   "execution_count": 76,
   "metadata": {},
   "outputs": [],
   "source": [
    "tests = 0\n",
    "with open(\"./n2v/n2v_info.txt\", \"r\") as f:\n",
    "    lines = f.readlines()\n",
    "    for line in lines:\n",
    "        if \"Test\" in line: tests += 1"
   ]
  },
  {
   "cell_type": "code",
   "execution_count": 77,
   "metadata": {},
   "outputs": [],
   "source": [
    "clf = RandomForestClassifier(n_estimators=70)\n",
    "scores = []\n",
    "for i in range(tests):\n",
    "    X_data = pd.read_csv(\"./n2v/n2v_emb_vectors\" + str(i) + \".csv\", header=None, sep=\";\").values.tolist()\n",
    "    X_data = [X_data[i] for i in range(len(X_data)) if (i + 1) in list(G.nodes())]\n",
    "    \n",
    "    y_data = AgglomerativeClustering(n_clusters=len(pd.Series(data).unique())).fit(X_data).labels_\n",
    "    \n",
    "    scores.append(normalized_mutual_info_score(data, y_data))"
   ]
  },
  {
   "cell_type": "code",
   "execution_count": 78,
   "metadata": {},
   "outputs": [
    {
     "data": {
      "text/plain": [
       "count    24.000000\n",
       "mean      0.849865\n",
       "std       0.013639\n",
       "min       0.813657\n",
       "25%       0.843968\n",
       "50%       0.850843\n",
       "75%       0.857602\n",
       "max       0.871736\n",
       "dtype: float64"
      ]
     },
     "execution_count": 78,
     "metadata": {},
     "output_type": "execute_result"
    }
   ],
   "source": [
    "pd.Series(scores).describe()"
   ]
  },
  {
   "cell_type": "markdown",
   "metadata": {},
   "source": [
    "## DW"
   ]
  },
  {
   "cell_type": "code",
   "execution_count": 79,
   "metadata": {},
   "outputs": [],
   "source": [
    "tests = 0\n",
    "with open(\"./dw/dw_info.txt\", \"r\") as f:\n",
    "    lines = f.readlines()\n",
    "    for line in lines:\n",
    "        if \"Test\" in line: tests += 1"
   ]
  },
  {
   "cell_type": "code",
   "execution_count": 80,
   "metadata": {},
   "outputs": [],
   "source": [
    "clf = RandomForestClassifier(n_estimators=70)\n",
    "scores = []\n",
    "for i in range(tests):\n",
    "    X_data = pd.read_csv(\"./dw/dw_emb_vectors\" + str(i) + \".csv\", header=None, sep=\";\").values.tolist()\n",
    "    X_data = [X_data[i] for i in range(len(X_data)) if (i + 1) in list(G.nodes())]\n",
    "    \n",
    "    y_data = AgglomerativeClustering(n_clusters=len(pd.Series(data).unique())).fit(X_data).labels_\n",
    "    \n",
    "    scores.append(normalized_mutual_info_score(data, y_data))"
   ]
  },
  {
   "cell_type": "code",
   "execution_count": 81,
   "metadata": {},
   "outputs": [
    {
     "data": {
      "text/plain": [
       "count    15.000000\n",
       "mean      0.805443\n",
       "std       0.066135\n",
       "min       0.694520\n",
       "25%       0.739168\n",
       "50%       0.837289\n",
       "75%       0.855612\n",
       "max       0.878090\n",
       "dtype: float64"
      ]
     },
     "execution_count": 81,
     "metadata": {},
     "output_type": "execute_result"
    }
   ],
   "source": [
    "pd.Series(scores).describe()"
   ]
  },
  {
   "cell_type": "markdown",
   "metadata": {},
   "source": [
    "## MNMF"
   ]
  },
  {
   "cell_type": "code",
   "execution_count": 82,
   "metadata": {},
   "outputs": [],
   "source": [
    "tests = 0\n",
    "with open(\"./mnmf/mnmf_info.txt\", \"r\") as f:\n",
    "    lines = f.readlines()\n",
    "    for line in lines:\n",
    "        if \"Test\" in line: tests += 1"
   ]
  },
  {
   "cell_type": "code",
   "execution_count": 83,
   "metadata": {},
   "outputs": [],
   "source": [
    "clf = RandomForestClassifier(n_estimators=70)\n",
    "scores = []\n",
    "for i in range(tests):\n",
    "    X_data = pd.read_csv(\"./mnmf/mnmf_emb_vectors\" + str(i) + \".csv\", header=None, sep=\";\").values.tolist()\n",
    "    X_data = [X_data[i] for i in range(len(X_data)) if (i + 1) in list(G.nodes())]\n",
    "    \n",
    "    y_data = AgglomerativeClustering(n_clusters=len(pd.Series(data).unique())).fit(X_data).labels_\n",
    "    \n",
    "    scores.append(normalized_mutual_info_score(data, y_data))"
   ]
  },
  {
   "cell_type": "code",
   "execution_count": 84,
   "metadata": {},
   "outputs": [
    {
     "data": {
      "text/plain": [
       "count    10.000000\n",
       "mean      0.824245\n",
       "std       0.047157\n",
       "min       0.700570\n",
       "25%       0.823323\n",
       "50%       0.836082\n",
       "75%       0.850426\n",
       "max       0.865114\n",
       "dtype: float64"
      ]
     },
     "execution_count": 84,
     "metadata": {},
     "output_type": "execute_result"
    }
   ],
   "source": [
    "pd.Series(scores).describe()"
   ]
  },
  {
   "cell_type": "code",
   "execution_count": null,
   "metadata": {},
   "outputs": [],
   "source": []
  }
 ],
 "metadata": {
  "kernelspec": {
   "display_name": "Python 3 (ipykernel)",
   "language": "python",
   "name": "python3"
  },
  "language_info": {
   "codemirror_mode": {
    "name": "ipython",
    "version": 3
   },
   "file_extension": ".py",
   "mimetype": "text/x-python",
   "name": "python",
   "nbconvert_exporter": "python",
   "pygments_lexer": "ipython3",
   "version": "3.8.13"
  }
 },
 "nbformat": 4,
 "nbformat_minor": 4
}
