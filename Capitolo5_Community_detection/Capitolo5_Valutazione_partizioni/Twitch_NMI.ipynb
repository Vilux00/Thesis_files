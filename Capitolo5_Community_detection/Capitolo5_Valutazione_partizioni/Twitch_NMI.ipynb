{
 "cells": [
  {
   "cell_type": "code",
   "execution_count": 4,
   "id": "physical-dream",
   "metadata": {},
   "outputs": [],
   "source": [
    "import pandas as pd\n",
    "import networkx as nx\n",
    "import time\n",
    "from sklearn.metrics.cluster import normalized_mutual_info_score\n",
    "from sklearn.cluster import KMeans"
   ]
  },
  {
   "cell_type": "code",
   "execution_count": 6,
   "id": "abroad-intensity",
   "metadata": {},
   "outputs": [
    {
     "data": {
      "text/plain": [
       "168114"
      ]
     },
     "execution_count": 6,
     "metadata": {},
     "output_type": "execute_result"
    }
   ],
   "source": [
    "network = nx.read_edgelist(\"./edges_norm.csv\")\n",
    "nodes = list(network.nodes())\n",
    "len(nodes)"
   ]
  },
  {
   "cell_type": "markdown",
   "id": "north-newsletter",
   "metadata": {},
   "source": [
    "# Louvain communities (resolution = 0.5)"
   ]
  },
  {
   "cell_type": "code",
   "execution_count": 7,
   "id": "bright-school",
   "metadata": {},
   "outputs": [],
   "source": [
    "comms = nx.algorithms.community.louvain_communities(network, resolution=0.5)\n",
    "comms_dict = {}\n",
    "for i in range(len(comms)):\n",
    "    for k in comms[i]:\n",
    "        comms_dict[k] = i\n",
    "comms_l = [comms_dict[str(i)] for i in range(1, len(nodes) + 1)]"
   ]
  },
  {
   "cell_type": "markdown",
   "id": "broke-accuracy",
   "metadata": {},
   "source": [
    "### DeepWalk"
   ]
  },
  {
   "cell_type": "code",
   "execution_count": 8,
   "id": "assigned-running",
   "metadata": {},
   "outputs": [],
   "source": [
    "### Getting total tests number\n",
    "tests_num = 0\n",
    "exec_time = []\n",
    "walk_num = []\n",
    "walk_len = []\n",
    "with open(\"./Twitch_dw/twitch_dw_info.txt\", \"r\") as f:\n",
    "    lines = f.readlines()\n",
    "    for line in lines:\n",
    "        if \"Test\" in line:\n",
    "            tests_num += 1\n",
    "        if \"walk_length:\" in line:\n",
    "            walk_len.append(float(line[13:-1]))\n",
    "        if \"num_walk:\" in line:\n",
    "            walk_num.append(float(line[9:-1]))\n",
    "        if \"Embedding\" in line:\n",
    "            exec_time.append(float(line[31:-2]))"
   ]
  },
  {
   "cell_type": "code",
   "execution_count": 10,
   "id": "native-truth",
   "metadata": {},
   "outputs": [
    {
     "name": "stdout",
     "output_type": "stream",
     "text": [
      "Iteration completed in 49.94239592552185\n",
      "Iteration completed in 41.121949195861816\n",
      "Iteration completed in 34.37436604499817\n",
      "Iteration completed in 36.953006982803345\n",
      "Iteration completed in 34.03091096878052\n",
      "Iteration completed in 34.037792444229126\n"
     ]
    }
   ],
   "source": [
    "scores = []\n",
    "for i in range(tests_num):\n",
    "    start_time = time.time()\n",
    "    kmeans = KMeans(n_clusters=len(comms)).fit(pd.read_csv(\"./Twitch_dw/dw_emb_vectors\"\\\n",
    "                                                           + str(i) + \".csv\", header=None,\\\n",
    "                                                           delimiter=\";\").values.tolist())\n",
    "    clusters = kmeans.labels_\n",
    "    scores.append(normalized_mutual_info_score(comms_l, clusters))\n",
    "    print(f\"Iteration completed in {time.time() - start_time}\")"
   ]
  },
  {
   "cell_type": "code",
   "execution_count": 13,
   "id": "continent-effects",
   "metadata": {},
   "outputs": [
    {
     "data": {
      "text/plain": [
       "count    6.000000\n",
       "mean     0.461302\n",
       "std      0.004162\n",
       "min      0.455931\n",
       "25%      0.459331\n",
       "50%      0.460031\n",
       "75%      0.464791\n",
       "max      0.466347\n",
       "dtype: float64"
      ]
     },
     "execution_count": 13,
     "metadata": {},
     "output_type": "execute_result"
    }
   ],
   "source": [
    "pd.Series(scores).describe()"
   ]
  },
  {
   "cell_type": "code",
   "execution_count": 14,
   "id": "indirect-public",
   "metadata": {},
   "outputs": [
    {
     "data": {
      "text/html": [
       "<div>\n",
       "<style scoped>\n",
       "    .dataframe tbody tr th:only-of-type {\n",
       "        vertical-align: middle;\n",
       "    }\n",
       "\n",
       "    .dataframe tbody tr th {\n",
       "        vertical-align: top;\n",
       "    }\n",
       "\n",
       "    .dataframe thead th {\n",
       "        text-align: right;\n",
       "    }\n",
       "</style>\n",
       "<table border=\"1\" class=\"dataframe\">\n",
       "  <thead>\n",
       "    <tr style=\"text-align: right;\">\n",
       "      <th></th>\n",
       "      <th>NMI</th>\n",
       "      <th>Exec time</th>\n",
       "      <th>walk_num</th>\n",
       "      <th>walk_len</th>\n",
       "    </tr>\n",
       "  </thead>\n",
       "  <tbody>\n",
       "    <tr>\n",
       "      <th>0</th>\n",
       "      <td>0.455931</td>\n",
       "      <td>430.843513</td>\n",
       "      <td>10.0</td>\n",
       "      <td>5.0</td>\n",
       "    </tr>\n",
       "    <tr>\n",
       "      <th>2</th>\n",
       "      <td>0.459226</td>\n",
       "      <td>1684.428942</td>\n",
       "      <td>40.0</td>\n",
       "      <td>5.0</td>\n",
       "    </tr>\n",
       "    <tr>\n",
       "      <th>5</th>\n",
       "      <td>0.459644</td>\n",
       "      <td>4032.707988</td>\n",
       "      <td>40.0</td>\n",
       "      <td>10.0</td>\n",
       "    </tr>\n",
       "    <tr>\n",
       "      <th>4</th>\n",
       "      <td>0.460417</td>\n",
       "      <td>2063.098696</td>\n",
       "      <td>20.0</td>\n",
       "      <td>10.0</td>\n",
       "    </tr>\n",
       "    <tr>\n",
       "      <th>3</th>\n",
       "      <td>0.466248</td>\n",
       "      <td>1034.079826</td>\n",
       "      <td>10.0</td>\n",
       "      <td>10.0</td>\n",
       "    </tr>\n",
       "    <tr>\n",
       "      <th>1</th>\n",
       "      <td>0.466347</td>\n",
       "      <td>852.987108</td>\n",
       "      <td>20.0</td>\n",
       "      <td>5.0</td>\n",
       "    </tr>\n",
       "  </tbody>\n",
       "</table>\n",
       "</div>"
      ],
      "text/plain": [
       "        NMI    Exec time  walk_num  walk_len\n",
       "0  0.455931   430.843513      10.0       5.0\n",
       "2  0.459226  1684.428942      40.0       5.0\n",
       "5  0.459644  4032.707988      40.0      10.0\n",
       "4  0.460417  2063.098696      20.0      10.0\n",
       "3  0.466248  1034.079826      10.0      10.0\n",
       "1  0.466347   852.987108      20.0       5.0"
      ]
     },
     "execution_count": 14,
     "metadata": {},
     "output_type": "execute_result"
    }
   ],
   "source": [
    "pd.DataFrame(list(zip(scores, exec_time, walk_num, walk_len)),\n",
    "               columns =['NMI', 'Exec time', 'walk_num', 'walk_len']).sort_values(by=\"NMI\")"
   ]
  },
  {
   "cell_type": "markdown",
   "id": "touched-consortium",
   "metadata": {},
   "source": [
    "### AVPRA only lang"
   ]
  },
  {
   "cell_type": "code",
   "execution_count": 15,
   "id": "patent-associate",
   "metadata": {},
   "outputs": [],
   "source": [
    "obj = pd.read_pickle(\"Only_lang/log_trial_0_LPStates.pickled\")\\\n",
    "    + pd.read_pickle(\"Only_lang/log_trial_1_LPStates.pickled\")[1:]\\\n",
    "    + pd.read_pickle(\"Only_lang/log_trial_2_LPStates.pickled\")[1:]\\\n",
    "    + pd.read_pickle(\"Only_lang/log_trial_3_LPStates.pickled\")[1:]"
   ]
  },
  {
   "cell_type": "code",
   "execution_count": 20,
   "id": "average-walter",
   "metadata": {},
   "outputs": [
    {
     "name": "stderr",
     "output_type": "stream",
     "text": [
      "/tmp/ipykernel_24201/440845775.py:4: ConvergenceWarning: Number of distinct clusters (21) found smaller than n_clusters (38). Possibly due to duplicate points in X.\n",
      "  kmeans = KMeans(n_clusters=len(comms)).fit(res[1])\n"
     ]
    },
    {
     "name": "stdout",
     "output_type": "stream",
     "text": [
      "Iteration completed in 93.41961312294006\n",
      "Iteration completed in 11.578054904937744\n",
      "Iteration completed in 15.071037769317627\n",
      "Iteration completed in 13.922539949417114\n",
      "Iteration completed in 15.685786008834839\n",
      "Iteration completed in 15.86241626739502\n",
      "Iteration completed in 16.79807949066162\n",
      "Iteration completed in 18.480243921279907\n",
      "Iteration completed in 17.651992082595825\n",
      "Iteration completed in 16.436674118041992\n",
      "Iteration completed in 17.901914596557617\n",
      "Iteration completed in 21.84894108772278\n",
      "Iteration completed in 17.134069204330444\n",
      "Iteration completed in 18.266036987304688\n",
      "Iteration completed in 15.819348335266113\n",
      "Iteration completed in 16.803406238555908\n",
      "Iteration completed in 17.83398985862732\n",
      "Iteration completed in 15.1203773021698\n",
      "Iteration completed in 15.980843544006348\n",
      "Iteration completed in 15.04005742073059\n",
      "Iteration completed in 14.837553977966309\n",
      "Iteration completed in 16.450689792633057\n",
      "Iteration completed in 17.867724895477295\n",
      "Iteration completed in 15.692425012588501\n",
      "Iteration completed in 15.217644214630127\n",
      "Iteration completed in 16.072502613067627\n",
      "Iteration completed in 15.701572895050049\n",
      "Iteration completed in 15.118354797363281\n",
      "Iteration completed in 14.37354588508606\n"
     ]
    }
   ],
   "source": [
    "scores = []\n",
    "for res in obj:\n",
    "    start_time = time.time()\n",
    "    kmeans = KMeans(n_clusters=len(comms)).fit(res[1])\n",
    "    clusters = kmeans.labels_\n",
    "    scores.append(normalized_mutual_info_score(comms_l, clusters))\n",
    "    print(f\"Iteration completed in {time.time() - start_time}\")"
   ]
  },
  {
   "cell_type": "code",
   "execution_count": 21,
   "id": "amateur-easter",
   "metadata": {},
   "outputs": [
    {
     "data": {
      "text/plain": [
       "count    29.000000\n",
       "mean      0.521420\n",
       "std       0.026024\n",
       "min       0.496495\n",
       "25%       0.502295\n",
       "50%       0.512877\n",
       "75%       0.537936\n",
       "max       0.614936\n",
       "dtype: float64"
      ]
     },
     "execution_count": 21,
     "metadata": {},
     "output_type": "execute_result"
    }
   ],
   "source": [
    "pd.Series(scores).describe()"
   ]
  },
  {
   "cell_type": "code",
   "execution_count": 22,
   "id": "consecutive-marathon",
   "metadata": {},
   "outputs": [
    {
     "data": {
      "text/plain": [
       "(0.6149355880958314, 0)"
      ]
     },
     "execution_count": 22,
     "metadata": {},
     "output_type": "execute_result"
    }
   ],
   "source": [
    "max(scores), (list(range(0, 29)))[scores.index(max(scores))]"
   ]
  },
  {
   "cell_type": "markdown",
   "id": "simplified-sperm",
   "metadata": {},
   "source": [
    "### AVPRA all features"
   ]
  },
  {
   "cell_type": "code",
   "execution_count": 23,
   "id": "sapphire-patio",
   "metadata": {},
   "outputs": [],
   "source": [
    "obj = []"
   ]
  },
  {
   "cell_type": "code",
   "execution_count": 24,
   "id": "decimal-working",
   "metadata": {},
   "outputs": [],
   "source": [
    "obj = pd.read_pickle(\"All_feat/log_trial_0_LPStates.pickled\")\\\n",
    "    + pd.read_pickle(\"All_feat/log_trial_1_LPStates.pickled\")[1:]\\\n",
    "    + pd.read_pickle(\"All_feat/log_trial_2_LPStates.pickled\")[1:]\\\n",
    "    + pd.read_pickle(\"All_feat/log_trial_3_LPStates.pickled\")[1:]"
   ]
  },
  {
   "cell_type": "code",
   "execution_count": 25,
   "id": "seven-christopher",
   "metadata": {},
   "outputs": [
    {
     "name": "stdout",
     "output_type": "stream",
     "text": [
      "Iteration completed in 7.404463529586792\n",
      "Iteration completed in 17.46074676513672\n",
      "Iteration completed in 25.0404109954834\n",
      "Iteration completed in 17.686028003692627\n",
      "Iteration completed in 21.8604154586792\n",
      "Iteration completed in 17.052441120147705\n",
      "Iteration completed in 19.060866355895996\n",
      "Iteration completed in 19.93187189102173\n",
      "Iteration completed in 18.229860067367554\n",
      "Iteration completed in 18.09838342666626\n",
      "Iteration completed in 19.900814533233643\n",
      "Iteration completed in 20.80716347694397\n",
      "Iteration completed in 18.084402561187744\n",
      "Iteration completed in 16.70637273788452\n",
      "Iteration completed in 18.61631464958191\n",
      "Iteration completed in 17.875815868377686\n",
      "Iteration completed in 17.005292654037476\n",
      "Iteration completed in 17.508642196655273\n",
      "Iteration completed in 17.78141450881958\n",
      "Iteration completed in 16.210591316223145\n",
      "Iteration completed in 17.115148305892944\n",
      "Iteration completed in 17.351863384246826\n",
      "Iteration completed in 16.85884952545166\n",
      "Iteration completed in 16.065467596054077\n",
      "Iteration completed in 18.23498797416687\n",
      "Iteration completed in 15.943153142929077\n",
      "Iteration completed in 15.270766973495483\n",
      "Iteration completed in 17.36954426765442\n",
      "Iteration completed in 17.268052339553833\n",
      "Iteration completed in 15.305547952651978\n",
      "Iteration completed in 16.276561737060547\n",
      "Iteration completed in 16.19399619102478\n",
      "Iteration completed in 14.417144298553467\n"
     ]
    }
   ],
   "source": [
    "scores = []\n",
    "for res in obj:\n",
    "    start_time = time.time()\n",
    "    kmeans = KMeans(n_clusters=len(comms)).fit(res[1])\n",
    "    clusters = kmeans.labels_\n",
    "    scores.append(normalized_mutual_info_score(comms_l, clusters))\n",
    "    print(f\"Iteration completed in {time.time() - start_time}\")"
   ]
  },
  {
   "cell_type": "code",
   "execution_count": 26,
   "id": "eight-translation",
   "metadata": {},
   "outputs": [
    {
     "data": {
      "text/plain": [
       "count    33.000000\n",
       "mean      0.551404\n",
       "std       0.059104\n",
       "min       0.384357\n",
       "25%       0.523544\n",
       "50%       0.568757\n",
       "75%       0.593104\n",
       "max       0.617860\n",
       "dtype: float64"
      ]
     },
     "execution_count": 26,
     "metadata": {},
     "output_type": "execute_result"
    }
   ],
   "source": [
    "pd.Series(scores).describe()"
   ]
  },
  {
   "cell_type": "code",
   "execution_count": 27,
   "id": "surprising-decline",
   "metadata": {},
   "outputs": [
    {
     "data": {
      "text/plain": [
       "(0.6178600045565932, 21)"
      ]
     },
     "execution_count": 27,
     "metadata": {},
     "output_type": "execute_result"
    }
   ],
   "source": [
    "max(scores), (list(range(0, 29)))[scores.index(max(scores))]"
   ]
  },
  {
   "cell_type": "markdown",
   "id": "acoustic-command",
   "metadata": {},
   "source": [
    "# Leiden communities"
   ]
  },
  {
   "cell_type": "code",
   "execution_count": 28,
   "id": "random-recipient",
   "metadata": {},
   "outputs": [
    {
     "name": "stdout",
     "output_type": "stream",
     "text": [
      "Note: to be able to use all crisp methods, you need to install some additional packages:  {'wurlitzer', 'graph_tool'}\n",
      "Note: to be able to use all overlapping methods, you need to install some additional packages:  {'ASLPAw'}\n",
      "Note: to be able to use all bipartite methods, you need to install some additional packages:  {'wurlitzer'}\n"
     ]
    }
   ],
   "source": [
    "### Identifying Leiden communities\n",
    "from cdlib import algorithms\n",
    "comms = algorithms.leiden(network)"
   ]
  },
  {
   "cell_type": "code",
   "execution_count": 29,
   "id": "dated-shirt",
   "metadata": {},
   "outputs": [],
   "source": [
    "comms_dict = comms.to_node_community_map()\n",
    "comms_dict_ok = {}\n",
    "for node in nodes:\n",
    "    comms_dict_ok[node] = comms_dict[node][0]\n",
    "comms_dict = comms_dict_ok\n",
    "comms_l = [comms_dict[str(i)] for i in range(1, len(nodes) + 1)]\n",
    "comms = list(pd.Series(comms_l).unique())"
   ]
  },
  {
   "cell_type": "markdown",
   "id": "abroad-departure",
   "metadata": {},
   "source": [
    "### DeepWalk"
   ]
  },
  {
   "cell_type": "code",
   "execution_count": 30,
   "id": "flying-stone",
   "metadata": {},
   "outputs": [],
   "source": [
    "### Getting total tests number\n",
    "tests_num = 0\n",
    "exec_time = []\n",
    "walk_num = []\n",
    "walk_len = []\n",
    "with open(\"./Twitch_dw/twitch_dw_info.txt\", \"r\") as f:\n",
    "    lines = f.readlines()\n",
    "    for line in lines:\n",
    "        if \"Test\" in line:\n",
    "            tests_num += 1\n",
    "        if \"walk_length:\" in line:\n",
    "            walk_len.append(float(line[13:-1]))\n",
    "        if \"num_walk:\" in line:\n",
    "            walk_num.append(float(line[9:-1]))\n",
    "        if \"Embedding\" in line:\n",
    "            exec_time.append(float(line[31:-2]))"
   ]
  },
  {
   "cell_type": "code",
   "execution_count": 31,
   "id": "identical-terrorist",
   "metadata": {},
   "outputs": [
    {
     "name": "stdout",
     "output_type": "stream",
     "text": [
      "Iteration completed in 25.555725812911987\n",
      "Iteration completed in 23.25350785255432\n",
      "Iteration completed in 20.449732303619385\n",
      "Iteration completed in 26.175666332244873\n",
      "Iteration completed in 26.37688899040222\n",
      "Iteration completed in 22.73935317993164\n"
     ]
    }
   ],
   "source": [
    "scores = []\n",
    "for i in range(tests_num):\n",
    "    start_time = time.time()\n",
    "    kmeans = KMeans(n_clusters=len(comms)).fit(pd.read_csv(\"./Twitch_dw/dw_emb_vectors\"\\\n",
    "                                                           + str(i) + \".csv\", header=None,\\\n",
    "                                                           delimiter=\";\").values.tolist())\n",
    "    clusters = kmeans.labels_\n",
    "    scores.append(normalized_mutual_info_score(comms_l, clusters))\n",
    "    print(f\"Iteration completed in {time.time() - start_time}\")"
   ]
  },
  {
   "cell_type": "code",
   "execution_count": 32,
   "id": "destroyed-longitude",
   "metadata": {},
   "outputs": [
    {
     "data": {
      "text/plain": [
       "count    6.000000\n",
       "mean     0.558071\n",
       "std      0.014727\n",
       "min      0.540729\n",
       "25%      0.548013\n",
       "50%      0.555393\n",
       "75%      0.569353\n",
       "max      0.577353\n",
       "dtype: float64"
      ]
     },
     "execution_count": 32,
     "metadata": {},
     "output_type": "execute_result"
    }
   ],
   "source": [
    "pd.Series(scores).describe()"
   ]
  },
  {
   "cell_type": "code",
   "execution_count": 33,
   "id": "fossil-brave",
   "metadata": {},
   "outputs": [
    {
     "data": {
      "text/html": [
       "<div>\n",
       "<style scoped>\n",
       "    .dataframe tbody tr th:only-of-type {\n",
       "        vertical-align: middle;\n",
       "    }\n",
       "\n",
       "    .dataframe tbody tr th {\n",
       "        vertical-align: top;\n",
       "    }\n",
       "\n",
       "    .dataframe thead th {\n",
       "        text-align: right;\n",
       "    }\n",
       "</style>\n",
       "<table border=\"1\" class=\"dataframe\">\n",
       "  <thead>\n",
       "    <tr style=\"text-align: right;\">\n",
       "      <th></th>\n",
       "      <th>NMI</th>\n",
       "      <th>Exec time</th>\n",
       "      <th>walk_num</th>\n",
       "      <th>walk_len</th>\n",
       "    </tr>\n",
       "  </thead>\n",
       "  <tbody>\n",
       "    <tr>\n",
       "      <th>5</th>\n",
       "      <td>0.540729</td>\n",
       "      <td>4032.707988</td>\n",
       "      <td>40.0</td>\n",
       "      <td>10.0</td>\n",
       "    </tr>\n",
       "    <tr>\n",
       "      <th>2</th>\n",
       "      <td>0.545806</td>\n",
       "      <td>1684.428942</td>\n",
       "      <td>40.0</td>\n",
       "      <td>5.0</td>\n",
       "    </tr>\n",
       "    <tr>\n",
       "      <th>3</th>\n",
       "      <td>0.554631</td>\n",
       "      <td>1034.079826</td>\n",
       "      <td>10.0</td>\n",
       "      <td>10.0</td>\n",
       "    </tr>\n",
       "    <tr>\n",
       "      <th>0</th>\n",
       "      <td>0.556155</td>\n",
       "      <td>430.843513</td>\n",
       "      <td>10.0</td>\n",
       "      <td>5.0</td>\n",
       "    </tr>\n",
       "    <tr>\n",
       "      <th>4</th>\n",
       "      <td>0.573752</td>\n",
       "      <td>2063.098696</td>\n",
       "      <td>20.0</td>\n",
       "      <td>10.0</td>\n",
       "    </tr>\n",
       "    <tr>\n",
       "      <th>1</th>\n",
       "      <td>0.577353</td>\n",
       "      <td>852.987108</td>\n",
       "      <td>20.0</td>\n",
       "      <td>5.0</td>\n",
       "    </tr>\n",
       "  </tbody>\n",
       "</table>\n",
       "</div>"
      ],
      "text/plain": [
       "        NMI    Exec time  walk_num  walk_len\n",
       "5  0.540729  4032.707988      40.0      10.0\n",
       "2  0.545806  1684.428942      40.0       5.0\n",
       "3  0.554631  1034.079826      10.0      10.0\n",
       "0  0.556155   430.843513      10.0       5.0\n",
       "4  0.573752  2063.098696      20.0      10.0\n",
       "1  0.577353   852.987108      20.0       5.0"
      ]
     },
     "execution_count": 33,
     "metadata": {},
     "output_type": "execute_result"
    }
   ],
   "source": [
    "pd.DataFrame(list(zip(scores, exec_time, walk_num, walk_len)),\n",
    "               columns =['NMI', 'Exec time', 'walk_num', 'walk_len']).sort_values(by=\"NMI\")"
   ]
  },
  {
   "cell_type": "markdown",
   "id": "muslim-bumper",
   "metadata": {},
   "source": [
    "### AVPRA only lang"
   ]
  },
  {
   "cell_type": "code",
   "execution_count": 34,
   "id": "executive-sleeping",
   "metadata": {},
   "outputs": [],
   "source": [
    "obj = pd.read_pickle(\"Only_lang/log_trial_0_LPStates.pickled\")\\\n",
    "    + pd.read_pickle(\"Only_lang/log_trial_1_LPStates.pickled\")[1:]\\\n",
    "    + pd.read_pickle(\"Only_lang/log_trial_2_LPStates.pickled\")[1:]\\\n",
    "    + pd.read_pickle(\"Only_lang/log_trial_3_LPStates.pickled\")[1:]"
   ]
  },
  {
   "cell_type": "code",
   "execution_count": 35,
   "id": "refined-forward",
   "metadata": {},
   "outputs": [
    {
     "name": "stdout",
     "output_type": "stream",
     "text": [
      "Iteration completed in 83.17044997215271\n",
      "Iteration completed in 8.472028017044067\n",
      "Iteration completed in 9.278973579406738\n",
      "Iteration completed in 8.960134744644165\n",
      "Iteration completed in 9.610278606414795\n",
      "Iteration completed in 11.06383991241455\n",
      "Iteration completed in 9.823399305343628\n",
      "Iteration completed in 11.440415859222412\n",
      "Iteration completed in 10.544093132019043\n",
      "Iteration completed in 10.229927062988281\n",
      "Iteration completed in 11.008828401565552\n",
      "Iteration completed in 11.443581819534302\n",
      "Iteration completed in 12.866600751876831\n",
      "Iteration completed in 11.21533727645874\n",
      "Iteration completed in 12.49155569076538\n",
      "Iteration completed in 12.284487247467041\n",
      "Iteration completed in 9.813379526138306\n",
      "Iteration completed in 11.69726824760437\n",
      "Iteration completed in 10.8393235206604\n",
      "Iteration completed in 11.927825689315796\n",
      "Iteration completed in 11.158539056777954\n",
      "Iteration completed in 10.431700229644775\n",
      "Iteration completed in 9.904802083969116\n",
      "Iteration completed in 12.30871319770813\n",
      "Iteration completed in 9.676188945770264\n",
      "Iteration completed in 10.419609785079956\n",
      "Iteration completed in 9.703994274139404\n",
      "Iteration completed in 11.136231660842896\n",
      "Iteration completed in 11.853652477264404\n"
     ]
    }
   ],
   "source": [
    "scores = []\n",
    "for res in obj:\n",
    "    start_time = time.time()\n",
    "    kmeans = KMeans(n_clusters=len(comms)).fit(res[1])\n",
    "    clusters = kmeans.labels_\n",
    "    scores.append(normalized_mutual_info_score(comms_l, clusters))\n",
    "    print(f\"Iteration completed in {time.time() - start_time}\")"
   ]
  },
  {
   "cell_type": "code",
   "execution_count": 36,
   "id": "adolescent-resistance",
   "metadata": {},
   "outputs": [
    {
     "data": {
      "text/plain": [
       "count    29.000000\n",
       "mean      0.487675\n",
       "std       0.007404\n",
       "min       0.468464\n",
       "25%       0.481466\n",
       "50%       0.490783\n",
       "75%       0.492762\n",
       "max       0.500247\n",
       "dtype: float64"
      ]
     },
     "execution_count": 36,
     "metadata": {},
     "output_type": "execute_result"
    }
   ],
   "source": [
    "pd.Series(scores).describe()"
   ]
  },
  {
   "cell_type": "code",
   "execution_count": 37,
   "id": "soviet-message",
   "metadata": {},
   "outputs": [
    {
     "data": {
      "text/plain": [
       "(0.5002466081229369, 6)"
      ]
     },
     "execution_count": 37,
     "metadata": {},
     "output_type": "execute_result"
    }
   ],
   "source": [
    "max(scores), (list(range(0, 29)))[scores.index(max(scores))]"
   ]
  },
  {
   "cell_type": "markdown",
   "id": "comparable-concentration",
   "metadata": {},
   "source": [
    "### AVPRA all features"
   ]
  },
  {
   "cell_type": "code",
   "execution_count": 38,
   "id": "piano-karen",
   "metadata": {},
   "outputs": [],
   "source": [
    "obj = []"
   ]
  },
  {
   "cell_type": "code",
   "execution_count": 39,
   "id": "successful-people",
   "metadata": {},
   "outputs": [],
   "source": [
    "obj = pd.read_pickle(\"All_feat/log_trial_0_LPStates.pickled\")\\\n",
    "    + pd.read_pickle(\"All_feat/log_trial_1_LPStates.pickled\")[1:]\\\n",
    "    + pd.read_pickle(\"All_feat/log_trial_2_LPStates.pickled\")[1:]\\\n",
    "    + pd.read_pickle(\"All_feat/log_trial_3_LPStates.pickled\")[1:]"
   ]
  },
  {
   "cell_type": "code",
   "execution_count": 40,
   "id": "chicken-munich",
   "metadata": {},
   "outputs": [
    {
     "name": "stdout",
     "output_type": "stream",
     "text": [
      "Iteration completed in 5.513599157333374\n",
      "Iteration completed in 12.505852937698364\n",
      "Iteration completed in 12.54334831237793\n",
      "Iteration completed in 11.305163145065308\n",
      "Iteration completed in 11.292146444320679\n",
      "Iteration completed in 11.164754629135132\n",
      "Iteration completed in 11.06567907333374\n",
      "Iteration completed in 11.622767925262451\n",
      "Iteration completed in 12.003674745559692\n",
      "Iteration completed in 12.344833612442017\n",
      "Iteration completed in 11.075608968734741\n",
      "Iteration completed in 11.70937466621399\n",
      "Iteration completed in 11.368999481201172\n",
      "Iteration completed in 10.664387941360474\n",
      "Iteration completed in 10.673967361450195\n",
      "Iteration completed in 10.253332376480103\n",
      "Iteration completed in 11.355802059173584\n",
      "Iteration completed in 10.84235429763794\n",
      "Iteration completed in 11.43644404411316\n",
      "Iteration completed in 10.952480792999268\n",
      "Iteration completed in 11.006418466567993\n",
      "Iteration completed in 9.649899244308472\n",
      "Iteration completed in 10.086345911026001\n",
      "Iteration completed in 11.1312735080719\n",
      "Iteration completed in 10.620325803756714\n",
      "Iteration completed in 10.173770427703857\n",
      "Iteration completed in 11.61820650100708\n",
      "Iteration completed in 10.221542119979858\n",
      "Iteration completed in 10.283057451248169\n",
      "Iteration completed in 10.804115056991577\n",
      "Iteration completed in 11.108031988143921\n",
      "Iteration completed in 11.214110136032104\n",
      "Iteration completed in 10.029117107391357\n"
     ]
    }
   ],
   "source": [
    "scores = []\n",
    "for res in obj:\n",
    "    start_time = time.time()\n",
    "    kmeans = KMeans(n_clusters=len(comms)).fit(res[1])\n",
    "    clusters = kmeans.labels_\n",
    "    scores.append(normalized_mutual_info_score(comms_l, clusters))\n",
    "    print(f\"Iteration completed in {time.time() - start_time}\")"
   ]
  },
  {
   "cell_type": "code",
   "execution_count": 41,
   "id": "brief-sunday",
   "metadata": {},
   "outputs": [
    {
     "data": {
      "text/plain": [
       "count    33.000000\n",
       "mean      0.498101\n",
       "std       0.054745\n",
       "min       0.293893\n",
       "25%       0.472064\n",
       "50%       0.498005\n",
       "75%       0.545574\n",
       "max       0.570746\n",
       "dtype: float64"
      ]
     },
     "execution_count": 41,
     "metadata": {},
     "output_type": "execute_result"
    }
   ],
   "source": [
    "pd.Series(scores).describe()"
   ]
  },
  {
   "cell_type": "code",
   "execution_count": 42,
   "id": "killing-rouge",
   "metadata": {},
   "outputs": [
    {
     "data": {
      "text/plain": [
       "(0.5707461853489736, 10)"
      ]
     },
     "execution_count": 42,
     "metadata": {},
     "output_type": "execute_result"
    }
   ],
   "source": [
    "max(scores), (list(range(0, 29)))[scores.index(max(scores))]"
   ]
  },
  {
   "cell_type": "markdown",
   "id": "expanded-poland",
   "metadata": {},
   "source": [
    "# Standard Louvain"
   ]
  },
  {
   "cell_type": "code",
   "execution_count": 43,
   "id": "dimensional-verse",
   "metadata": {},
   "outputs": [],
   "source": [
    "comms = nx.algorithms.community.louvain_communities(network)\n",
    "comms_dict = {}\n",
    "for i in range(len(comms)):\n",
    "    for k in comms[i]:\n",
    "        comms_dict[k] = i\n",
    "comms_l = [comms_dict[str(i)] for i in range(1, len(nodes) + 1)]"
   ]
  },
  {
   "cell_type": "markdown",
   "id": "laden-communist",
   "metadata": {},
   "source": [
    "### DeepWalk"
   ]
  },
  {
   "cell_type": "code",
   "execution_count": 44,
   "id": "uniform-camcorder",
   "metadata": {},
   "outputs": [],
   "source": [
    "### Getting total tests number\n",
    "tests_num = 0\n",
    "exec_time = []\n",
    "walk_num = []\n",
    "walk_len = []\n",
    "with open(\"./Twitch_dw/twitch_dw_info.txt\", \"r\") as f:\n",
    "    lines = f.readlines()\n",
    "    for line in lines:\n",
    "        if \"Test\" in line:\n",
    "            tests_num += 1\n",
    "        if \"walk_length:\" in line:\n",
    "            walk_len.append(float(line[13:-1]))\n",
    "        if \"num_walk:\" in line:\n",
    "            walk_num.append(float(line[9:-1]))\n",
    "        if \"Embedding\" in line:\n",
    "            exec_time.append(float(line[31:-2]))"
   ]
  },
  {
   "cell_type": "code",
   "execution_count": 45,
   "id": "coordinate-difference",
   "metadata": {},
   "outputs": [
    {
     "name": "stdout",
     "output_type": "stream",
     "text": [
      "Iteration completed in 18.684234619140625\n",
      "Iteration completed in 20.115649700164795\n",
      "Iteration completed in 21.93905782699585\n",
      "Iteration completed in 19.640246629714966\n",
      "Iteration completed in 20.045379877090454\n",
      "Iteration completed in 21.082722425460815\n"
     ]
    }
   ],
   "source": [
    "scores = []\n",
    "for i in range(tests_num):\n",
    "    start_time = time.time()\n",
    "    kmeans = KMeans(n_clusters=len(comms)).fit(pd.read_csv(\"./Twitch_dw/dw_emb_vectors\"\\\n",
    "                                                           + str(i) + \".csv\", header=None,\\\n",
    "                                                           delimiter=\";\").values.tolist())\n",
    "    clusters = kmeans.labels_\n",
    "    scores.append(normalized_mutual_info_score(comms_l, clusters))\n",
    "    print(f\"Iteration completed in {time.time() - start_time}\")"
   ]
  },
  {
   "cell_type": "code",
   "execution_count": 46,
   "id": "stopped-shakespeare",
   "metadata": {},
   "outputs": [
    {
     "data": {
      "text/plain": [
       "count    6.000000\n",
       "mean     0.573731\n",
       "std      0.008063\n",
       "min      0.558269\n",
       "25%      0.573925\n",
       "50%      0.575660\n",
       "75%      0.577254\n",
       "max      0.581663\n",
       "dtype: float64"
      ]
     },
     "execution_count": 46,
     "metadata": {},
     "output_type": "execute_result"
    }
   ],
   "source": [
    "pd.Series(scores).describe()"
   ]
  },
  {
   "cell_type": "code",
   "execution_count": 47,
   "id": "advised-billy",
   "metadata": {},
   "outputs": [
    {
     "data": {
      "text/html": [
       "<div>\n",
       "<style scoped>\n",
       "    .dataframe tbody tr th:only-of-type {\n",
       "        vertical-align: middle;\n",
       "    }\n",
       "\n",
       "    .dataframe tbody tr th {\n",
       "        vertical-align: top;\n",
       "    }\n",
       "\n",
       "    .dataframe thead th {\n",
       "        text-align: right;\n",
       "    }\n",
       "</style>\n",
       "<table border=\"1\" class=\"dataframe\">\n",
       "  <thead>\n",
       "    <tr style=\"text-align: right;\">\n",
       "      <th></th>\n",
       "      <th>NMI</th>\n",
       "      <th>Exec time</th>\n",
       "      <th>walk_num</th>\n",
       "      <th>walk_len</th>\n",
       "    </tr>\n",
       "  </thead>\n",
       "  <tbody>\n",
       "    <tr>\n",
       "      <th>0</th>\n",
       "      <td>0.558269</td>\n",
       "      <td>430.843513</td>\n",
       "      <td>10.0</td>\n",
       "      <td>5.0</td>\n",
       "    </tr>\n",
       "    <tr>\n",
       "      <th>3</th>\n",
       "      <td>0.573612</td>\n",
       "      <td>1034.079826</td>\n",
       "      <td>10.0</td>\n",
       "      <td>10.0</td>\n",
       "    </tr>\n",
       "    <tr>\n",
       "      <th>1</th>\n",
       "      <td>0.574863</td>\n",
       "      <td>852.987108</td>\n",
       "      <td>20.0</td>\n",
       "      <td>5.0</td>\n",
       "    </tr>\n",
       "    <tr>\n",
       "      <th>2</th>\n",
       "      <td>0.576456</td>\n",
       "      <td>1684.428942</td>\n",
       "      <td>40.0</td>\n",
       "      <td>5.0</td>\n",
       "    </tr>\n",
       "    <tr>\n",
       "      <th>5</th>\n",
       "      <td>0.577520</td>\n",
       "      <td>4032.707988</td>\n",
       "      <td>40.0</td>\n",
       "      <td>10.0</td>\n",
       "    </tr>\n",
       "    <tr>\n",
       "      <th>4</th>\n",
       "      <td>0.581663</td>\n",
       "      <td>2063.098696</td>\n",
       "      <td>20.0</td>\n",
       "      <td>10.0</td>\n",
       "    </tr>\n",
       "  </tbody>\n",
       "</table>\n",
       "</div>"
      ],
      "text/plain": [
       "        NMI    Exec time  walk_num  walk_len\n",
       "0  0.558269   430.843513      10.0       5.0\n",
       "3  0.573612  1034.079826      10.0      10.0\n",
       "1  0.574863   852.987108      20.0       5.0\n",
       "2  0.576456  1684.428942      40.0       5.0\n",
       "5  0.577520  4032.707988      40.0      10.0\n",
       "4  0.581663  2063.098696      20.0      10.0"
      ]
     },
     "execution_count": 47,
     "metadata": {},
     "output_type": "execute_result"
    }
   ],
   "source": [
    "pd.DataFrame(list(zip(scores, exec_time, walk_num, walk_len)),\n",
    "               columns =['NMI', 'Exec time', 'walk_num', 'walk_len']).sort_values(by=\"NMI\")"
   ]
  },
  {
   "cell_type": "markdown",
   "id": "animal-agreement",
   "metadata": {},
   "source": [
    "### AVPRA only lang"
   ]
  },
  {
   "cell_type": "code",
   "execution_count": 48,
   "id": "manual-hollywood",
   "metadata": {},
   "outputs": [],
   "source": [
    "obj = pd.read_pickle(\"Only_lang/log_trial_0_LPStates.pickled\")\\\n",
    "    + pd.read_pickle(\"Only_lang/log_trial_1_LPStates.pickled\")[1:]\\\n",
    "    + pd.read_pickle(\"Only_lang/log_trial_2_LPStates.pickled\")[1:]\\\n",
    "    + pd.read_pickle(\"Only_lang/log_trial_3_LPStates.pickled\")[1:]"
   ]
  },
  {
   "cell_type": "code",
   "execution_count": 49,
   "id": "freelance-promotion",
   "metadata": {},
   "outputs": [
    {
     "name": "stdout",
     "output_type": "stream",
     "text": [
      "Iteration completed in 4.7652294635772705\n",
      "Iteration completed in 6.5879151821136475\n",
      "Iteration completed in 7.352309465408325\n",
      "Iteration completed in 7.286115884780884\n",
      "Iteration completed in 6.6576621532440186\n",
      "Iteration completed in 7.3289453983306885\n",
      "Iteration completed in 8.290010690689087\n",
      "Iteration completed in 7.310366868972778\n",
      "Iteration completed in 7.345384120941162\n",
      "Iteration completed in 7.40246844291687\n",
      "Iteration completed in 7.205644369125366\n",
      "Iteration completed in 8.159144639968872\n",
      "Iteration completed in 7.37564492225647\n",
      "Iteration completed in 6.890023469924927\n",
      "Iteration completed in 7.465459585189819\n",
      "Iteration completed in 7.584427833557129\n",
      "Iteration completed in 7.130307674407959\n",
      "Iteration completed in 7.407140731811523\n",
      "Iteration completed in 7.3476033210754395\n",
      "Iteration completed in 7.082919120788574\n",
      "Iteration completed in 7.376626968383789\n",
      "Iteration completed in 7.954266309738159\n",
      "Iteration completed in 8.051700115203857\n",
      "Iteration completed in 7.487272262573242\n",
      "Iteration completed in 8.264999389648438\n",
      "Iteration completed in 7.948931694030762\n",
      "Iteration completed in 7.166985034942627\n",
      "Iteration completed in 7.710042476654053\n",
      "Iteration completed in 7.508422136306763\n"
     ]
    }
   ],
   "source": [
    "scores = []\n",
    "for res in obj:\n",
    "    start_time = time.time()\n",
    "    kmeans = KMeans(n_clusters=len(comms)).fit(res[1])\n",
    "    clusters = kmeans.labels_\n",
    "    scores.append(normalized_mutual_info_score(comms_l, clusters))\n",
    "    print(f\"Iteration completed in {time.time() - start_time}\")"
   ]
  },
  {
   "cell_type": "code",
   "execution_count": 50,
   "id": "integrated-deputy",
   "metadata": {},
   "outputs": [
    {
     "data": {
      "text/plain": [
       "count    29.000000\n",
       "mean      0.472908\n",
       "std       0.012054\n",
       "min       0.450924\n",
       "25%       0.464176\n",
       "50%       0.473756\n",
       "75%       0.479091\n",
       "max       0.498063\n",
       "dtype: float64"
      ]
     },
     "execution_count": 50,
     "metadata": {},
     "output_type": "execute_result"
    }
   ],
   "source": [
    "pd.Series(scores).describe()"
   ]
  },
  {
   "cell_type": "code",
   "execution_count": 51,
   "id": "boxed-mercy",
   "metadata": {},
   "outputs": [
    {
     "data": {
      "text/plain": [
       "(0.4980633564414983, 2)"
      ]
     },
     "execution_count": 51,
     "metadata": {},
     "output_type": "execute_result"
    }
   ],
   "source": [
    "max(scores), (list(range(0, 29)))[scores.index(max(scores))]"
   ]
  },
  {
   "cell_type": "markdown",
   "id": "acceptable-commissioner",
   "metadata": {},
   "source": [
    "### AVPRA all features"
   ]
  },
  {
   "cell_type": "code",
   "execution_count": 52,
   "id": "provincial-boulder",
   "metadata": {},
   "outputs": [],
   "source": [
    "obj = []"
   ]
  },
  {
   "cell_type": "code",
   "execution_count": 53,
   "id": "personal-nancy",
   "metadata": {},
   "outputs": [],
   "source": [
    "obj = pd.read_pickle(\"All_feat/log_trial_0_LPStates.pickled\")\\\n",
    "    + pd.read_pickle(\"All_feat/log_trial_1_LPStates.pickled\")[1:]\\\n",
    "    + pd.read_pickle(\"All_feat/log_trial_2_LPStates.pickled\")[1:]\\\n",
    "    + pd.read_pickle(\"All_feat/log_trial_3_LPStates.pickled\")[1:]"
   ]
  },
  {
   "cell_type": "code",
   "execution_count": 54,
   "id": "blank-shark",
   "metadata": {},
   "outputs": [
    {
     "name": "stdout",
     "output_type": "stream",
     "text": [
      "Iteration completed in 4.420169115066528\n",
      "Iteration completed in 9.48097014427185\n",
      "Iteration completed in 9.082396030426025\n",
      "Iteration completed in 7.902409791946411\n",
      "Iteration completed in 7.316471099853516\n",
      "Iteration completed in 8.639440298080444\n",
      "Iteration completed in 7.187133073806763\n",
      "Iteration completed in 7.392616271972656\n",
      "Iteration completed in 8.570434808731079\n",
      "Iteration completed in 8.682812929153442\n",
      "Iteration completed in 8.12022590637207\n",
      "Iteration completed in 8.593220472335815\n",
      "Iteration completed in 7.5059638023376465\n",
      "Iteration completed in 7.879255294799805\n",
      "Iteration completed in 7.8538665771484375\n",
      "Iteration completed in 7.710444927215576\n",
      "Iteration completed in 7.36380934715271\n",
      "Iteration completed in 8.395882368087769\n",
      "Iteration completed in 8.566935062408447\n",
      "Iteration completed in 8.504862070083618\n",
      "Iteration completed in 8.125445127487183\n",
      "Iteration completed in 8.49448561668396\n",
      "Iteration completed in 7.3278443813323975\n",
      "Iteration completed in 7.811573505401611\n",
      "Iteration completed in 10.202942848205566\n",
      "Iteration completed in 8.92935562133789\n",
      "Iteration completed in 8.256442308425903\n",
      "Iteration completed in 8.931634664535522\n",
      "Iteration completed in 8.478865385055542\n",
      "Iteration completed in 8.012627363204956\n",
      "Iteration completed in 8.260209083557129\n",
      "Iteration completed in 7.845210075378418\n",
      "Iteration completed in 8.124411582946777\n"
     ]
    }
   ],
   "source": [
    "scores = []\n",
    "for res in obj:\n",
    "    start_time = time.time()\n",
    "    kmeans = KMeans(n_clusters=len(comms)).fit(res[1])\n",
    "    clusters = kmeans.labels_\n",
    "    scores.append(normalized_mutual_info_score(comms_l, clusters))\n",
    "    print(f\"Iteration completed in {time.time() - start_time}\")"
   ]
  },
  {
   "cell_type": "code",
   "execution_count": 55,
   "id": "norwegian-genetics",
   "metadata": {},
   "outputs": [
    {
     "data": {
      "text/plain": [
       "count    33.000000\n",
       "mean      0.476739\n",
       "std       0.051200\n",
       "min       0.265559\n",
       "25%       0.454892\n",
       "50%       0.475070\n",
       "75%       0.507492\n",
       "max       0.557059\n",
       "dtype: float64"
      ]
     },
     "execution_count": 55,
     "metadata": {},
     "output_type": "execute_result"
    }
   ],
   "source": [
    "pd.Series(scores).describe()"
   ]
  },
  {
   "cell_type": "code",
   "execution_count": 56,
   "id": "meaningful-solution",
   "metadata": {},
   "outputs": [
    {
     "data": {
      "text/plain": [
       "(0.5570588067237451, 10)"
      ]
     },
     "execution_count": 56,
     "metadata": {},
     "output_type": "execute_result"
    }
   ],
   "source": [
    "max(scores), (list(range(0, 29)))[scores.index(max(scores))]"
   ]
  },
  {
   "cell_type": "code",
   "execution_count": null,
   "id": "inside-breakdown",
   "metadata": {},
   "outputs": [],
   "source": []
  }
 ],
 "metadata": {
  "kernelspec": {
   "display_name": "Python 3 (ipykernel)",
   "language": "python",
   "name": "python3"
  },
  "language_info": {
   "codemirror_mode": {
    "name": "ipython",
    "version": 3
   },
   "file_extension": ".py",
   "mimetype": "text/x-python",
   "name": "python",
   "nbconvert_exporter": "python",
   "pygments_lexer": "ipython3",
   "version": "3.8.13"
  }
 },
 "nbformat": 4,
 "nbformat_minor": 5
}
