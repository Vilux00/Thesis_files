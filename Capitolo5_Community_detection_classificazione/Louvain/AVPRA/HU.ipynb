{
 "cells": [
  {
   "cell_type": "code",
   "execution_count": 2,
   "id": "copyrighted-raleigh",
   "metadata": {},
   "outputs": [],
   "source": [
    "### Import useful libraries\n",
    "import pandas as pd\n",
    "import matplotlib.pyplot as plt\n",
    "import numpy as np\n",
    "from sklearn.ensemble import RandomForestClassifier\n",
    "from sklearn.datasets import make_classification\n",
    "from sklearn.model_selection import train_test_split\n",
    "from sklearn import metrics\n",
    "import networkx as nx\n",
    "import time\n",
    "import random\n",
    "import csv\n",
    "%matplotlib inline"
   ]
  },
  {
   "cell_type": "markdown",
   "id": "first-membership",
   "metadata": {},
   "source": [
    "### HU"
   ]
  },
  {
   "cell_type": "code",
   "execution_count": 3,
   "id": "printable-westminster",
   "metadata": {},
   "outputs": [],
   "source": [
    "### Reading VLs from file\n",
    "obj = pd.read_pickle(\"./HU.pickled\") "
   ]
  },
  {
   "cell_type": "code",
   "execution_count": 4,
   "id": "acting-joseph",
   "metadata": {},
   "outputs": [],
   "source": [
    "data = pd.read_csv(\"./HU_comms.txt\", sep=\" \", header=None)\n",
    "comms_dict = {}\n",
    "for row in data.iterrows():\n",
    "    comms_dict[str(row[1][0])] = row[1][1]"
   ]
  },
  {
   "cell_type": "code",
   "execution_count": 5,
   "id": "democratic-island",
   "metadata": {
    "scrolled": false
   },
   "outputs": [
    {
     "name": "stdout",
     "output_type": "stream",
     "text": [
      "Iteration completed in 4.015400409698486\n",
      "Iteration completed in 11.809913635253906\n",
      "Iteration completed in 18.670093774795532\n",
      "Iteration completed in 22.881443977355957\n",
      "Iteration completed in 25.653970956802368\n",
      "Iteration completed in 26.712540864944458\n",
      "Iteration completed in 25.01539421081543\n",
      "Iteration completed in 24.569973707199097\n",
      "Iteration completed in 24.539327383041382\n",
      "Iteration completed in 24.451976537704468\n",
      "Iteration completed in 24.614954471588135\n",
      "Iteration completed in 24.409750938415527\n",
      "Iteration completed in 23.800541639328003\n",
      "Iteration completed in 23.664335012435913\n",
      "Iteration completed in 23.413392782211304\n",
      "Iteration completed in 23.213799476623535\n",
      "Iteration completed in 22.838446140289307\n",
      "Iteration completed in 22.746626138687134\n",
      "Iteration completed in 22.24212074279785\n",
      "Iteration completed in 23.016165494918823\n",
      "Iteration completed in 23.29863953590393\n"
     ]
    }
   ],
   "source": [
    "### Random forest classifier creation with 70 trees\n",
    "clf = RandomForestClassifier(n_estimators=70)\n",
    "start_time = time.time()\n",
    "accuracies = []\n",
    "f1_scores_macro = []\n",
    "f1_scores_weigh = []\n",
    "for res in obj:\n",
    "    s_time = time.time()\n",
    "    # Input \n",
    "    X_data = res[1]\n",
    "    # Output communities defined by Louvain algorithm\n",
    "    y_data = [comms_dict.get(str(i)) for i in range(1, len(comms_dict) + 1)]\n",
    "\n",
    "    # Split the data into training set and test set\n",
    "    X_train, X_test, y_train, y_test = train_test_split(X_data, y_data, test_size=0.2)\n",
    "\n",
    "    clf.fit(X_train, y_train)\n",
    "\n",
    "    y_pred = clf.predict(X_test)\n",
    "\n",
    "    ### Accuracy metric\n",
    "    accuracies.append(metrics.accuracy_score(y_test, y_pred))\n",
    "    f1_scores_macro.append(metrics.f1_score(y_test, y_pred, average=\"macro\"))\n",
    "    f1_scores_weigh.append(metrics.f1_score(y_test, y_pred, average=\"weighted\"))\n",
    "\n",
    "    print(f\"Iteration completed in {time.time() - s_time}\")\n",
    "end_time = time.time()"
   ]
  },
  {
   "cell_type": "code",
   "execution_count": 6,
   "id": "noticed-wagner",
   "metadata": {},
   "outputs": [],
   "source": [
    "### Function that returns the 10 / 1 index of the maximum values of a list\n",
    "def get10maxidx(l):\n",
    "    return list(map(lambda x: x[1], sorted(zip(l, range(0, len(l))), reverse=True)[:10]))\n",
    "def getmaxidx(l):\n",
    "    return l.index(max(l))"
   ]
  },
  {
   "cell_type": "code",
   "execution_count": 7,
   "id": "specialized-latter",
   "metadata": {},
   "outputs": [],
   "source": [
    "### 10MWL classification\n",
    "clf = RandomForestClassifier(n_estimators=70)\n",
    "start_time2 = time.time()\n",
    "accuracies2 = []\n",
    "f1_scores2_macro = []\n",
    "f1_scores2_weigh = []\n",
    "for res in obj:\n",
    "    # Input \n",
    "    X_data = list(map(lambda x: get10maxidx(x), res[1]))\n",
    "\n",
    "    # Output communities defined by Louvain algorithm\n",
    "    y_data = [comms_dict.get(str(i)) for i in range(1, len(comms_dict) + 1)]\n",
    "\n",
    "    # Split the data into training set and test set\n",
    "    X_train, X_test, y_train, y_test = train_test_split(X_data, y_data, test_size=0.2)\n",
    "\n",
    "    clf.fit(X_train, y_train)\n",
    "\n",
    "    y_pred = clf.predict(X_test)\n",
    "\n",
    "    ### Accuracy metric\n",
    "    accuracies2.append(metrics.accuracy_score(y_test, y_pred))\n",
    "    f1_scores2_macro.append(metrics.f1_score(y_test, y_pred, average=\"macro\"))\n",
    "    f1_scores2_weigh.append(metrics.f1_score(y_test, y_pred, average=\"weighted\"))\n",
    "    \n",
    "end_time2 = time.time()"
   ]
  },
  {
   "cell_type": "code",
   "execution_count": 8,
   "id": "empirical-background",
   "metadata": {},
   "outputs": [],
   "source": [
    "### MWL classification\n",
    "clf = RandomForestClassifier(n_estimators=70)\n",
    "start_time3 = time.time()\n",
    "accuracies3 = []\n",
    "f1_scores3_macro = []\n",
    "f1_scores3_weigh = []\n",
    "for res in obj:\n",
    "    # Input \n",
    "    X_data = list(map(lambda x: [getmaxidx(x)], res[1]))\n",
    "\n",
    "    # Output communities defined by Louvain algorithm\n",
    "    y_data = [comms_dict.get(str(i)) for i in range(1, len(comms_dict) + 1)]\n",
    "\n",
    "    # Split the data into training set and test set\n",
    "    X_train, X_test, y_train, y_test = train_test_split(X_data, y_data, test_size=0.2)\n",
    "\n",
    "    clf.fit(X_train, y_train)\n",
    "\n",
    "    y_pred = clf.predict(X_test)\n",
    "\n",
    "    ### Accuracy metric\n",
    "    accuracies3.append(metrics.accuracy_score(y_test, y_pred))\n",
    "    f1_scores3_macro.append(metrics.f1_score(y_test, y_pred, average=\"macro\"))\n",
    "    f1_scores3_weigh.append(metrics.f1_score(y_test, y_pred, average=\"weighted\"))\n",
    "    \n",
    "end_time3 = time.time()"
   ]
  },
  {
   "cell_type": "code",
   "execution_count": 10,
   "id": "welsh-growth",
   "metadata": {},
   "outputs": [],
   "source": [
    "import matplotlib\n",
    "matplotlib.use(\"pgf\")\n",
    "matplotlib.rcParams.update({\n",
    "    \"pgf.texsystem\": \"pdflatex\",\n",
    "    'font.family': 'serif',\n",
    "    'text.usetex': True,\n",
    "    'pgf.rcfonts': False\n",
    "})"
   ]
  },
  {
   "cell_type": "markdown",
   "id": "buried-arizona",
   "metadata": {},
   "source": [
    "### Comparison macro"
   ]
  },
  {
   "cell_type": "code",
   "execution_count": 25,
   "id": "functional-latin",
   "metadata": {
    "scrolled": false
   },
   "outputs": [
    {
     "name": "stderr",
     "output_type": "stream",
     "text": [
      "/tmp/ipykernel_14530/2715398245.py:18: UserWarning: Matplotlib is currently using pgf, which is a non-GUI backend, so cannot show the figure.\n",
      "  plt.show()\n"
     ]
    }
   ],
   "source": [
    "# Plot F1-macro comparison\n",
    "plt.figure(figsize=(10, 6))\n",
    "l = list(range(0,10)) + list(range(10, 32, 2))\n",
    "plt.plot(l, f1_scores_macro, \"o\", label=\"AVPRA F1-score-macro\", markersize=10)\n",
    "plt.plot(l, f1_scores2_macro, \"o\", label=\"AVPRA 10MWL F1-score-macro\", markersize=10)\n",
    "plt.plot(l, f1_scores3_macro, \"o\", label=\"AVPRA MWL F1-score-macro\", markersize=10)\n",
    "\n",
    "plt.axvline(x=14, label=\"Diametro\", linestyle=\"--\")\n",
    "\n",
    "plt.xlabel(\"Iterazione\", fontsize=20)\n",
    "plt.ylabel(\"F1-score\", fontsize=20)\n",
    "plt.legend(loc=\"right\", prop={'size': 16})\n",
    "plt.xticks(fontsize=16)\n",
    "plt.yticks(fontsize=16)\n",
    "plt.ylim(0,1)\n",
    "\n",
    "plt.savefig(\"F1_HU_AVPRA_all_macro.png\", dpi=500)\n",
    "plt.show()"
   ]
  },
  {
   "cell_type": "code",
   "execution_count": 12,
   "id": "distinct-memorial",
   "metadata": {},
   "outputs": [
    {
     "data": {
      "text/plain": [
       "(0.8880725549110196, 20)"
      ]
     },
     "execution_count": 12,
     "metadata": {},
     "output_type": "execute_result"
    }
   ],
   "source": [
    "max(f1_scores_macro), (list(range(0,10)) + list(range(10, 32, 2)))[f1_scores_macro.index(max(f1_scores_macro))]"
   ]
  },
  {
   "cell_type": "code",
   "execution_count": 13,
   "id": "hydraulic-georgia",
   "metadata": {},
   "outputs": [
    {
     "data": {
      "text/plain": [
       "(0.13956091722896538, 5)"
      ]
     },
     "execution_count": 13,
     "metadata": {},
     "output_type": "execute_result"
    }
   ],
   "source": [
    "max(f1_scores2_macro), (list(range(0,10)) + list(range(10, 32, 2)))[f1_scores2_macro.index(max(f1_scores2_macro))]"
   ]
  },
  {
   "cell_type": "code",
   "execution_count": 14,
   "id": "hungry-literacy",
   "metadata": {},
   "outputs": [
    {
     "data": {
      "text/plain": [
       "(0.016516245154059143, 2)"
      ]
     },
     "execution_count": 14,
     "metadata": {},
     "output_type": "execute_result"
    }
   ],
   "source": [
    "max(f1_scores3_macro), (list(range(0,10)) + list(range(10, 32, 2)))[f1_scores3_macro.index(max(f1_scores3_macro))]"
   ]
  },
  {
   "cell_type": "markdown",
   "id": "meaning-beverage",
   "metadata": {},
   "source": [
    "### Comparison weighted"
   ]
  },
  {
   "cell_type": "code",
   "execution_count": 26,
   "id": "encouraging-husband",
   "metadata": {},
   "outputs": [
    {
     "name": "stderr",
     "output_type": "stream",
     "text": [
      "/tmp/ipykernel_14530/190780873.py:18: UserWarning: Matplotlib is currently using pgf, which is a non-GUI backend, so cannot show the figure.\n",
      "  plt.show()\n"
     ]
    }
   ],
   "source": [
    "# Plot F1-macro comparison\n",
    "plt.figure(figsize=(10, 6))\n",
    "l = list(range(0,10)) + list(range(10, 32, 2))\n",
    "plt.plot(l, f1_scores_weigh, \"o\", label=\"AVPRA F1-score-weighted\", markersize=10)\n",
    "plt.plot(l, f1_scores2_weigh, \"o\", label=\"AVPRA 10MWL F1-score-weighted\", markersize=10)\n",
    "plt.plot(l, f1_scores3_weigh, \"o\", label=\"AVPRA MWL F1-score-weighted\", markersize=10)\n",
    "\n",
    "plt.axvline(x=14, label=\"Diametro\", linestyle=\"--\")\n",
    "\n",
    "plt.xlabel(\"Iterazione\", fontsize=20)\n",
    "plt.ylabel(\"F1-score\", fontsize=20)\n",
    "plt.legend(loc=\"right\", prop={'size': 16})\n",
    "plt.xticks(fontsize=16)\n",
    "plt.yticks(fontsize=16)\n",
    "plt.ylim(0,1)\n",
    "\n",
    "plt.savefig(\"F1_HU_AVPRA_all_weighted.png\", dpi=500)\n",
    "plt.show()"
   ]
  },
  {
   "cell_type": "code",
   "execution_count": 16,
   "id": "popular-cigarette",
   "metadata": {},
   "outputs": [
    {
     "data": {
      "text/plain": [
       "(0.8901613465622639, 20)"
      ]
     },
     "execution_count": 16,
     "metadata": {},
     "output_type": "execute_result"
    }
   ],
   "source": [
    "max(f1_scores_weigh), (list(range(0,10)) + list(range(10, 32, 2)))[f1_scores_weigh.index(max(f1_scores_weigh))]"
   ]
  },
  {
   "cell_type": "code",
   "execution_count": 17,
   "id": "agricultural-symposium",
   "metadata": {},
   "outputs": [
    {
     "data": {
      "text/plain": [
       "(0.19370354914585863, 5)"
      ]
     },
     "execution_count": 17,
     "metadata": {},
     "output_type": "execute_result"
    }
   ],
   "source": [
    "max(f1_scores2_weigh), (list(range(0,10)) + list(range(10, 32, 2)))[f1_scores2_weigh.index(max(f1_scores2_weigh))]"
   ]
  },
  {
   "cell_type": "code",
   "execution_count": 18,
   "id": "designing-palestinian",
   "metadata": {},
   "outputs": [
    {
     "data": {
      "text/plain": [
       "(0.05919622298084826, 2)"
      ]
     },
     "execution_count": 18,
     "metadata": {},
     "output_type": "execute_result"
    }
   ],
   "source": [
    "max(f1_scores3_weigh), (list(range(0,10)) + list(range(10, 32, 2)))[f1_scores3_weigh.index(max(f1_scores3_weigh))]"
   ]
  },
  {
   "cell_type": "code",
   "execution_count": 19,
   "id": "under-vintage",
   "metadata": {},
   "outputs": [
    {
     "name": "stderr",
     "output_type": "stream",
     "text": [
      "/tmp/ipykernel_14530/2068791739.py:17: UserWarning: Matplotlib is currently using pgf, which is a non-GUI backend, so cannot show the figure.\n",
      "  plt.show()\n"
     ]
    }
   ],
   "source": [
    "# Plot accuracy graph\n",
    "plt.figure(figsize=(10, 6))\n",
    "l = list(range(0,10)) + list(range(10, 32, 2))\n",
    "plt.plot(l, accuracies, \"o\", label=\"AVPRA Accuratezza\", markersize=10)\n",
    "plt.plot(l, f1_scores_macro, \"x\", label=\"AVPRA F1-score-macro\", color=\"blue\", markersize=12)\n",
    "\n",
    "plt.axvline(x=14, label=\"Diametro\", linestyle=\"--\")\n",
    "\n",
    "plt.xlabel(\"Iterazione\", fontsize=20)\n",
    "plt.ylabel(\"Accuratezza/F1-Score\", fontsize=20)\n",
    "plt.legend(loc=\"right\", prop={'size': 16})\n",
    "plt.xticks(fontsize=16)\n",
    "plt.yticks(fontsize=16)\n",
    "plt.ylim(0,1)\n",
    "\n",
    "plt.savefig(\"F1_HU_AVPRA_macro.png\", dpi=500)\n",
    "plt.show()"
   ]
  },
  {
   "cell_type": "code",
   "execution_count": 20,
   "id": "express-consensus",
   "metadata": {},
   "outputs": [
    {
     "name": "stderr",
     "output_type": "stream",
     "text": [
      "/tmp/ipykernel_14530/979894662.py:17: UserWarning: Matplotlib is currently using pgf, which is a non-GUI backend, so cannot show the figure.\n",
      "  plt.show()\n"
     ]
    }
   ],
   "source": [
    "# Plot accuracy graph\n",
    "plt.figure(figsize=(10, 6))\n",
    "l = list(range(0,10)) + list(range(10, 32, 2))\n",
    "plt.plot(l, accuracies, \"o\", label=\"AVPRA Accuratezza\", markersize=10)\n",
    "plt.plot(l, f1_scores_weigh, \"x\", label=\"AVPRA F1-score-weighted\", color=\"blue\", markersize=12)\n",
    "\n",
    "plt.axvline(x=14, label=\"Diametro\", linestyle=\"--\")\n",
    "\n",
    "plt.xlabel(\"Iterazione\", fontsize=20)\n",
    "plt.ylabel(\"Accuratezza/F1-Score\", fontsize=20)\n",
    "plt.legend(loc=\"right\", prop={'size': 16})\n",
    "plt.xticks(fontsize=16)\n",
    "plt.yticks(fontsize=16)\n",
    "plt.ylim(0,1)\n",
    "\n",
    "plt.savefig(\"F1_HU_AVPRA_weighted.png\", dpi=500)\n",
    "plt.show()"
   ]
  },
  {
   "cell_type": "code",
   "execution_count": 21,
   "id": "current-accent",
   "metadata": {},
   "outputs": [
    {
     "data": {
      "text/plain": [
       "(0.8896718552797644, 20)"
      ]
     },
     "execution_count": 21,
     "metadata": {},
     "output_type": "execute_result"
    }
   ],
   "source": [
    "max(accuracies), l[accuracies.index(max(accuracies))]"
   ]
  },
  {
   "cell_type": "code",
   "execution_count": 22,
   "id": "beginning-combination",
   "metadata": {},
   "outputs": [
    {
     "data": {
      "text/plain": [
       "(0.24453092132940682, 6)"
      ]
     },
     "execution_count": 22,
     "metadata": {},
     "output_type": "execute_result"
    }
   ],
   "source": [
    "max(accuracies2), l[accuracies2.index(max(accuracies2))]"
   ]
  },
  {
   "cell_type": "code",
   "execution_count": 23,
   "id": "partial-johnston",
   "metadata": {},
   "outputs": [
    {
     "data": {
      "text/plain": [
       "(0.17700883466554482, 28)"
      ]
     },
     "execution_count": 23,
     "metadata": {},
     "output_type": "execute_result"
    }
   ],
   "source": [
    "max(accuracies3), l[accuracies3.index(max(accuracies3))]"
   ]
  },
  {
   "cell_type": "code",
   "execution_count": 29,
   "id": "herbal-magic",
   "metadata": {},
   "outputs": [
    {
     "name": "stderr",
     "output_type": "stream",
     "text": [
      "/tmp/ipykernel_14530/943155619.py:18: UserWarning: Matplotlib is currently using pgf, which is a non-GUI backend, so cannot show the figure.\n",
      "  plt.show()\n"
     ]
    }
   ],
   "source": [
    "# Plot accuracy graph\n",
    "plt.figure(figsize=(10, 6))\n",
    "l = list(range(0,10)) + list(range(10, 32, 2))\n",
    "plt.plot(l, accuracies, \"o\", label=\"AVPRA Accuratezza\", markersize=10)\n",
    "plt.plot(l, accuracies2, \"o\", label=\"AVPRA 10MWL Accuratezza\", markersize=10)\n",
    "plt.plot(l, accuracies3, \"o\", label=\"AVPRA MWL Accuratezza\", markersize=10)\n",
    "\n",
    "plt.axvline(x=14, label=\"Diametro\", linestyle=\"--\")\n",
    "\n",
    "plt.xlabel(\"Iterazione\", fontsize=20)\n",
    "plt.ylabel(\"Accuratezza\", fontsize=20)\n",
    "plt.legend(loc=\"right\", prop={'size': 16})\n",
    "plt.xticks(fontsize=16)\n",
    "plt.yticks(fontsize=16)\n",
    "plt.ylim(0,1)\n",
    "\n",
    "plt.savefig(\"F1_HU_AVPRA_all_micro.png\", dpi=500)\n",
    "plt.show()"
   ]
  },
  {
   "cell_type": "markdown",
   "id": "affecting-welding",
   "metadata": {},
   "source": [
    "### Only micro F1"
   ]
  },
  {
   "cell_type": "code",
   "execution_count": 28,
   "id": "dominican-swedish",
   "metadata": {},
   "outputs": [
    {
     "name": "stderr",
     "output_type": "stream",
     "text": [
      "/tmp/ipykernel_14530/3430102943.py:16: UserWarning: Matplotlib is currently using pgf, which is a non-GUI backend, so cannot show the figure.\n",
      "  plt.show()\n"
     ]
    }
   ],
   "source": [
    "# Plot accuracy graph\n",
    "plt.figure(figsize=(10, 6))\n",
    "l = list(range(0,10)) + list(range(10, 32, 2))\n",
    "plt.plot(l, accuracies, \"o\", label=\"AVPRA Accuratezza\", markersize=10)\n",
    "\n",
    "plt.axvline(x=14, label=\"Diametro\", linestyle=\"--\")\n",
    "\n",
    "plt.xlabel(\"Iterazione\", fontsize=20)\n",
    "plt.ylabel(\"Accuratezza\", fontsize=20)\n",
    "plt.legend(loc=\"right\", prop={'size': 16})\n",
    "plt.xticks(fontsize=16)\n",
    "plt.yticks(fontsize=16)\n",
    "plt.ylim(0,1)\n",
    "\n",
    "plt.savefig(\"F1_HU_AVPRA_micro.png\", dpi=500)\n",
    "plt.show()"
   ]
  },
  {
   "cell_type": "code",
   "execution_count": null,
   "id": "middle-favorite",
   "metadata": {},
   "outputs": [],
   "source": []
  }
 ],
 "metadata": {
  "kernelspec": {
   "display_name": "Python 3 (ipykernel)",
   "language": "python",
   "name": "python3"
  },
  "language_info": {
   "codemirror_mode": {
    "name": "ipython",
    "version": 3
   },
   "file_extension": ".py",
   "mimetype": "text/x-python",
   "name": "python",
   "nbconvert_exporter": "python",
   "pygments_lexer": "ipython3",
   "version": "3.8.13"
  }
 },
 "nbformat": 4,
 "nbformat_minor": 5
}
